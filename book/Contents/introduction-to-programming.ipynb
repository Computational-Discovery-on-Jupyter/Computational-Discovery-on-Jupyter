{
 "cells": [
  {
   "cell_type": "markdown",
   "id": "75cd7726",
   "metadata": {},
   "source": [
    "# Introduction to Programming"
   ]
  },
  {
   "cell_type": "markdown",
   "id": "b053c892",
   "metadata": {},
   "source": [
    "Purpose of the chapter: introduce using python as a computing tool.\n",
    "- The command line: computing by hand: walk through computing\n",
    "$F_{10}$ the stupidest way possible.\n",
    "- Loops: for loops, while loops: using these to compute $F_{10}$ in\n",
    "a slightly less stupid way.\n",
    "- Lists: saving computations, plotting on regular scale, plotting on\n",
    "log scale: conjectures and\n",
    "questions.\n",
    "- Functions: if something is done over and over again, make it a\n",
    "function: inputs, outputs\n",
    "- Recursion: the danger of simplistic recusion: why computing\n",
    "Fibonacci numbers recursively can\n",
    "lead to exponentially many sub-calls: do we talk about decorations and\n",
    "how to avoid this?\n",
    "- Complexity of computation: time complexity, space complexity: both\n",
    "impact computation of\n",
    "and display of big Fibonacci numbers\n",
    "- The idea that just because an algorithm exists doesn't make it the\n",
    "{\\em best} algorithm.\n",
    "- Better algorithms for Fibonacci numbers?\n",
    "- Better algorithms for just the last few digits: iterated squaring,\n",
    "intro to $2\\times 2$ matrix\n",
    "computations.\n",
    "- Experiments to perform: Pisano periods"
   ]
  },
  {
   "cell_type": "code",
   "execution_count": null,
   "id": "608b8d36",
   "metadata": {},
   "outputs": [],
   "source": []
  },
  {
   "cell_type": "code",
   "execution_count": null,
   "id": "51d4347d",
   "metadata": {},
   "outputs": [],
   "source": []
  },
  {
   "cell_type": "code",
   "execution_count": null,
   "id": "a714c9ff",
   "metadata": {},
   "outputs": [],
   "source": []
  },
  {
   "cell_type": "code",
   "execution_count": null,
   "id": "01ebb011",
   "metadata": {},
   "outputs": [],
   "source": []
  },
  {
   "cell_type": "code",
   "execution_count": null,
   "id": "321d3cc7",
   "metadata": {},
   "outputs": [],
   "source": []
  }
 ],
 "metadata": {
  "kernelspec": {
   "display_name": "Python 3 (ipykernel)",
   "language": "python",
   "name": "python3"
  },
  "language_info": {
   "codemirror_mode": {
    "name": "ipython",
    "version": 3
   },
   "file_extension": ".py",
   "mimetype": "text/x-python",
   "name": "python",
   "nbconvert_exporter": "python",
   "pygments_lexer": "ipython3",
   "version": "3.8.5"
  }
 },
 "nbformat": 4,
 "nbformat_minor": 5
}
