{
 "cells": [
  {
   "cell_type": "markdown",
   "id": "566294b4",
   "metadata": {},
   "source": [
    "# Introduction to Programming"
   ]
  },
  {
   "cell_type": "markdown",
   "id": "a05df665",
   "metadata": {},
   "source": [
    "Purpose of the chapter: introduce using python as a computing tool.\n",
    "- The command line: computing by hand: walk through computing\n",
    "$F_{10}$ the stupidest way possible.\n",
    "- Loops: for loops, while loops: using these to compute $F_{10}$ in\n",
    "a slightly less stupid way.\n",
    "- Lists: saving computations, plotting on regular scale, plotting on\n",
    "log scale: conjectures and\n",
    "questions.\n",
    "- Functions: if something is done over and over again, make it a\n",
    "function: inputs, outputs\n",
    "- Recursion: the danger of simplistic recusion: why computing\n",
    "Fibonacci numbers recursively can\n",
    "lead to exponentially many sub-calls: do we talk about decorations and\n",
    "how to avoid this?\n",
    "- Complexity of computation: time complexity, space complexity: both\n",
    "impact computation of\n",
    "and display of big Fibonacci numbers\n",
    "- The idea that just because an algorithm exists doesn't make it the\n",
    "{\\em best} algorithm.\n",
    "- Better algorithms for Fibonacci numbers?\n",
    "- Better algorithms for just the last few digits: iterated squaring,\n",
    "intro to $2\\times 2$ matrix\n",
    "computations.\n",
    "- Experiments to perform: Pisano periods\n",
    "\n"
   ]
  },
  {
   "cell_type": "code",
   "execution_count": null,
   "id": "4f880bcc",
   "metadata": {},
   "outputs": [],
   "source": []
  },
  {
   "cell_type": "markdown",
   "id": "4a622a0b",
   "metadata": {},
   "source": [
    "## The Fibonacci Numbers\n",
    "The Fibonacci numbers, $F_n$, named after the nickname given to Leonardo Pisano, or \n",
    "Leonardo of Pisa,  were actually studied as early as 200 BCE by Pingala, who used them to analyse \n",
    "the number of patterns in Sanskrit poetry.  They are define by a two-term linear recurrence relation,\n",
    "\n",
    "$$F_{n}= F_{n-1} + F_{n-2}$$\n",
    "\n",
    "and two initial conditions.  There are several different conventions about what the initial \n",
    "conditions should be: we will choose $F_0=0$ and $F_1=1$.  In this section, we'll explore how to \n",
    "compute the values taken by $F_n$ for various different $n$: we'll start by doing some really \n",
    "stupid things, and gradually develop better methods.  If you have lots of coding experience, you\n",
    "will recognize the way we are doing things as stupid: but if you are new to coding, we hope that this\n",
    "will gently get you started to thinking a computational way.\n",
    "\n",
    "We'll start with variables: in Python, variables are objects that can store a value: in our cases, the\n",
    "values will be integers.  In the Jupyter notebook, input the following code."
   ]
  },
  {
   "cell_type": "code",
   "execution_count": 19,
   "id": "59edba1c",
   "metadata": {},
   "outputs": [
    {
     "name": "stdout",
     "output_type": "stream",
     "text": [
      "1\n"
     ]
    }
   ],
   "source": [
    "F0=0\n",
    "F1=1\n",
    "F2=F1+F0\n",
    "print(F2)"
   ]
  },
  {
   "cell_type": "markdown",
   "id": "c835d0cc",
   "metadata": {},
   "source": [
    "Execute the code by clicking the run arrow (or typing shift-enter)\n",
    "and you should see the output 1, indicating that you have successfully printed $F_1$.\n",
    "\n",
    "In the next code block, type "
   ]
  },
  {
   "cell_type": "code",
   "execution_count": 4,
   "id": "67f6225c",
   "metadata": {},
   "outputs": [
    {
     "name": "stdout",
     "output_type": "stream",
     "text": [
      "2\n",
      "3\n",
      "5\n"
     ]
    }
   ],
   "source": [
    "F3=F2+F1\n",
    "print(F3)\n",
    "F4=F3+F2\n",
    "print(F4)\n",
    "F5=F4+F3\n",
    "print(F5)"
   ]
  },
  {
   "cell_type": "markdown",
   "id": "04adeadf",
   "metadata": {},
   "source": [
    "By now this should be feeling pretty repetitive, and we should be longing for a way to not have to keep typing\n",
    "two more rows of code for each new Fibonacci number.  Let's try to be more systematic about it.  Let's think about what we are doing: we have a current Fibonacci number, a previous Fibonacci number, and we use them to compute the \n",
    "next one in the sequence.\n",
    "\n",
    "$$next = current + previous.$$\n",
    "\n",
    "Then we replace the previous one by the one which was current, and the current by the next, and repeat."
   ]
  },
  {
   "cell_type": "code",
   "execution_count": 5,
   "id": "c327b9f5",
   "metadata": {},
   "outputs": [
    {
     "name": "stdout",
     "output_type": "stream",
     "text": [
      "5\n"
     ]
    }
   ],
   "source": [
    "previous =0\n",
    "current = 1\n",
    "next = current + previous\n",
    "previous = current\n",
    "current = next\n",
    "next = current + previous\n",
    "previous = current \n",
    "current = next\n",
    "next = current + previous\n",
    "previous = current \n",
    "current = next\n",
    "next = current + previous\n",
    "previous = current \n",
    "current = next\n",
    "print(next)\n"
   ]
  },
  {
   "cell_type": "markdown",
   "id": "dc481791",
   "metadata": {},
   "source": [
    "### Loops\n"
   ]
  },
  {
   "cell_type": "markdown",
   "id": "4cb7a869",
   "metadata": {},
   "source": [
    "This may seem worse than the previous code: three lines of code for each step, but since we are no longer using a silly naming scheme for our variables, we can use loops to automate things.  To do this we can use for or while loops."
   ]
  },
  {
   "cell_type": "code",
   "execution_count": 8,
   "id": "0539c1a0",
   "metadata": {},
   "outputs": [
    {
     "name": "stdout",
     "output_type": "stream",
     "text": [
      "5 5\n"
     ]
    }
   ],
   "source": [
    "previous = 0\n",
    "current = 1\n",
    "for i in range(2,6):\n",
    "    next = current + previous\n",
    "    previous = current\n",
    "    current = next\n",
    "print(i,next)    "
   ]
  },
  {
   "cell_type": "markdown",
   "id": "a16f6c07",
   "metadata": {},
   "source": [
    "Now we see that we can modify our loop to make it compute much further out:"
   ]
  },
  {
   "cell_type": "code",
   "execution_count": 10,
   "id": "e9d3b47c",
   "metadata": {},
   "outputs": [
    {
     "name": "stdout",
     "output_type": "stream",
     "text": [
      "30 832040\n"
     ]
    }
   ],
   "source": [
    "previous = 0\n",
    "current = 1\n",
    "for i in range(2,31):\n",
    "    next = current + previous\n",
    "    previous = current\n",
    "    current = next\n",
    "print(i,next)   "
   ]
  },
  {
   "cell_type": "markdown",
   "id": "fb686212",
   "metadata": {},
   "source": [
    "This tells us that $F_{30}= 832040$.\n",
    "\n",
    "We can also use while loops to do something similar:\n"
   ]
  },
  {
   "cell_type": "code",
   "execution_count": 11,
   "id": "d540d82c",
   "metadata": {},
   "outputs": [
    {
     "name": "stdout",
     "output_type": "stream",
     "text": [
      "31 832040\n"
     ]
    }
   ],
   "source": [
    "previous = 0\n",
    "current = 1 \n",
    "i=2 \n",
    "while i< 31:\n",
    "    next = current + previous\n",
    "    previous = current\n",
    "    current = next\n",
    "    i+=1\n",
    "print(i,next)   "
   ]
  },
  {
   "cell_type": "markdown",
   "id": "ae2fdb4a",
   "metadata": {},
   "source": [
    "In this, we need to set the value of the variable: as long as the value of `i` is less than 31, the loop will be executed: in this example we have to remember to increment the value of `i` by 1 each time we execute the loop."
   ]
  },
  {
   "cell_type": "markdown",
   "id": "08d5b9b7",
   "metadata": {},
   "source": [
    "### Lists"
   ]
  },
  {
   "cell_type": "markdown",
   "id": "c91043ad",
   "metadata": {},
   "source": [
    "Suppose that we now want to keep our computed values around once we have computed them.  One way of achieving this is to put the values in a list."
   ]
  },
  {
   "cell_type": "code",
   "execution_count": 13,
   "id": "32a23df1",
   "metadata": {},
   "outputs": [
    {
     "name": "stdout",
     "output_type": "stream",
     "text": [
      "[0, 1, 1, 2, 3, 5, 8, 13, 21, 34, 55]\n",
      "5\n"
     ]
    }
   ],
   "source": [
    "fib_list = [0 , 1]  # We populate the list with our initial values F_0=0, F_1=1\n",
    "for i in range(2,11):\n",
    "    previous = fib_list[i-2]\n",
    "    current= fib_list[i-1]\n",
    "    next = current+previous\n",
    "    fib_list.append(next)\n",
    "print(fib_list)  \n",
    "print(fib_list[5])"
   ]
  },
  {
   "cell_type": "markdown",
   "id": "ad564e6b",
   "metadata": {},
   "source": [
    "Perhaps we wish instead to create a list of pairs, $[i,F_i]$: "
   ]
  },
  {
   "cell_type": "code",
   "execution_count": 20,
   "id": "465894c9",
   "metadata": {},
   "outputs": [
    {
     "name": "stdout",
     "output_type": "stream",
     "text": [
      "[[0, 0], [1, 1], [2, 1], [3, 2], [4, 3], [5, 5], [6, 8], [7, 13], [8, 21], [9, 34], [10, 55]]\n",
      "[5, 5]\n"
     ]
    }
   ],
   "source": [
    "fib_list = [[0,0] , [1, 1]]  # We populate the list with our initial values F_0=0, F_1=1\n",
    "for i in range(2,11):\n",
    "    previous = fib_list[i-2][1]\n",
    "    current= fib_list[i-1][1]\n",
    "    next = current+previous\n",
    "    fib_list.append([i,next])\n",
    "print(fib_list)  \n",
    "print(fib_list[5])"
   ]
  },
  {
   "cell_type": "markdown",
   "id": "2e3aebe7",
   "metadata": {},
   "source": [
    "### Functions\n"
   ]
  },
  {
   "cell_type": "markdown",
   "id": "b2355aa3",
   "metadata": {},
   "source": [
    "If we wish to compute lots of values of Fibonacci numbers there are various things we could do: precompute all the values we need and store them in a list, for example.  But often the best thing to do is to write a function which we can call when we need a particular value.\n"
   ]
  },
  {
   "cell_type": "code",
   "execution_count": 14,
   "id": "23b973b7",
   "metadata": {},
   "outputs": [
    {
     "name": "stdout",
     "output_type": "stream",
     "text": [
      "5\n",
      "832040\n"
     ]
    }
   ],
   "source": [
    "def fibo(n):\n",
    "    previous = 0\n",
    "    current = 1 \n",
    "    i=2 \n",
    "    while i< n+1:\n",
    "        next = current + previous\n",
    "        previous = current\n",
    "        current = next\n",
    "        i+=1\n",
    "    return(next)    \n",
    "print(fibo(5)) \n",
    "print(fibo(30))\n",
    "    "
   ]
  },
  {
   "cell_type": "markdown",
   "id": "fd11a307",
   "metadata": {},
   "source": [
    "We can now test how fast our code is: for how large an input $n$ can we compute `fibo(n)` in realistic time?\n",
    "As an aside, in our context we use \"realistic time\" to mean a few seconds or a minute.  Depending on the importance of a computation, realistic time could mean minutes, months, or even years."
   ]
  },
  {
   "cell_type": "code",
   "execution_count": 15,
   "id": "00c7b5d7",
   "metadata": {},
   "outputs": [
    {
     "data": {
      "text/plain": [
       "0.0009942054748535156"
      ]
     },
     "execution_count": 15,
     "metadata": {},
     "output_type": "execute_result"
    }
   ],
   "source": [
    "import time\n",
    "t=time.time()\n",
    "fibo(1000)\n",
    "time.time()-t"
   ]
  },
  {
   "cell_type": "code",
   "execution_count": 16,
   "id": "b6084c80",
   "metadata": {},
   "outputs": [
    {
     "data": {
      "text/plain": [
       "0.023461580276489258"
      ]
     },
     "execution_count": 16,
     "metadata": {},
     "output_type": "execute_result"
    }
   ],
   "source": [
    "t=time.time()\n",
    "fibo(10000)\n",
    "time.time()-t"
   ]
  },
  {
   "cell_type": "code",
   "execution_count": 17,
   "id": "919c8733",
   "metadata": {},
   "outputs": [
    {
     "data": {
      "text/plain": [
       "0.3279304504394531"
      ]
     },
     "execution_count": 17,
     "metadata": {},
     "output_type": "execute_result"
    }
   ],
   "source": [
    "t=time.time()\n",
    "fibo(100000)\n",
    "time.time()-t"
   ]
  },
  {
   "cell_type": "code",
   "execution_count": 18,
   "id": "ec1a9237",
   "metadata": {},
   "outputs": [
    {
     "data": {
      "text/plain": [
       "10.424722671508789"
      ]
     },
     "execution_count": 18,
     "metadata": {},
     "output_type": "execute_result"
    }
   ],
   "source": [
    "t=time.time()\n",
    "fibo(1000000)\n",
    "time.time()-t"
   ]
  },
  {
   "cell_type": "markdown",
   "id": "f7c4fcf6",
   "metadata": {},
   "source": [
    "We see that by the time we get to $n=10^6$, the code has started to slow down considerably."
   ]
  },
  {
   "cell_type": "markdown",
   "id": "c535378f",
   "metadata": {},
   "source": [
    "### Complexity in time and space\n"
   ]
  },
  {
   "cell_type": "markdown",
   "id": "73eb8e7d",
   "metadata": {},
   "source": [
    "We need to think about how many steps a program will take, and how long each step will take.  For the function `fibo()` it is easy to see that computing `fibo(n)` will take $n-1$ additions: however, this is not the end of the \n",
    "story, since the summands are increasing in size, and adding large numbers takes longer than adding small numbers.\n",
    "How do we measure the size of an input $n$?  The best way to think of this is how many bits are needed to specify  $n$: that is, about $\\log_2(n)$.  \n",
    "\n",
    "Now the number of bitwise operations needed to add two $k$-bit integers grows linearly in $k$.  Let's suppose that it takes $c_1 k$ bitwise operations."
   ]
  },
  {
   "cell_type": "markdown",
   "id": "7d6d2fa4",
   "metadata": {},
   "source": [
    "###  Exercise "
   ]
  },
  {
   "cell_type": "markdown",
   "id": "6f0663af",
   "metadata": {},
   "source": [
    "Compute the $n$ Fibonacci number for $n=100$, $1000$, and $10000$.  How many digits does each have?\n",
    "Can you predict the number of digits in $F_n$ as a function of $n$?  How many bits in the binary expansions?\n",
    "\n",
    "Explore Binet's formula for $F_n$: this should allow you to obtain a formula for the number of bits in $F_n$.\n",
    "Let's suppose that $F_n$ has $c_2 n$ bits.\n"
   ]
  },
  {
   "cell_type": "markdown",
   "id": "acfd77bc",
   "metadata": {},
   "source": [
    "Back to complexity: adding $F_{n-1}$ and $F_{n-2}$ involves summing two numbers with $c(n-1)$ and $c (n-2)$ bits: this takes $c_1 c_2 (n-1)$ bitwise operations.  If we have to do this for all the smaller Fibonacci numbers too,\n",
    "we would end up with \n",
    "\n",
    "$$\\sum_{k<n}c_1 c_2 k=c_1 c_2\\binom{n}{2}$$\n",
    "\n",
    "This suggests that the time complexity of the function `fibo(n)` is quadratic in $n$ (_not the size of $n$_): that is if we double $n$, we roughly quadruple the time to compute `fibo(n)`.\n",
    "\n",
    "The space complexity of this algorithm is easier to compute: we basically need a constant multiple of the number \n",
    "of bits of output, which we saw earlier was $c_1 n$.  We should note that this, while linear in $n$, is exponential in $\\log_2 n$, the _size_ of $n$."
   ]
  },
  {
   "cell_type": "markdown",
   "id": "68f96e1c",
   "metadata": {},
   "source": [
    "### Recursion"
   ]
  },
  {
   "cell_type": "markdown",
   "id": "c40f4ff1",
   "metadata": {},
   "source": [
    "We can sometimes write simpler code if we use the idea of recursion.  Let's define a function `fibor(n)` which will recursively call `fibor(n-1)` and `fibor(n-2)`."
   ]
  },
  {
   "cell_type": "code",
   "execution_count": 23,
   "id": "6ff88afb",
   "metadata": {},
   "outputs": [
    {
     "name": "stdout",
     "output_type": "stream",
     "text": [
      "5\n",
      "832040\n"
     ]
    }
   ],
   "source": [
    "def fibor(n):\n",
    "    if n== 0:\n",
    "        return(0)\n",
    "    elif n==1:\n",
    "        return(1)\n",
    "    else:\n",
    "        return(fibor(n-1)+fibor(n-2))\n",
    "print(fibor(5))\n",
    "print(fibor(30))"
   ]
  },
  {
   "cell_type": "markdown",
   "id": "5029b73a",
   "metadata": {},
   "source": [
    "We should point out, however, that as intuitive and nice as recusive code can be, issues can arise.  Without care, and especially in a case like this, recursive function calls can grow exponentially.  "
   ]
  },
  {
   "cell_type": "code",
   "execution_count": 39,
   "id": "ddbc876d",
   "metadata": {},
   "outputs": [
    {
     "name": "stdout",
     "output_type": "stream",
     "text": [
      "5\n",
      "15\n",
      "832040\n",
      "2692537\n"
     ]
    }
   ],
   "source": [
    "counter=0  # This will count the number of times we call fibor\n",
    "def fibor(n):\n",
    "    global counter # This will allow fibor() to reference the variable counter inside the function\n",
    "    counter+=1\n",
    "    if n== 0:\n",
    "        return(0)\n",
    "    elif n==1:\n",
    "        return(1)\n",
    "    else:\n",
    "        return(fibor(n-1)+fibor(n-2))\n",
    "print(fibor(5))\n",
    "print(counter)\n",
    "counter=0\n",
    "print(fibor(30))\n",
    "print(counter)"
   ]
  },
  {
   "cell_type": "markdown",
   "id": "82bc7c60",
   "metadata": {},
   "source": [
    "We see that in computing $F_5$ we already made 15 calls to `fibor()`: in computing $F_{30}$ we made over 2 million recursive calls.  This means that the recursive function `fibor()` is unusable for even moderate values of $n$.\n"
   ]
  },
  {
   "cell_type": "code",
   "execution_count": 40,
   "id": "c599ecab",
   "metadata": {},
   "outputs": [
    {
     "name": "stdout",
     "output_type": "stream",
     "text": [
      "832040\n",
      "2692537\n",
      "0.3839454650878906\n",
      "102334155\n",
      "331160281\n",
      "51.42229461669922\n"
     ]
    }
   ],
   "source": [
    "counter=0\n",
    "t=time.time()\n",
    "print(fibor(30))\n",
    "print(counter)\n",
    "print(time.time()-t)\n",
    "counter=0\n",
    "t=time.time()\n",
    "print(fibor(40))\n",
    "print(counter)\n",
    "print(time.time()-t)"
   ]
  },
  {
   "cell_type": "markdown",
   "id": "0e8be409",
   "metadata": {},
   "source": [
    "The problem here is this: considering $F_5$ for concreteness: $F_5$ calls $F_4$ and $F_3$.  $F_4$ calls $F_3$ and $F_2$.  Each of the two $F_3$ calls calls $F_2$ and $F_1$.  Each of the three $F_2$ calls calls $F_1$ and $F_0$: \n",
    "thus we get \n",
    "$$1 (F_5) + 1(F_4) + 2(F_3) + 3(F_2) + 5(F_1)+3(F_0) = 15 $$\n",
    "total calls to `fibor()`.  \n",
    "\n",
    "There are ways to avoid this, using \"memoization\" and \"decorators\" to ensure that python realizes that we have already called $F_k$ and doesn't spawn multiple subroutines calling the same function, but that is a more \n",
    "advanced topic than we are covering here."
   ]
  },
  {
   "cell_type": "markdown",
   "id": "4f1ee500",
   "metadata": {},
   "source": [
    "### Is there a better way?\n"
   ]
  },
  {
   "cell_type": "markdown",
   "id": "070b4555",
   "metadata": {},
   "source": [
    "One of the themes that we will stress along the way is that, just because we have an algorithm or an implentation \n",
    "of an algorithm which works, doesn't mean that we should stop there: there may be a better algorithm.  Perhaps one that runs faster, or uses less memory.  Sometimes we'll be able to find algorthms that will run _much_ faster, or use much less space!  Sometimes we can trade off using more space to use much less time."
   ]
  },
  {
   "cell_type": "markdown",
   "id": "1569e71b",
   "metadata": {},
   "source": [
    "### Matrices and linear recurrences"
   ]
  },
  {
   "cell_type": "markdown",
   "id": "48ad1748",
   "metadata": {},
   "source": [
    "Let's observe that we can rewrite the Fibonacci recurrence as a linear matrix-vector recurrence in a very simple way.  \n",
    "If we let $\\underline{v}_n$ denote the vector\n",
    "\n",
    "$$\n",
    "\\underline{v}_n = \n",
    "\\begin{bmatrix}  F_n\\\\ F_{n-1}\n",
    "\\end{bmatrix}\n",
    "$$\n",
    "\n",
    "and let $A$ denote the matrix \n",
    "\n",
    "$$\n",
    "A=\\begin{bmatrix}\n",
    "1 & 1 \\\\\n",
    "1 & 0\n",
    "\\end{bmatrix}\n",
    "$$\n",
    "\n",
    "then we can rewrite the Fibonacci recurrence as \n",
    "\n",
    "$$\\underline{v}_n = A \\underline{v}_{n-1}$$\n",
    "\n",
    "which can be followed back to deduce that \n",
    "\n",
    "$$\n",
    "\\underline{v}_n = A^n \\underline{v}_0.\n",
    "$$"
   ]
  },
  {
   "cell_type": "markdown",
   "id": "09da6df1",
   "metadata": {},
   "source": [
    "This means that if we can compute powers of $A$ efficiently we can also compute $F_n$ efficiently.\n",
    "This brings us to the following important idea."
   ]
  },
  {
   "cell_type": "markdown",
   "id": "338c0884",
   "metadata": {},
   "source": [
    "### Iterated squaring to compute powers "
   ]
  },
  {
   "cell_type": "markdown",
   "id": "28221d9e",
   "metadata": {},
   "source": [
    "Consider the expression $A^{25}$.  Naively, multiplying 25 copies of $A$ together takes 24 multiply operations: this can be significantly improved as follows: compute $A$, $A^2$, $A^4=(A^2)^2$, $A^8=A^4)^2$ and $A^{16}=(A^8)^2$.  This takes 4 multiplies.  Now compute $25=16+8+1$, so $A^{25}=A^{16}A^8A$ requiring two more multiplies, for a total of 6.\n",
    "\n",
    "In general, to compute $A^n$, we compute $A^{2^k}$ for $k$ up to $\\log_2 n$ using iterated squaring.  \n",
    "Then we multiply the appropriate subset of these iterated squares together by computing the binary expansion of $n$.  This takes a total of fewer than $2 \\log_2 n$ matrix multiplications.\n",
    "\n",
    "Now, we have replaced the complexity of adding enormous numbers with the complexity of multiplying enormous numbers, but far fewer times.  If you choose to study the complexity of multiplying two large integers together, there is a wonderful rabbit hole to go down, starting from naive multiplication of two $n$ bit integers, which \n",
    "takes $O(n^2)$ operations, to the beautiful Karatsuba' algorithm, with complexity about $O(n^{1.585})$, to the \n",
    "Schönhage-Strassen algorithm which has asymptotic complexity $O(n\\log n \\log\\log n)$, and the recent \n",
    "$O(n \\log n)$ algorithm of Harvey and van der Hoeven.\n",
    "\n",
    "If we use these more sophisiticated methods, we can obtain an algorithm for computing $F_n$ of order about \n",
    "$O(n \\log n)$,  We can't expect much better than that, since even outputting the digits of $F_n$ is of order \n",
    "$O(n)$."
   ]
  },
  {
   "cell_type": "markdown",
   "id": "e293fac4",
   "metadata": {},
   "source": [
    "### Exercise: \n",
    "Figure out how to implement iterated squaring to compute $A^51$ by a sequence of python statements.  Then code a function which will take $n$ as an input, and return $A^n$.  You should only need to keep one expression of the \n",
    "form $A^{2^k}$ around at a time if you are careful.  Hint: find the low order bits of $n$ first."
   ]
  },
  {
   "cell_type": "markdown",
   "id": "a82a1802",
   "metadata": {},
   "source": [
    "it is clear at this point that what limits our computation of big Fibonacci numbers is the size of the results. What if we only want to compute the final few digits of $F_n$?  Now the size of the output (and of the intermediate computations) is kept small, and the limiting factor is the number of squarings of matrices we are going to perform.  Consequently it is now feasible to take something like $n=7^{12345678}$ and compute the \n",
    "final 100 digits of $F_n$.\n",
    "\n"
   ]
  },
  {
   "cell_type": "markdown",
   "id": "9dfdae3d",
   "metadata": {},
   "source": [
    "### Again, is there a better way?\n",
    "We can revisit the question: is there a better way to compute this?"
   ]
  },
  {
   "cell_type": "code",
   "execution_count": null,
   "id": "5af42bae",
   "metadata": {},
   "outputs": [],
   "source": []
  }
 ],
 "metadata": {
  "kernelspec": {
   "display_name": "Python 3 (ipykernel)",
   "language": "python",
   "name": "python3"
  },
  "language_info": {
   "codemirror_mode": {
    "name": "ipython",
    "version": 3
   },
   "file_extension": ".py",
   "mimetype": "text/x-python",
   "name": "python",
   "nbconvert_exporter": "python",
   "pygments_lexer": "ipython3",
   "version": "3.8.5"
  }
 },
 "nbformat": 4,
 "nbformat_minor": 5
}
