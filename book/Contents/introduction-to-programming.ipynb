{
 "cells": [
  {
   "cell_type": "markdown",
   "id": "32917c84",
   "metadata": {},
   "source": [
    "# Introduction to Programming using Python and Jupyter"
   ]
  },
  {
   "cell_type": "markdown",
   "id": "44a6b140",
   "metadata": {},
   "source": [
    "## Method\n",
    "\n",
    "Suppose you want to learn how to swim.  Which method below would suit you best?\n",
    "1. Getting in the shallow water with someone who can swim, and who can move your limbs if necessary, and who can show you what to do and does so\n",
    "2. Reading a book about swimming before getting in the water\n",
    "3. Watching a video about swimming before getting in the water\n",
    "\n",
    "We think most of you would choose (1) for swimming, and analogously for programming: most people learn best by _doing_.  That is how this unit (and indeed this whole OER) is organized.  Even if you buy the physical book (and we think there are good reasons to have the physical book version of this OER) you will not (we think) sit down and read the whole thing before you poke any Jupyter buttons.  Instead, the OER and the book are intended to be more like a person who is in the water with you, showing you what to do, and letting you do it.\n",
    "\n",
    "This is not to say that reference books and videos are not valuable: sometimes you will want to pause and consult the manual to see how to do something, and sometimes you will want to read ahead to see what's coming next.\n",
    "\n",
    "[Here is a good set of videos for learning Python](https://www.philchodrow.com/PIC16A/schedule/)\n",
    "\n",
    "\n",
    "[For that matter, here is a video on learning to swim](https://www.youtube.com/watch?v=Rr_CnIfr5u8)\n",
    "\n",
    "\n",
    "\n",
    "Purpose of the chapter: introduce using Python (inside a Jupyter notebook) as a computing tool.\n",
    "- The command line: computing by hand: walk through computing (say)\n",
    "$F_{10}$ using a computer only minimally.\n",
    "- Loops: for loops, while loops: using these to compute $F_{10}$ to get the computer to do a _bit_ more work for us.\n",
    "- Lists: saving computations, plotting on regular scale, plotting on\n",
    "log scale: conjectures and\n",
    "questions.\n",
    "- Functions: if something is done over and over again, make it a\n",
    "function: inputs, outputs\n",
    "- Recursion: the danger of simplistic recusion: why computing\n",
    "Fibonacci numbers recursively can\n",
    "lead to exponentially many sub-calls: do we talk about decorations and\n",
    "how to avoid this?\n",
    "- Complexity of computation: time complexity, space complexity: both\n",
    "impact computation of\n",
    "and display of big Fibonacci numbers\n",
    "- The idea that just because an algorithm exists doesn't make it the\n",
    "{\\em best} algorithm.\n",
    "- Better algorithms for Fibonacci numbers?\n",
    "- Better algorithms for just the last few digits: iterated squaring,\n",
    "intro to $2\\times 2$ matrix\n",
    "computations.\n",
    "- Experiments to perform: Pisano periods\n",
    "\n"
   ]
  },
  {
   "cell_type": "markdown",
   "id": "21005856",
   "metadata": {},
   "source": [
    "## The Fibonacci Numbers\n",
    "The Fibonacci numbers, $F_n$, named after the nickname given to Leonardo Pisano, or \n",
    "Leonardo of Pisa,  were actually studied as early as 200 BCE by Pingala, who used them to analyse \n",
    "the number of patterns in Sanskrit poetry.  They are defined by a two-term linear recurrence relation,\n",
    "\n",
    "$$F_{n}= F_{n-1} + F_{n-2}$$\n",
    "\n",
    "and two initial conditions.  There are several different conventions about what the initial \n",
    "conditions should be: we will choose $F_0=0$ and $F_1=1$.  These numbers are connected by a formula known as _Binet's formula_ to the so-called Golden Ratio:\n",
    "\n",
    "$$\n",
    "\\phi := \\frac{1 + \\sqrt{5}}{2} \\approx 1.618\\ldots\n",
    "$$\n",
    "\n",
    "Binet's formula says that\n",
    "$$\n",
    "F_n = \\frac{1}{\\sqrt{5}} \\phi^n - \\frac{1}{\\sqrt{5}}\\left( - \\frac{1}{\\phi} \\right)^n\n",
    "$$\n",
    "and since $1/\\phi < 1$ we have the excellent approximation $F_n \\approx \\phi^n/\\sqrt{5}$, which is actually so good that for $n > 1$ you can get the exact answer merely by taking the nearest integer to this approximation.\n",
    "\n",
    "Binet's formula is actually very weird: one takes powers of an irrational number, adds it to the same power of another irrational number, divide by $\\sqrt{5}$, and out pops an integer. We will explore this by a set of exercises, although it is a digression."
   ]
  },
  {
   "cell_type": "markdown",
   "id": "e5b848ed",
   "metadata": {},
   "source": [
    "In this section, we'll explore how to \n",
    "compute the values taken by $F_n$ for various different $n$: we'll start by doing some really \n",
    "basic things, and gradually develop better methods.  If you have lots of coding experience, you\n",
    "will recognize the way we are doing things as basic: but if you are new to coding, we hope that this\n",
    "will gently get you started to thinking a computational way.\n",
    "\n",
    "First, we start by using the Python kernel attached to this Jupyter Notebook as a calculator&mdash;no programming at all. We type our arithmetic into the cell below (which should be specified as a \"Code\" cell in the menu up above, as opposed to a \"Markdown\" cell which this text is written into, or either of the other types of cell it could be). Then we hold down the Ctrl key and hit \"Enter\" (on a PC) or hold down the Command key and hit \"Enter\" (on a Mac)."
   ]
  },
  {
   "cell_type": "code",
   "execution_count": 1,
   "id": "910eb5ec",
   "metadata": {},
   "outputs": [
    {
     "data": {
      "text/plain": [
       "1"
      ]
     },
     "execution_count": 1,
     "metadata": {},
     "output_type": "execute_result"
    }
   ],
   "source": [
    "1"
   ]
  },
  {
   "cell_type": "code",
   "execution_count": 2,
   "id": "1e4e279a",
   "metadata": {},
   "outputs": [
    {
     "data": {
      "text/plain": [
       "1"
      ]
     },
     "execution_count": 2,
     "metadata": {},
     "output_type": "execute_result"
    }
   ],
   "source": [
    "0+1"
   ]
  },
  {
   "cell_type": "code",
   "execution_count": 3,
   "id": "6717d186",
   "metadata": {},
   "outputs": [
    {
     "data": {
      "text/plain": [
       "2"
      ]
     },
     "execution_count": 3,
     "metadata": {},
     "output_type": "execute_result"
    }
   ],
   "source": [
    "1+1"
   ]
  },
  {
   "cell_type": "code",
   "execution_count": 4,
   "id": "7e3312bb",
   "metadata": {},
   "outputs": [
    {
     "data": {
      "text/plain": [
       "3"
      ]
     },
     "execution_count": 4,
     "metadata": {},
     "output_type": "execute_result"
    }
   ],
   "source": [
    "1+2"
   ]
  },
  {
   "cell_type": "code",
   "execution_count": 5,
   "id": "34d36bcd",
   "metadata": {},
   "outputs": [
    {
     "data": {
      "text/plain": [
       "5"
      ]
     },
     "execution_count": 5,
     "metadata": {},
     "output_type": "execute_result"
    }
   ],
   "source": [
    "2+3"
   ]
  },
  {
   "cell_type": "code",
   "execution_count": 6,
   "id": "f5dffbb7",
   "metadata": {},
   "outputs": [
    {
     "data": {
      "text/plain": [
       "8"
      ]
     },
     "execution_count": 6,
     "metadata": {},
     "output_type": "execute_result"
    }
   ],
   "source": [
    "3+5"
   ]
  },
  {
   "cell_type": "markdown",
   "id": "9da222a9",
   "metadata": {},
   "source": [
    "We put a simple \"1\" in the first cell, not for any grand purpose, but to make the labels on the left have something to do with the numbering of the Fibonacci numbers.  That is, In [2] has the definition of $F_2$ and Out[2] has the result of the computation: $0 + 1 = 1$ and indeed $F_2 = 1$.  A little compulsive on our part.  Then In [3] has the definition of $F_3$ and Out[3] has the computed result: $F_3 = 2$.  Similarly In [4] has the definition of $F_4$ and Out[4] has its value, and so on.\n",
    "\n",
    "(Warning: Those label numbers will change if you execute other commands and then come back and re-execute these---we recommend that you don't do that, but rather stick to a linear order of execution.  In case you get confused, there is an option under the \"Kernel\" tabl above to Restart and Run All which will re-execute everything from the top down, and re-number the output in sequence.)\n",
    "\n",
    "You should use the Edit menu above to insert two more code cells below here, and enter $5+8$ and hit Ctrl-Enter (or the equivalent) to get $13$, and $8+13$ and hit Ctrl-Enter to get $21$.\n",
    "\n",
    "Simple.  You now know how to compute Fibonacci numbers, to as high an order as you want.  The tedious arithmetic will be done by the computer.\n",
    "\n",
    "Of course once the numbers get big you will be tempted to use \"cut and paste\" to paste the numbers in instead of retyping them, and that works. So, there are more things than arithmetic that are tedious, and which we will want to use the computer for.\n",
    "\n",
    "One thing that we will want to use the computer for is to ease the burden on our memory.  The In[3] / Out[3] labelling of Fibonacci numbers in a Jupyter Notebook is fragile, as we mentioned, so we might want to use Python to remember $F_0$, $F_1$, and so on."
   ]
  },
  {
   "cell_type": "markdown",
   "id": "e8ef6d6c",
   "metadata": {},
   "source": [
    "The first way to do this is with \"variables\" (which are sort of like variables in mathematics, but also sort of not): in Python, variables are objects that can store a value: in our cases, the\n",
    "values will be integers.  In the Jupyter notebook, input the following code."
   ]
  },
  {
   "cell_type": "code",
   "execution_count": 7,
   "id": "2accad89",
   "metadata": {},
   "outputs": [
    {
     "name": "stdout",
     "output_type": "stream",
     "text": [
      "1\n"
     ]
    }
   ],
   "source": [
    "F0=0\n",
    "F1=1\n",
    "F2=F1+F0\n",
    "print(F2)"
   ]
  },
  {
   "cell_type": "markdown",
   "id": "67a9a99f",
   "metadata": {},
   "source": [
    "Execute the code by clicking the run arrow (or typing shift-enter)\n",
    "and you should see the output 1, indicating that you have successfully printed $F_1$.\n",
    "\n",
    "In the next code block, type "
   ]
  },
  {
   "cell_type": "code",
   "execution_count": 8,
   "id": "9e41270b",
   "metadata": {},
   "outputs": [
    {
     "name": "stdout",
     "output_type": "stream",
     "text": [
      "2\n",
      "3\n",
      "5\n"
     ]
    }
   ],
   "source": [
    "F3=F2+F1\n",
    "print(F3)\n",
    "F4=F3+F2\n",
    "print(F4)\n",
    "F5=F4+F3\n",
    "print(F5)"
   ]
  },
  {
   "cell_type": "markdown",
   "id": "2503d29b",
   "metadata": {},
   "source": [
    "By now this should be feeling pretty repetitive, and we should be longing for a way to not have to keep typing\n",
    "two more rows of code for each new Fibonacci number.  Let's try to be more systematic about it.  Let's think about what we are doing: we have a current Fibonacci number, a previous Fibonacci number, and we use them to compute the \n",
    "next one in the sequence.\n",
    "\n",
    "$$next = current + previous.$$\n",
    "\n",
    "Then we replace the previous one by the one which was current, and the current by the next, and repeat.  This assumes that _the only thing we need $F_n$ for is to compute the next Fibonacci numbers, and once we have done so, we may discard it_."
   ]
  },
  {
   "cell_type": "code",
   "execution_count": 9,
   "id": "6dfbdfb7",
   "metadata": {},
   "outputs": [
    {
     "name": "stdout",
     "output_type": "stream",
     "text": [
      "5\n"
     ]
    }
   ],
   "source": [
    "previous =0\n",
    "current = 1\n",
    "next = current + previous\n",
    "previous = current\n",
    "current = next\n",
    "next = current + previous\n",
    "previous = current \n",
    "current = next\n",
    "next = current + previous\n",
    "previous = current \n",
    "current = next\n",
    "next = current + previous\n",
    "previous = current \n",
    "current = next\n",
    "print(next)\n"
   ]
  },
  {
   "cell_type": "markdown",
   "id": "d2ca6a56",
   "metadata": {},
   "source": [
    "### Loops\n"
   ]
  },
  {
   "cell_type": "markdown",
   "id": "86a97c2e",
   "metadata": {},
   "source": [
    "This may seem worse than the previous code: three lines of code for each step, but since we are no longer using an explicit naming scheme for our variables, we can use _loops_ to automate things.  To do this we can use for or while loops.  Again, we are discarding everything older than the previous Fibonacci number; we will revisit this assumption presently."
   ]
  },
  {
   "cell_type": "code",
   "execution_count": 10,
   "id": "a95c2e1e",
   "metadata": {},
   "outputs": [
    {
     "name": "stdout",
     "output_type": "stream",
     "text": [
      "5 5\n"
     ]
    }
   ],
   "source": [
    "previous = 0\n",
    "current = 1\n",
    "for i in range(2,6):\n",
    "    next = current + previous\n",
    "    previous = current\n",
    "    current = next\n",
    "print(i,next)    "
   ]
  },
  {
   "cell_type": "markdown",
   "id": "f234a1a8",
   "metadata": {},
   "source": [
    "Now we see that we can modify our loop to make it compute much further out:"
   ]
  },
  {
   "cell_type": "code",
   "execution_count": 11,
   "id": "1c48019c",
   "metadata": {},
   "outputs": [
    {
     "name": "stdout",
     "output_type": "stream",
     "text": [
      "30 832040\n"
     ]
    }
   ],
   "source": [
    "previous = 0\n",
    "current = 1\n",
    "for i in range(2,31):\n",
    "    next = current + previous\n",
    "    previous = current\n",
    "    current = next\n",
    "print(i,next)   "
   ]
  },
  {
   "cell_type": "markdown",
   "id": "0f08e5a4",
   "metadata": {},
   "source": [
    "This tells us that $F_{30}= 832040$.\n",
    "\n",
    "We can also use while loops to do something similar:\n"
   ]
  },
  {
   "cell_type": "code",
   "execution_count": 12,
   "id": "8a5d24f2",
   "metadata": {},
   "outputs": [
    {
     "name": "stdout",
     "output_type": "stream",
     "text": [
      "31 832040\n"
     ]
    }
   ],
   "source": [
    "previous = 0\n",
    "current = 1 \n",
    "i=2 \n",
    "while i< 31:\n",
    "    next = current + previous\n",
    "    previous = current\n",
    "    current = next\n",
    "    i+=1\n",
    "print(i,next)   "
   ]
  },
  {
   "cell_type": "markdown",
   "id": "27fcef40",
   "metadata": {},
   "source": [
    "In this, we need to set the value of the variable: as long as the value of `i` is less than 31, the loop will be executed: in this example we have to remember to increment the value of `i` by 1 each time we execute the loop."
   ]
  },
  {
   "cell_type": "markdown",
   "id": "2f663d5b",
   "metadata": {},
   "source": [
    "### Lists"
   ]
  },
  {
   "cell_type": "markdown",
   "id": "724b48a3",
   "metadata": {},
   "source": [
    "Suppose that we now want to keep our computed values around once we have computed them.  One way of achieving this is to put the values in a list."
   ]
  },
  {
   "cell_type": "code",
   "execution_count": 13,
   "id": "df917ad4",
   "metadata": {},
   "outputs": [
    {
     "name": "stdout",
     "output_type": "stream",
     "text": [
      "[0, 1, 1, 2, 3, 5, 8, 13, 21, 34, 55]\n",
      "5\n"
     ]
    }
   ],
   "source": [
    "fib_list = [0 , 1]  # We populate the list with our initial values F_0=0, F_1=1\n",
    "for i in range(2,11):\n",
    "    previous = fib_list[i-2]\n",
    "    current= fib_list[i-1]\n",
    "    next = current+previous\n",
    "    fib_list.append(next)\n",
    "print(fib_list)  \n",
    "print(fib_list[5])"
   ]
  },
  {
   "cell_type": "markdown",
   "id": "a79723e4",
   "metadata": {},
   "source": [
    "Perhaps we wish instead to create a list of pairs, $[i,F_i]$: "
   ]
  },
  {
   "cell_type": "code",
   "execution_count": 14,
   "id": "8209d0f8",
   "metadata": {},
   "outputs": [
    {
     "name": "stdout",
     "output_type": "stream",
     "text": [
      "[[0, 0], [1, 1], [2, 1], [3, 2], [4, 3], [5, 5], [6, 8], [7, 13], [8, 21], [9, 34], [10, 55]]\n",
      "[5, 5]\n"
     ]
    }
   ],
   "source": [
    "fib_list = [[0,0] , [1, 1]]  # We populate the list with our initial values F_0=0, F_1=1\n",
    "for i in range(2,11):\n",
    "    previous = fib_list[i-2][1]\n",
    "    current= fib_list[i-1][1]\n",
    "    next = current+previous\n",
    "    fib_list.append([i,next])\n",
    "print(fib_list)  \n",
    "print(fib_list[5])"
   ]
  },
  {
   "cell_type": "markdown",
   "id": "0f113d1a",
   "metadata": {},
   "source": [
    "### Plots\n",
    "\n",
    "We will see lots of plots later on, but right now what we want to do is draw a _polar plot_ which we (the authors) actually haven't done up until now in Python, so we will demonstrate not only how to do it, but how we learned how to do it.  Naturally, the answer involves Professor Google.  We entered \"draw polar plot in python\" in our browser, and looked at the results.  The top hit was a video (which we did not look at) and the second hit was to the [\"matplotlib\" documentation](https://matplotlib.org/stable/gallery/pie_and_polar_charts/polar_demo.html).  This package, matplotlib, is going to be very useful for us, and so we go ahead and do this.\n",
    "\n",
    "The first example at that link is very nearly already what we need:"
   ]
  },
  {
   "cell_type": "code",
   "execution_count": 23,
   "id": "acbdcf07",
   "metadata": {},
   "outputs": [
    {
     "data": {
      "image/png": "[encoded data removed]",
      "text/plain": [
       "<Figure size 432x288 with 1 Axes>"
      ]
     },
     "metadata": {
      "needs_background": "light"
     },
     "output_type": "display_data"
    }
   ],
   "source": [
    "import numpy as np\n",
    "import matplotlib.pyplot as plt\n",
    "\n",
    "\n",
    "r = np.arange(0, 2, 0.01)\n",
    "theta = 2 * np.pi * r\n",
    "\n",
    "fig, ax = plt.subplots(subplot_kw={'projection': 'polar'})\n",
    "ax.plot(theta, r)\n",
    "ax.set_rmax(2)\n",
    "ax.set_rticks([0.5, 1, 1.5, 2])  # Fewer radial ticks (RMC had to correct the grammar in this comment)\n",
    "ax.set_rlabel_position(-22.5)  # Move radial labels away from plotted line\n",
    "ax.grid(True)\n",
    "\n",
    "ax.set_title(\"A line plot on a polar axis\", va='bottom')\n",
    "plt.show()"
   ]
  },
  {
   "cell_type": "markdown",
   "id": "b6373f80",
   "metadata": {},
   "source": [
    "The only problem is that it's drawing the wrong spiral&mdash;and we prefer, for very strong reasons, to use radian measure.  However, we'll use degrees in the labels for our plot, too, so that we only change one thing at a time.  The Fibonacci Spiral, which we take from H.S.M. Coxeter's 1969 book Introduction to Geometry, Section 11.3 (pp 164-165 in the PDF we have), suggests that the polar curve\n",
    "$$\n",
    "r = \\frac{1}{\\sqrt{5}} \\phi^{2\\theta/\\pi}\n",
    "$$\n",
    "will nearly have radii equal to the Fibonacci numbers when $\\theta$ is a multiple of $\\pi/2$ radians.  Somewhat confusingly, the formula does not need to be converted to degrees, because the code above actually uses radians (yay!) although the labels (weirdly) are in degrees.  Fine.\n",
    "\n",
    "So we change the definition of the data for the curve in the above example, to get the code below.  This took some fiddling: at first, we had used a formula using degrees (because the labels confused us); then we had forgotten the square root of 5 in the formula; and then we realized that we didn't need the \"ax.set_rlabel_position\" command, so we commented it out.  A \"comment character\" is a # at the start of the line: Python ignores everything after that character.  Then we changed the radial axes to be exactly Fibonacci numbers, so you can see that the spiral has radius 3 (visually) when the angle is $2\\pi$ radians or 360 degrees, has radius 5 when the angle is $7\\pi/2$ radians or $360+90 = 450$ degrees, radius 8 when the angle is $3\\pi$ radians or 360+180=540 degrees, and so on.\n",
    "\n",
    "Then we changed the title command, and voilá."
   ]
  },
  {
   "cell_type": "code",
   "execution_count": 33,
   "id": "9e1a4627",
   "metadata": {},
   "outputs": [
    {
     "data": {
      "image/png": "[encoded data removed]",
      "text/plain": [
       "<Figure size 432x288 with 1 Axes>"
      ]
     },
     "metadata": {
      "needs_background": "light"
     },
     "output_type": "display_data"
    }
   ],
   "source": [
    "import numpy as np\n",
    "import matplotlib.pyplot as plt\n",
    "\n",
    "\n",
    "#r = np.arange(0, 2, 0.01)  # the example defined theta as a function of r whereas\n",
    "#theta = 2 * np.pi * r      # we want to do this the other way round\n",
    "phi = (1+np.sqrt(5))/2\n",
    "theta = np.arange(0,4*np.pi,0.01)  # Make a fine grid of theta values going twice round the circle\n",
    "r = phi**(2*theta/np.pi)/np.sqrt(5)  # The corresponding r values from the Golden Spiral Formula\n",
    "\n",
    "fig, ax = plt.subplots(subplot_kw={'projection': 'polar'}) # same as before\n",
    "ax.plot(theta, r) # same as before\n",
    "ax.set_rmax(21) # changed from 2\n",
    "ax.set_rticks([3, 5, 8, 13, 21])  # Show Fibonacci radii for our plot\n",
    "#ax.set_rlabel_position(-22.5)  # don't need this command\n",
    "ax.grid(True) # same as before\n",
    "\n",
    "ax.set_title(\"Fibonacci Spiral\", va='bottom') # change the title\n",
    "plt.show()"
   ]
  },
  {
   "cell_type": "markdown",
   "id": "c723a714",
   "metadata": {},
   "source": [
    "Several important things happened in that example.  First, we \"imported\" some extremely useful packages of routines, namely \"numpy\" (for numerical work, using floating-point arithmetic) and \"matplotlib.pyplot\" for plotting.  To take square roots, we need numerical routines: the square root function is called \"sqrt\" but it's in numpy.  In our import command we decided to use \"np\" as an abbreviation for numpy.  This is common, but we could have used anything (we could have done it in a cursed fashion and \"import numpy as plt\" and \"import matplotlib.pyplot as np\", in fact---we do _not_ recommend doing this: please keep things to be what you expect them to be!).  \n",
    "\n",
    "Python is _object oriented_ and so the things it deals with typically have _methods_ associated with them. So a \"plot object\" will have an \"axis object\" associated with it---this was accessed by the command plt.subplots.  Thereafter we chose the axis options by calling the methods associated with the axis object, which we named \"ax\" (naturally enough).  This is weird, but you will get used to it, and it has advantages.  Right now, we can just use the syntax by copying and changing and not worrying too much about it."
   ]
  },
  {
   "cell_type": "markdown",
   "id": "226c7b09",
   "metadata": {},
   "source": [
    "### Functions"
   ]
  },
  {
   "cell_type": "markdown",
   "id": "890c5daf",
   "metadata": {},
   "source": [
    "If we wish to compute lots of values of Fibonacci numbers there are various things we could do: precompute all the values we need and store them in a list, for example.  Sometimes the best thing to do is to write a function which we can call when we need a particular value.\n"
   ]
  },
  {
   "cell_type": "code",
   "execution_count": 15,
   "id": "e4c47651",
   "metadata": {},
   "outputs": [
    {
     "name": "stdout",
     "output_type": "stream",
     "text": [
      "5\n",
      "832040\n"
     ]
    }
   ],
   "source": [
    "def fibo(n):\n",
    "    previous = 0\n",
    "    current = 1 \n",
    "    i=2 \n",
    "    while i< n+1:\n",
    "        next = current + previous\n",
    "        previous = current\n",
    "        current = next\n",
    "        i+=1\n",
    "    return(next)    \n",
    "print(fibo(5)) \n",
    "print(fibo(30))\n",
    "    "
   ]
  },
  {
   "cell_type": "markdown",
   "id": "81316778",
   "metadata": {},
   "source": [
    "We can now test how fast our code is: for how large an input $n$ can we compute `fibo(n)` in realistic time?\n",
    "As an aside, in our context we use \"realistic time\" to mean a few seconds or a minute.  Depending on the importance of a computation, realistic time could mean minutes, months, or even years."
   ]
  },
  {
   "cell_type": "code",
   "execution_count": 16,
   "id": "c2ca964c",
   "metadata": {},
   "outputs": [
    {
     "data": {
      "text/plain": [
       "0.0"
      ]
     },
     "execution_count": 16,
     "metadata": {},
     "output_type": "execute_result"
    }
   ],
   "source": [
    "import time\n",
    "t=time.time()\n",
    "fibo(1000)\n",
    "time.time()-t"
   ]
  },
  {
   "cell_type": "code",
   "execution_count": 17,
   "id": "896deaac",
   "metadata": {},
   "outputs": [
    {
     "data": {
      "text/plain": [
       "0.006979942321777344"
      ]
     },
     "execution_count": 17,
     "metadata": {},
     "output_type": "execute_result"
    }
   ],
   "source": [
    "t=time.time()\n",
    "fibo(10000)\n",
    "time.time()-t"
   ]
  },
  {
   "cell_type": "code",
   "execution_count": 18,
   "id": "6f31f33c",
   "metadata": {},
   "outputs": [
    {
     "data": {
      "text/plain": [
       "0.1406245231628418"
      ]
     },
     "execution_count": 18,
     "metadata": {},
     "output_type": "execute_result"
    }
   ],
   "source": [
    "t=time.time()\n",
    "fibo(100000)\n",
    "time.time()-t"
   ]
  },
  {
   "cell_type": "code",
   "execution_count": 19,
   "id": "204e4e36",
   "metadata": {},
   "outputs": [
    {
     "data": {
      "text/plain": [
       "8.972126483917236"
      ]
     },
     "execution_count": 19,
     "metadata": {},
     "output_type": "execute_result"
    }
   ],
   "source": [
    "t=time.time()\n",
    "fibo(1000000)\n",
    "time.time()-t"
   ]
  },
  {
   "cell_type": "markdown",
   "id": "2cb3fa1a",
   "metadata": {},
   "source": [
    "We see that by the time we get to $n=10^6$, the code has started to slow down considerably."
   ]
  },
  {
   "cell_type": "markdown",
   "id": "b68c9bb3",
   "metadata": {},
   "source": [
    "### Cost and complexity in time and space\n"
   ]
  },
  {
   "cell_type": "markdown",
   "id": "b634c70c",
   "metadata": {},
   "source": [
    "There are several useful notions of the _cost_ of a computation.  Perhaps the most important one is the carbon cost: every computation takes energy and how that energy is generated really matters. Floris van der Tak says \"before you ask for time on a facility, first check what kind of power they are using”, in [this 2022 article on carbon cost](https://physicsworld.com/a/the-huge-carbon-footprint-of-large-scale-computing/).  Then there is _opportunity cost_: if you are spending time and compute cycles on this, then you are not spending it on something else (which might be more useful).  This is, of course, spectacularly hard to measure because you have to think of all the other things you could be doing.  \n",
    "\n",
    "More mundanely, you can think about the cpu time and memory resources that you use on a given machine.  Memory usage is especially complicated nowadays, but at its most basic, how you organize your data can affect the time and energy needed to do your computation.  \n",
    "\n",
    "We're actually not going to worry at all about that, just now.  Instead we are going to think about a variation of opportunity cost, namely \"don't waste time computing things that you don't need, or have already computed\".  This sounds easy enough, but turns out to require serious thinking.  In fact, about _half_ of all speed gains for computation over the last fifty years have come from _algorithmic improvements_ and the other half from hardware improvements.  It turns out that finding the best way to compute something (or even just \"a better way\") is frequently very difficult.  The whole field of \"complexity theory\" studies this using various models.  The _complexity_ of a problem, loosely speaking, is the _minimal cost_ of computing the answer.  For a great many problems---even for something so simple as matrix multiplication!---the complexity is not known, although we have many algorithms of varying cost.  \n",
    "\n",
    "At its most basic, we need to think about how many steps a program will take, and how long each step will take.  For the function `fibo()` it is easy to see that computing `fibo(n)` will take $n-1$ additions: however, this is not the end of the \n",
    "story, since the summands are increasing in size, and adding large numbers takes longer than adding small numbers.\n",
    "How do we measure the size of an input $n$?  One decent way to think of this is how many bits are needed to specify  $n$: that is, about $\\log_2(n)$.  \n",
    "\n",
    "Now it turns out that the number of bitwise operations needed to add two $k$-bit integers grows linearly in $k$ (can you convince yourself that this is true?).  Let's suppose that it takes $c_1 k$ bitwise operations."
   ]
  },
  {
   "cell_type": "markdown",
   "id": "db47f4a0",
   "metadata": {},
   "source": [
    "###  Exercise "
   ]
  },
  {
   "cell_type": "markdown",
   "id": "babe6295",
   "metadata": {},
   "source": [
    "Compute the $n$ Fibonacci number for $n=100$, $1000$, and $10000$.  How many digits does each have?\n",
    "Can you predict the number of digits in $F_n$ as a function of $n$?  How many bits in the binary expansions?\n",
    "\n",
    "Explore Binet's formula for $F_n$: this should allow you to obtain a formula for the number of bits in $F_n$.\n",
    "Let's suppose that $F_n$ has $c_2 n$ bits.\n"
   ]
  },
  {
   "cell_type": "markdown",
   "id": "b51d2998",
   "metadata": {},
   "source": [
    "Back to complexity: adding $F_{n-1}$ and $F_{n-2}$ involves summing two numbers with $c(n-1)$ and $c (n-2)$ bits: this takes $c_1 c_2 (n-1)$ bitwise operations.  If we have to do this for all the smaller Fibonacci numbers too,\n",
    "we would end up with \n",
    "\n",
    "$$\\sum_{k<n}c_1 c_2 k=c_1 c_2\\binom{n}{2}$$\n",
    "\n",
    "This suggests that the time complexity of the function `fibo(n)` is quadratic in $n$ (_not the size of $n$_): that is if we double $n$, we roughly quadruple the time to compute `fibo(n)`.\n",
    "\n",
    "The space complexity of this algorithm is easier to compute: we basically need a constant multiple of the number \n",
    "of bits of output, which we saw earlier was $c_1 n$.  We should note that this, while linear in $n$, is exponential in $\\log_2 n$, the _size_ of $n$."
   ]
  },
  {
   "cell_type": "markdown",
   "id": "a9820e3a",
   "metadata": {},
   "source": [
    "### Recursion"
   ]
  },
  {
   "cell_type": "markdown",
   "id": "ef9bf6ab",
   "metadata": {},
   "source": [
    "We can sometimes write simpler code if we use the idea of recursion.  Let's define a function `fibor(n)` which will recursively call `fibor(n-1)` and `fibor(n-2)`."
   ]
  },
  {
   "cell_type": "code",
   "execution_count": 20,
   "id": "b8726827",
   "metadata": {},
   "outputs": [
    {
     "name": "stdout",
     "output_type": "stream",
     "text": [
      "5\n",
      "832040\n"
     ]
    }
   ],
   "source": [
    "def fibor(n):\n",
    "    if n== 0:\n",
    "        return(0)\n",
    "    elif n==1:\n",
    "        return(1)\n",
    "    else:\n",
    "        return(fibor(n-1)+fibor(n-2))\n",
    "print(fibor(5))\n",
    "print(fibor(30))"
   ]
  },
  {
   "cell_type": "markdown",
   "id": "bb430c0d",
   "metadata": {},
   "source": [
    "We should point out, however, that as intuitive and nice as recusive code can be, issues can arise.  Without care, and especially in a case like this, recursive function calls can grow exponentially.  "
   ]
  },
  {
   "cell_type": "code",
   "execution_count": 21,
   "id": "418c99c5",
   "metadata": {},
   "outputs": [
    {
     "name": "stdout",
     "output_type": "stream",
     "text": [
      "5\n",
      "15\n",
      "832040\n",
      "2692537\n"
     ]
    }
   ],
   "source": [
    "counter=0  # This will count the number of times we call fibor\n",
    "def fibor(n):\n",
    "    global counter # This will allow fibor() to reference the variable counter inside the function\n",
    "    counter+=1\n",
    "    if n== 0:\n",
    "        return(0)\n",
    "    elif n==1:\n",
    "        return(1)\n",
    "    else:\n",
    "        return(fibor(n-1)+fibor(n-2))\n",
    "print(fibor(5))\n",
    "print(counter)\n",
    "counter=0\n",
    "print(fibor(30))\n",
    "print(counter)"
   ]
  },
  {
   "cell_type": "markdown",
   "id": "0b6d31c7",
   "metadata": {},
   "source": [
    "We see that in computing $F_5$ we already made 15 calls to `fibor()`: in computing $F_{30}$ we made over 2 million recursive calls.  This means that the recursive function `fibor()` is unusable for even moderate values of $n$.\n"
   ]
  },
  {
   "cell_type": "code",
   "execution_count": 22,
   "id": "c2a23a03",
   "metadata": {},
   "outputs": [
    {
     "name": "stdout",
     "output_type": "stream",
     "text": [
      "832040\n",
      "2692537\n",
      "0.7627263069152832\n",
      "102334155\n",
      "331160281\n",
      "94.09751081466675\n"
     ]
    }
   ],
   "source": [
    "counter=0\n",
    "t=time.time()\n",
    "print(fibor(30))\n",
    "print(counter)\n",
    "print(time.time()-t)\n",
    "counter=0\n",
    "t=time.time()\n",
    "print(fibor(40))\n",
    "print(counter)\n",
    "print(time.time()-t)"
   ]
  },
  {
   "cell_type": "markdown",
   "id": "0bbcc74e",
   "metadata": {},
   "source": [
    "The problem here is this: considering $F_5$ for concreteness: $F_5$ calls $F_4$ and $F_3$.  $F_4$ calls $F_3$ and $F_2$.  Each of the two $F_3$ calls calls $F_2$ and $F_1$.  Each of the three $F_2$ calls calls $F_1$ and $F_0$: \n",
    "thus we get \n",
    "$$1 (F_5) + 1(F_4) + 2(F_3) + 3(F_2) + 5(F_1)+3(F_0) = 15 $$\n",
    "total calls to `fibor()`.  \n",
    "\n",
    "There are ways to avoid this, using \"memoization\" and \"decorators\" to ensure that python realizes that we have already called $F_k$ and doesn't spawn multiple subroutines calling the same function, but that is a more \n",
    "advanced topic than we are covering here."
   ]
  },
  {
   "cell_type": "markdown",
   "id": "cd1d6485",
   "metadata": {},
   "source": [
    "### Is there a better way?\n"
   ]
  },
  {
   "cell_type": "markdown",
   "id": "9ee29dba",
   "metadata": {},
   "source": [
    "One of the themes that we will stress along the way is that, just because we have an algorithm or an implentation \n",
    "of an algorithm which works, doesn't mean that we should stop there: there may be a better algorithm.  Perhaps one that runs faster, or uses less memory.  Sometimes we'll be able to find algorthms that will run _much_ faster, or use much less space!  Sometimes we can trade off using more space to use much less time."
   ]
  },
  {
   "cell_type": "markdown",
   "id": "d0314273",
   "metadata": {},
   "source": [
    "### Matrices and linear recurrences"
   ]
  },
  {
   "cell_type": "markdown",
   "id": "9dd48f5a",
   "metadata": {},
   "source": [
    "\n",
    "We will introduce matrices in a later unit, namely the Bohemian matrices unit; but many readers will have seen them anyway, and so for this subsection we will use them without defining them.  If matrices are unfamiliar to you, skip the unit (for now).\n",
    "\n",
    "Let's observe that we can rewrite the Fibonacci recurrence as a linear matrix-vector recurrence in a very simple way.  \n",
    "If we let $\\underline{v}_n$ denote the vector\n",
    "\n",
    "$$\n",
    "\\underline{v}_n = \n",
    "\\begin{bmatrix}  F_n\\\\ F_{n-1}\n",
    "\\end{bmatrix}\n",
    "$$\n",
    "\n",
    "and let $A$ denote the matrix \n",
    "\n",
    "$$\n",
    "A=\\begin{bmatrix}\n",
    "1 & 1 \\\\\n",
    "1 & 0\n",
    "\\end{bmatrix}\n",
    "$$\n",
    "\n",
    "then we can rewrite the Fibonacci recurrence as \n",
    "\n",
    "$$\\underline{v}_n = A \\underline{v}_{n-1}$$\n",
    "\n",
    "which can be followed back to deduce that \n",
    "\n",
    "$$\n",
    "\\underline{v}_n = A^n \\underline{v}_0.\n",
    "$$"
   ]
  },
  {
   "cell_type": "markdown",
   "id": "bb2690f6",
   "metadata": {},
   "source": [
    "This means that if we can compute powers of $A$ efficiently we can also compute $F_n$ efficiently.\n",
    "This brings us to the following important idea."
   ]
  },
  {
   "cell_type": "markdown",
   "id": "9d454ac6",
   "metadata": {},
   "source": [
    "### Iterated squaring to compute powers "
   ]
  },
  {
   "cell_type": "markdown",
   "id": "2f788493",
   "metadata": {},
   "source": [
    "Consider the expression $A^{25}$.  Naively, multiplying 25 copies of $A$ together takes 24 multiply operations: this can be significantly improved as follows: compute $A$, $A^2$, $A^4=(A^2)^2$, $A^8=A^4)^2$ and $A^{16}=(A^8)^2$.  This takes 4 multiplies.  Now compute $25=16+8+1$, so $A^{25}=A^{16}A^8A$ requiring two more multiplies, for a total of 6.\n",
    "\n",
    "In general, to compute $A^n$, we compute $A^{2^k}$ for $k$ up to $\\log_2 n$ using iterated squaring.  \n",
    "Then we multiply the appropriate subset of these iterated squares together by computing the binary expansion of $n$.  This takes a total of fewer than $2 \\log_2 n$ matrix multiplications.\n",
    "\n",
    "Now, we have replaced the complexity of adding enormous numbers with the complexity of multiplying enormous numbers, but far fewer times.  If you choose to study the complexity of multiplying two large integers together, there is a wonderful rabbit hole to go down, starting from naive multiplication of two $n$ bit integers, which \n",
    "takes $O(n^2)$ operations, to the beautiful Karatsuba' algorithm, with complexity about $O(n^{1.585})$, to the \n",
    "Schönhage-Strassen algorithm which has asymptotic complexity $O(n\\log n \\log\\log n)$, and the recent \n",
    "$O(n \\log n)$ algorithm of Harvey and van der Hoeven.\n",
    "\n",
    "If we use these more sophisiticated methods, we can obtain an algorithm for computing $F_n$ of order about \n",
    "$O(n \\log n)$,  We can't expect much better than that, since even outputting the digits of $F_n$ is of order \n",
    "$O(n)$."
   ]
  },
  {
   "cell_type": "markdown",
   "id": "a5b4c83d",
   "metadata": {},
   "source": [
    "### Exercise: \n",
    "Figure out how to implement iterated squaring to compute $A^51$ by a sequence of python statements.  Then code a function which will take $n$ as an input, and return $A^n$.  You should only need to keep one expression of the \n",
    "form $A^{2^k}$ around at a time if you are careful.  Hint: find the low order bits of $n$ first."
   ]
  },
  {
   "cell_type": "markdown",
   "id": "0d34b388",
   "metadata": {},
   "source": [
    "it is clear at this point that what limits our computation of big Fibonacci numbers is the size of the results. What if we only want to compute the final few digits of $F_n$?  Now the size of the output (and of the intermediate computations) is kept small, and the limiting factor is the number of squarings of matrices we are going to perform.  Consequently it is now feasible to take something like $n=7^{12345678}$ and compute the \n",
    "final 100 digits of $F_n$.\n",
    "\n"
   ]
  },
  {
   "cell_type": "markdown",
   "id": "ee0ea4ba",
   "metadata": {},
   "source": [
    "### Again, is there a better way?\n",
    "We can revisit the question: is there a better way to compute this?"
   ]
  },
  {
   "cell_type": "markdown",
   "id": "7205ff04",
   "metadata": {},
   "source": [
    "### Hard problems and Open problems\n",
    "\n",
    "Fibonacci numbers have been studied for so long that (surely?) everything must be known about them by now?  There are books and books and papers (and a whole Journal) about them, after all.\n",
    "\n",
    "Um, no.  See for instance [this Twitter thread](https://twitter.com/_onionesque/status/1541539643312799751?s=20&t=JgTNa-u1U1Mk0YDjBL4FKA) which links to papers such as the 1999 paper [Random Fibonacci sequences and the number 1:13198824...](https://doi.org/10.1090/S0025-5718-99-01145-X) by Divakumar Viswanath, in the journal Mathematics of Computation (which is a very highly-regarded journal, by the way).  \n",
    "\n",
    "The Twitter thread also links to the paper [Probabilizing Fibonacci numbers](https://statweb.stanford.edu/~cgates/PERSI/papers/probabilizing-fibonacci.pdf) by Persi Diaconis, which includes the following paragraph in its introduction:\n",
    "\n",
    "__Fibonacci numbers have a \"crank math\" aspect but they are also serious stuff&mdash;from sunflower\n",
    "seeds through Hilbert's tenth problem. My way of understanding anything is to ask, \"What does\n",
    "a typical one look like?\" Okay, what does a typical Fibonacci number look like? How many are\n",
    "even? What about the decomposition into prime powers? Are there infinitely many prime Fibonacci\n",
    "numbers? I realize that I don't know and, it turns out, for most of these questions, nobody knows.__\n",
    "\n",
    "That paper is advanced indeed, and casually uses tools from number theory, probability theory, and calculus to answer _some_ of those hard problems.  We refer to this paper here not as a reference for this OER, but rather to say that even the experts have a lot to learn about Fibonacci numbers.\n"
   ]
  },
  {
   "cell_type": "markdown",
   "id": "b8fcaca2",
   "metadata": {},
   "source": [
    "### Notes and References, and some digressions (with exercises)"
   ]
  },
  {
   "cell_type": "markdown",
   "id": "e769ad7c",
   "metadata": {},
   "source": [
    "#### History of the so-called Fibonacci numbers, or, should they be called Pingala numbers instead?"
   ]
  },
  {
   "cell_type": "markdown",
   "id": "02260a77",
   "metadata": {},
   "source": [
    "#### Who was Binet, and what's going on with that formula?\n",
    "\n",
    "Binet's formula says that\n",
    "\n",
    "$$\n",
    "F_n = \\frac{1}{\\sqrt{5}} \\phi^n - \\frac{1}{\\sqrt{5}}\\left( - \\frac{1}{\\phi} \\right)^n\n",
    "$$\n",
    "\n",
    "where $\\phi = (1+\\sqrt5)/2$ is the golden ratio.  Let's do some hand computation and see if we can figure out what is going on.  This is something one of us did (by hand, yes) and has two purposes for this OER: first, to show you that we don't know everything off the bat and have to figure some things out as we go, just as you do, and the other is to supply some jumping-off points for your own noodling with Fibonacci numbers.\n",
    "\n",
    "First we do the basic things: plugging in $n=0$ gives us, sure enough, $F_0 = \\frac{1}{\\sqrt{5}} \\phi^0 - \\frac{1}{\\sqrt{5}}\\left( - \\frac{1}{\\phi} \\right)^0 = \\frac{1}{\\sqrt{5}}  - \\frac{1}{\\sqrt{5}} = 0$.  Good.  To do the case $n=1$ we will have to actually compute $-1/\\phi$ and this can be done by\n",
    "\n",
    "$$\n",
    "\\frac{1}{\\phi} = \\frac{1}{(1+\\sqrt5)/2} = \\frac{2}{1+\\sqrt5} = \\frac{2}{(1+\\sqrt5)}\\cdot\\frac{(1-\\sqrt5)}{(1-\\sqrt5)}\n",
    "$$\n",
    "\n",
    "where we have multiplied by the factor $1 = \\frac{(1-\\sqrt5)}{(1-\\sqrt5)}$ because, looking ahead, the product $(1+\\sqrt5)(1-\\sqrt5)$ is going to become a difference of squares and simplify to $1 - 5 = -4$.  This rationalizes $1/\\phi$ to be\n",
    "\n",
    "$$\n",
    "\\frac{1}{\\phi} = \\frac{2}{-4}\\cdot(1-\\sqrt5) = \\frac{-1+\\sqrt5}{2} \\approx -0.618\\ldots.\n",
    "$$\n",
    "\n",
    "With that done, one can work patiently through to get\n",
    "\n",
    "$$\n",
    "F_1 = \\frac{1}{\\sqrt5}\\left( \\frac{1+\\sqrt5}{2} \\right) - \\frac{1}{\\sqrt5}\\left( \\frac{1-\\sqrt5}{2} \\right)\n",
    "$$\n",
    "\n",
    "and, as if by magic, the $1/2$s cancel, the $\\sqrt5$s combine (and then the factor of 2 cancels) and the factor of $\\sqrt5$ cancels and we get $F_1 =  1$.\n",
    "\n",
    "A lot of work to get something that we already knew.  But, we persist.  We compute $\\phi^2$ and $1/\\phi^2$ (yes, by hand, still, because we're on a quest to find out what is going on, and at this point in the OER computation by computers is still a question and not an answer) and we see\n",
    "\n",
    "$$\n",
    "\\phi^2 = \\frac{(1+\\sqrt5)^2}{2^2} = \\frac{(1+\\sqrt5)(1+\\sqrt5)}{4} = \\frac{ 1 + 2\\sqrt5 + 5}{4} = \\frac{6 + 2\\sqrt5}{4} = \\frac{3+\\sqrt5}{2}.\n",
    "$$\n",
    "\n",
    "Similarly,\n",
    "\n",
    "$$\n",
    "\\left(-\\frac{1}{\\phi}\\right)^2 = (-\\phi)^{-2} = \\frac{(1-\\sqrt5)^2}{2^2} = \\frac{(1-\\sqrt5)(1-\\sqrt5)}{4} = \\frac{ 1 - 2\\sqrt5 + 5}{4} = \\frac{6 - 2\\sqrt5}{4} = \\frac{3-\\sqrt5}{2}.\n",
    "$$\n",
    "\n",
    "Now, carefully tracking the minus signs  (yes this is annoying), we find that Binet's formula again gives us what we knew:\n",
    "\n",
    "$$\n",
    "F_2 = \\frac{1}{\\sqrt5}\\left( \\frac{3+\\sqrt5}{2}\\right) - \\frac{1}{\\sqrt5}\\left( \\frac{3-\\sqrt5}{2}\\right) = 1.\n",
    "$$\n",
    "\n",
    "We can do one more by hand, but the desire to look for a trick to simplify all this tedium has already surfaced (and yes, there is a nice trick, but let's get a little more data).  We compute both $\\phi^3$ and $(-1/\\phi)^3$ by hand to get\n",
    "\n",
    "$$\n",
    "\\phi^3 = \\phi^2\\cdot\\phi = \\left(\\frac{3+\\sqrt5}{2}\\right)\\cdot\\left(\\frac{1+\\sqrt5}{2}\\right) = \\left( \\frac{3+4\\sqrt5 + 5}{4} \\right) = \\frac{4+2\\sqrt5}{2}\n",
    "$$\n",
    "\n",
    "and\n",
    "\n",
    "$$\n",
    "\\left(-\\frac{1}{\\phi}\\right)^3 = \\left(\\frac{3-\\sqrt5}{2}\\right)\\cdot\\left(\\frac{1-\\sqrt5}{2}\\right) = \\left( \\frac{3-4\\sqrt5 + 5}{4} \\right) = \\frac{4-2\\sqrt5}{2}.\n",
    "$$\n",
    "\n",
    "Combining these using Binet's formula gives us $F_3 = 2$, which again we knew.\n",
    "\n",
    "(And before you accuse us of cheating, RMC says not only did he do all the computations by hand, he typed out the Markdown by hand, too, so there.)\n",
    "\n",
    "From this, we conjectured (and then proved for ourselves using induction) that we may write $\\phi^n = (a_n + b_n\\sqrt5)/2$ all the time, where both $a_n$ and $b_n$ are positive integers; more than that, both $a_n$ and $b_n$ are even, or both $a_n$ and $b_n$ are odd, we never mix an odd $a_n$ with an even $b_n$ or vice-versa. We found a nicer rule for computing the $a_n$ and $b_n$, namely\n",
    "\\begin{align*}\n",
    "a_{n+1} =& \\frac{ a_n + 5b_n}{2} \\\\\n",
    "b_{n+1} =& \\frac{ a_n + b_n}{2}.\n",
    "\\end{align*}\n",
    "Those are fun things to prove, if you like to prove things by induction.  Here are the first few $a$s and $b$s.\n",
    "\n",
    "| n | $a_n$ | $b_n$ |\n",
    "| :---: | -------: | -------: |\n",
    "| 0 |   2   |  0    |\n",
    "| 1 |   1   |  1    |\n",
    "| 2 |   3   |  1    | \n",
    "| 3 |   4   |  2    |\n",
    "| 4 |   7   |  3    |\n",
    "| 5 |  11   |  5    |\n",
    "| 6 |  18   |  8    |\n",
    "| 7 |  29   | 13    |\n",
    "| 8 |  47   | 21    |\n",
    "\n",
    "We then thought to run this table _backwards_ (because we need $\\phi^{-n}$) and found\n",
    "\n",
    "| n | $a_n$ | $b_n$ |\n",
    "| :---: | :---: | :---: |\n",
    "| 0  |   2    |  0    |\n",
    "| -1 |   -1   |  1    |\n",
    "| -2 |   3    |  -1   | \n",
    "| -3 |   -4   |  2    |\n",
    "| -4 |   7    |  -3   |\n",
    "| -5 |  -11   |  5    |\n",
    "\n",
    "\n",
    "This looks like just a simple set of arithmetic computations.  It looks kind of redundant and useless, because we see that the $b_n$'s are really Fibonacci numbers themselves (indeed $b_n = F_n$).  One can then notice that the $a_n$s are also solutions of the Fibonacci recurrence relation, that is $a_{n+1} = a_n + a_{n-1}$, but with different initial conditions: $a_0 = 2$ and $a_1 = 1$.  Then we notice that it seems to show that $F_{-n} = (-1)^{n-1} F_n$ is a consistent definition (consistent with Binet's formula, which also gives $F_{-n} = (-1)^{n-1}F_n$) of Fibonacci numbers of negative index, and so we might wonder further what a Fibonacci number of _complex_ index might look like. [Here's Stand-Up Maths on the subject](https://youtu.be/ghxQA3vvhsk).  \n",
    "\n",
    "This collection also gives an example of a different sort of numbers, namely the set of all numbers of the form $a+b\\sqrt5$.  As we saw above, when we multiply two numbers of this sort, we get something of the same kind (in fact we have a bit more special here because of the one-half in everything, which needs the \"both even\" or \"both odd\" rule to help us out with). \n",
    "\n",
    "\n",
    "By the way, [Eric Weisstein says that](https://mathworld.wolfram.com/BinetsFibonacciNumberFormula.html) although Binet did publish his formula in 1843, at least Euler, Daniel Bernoulli, and Abraham DeMoivre knew the formula a century earlier.  [Here is the Wikipedia article on Binet](https://en.wikipedia.org/wiki/Jacques_Philippe_Marie_Binet) and a more detailed biography can be found at the [MacTutor site](https://mathshistory.st-andrews.ac.uk/Biographies/Binet/).  Among other things, we learn that the rule for matrix multiplication that is used today was first articulated by Binet.\n",
    "\n",
    "Obviously, using these $a_n$ and $b_n$ to compute $\\phi^n$ as a step to computing Fibonacci numbers \"begs the question\". But at least it sort of explains how this crazy-looking formula works.\n",
    "\n",
    "Exercise: write down some questions about Binet's formula and Fibonacci numbers."
   ]
  },
  {
   "cell_type": "markdown",
   "id": "4fa01519",
   "metadata": {},
   "source": [
    "#### The curious number 10/89, and some other curious numbers\n",
    "\n",
    "We begin with a pattern-detection problem.  Can you predict what is the next number in the sequence $10/89$, $100/9899$, $1000/998999$, $\\ldots$?  Stop reading now if you want to try to find it yourself.  We see a sort of weird pattern there: use the numbers $8$, $9$, and $10$ to get $10/89$, and use the numbers $98$, $99$, and $100$ to get $100/9899$, and similarly $998$, $999$, and $1000$ to get the final one.  Then the next number would be $10000/99989999$.  Of course there are other patterns, but that's the one we wanted.\n",
    "\n",
    "What has this got to do with Fibonacci numbers?  Look at the decimal expansion!  This occurs in several places on the internet, by the way (at least the $10/89$ one does, sometimes as $1/89$).  We get\n",
    "\n",
    "$$\n",
    "\\frac{10}{89} = 0.112359\\ldots\n",
    "$$\n",
    "\n",
    "which starts off with a copy of the Fibonacci sequence, up until the 9.  In fact, if you are a bit careful and use more digits you see that the 9 is an 8 followed by a 13 but the 1 in the tens place in the 13 has to be added to the 8, messing up the pattern.  This seems _weird_.\n",
    "\n",
    "It gets weirder. Look at the next one:\n",
    "\n",
    "$$\n",
    "\\frac{100}{9899} = 0.0101020305081321345590\\ldots\n",
    "$$\n",
    "\n",
    "where, sure enough, the $90$ where we expect an $89$ arises because of a collision with the $144$ coming next.\n",
    "\n",
    "Try the next one: you will see that it works perfectly up until a collision with the first four-digit Fibonacci number.  [Yes, there is a math stack exchange post on this subject]([https://math.stackexchange.com/questions/776855/fibonacci-numbers-from-998999).  \n",
    "\n",
    "Can this be a coincidence, or is it the start of something deeper?  This is an example of what is known as a \"leading question\", of course.  _Of course_ this is the start of something deeper: a very interesting subject known as \"Generating Functions\" which is deeply connected to the calculus topic of power series.  We don't want to step on the toes of anyone's Calculus course, or combinatorics or probability courses for that matter, but we feel that we absolutely have to give the Generating Function that is lying behind these seemingly crazy coincidences.\n",
    "\n",
    "Consider the function\n",
    "\n",
    "$$\n",
    "G(z) = F_0 + F_1 z + F_2 z^2 + F_3 z^3 + \\cdots\n",
    "$$\n",
    "\n",
    "where we take the $\\cdots$ to mean that we take a lot of terms---how many terms?  \"Enough\".  In your Calculus class you will learn that in this case this makes sense even when you take an infinite number of terms (provided $|z| < 1/\\phi$) but we really don't need that here.  What we do need is a closed form for $G(z)$, and some sleight-of-hand algebra shows us what it _must_ be, if it is anything at all.  Multiply $G(z)$ by $z$ and by $z^2$ and add them up with the following signs:\n",
    "\\begin{align}\n",
    "G(z) = F_0 + F_1 z +& F_2z^2 + F_3z^3 + \\cdots + F_{n}z^{n} + \\cdots \\nonumber\\\\\n",
    "-zG(z) =      -F_0 z -& F_1z^2 - F_2z^3 - \\cdots - F_{n-1}z^{n} - \\cdots \\nonumber\\\\\n",
    "-z^2G(z) =         -& F_0 z^2 - F_1z^3 - \\cdots - F_{n-2}z^n - \\cdots\n",
    "\\end{align}\n",
    "When we add these, column by column, every term of order $z^2$ or higher cancels (because of the Fibonacci number definition), and we are left with\n",
    "\n",
    "$$\n",
    "G(z)(1-z-z^2) = F_0 + (F_1-F_0)z = z\n",
    "$$\n",
    "\n",
    "or, on division,\n",
    "\n",
    "$$\n",
    "G(z) = \\frac{z}{1-z-z^2} .\n",
    "$$\n",
    "\n",
    "Since $F_0 = 0$ we have $G(z) = F_1 z + F_2 z^2 +\\cdots$. The function $G(z)$ is called a _generating function_ for the Fibonacci numbers.  Generating functions are extremely useful in a number of places in mathematics, especially in random processes, but we're not going to say anything more here.  You can check that the computation is correct by computing the _Taylor series_ of this function using your favourite computer algebra system (or, if you like, by hand---using partial fractions just gets you Binet's formula back again, by the way).\n",
    "\n",
    "What's the relevance here?  Put in $z=1/10$ and we find that\n",
    "\n",
    "$$\n",
    "G(z) = G(\\frac1{10}) = \\frac{10}{89}\n",
    "$$\n",
    "\n",
    "and\n",
    "\n",
    "$$\n",
    "G(z) = G(\\frac1{100}) = \\frac{100}{9899}\n",
    "$$\n",
    "\n",
    "and so on.  In terms of the defining sum, we have the _decimal expansion_ (well, until the first collision)\n",
    "\n",
    "$$\n",
    "G(\\frac1{10}) = F_1 \\times\\frac{1}{10} + F_2\\times\\frac{1}{10^2} + F_3\\times\\frac{1}{10^3} + \\cdots\n",
    "$$\n",
    "\n",
    "showing that the connection between Fibonacci numbers and these fractions is real, not just a coincidence.\n",
    "\n",
    "Some mysteries remain.  We know that these fractions must _repeat_ in decimal form.  But Fibonacci numbers don't repeat! Or do they? What's going on, here?  Other questions that might occur to you include \"Does this work in other bases, perhaps base $16$?\"  And does using the generating function give us an efficient way to compute Fibonacci numbers?\n",
    "\n",
    "And (which puzzles us still) why does the $8-9-10$, $98-99-100$, etc pattern show up?  Does something like that happen for other bases?"
   ]
  },
  {
   "cell_type": "markdown",
   "id": "63fb4df0",
   "metadata": {},
   "source": [
    "#### Web references for Python programming\n",
    "\n",
    "#### Web references for Jupyter notebooks\n",
    "\n",
    "#### Web references for Jupyter Books\n",
    "\n",
    "#### Books about Fibonacci numbers\n",
    "\n",
    "#### Accessible papers about Fibonacci numbers"
   ]
  }
 ],
 "metadata": {
  "kernelspec": {
   "display_name": "Python 3 (ipykernel)",
   "language": "python",
   "name": "python3"
  },
  "language_info": {
   "codemirror_mode": {
    "name": "ipython",
    "version": 3
   },
   "file_extension": ".py",
   "mimetype": "text/x-python",
   "name": "python",
   "nbconvert_exporter": "python",
   "pygments_lexer": "ipython3",
   "version": "3.8.5"
  }
 },
 "nbformat": 4,
 "nbformat_minor": 5
}
