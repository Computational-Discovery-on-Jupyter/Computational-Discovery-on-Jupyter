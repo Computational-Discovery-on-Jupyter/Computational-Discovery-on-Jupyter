{
 "cells": [
  {
   "cell_type": "markdown",
   "metadata": {},
   "source": [
    "# Mandelbrot Polynomials and Matrices\n",
    "\n",
    "```{image} ../Figures/Mandelbrot/explosion32comp.gif\n",
    ":height: 400px\n",
    ":alt: Exploding Mandelbrot 32\n",
    ":align: center\n",
    "```"
   ]
  },
  {
   "cell_type": "markdown",
   "metadata": {},
   "source": [
    "## A note to the student/reader\n",
    "\n",
    "This unit uses some ideas of the late [Benoit Mandelbrot](https://en.wikipedia.org/wiki/Benoit_Mandelbrot) and some known facts about the so-called _Mandelbrot Set_, together with some of our own ideas, to help you to learn the following:\n",
    "\n",
    "1. A bit more Python programming, including more practice with the use of _numerical libraries_ from NumPy, _iteration_ and _recursion_; some new things, such as _loop invariants_, _automatic differentiation_, _symbolic computation_, and a bit more about graphics.\n",
    "2. A bit more about polynomials: the _cubic formula_ (we won't need the quartic formula, and even our use of the cubic formula is a bit contrived; but we think it's fun), the _cost of numerical solution of polynomials_ (we will point you to the current numerical champion polynomial solver, [MPSolve](https://en.wikipedia.org/wiki/MPSolve)), and the rather necessary-to-know notions of _numerical stability_ and _conditioning_.  Most of these topics are not taught as thoroughly as they should be, in one's first numerical analysis course; so this material here should strengthen the results when you do encounter them.\n",
    "3. The surprising use of _eigenvalues_ to find roots of polynomials.  The first treatment of eigenvalues (typically in a Linear Algebra course, even though the problem is not, strictly speaking, linear) usually runs the other way around, and defines the eigenvalues of a matrix in terms of the _characteristic polynomial_ of the matrix. Indeed, we will teach you a concept not in the textbooks: namely, the concept of a _minimal height companion matrix_ and we will show you one such for the Mandelbrot polynomials.\n",
    "4. A bit more about _dynamical systems_, especially about _iteration_ and _composition_.\n",
    "5. An excellent approximate formula for the _largest magnitude root_ of the Mandelbrot polynomial.\n",
    "6. An honest-to-goodness analytic solution to the Mandelbrot iteration (this is a very new result, published only in 2021), valid for all $c$ _outside_ the Mandelbrot set.\n",
    "7. That we don't know everything about Mandelbrot polynomials and matrices, and that you might be able to answer some open questions."
   ]
  },
  {
   "cell_type": "markdown",
   "metadata": {},
   "source": [
    "## A note to the Instructor\n",
    "\n",
    "The students tend to really like this unit.  Mandelbrot wrote so well that it is quite possible to ask students to read his papers (especially his math education papers).  Read them yourself, if you haven't already.  \n",
    "\n",
    "We have put some of our own research into this unit.  We believe that the results we have included are accessible (and of course we believe that they are interesting).  There are some open problems here that we believe some students (or you!) may be able to close for us.  At the time of writing, the most itching one is whether or not the Mandelbrot polynomials are unimodal.  This seems like it ought to be easy, but we couldn't do it.\n",
    "\n",
    "The notion of iteration (discrete dynamical system) is not, apparently, of interest to every mathematician.  But it is an extremely powerful idea for computation, and there are many open mathematical problems associated with it.  And it is natural to introduce in a computational context.\n",
    "\n",
    "Rounding errors don't play a terribly large role in this unit, although they do push us to eigenvalue methods and away from polynomials that have large coefficients.  This may be problematic for some students to grasp."
   ]
  },
  {
   "cell_type": "markdown",
   "metadata": {},
   "source": [
    "## The Mandelbrot Set and Mandelbrot Polynomials\n",
    "\n",
    "The [Wikipedia article on the Mandelbrot Set](https://en.wikipedia.org/wiki/Mandelbrot_set) is pretty comprehensive, and readable. We'll sum up the definition here, and try to flesh it out a bit.  The definition is based on the following, apparently very simple, function:\n",
    "\\begin{equation*}\n",
    "f(z) = z^2 + c \n",
    "\\end{equation*}\n",
    "This is apparently only a simple quadratic in $z$, and depends linearly on the constant $c$.  We now consider _what happens when we repeatedly apply this function_, starting at 0 (an apparently simple point).  That is, put \n",
    "\\begin{equation*}\n",
    "z_0 = 0\n",
    "\\end{equation*}\n",
    "and then define $z_k$ for $k=1$, $k=2$, $k=3$, and so on in turn by the iterative formula (or recursive formula, or _dynamical_ formula)\n",
    "\\begin{equation*}\n",
    "z_{n+1} = f(z_n) = z_n^2 + c .\n",
    "\\end{equation*}\n",
    "This gives us $z_1 = z_0^2 + c = 0^2 + c = c$, and then subsequently $z_2 = z_1^2 + c = c^2 + c$, and then $z_3 = (c^2+c)^2 + c = c^4 + 2c^3 + c^2 + c$, and so on."
   ]
  },
  {
   "cell_type": "markdown",
   "metadata": {},
   "source": [
    "```{note}Pass the parcel, again\n",
    "\n",
    "In this unit one could play \"Pass the Parcel\" again in class, with the initiator choosing the the value of $c$ and starting with $z_0 = 0$ so $z_1 = c$.  Passing each successive $z_k$ on to the next person to compute $z_{k+1}$ makes the connection with the activity from Continued Fractions.  Indeed, that game could be played with Newton iteration or Halley iteration for rootfinding, and for the iterations used in the Fractals unit.  It's a bit harder to find a \"pass the parcel\" game for Bohemian matrices but it could be done, if you wanted.  In the next unit, on the Chaos Game Representation, there is a better game to play, but it is obviously related to this one.\n",
    "```"
   ]
  },
  {
   "cell_type": "markdown",
   "metadata": {},
   "source": [
    "Several important things are going on here: this looks simple, and in one sense it is, but we will see some surprising things from this.  This is an example of a _nonlinear dynamical system_ (perhaps the \"most famous\" example of a nonlinear dynamical system).  We are repeatedly composing the function $f(z) = z^2+c$ with itself: $z_2 = f(c)$ and $z_3 = f(f(c))$ and $z_4 = f(f(f(c))$. Sometimes repeated composition is written with a power in brackets: $f^{(n)}(c)$ means $f(f(f(\\cdots(f(c))\\cdots)))$ where there are $n$ copies of $f$ used; this is where the pernicious notation $f^{(-1)}(c)$ comes from, by the way. We will try to avoid this confusing notation.  Several things can be deduced about repeated composition.  For instance, the result of composing two polynomials together is another polynomial.  If $f(c)$ is of degree $m$ and $g(c)$ is of degree $n$ then $f(g(c))$ is of degree $mn$, and so is $g(f(c))$.  If we were working with non-polynomials then we would also have to worry about matching up the domains and ranges, but polynomials are great because they always give a finite result output for any finite value input, and so composition always works.\n",
    "\n",
    "We have written $z_3$ out above as an explicit degree $4$ polynomial (in the variable $c$), but if we actually want to compute a numerical value of $z_3$ given a numerical value for $c$ (say, $c=-1.2$) then it turns out to be better in several ways to just use the iterative formula itself and not the explicit polynomial. This is true even though we could write that explicit polynomial somewhat more efficiently in what is known as [Horner form](https://en.wikipedia.org/wiki/Horner%27s_method): $z_3 = c\\cdot(1 + c\\cdot(1 + c\\cdot(2 + c)))$, which can be evaluated using only three floating-point multiplications and three floating-point additions. Using the iterative formula directly, though, there is no work to compute $z_0$, there is no floating-point work to compute $z_1 = c$, there is one multiplication and one addition to compute $z_2$, and one more multiplication and one more addition to compute $z_3$, showing that $z_3$ can be computed in only two \"flops\" instead of three.  Note: one \"flop\" is _defined to be_ one floating-point multiplication (or division) together with one floating-point addition (or subtraction).  It's not a fine-tuned measure; it was meant for use in older analyses of the cost of computation.  On modern architectures, the notion is not really all that helpful; but you can see here that no matter what, the cost is less if we use the iteration directly.  This advantage only increases as the iteration proceeds: to compute $z_4$ you only need one more \"flop,\" i.e. $3$ flops, whereas from its polynomial form you need $2^3 = 8$ flops (even ignoring the work that has to be done simply to write the polynomial out).  For $z_{30}(c)$ the iteration takes only 29 flops; but the explicit polynomial is degree $2^{29}$ and would take $2^{29}$ flops to evaluate (actually, it's worse: we would have to use multiple precision to deal with the big integer coefficients).  Thus, somehow, the iteration has _compressed_ a very high degree polynomial into a very efficient box."
   ]
  },
  {
   "cell_type": "markdown",
   "metadata": {},
   "source": [
    "(MandelbrotActivity-1)="
   ]
  },
  {
   "cell_type": "markdown",
   "metadata": {},
   "source": [
    "```{admonition} Mandelbrot Activity 1\n",
    ":class: tip\n",
    "Read the Wikipedia entry on the Mandelbrot set, and the entry on Mandelbrot.  Mandelbrot's _educational_ books and papers are amazing, and amazingly clearly written.  If you don't come back from this activity, well, at least you left going in a good direction.\n",
    "{ref}`[Our thoughts] <MandelbrotActivityReport-1>`\n",
    "```"
   ]
  },
  {
   "cell_type": "markdown",
   "metadata": {},
   "source": [
    "### Back to Mandelbrot iteration with a symbolic c\n",
    "\n",
    "Another important thing to notice in the above is that by leaving $c$ symbolic, we have turned Mandelbrot's iteration formula (or recursion formula) into some kind of generator for certain polynomials.  These are called (naturally enough) _Mandelbrot polynomials_.  We list the first few here, or at least their coefficients."
   ]
  },
  {
   "cell_type": "code",
   "execution_count": 1,
   "metadata": {},
   "outputs": [
    {
     "name": "stdout",
     "output_type": "stream",
     "text": [
      "0.0\n",
      "0.0 + 1.0 x**1\n",
      "0.0 + 1.0 x**1 + 1.0 x**2\n",
      "0.0 + 1.0 x**1 + 1.0 x**2 + 2.0 x**3 + 1.0 x**4\n",
      "0.0 + 1.0 x**1 + 1.0 x**2 + 2.0 x**3 + 5.0 x**4 + 6.0 x**5 + 6.0 x**6 +\n",
      "4.0 x**7 + 1.0 x**8\n",
      "0.0 + 1.0 x**1 + 1.0 x**2 + 2.0 x**3 + 5.0 x**4 + 14.0 x**5 + 26.0 x**6 +\n",
      "44.0 x**7 + 69.0 x**8 + 94.0 x**9 + 114.0 x**10 + 116.0 x**11 +\n",
      "94.0 x**12 + 60.0 x**13 + 28.0 x**14 + 8.0 x**15 + 1.0 x**16\n"
     ]
    }
   ],
   "source": [
    "import numpy as np\n",
    "from numpy.polynomial import Polynomial as Poly\n",
    "N = 8\n",
    "\n",
    "z0 = Poly([0])\n",
    "print( z0 )\n",
    "c = Poly([0,1]) # We can do \"symbolic polynomial arithmetic\" just with these coefficient vectors in Python\n",
    "z1 = z0*z0 + c\n",
    "print( z1 )\n",
    "z2 = z1*z1 + c\n",
    "print( z2 )\n",
    "z3 = z2*z2 + c\n",
    "print( z3 )\n",
    "z4 = z3*z3 + c\n",
    "print( z4 )\n",
    "z5 = z4*z4 + c\n",
    "print( z5 )"
   ]
  },
  {
   "cell_type": "markdown",
   "metadata": {},
   "source": [
    "Translating that Python notation for polynomials back into something standard, we have\n",
    "\\begin{align}\n",
    "z_0 &= 0 \\\\\n",
    "z_1 &= c \\\\\n",
    "z_2 &= c + c^2 \\\\\n",
    "z_3 &= c + c^2 + 2c^3 + c^4\\\\\n",
    "z_4 &= c + c^2 + 2c^3 + 5c^4 + 6c^5 + 6c^6 + 4c^7 + c^8 \\\\\n",
    "z_5 &= c + c^2 + 2c^3 + 5c^4 + 14c^5 + 26c^6 + 44c^7 + 69c^8 + 94c^9 + 114c^{10} + 116c^{11} + 94c^{12} + 60c^{13} + 28c^{14} + 8c^{15} + c^{16} \n",
    "\\end{align}"
   ]
  },
  {
   "cell_type": "markdown",
   "metadata": {},
   "source": [
    "The Mandelbrot set is _defined to be_ the set of $c$ for which this iteration remains bounded for all $n$: that is, everything _except_ those values of $c$ for which $|z_n| \\to \\infty$.  That's a weird sort of definition, and you have to first reassure yourself that there really are values of $c$ for which the $z_n$ do _not_ remain bounded.  Indeed, almost the first thing you would try was $c=1$: then $z_0 = 0$, $z_1 = 1$, $z_2 = 2$, $z_3 = 5$, $z_4 = 26$, and so on; each succeeding number is one more than the square of the previous, and this goes to infinity rapidly, in some sense."
   ]
  },
  {
   "cell_type": "markdown",
   "metadata": {},
   "source": [
    "## Some Activities with Mandelbrot polynomials with a more mathematical flavour"
   ]
  },
  {
   "cell_type": "markdown",
   "metadata": {},
   "source": [
    "(MandelbrotActivity-2)="
   ]
  },
  {
   "cell_type": "markdown",
   "metadata": {},
   "source": [
    "```{admonition} Mandelbrot Activity 2\n",
    ":class: tip\n",
    "Prove by induction that the degree of the $n$th Mandelbrot polynomial is $2^{n-1}$, and that the leading coefficient is $1$.\n",
    "{ref}`[Our proof] <MandelbrotActivityReport-2>`\n",
    "```"
   ]
  },
  {
   "cell_type": "markdown",
   "metadata": {},
   "source": [
    "(MandelbrotActivity-3)="
   ]
  },
  {
   "cell_type": "markdown",
   "metadata": {},
   "source": [
    "```{admonition} Mandelbrot Activity 3\n",
    ":class: tip\n",
    " Prove that $c=-2$ and $c=0$ are both in the Mandelbrot set. Show that all zeros of Mandelbrot polynomials give _periodic orbits_ under the Mandelbrot iteration and are thus in the Mandelbrot set.\n",
    "{ref}`[Our proofs] <MandelbrotActivityReport-3>`\n",
    "```"
   ]
  },
  {
   "cell_type": "markdown",
   "metadata": {},
   "source": [
    "(MandelbrotActivity-4)="
   ]
  },
  {
   "cell_type": "markdown",
   "metadata": {},
   "source": [
    "```{admonition} Mandelbrot Activity 4\n",
    ":class: tip\n",
    "Is $i = \\sqrt{-1}$ in the Mandelbrot set?\n",
    "{ref}`[Yes] <MandelbrotActivityReport-4>`\n",
    "```"
   ]
  },
  {
   "cell_type": "markdown",
   "metadata": {},
   "source": [
    "(MandelbrotActivity-5)="
   ]
  },
  {
   "cell_type": "markdown",
   "metadata": {},
   "source": [
    "```{admonition} Mandelbrot Activity 5\n",
    ":class: tip\n",
    " Prove that the Mandelbrot polynomials are _unimodal_.  At the time we write this, this question is open: solve it, and you could publish a paper with your proof ([Maple Transactions](https://www.mapletransactions.org) would be a good place).  The word \"unimodal\" just means that the size of the coefficients increases to a peak, and then decays again.  As in $z_4$, the peak might be attained by two coefficients, not just one.  Seriously, we don't know how to prove this.  We think it's true, though.\n",
    "{ref}`[We've got nothing.] <MandelbrotActivityReport-5>`\n",
    "```"
   ]
  },
  {
   "cell_type": "markdown",
   "metadata": {},
   "source": [
    "(MandelbrotActivity-6)="
   ]
  },
  {
   "cell_type": "markdown",
   "metadata": {},
   "source": [
    "```{admonition} Mandelbrot Activity 6\n",
    ":class: tip\n",
    "Solve $z_3 = 0$ by hand, as follows.  First, divide out the visible root, $c=0$, to get the cubic equation $0 = 1 + c + 2c^2 + c^3$.  Then put $c = \\xi - 2/3$ so $c^3 = (\\xi -2/3)^3 = \\xi^3 - 2\\xi^2 + 4\\xi/9 - 8/27$ which will transform the equation into a cubic in $\\xi$ of the form $0 = q + p\\xi + \\xi^3$.  Then put $\\xi = u + v$ (introducing two new variables seems like the opposite of progress, but trust us, it will help).  This transforms the equation to $(u+v)^3 + p(u+v) + q = 0$, or $u^3 + 3uv(u+v) + p(u+v) + q = 0$.  Show that if you can find $u$ and $v$ that simultaneously solve $3uv + p = 0$ and $u^3 + v^3 + q = 0$ then you can solve the original equation.  Do so.  Your formula at the end should give you three, and only three, roots. Write out your answer explicitly, and compare it with (say) the answer from Wolfram Alpha. \n",
    "{ref}`[Our derivation] <MandelbrotActivityReport-6>`\n",
    "```"
   ]
  },
  {
   "cell_type": "markdown",
   "metadata": {},
   "source": [
    "## Programming Mandelbrot polynomial iterations\n",
    "Let us write a short program to evaluate Mandelbrot polynomials of arbitrary order.  This code shows several features: how to define a procedure (function); how to set a type for a parameter (more of a hint than a requirement, sadly); the use of keyword arguments; and the use of comments."
   ]
  },
  {
   "cell_type": "code",
   "execution_count": 2,
   "metadata": {},
   "outputs": [],
   "source": [
    "# This short program will evaluate Mandelbrot polynomials at a given point,\n",
    "# or else it will compute the coefficient vector of a Mandelbrot polynomial.\n",
    "# Which it will do depends on the type of the argument \"c.\"\n",
    "def Mandelbrot(n: int, c):\n",
    "    z = 0*c # try to inherit the type of c\n",
    "    for i in range(n):\n",
    "        z = z*z + c\n",
    "    return(z)"
   ]
  },
  {
   "cell_type": "markdown",
   "metadata": {},
   "source": [
    "That code tries to force the variable `z` to have the same data type as `c` does, by multiplying 0 by `c` and storing that type of 0 in the variable `z`.  It's probably not necessary, because the very first time the loop is executed `z` gets replaced by something involving `c`.  But, in the case `n==0` that loop won't execute at all, and the value of `z` being returned will be 0.  Let's see if that works."
   ]
  },
  {
   "cell_type": "code",
   "execution_count": 3,
   "metadata": {},
   "outputs": [
    {
     "name": "stdout",
     "output_type": "stream",
     "text": [
      "0.0\n"
     ]
    }
   ],
   "source": [
    "z = Mandelbrot( 0, 1.2 )\n",
    "print( z )"
   ]
  },
  {
   "cell_type": "code",
   "execution_count": 4,
   "metadata": {},
   "outputs": [
    {
     "name": "stdout",
     "output_type": "stream",
     "text": [
      "0.0\n"
     ]
    }
   ],
   "source": [
    "z = Mandelbrot( 0, Poly([0,1]) )\n",
    "print( z )"
   ]
  },
  {
   "cell_type": "markdown",
   "metadata": {},
   "source": [
    "Ok, so it doesn't.  This is a bit disappointing.  However, it's pretty harmless in this case, so we just leave the code as it is.  To be fair, deciding automatically what _type_ of zero one should return is fairly difficult.  Is $0$ different from `0.0 + 0.0j`?  How about a zero polynomial of grade 3, like $0 + 0x + 0x^2 + 0x^3$?  Or a five hundred by five hundred matrix of zeros?  The data type of computational objects really  matters, in many cases.  But for us, here, let's just move on.\n",
    "\n",
    "\n",
    "Now let's experiment with the code.  First, let's use it to compute a polynomial, by calling it with `c` being a polynomial of degree 1."
   ]
  },
  {
   "cell_type": "code",
   "execution_count": 5,
   "metadata": {},
   "outputs": [
    {
     "name": "stdout",
     "output_type": "stream",
     "text": [
      "0.0 + 1.0 x**1 + 1.0 x**2 + 2.0 x**3 + 5.0 x**4 + 6.0 x**5 + 6.0 x**6 +\n",
      "4.0 x**7 + 1.0 x**8\n"
     ]
    }
   ],
   "source": [
    "z = Mandelbrot( 4, Poly([0, 1]) ) # The above code works with Polys (defined in previous cell)\n",
    "print( z )"
   ]
  },
  {
   "cell_type": "code",
   "execution_count": 6,
   "metadata": {},
   "outputs": [
    {
     "name": "stdout",
     "output_type": "stream",
     "text": [
      "0.10507775999999969\n"
     ]
    }
   ],
   "source": [
    "z = Mandelbrot( 4, -1.2 ) # The code also works with numeric input\n",
    "print( z )"
   ]
  },
  {
   "cell_type": "code",
   "execution_count": 7,
   "metadata": {},
   "outputs": [
    {
     "name": "stdout",
     "output_type": "stream",
     "text": [
      "-1j\n"
     ]
    }
   ],
   "source": [
    "z = Mandelbrot( 21, 1.0j ) # Will work with complex numbers also\n",
    "print( z )"
   ]
  },
  {
   "cell_type": "code",
   "execution_count": 8,
   "metadata": {},
   "outputs": [
    {
     "name": "stdout",
     "output_type": "stream",
     "text": [
      "0.17381269635430296\n"
     ]
    }
   ],
   "source": [
    "z = Mandelbrot( 30, -1.2 ) # Since it is iterative, we can ask for high iteration numbers on numerical input\n",
    "print( z )\n",
    "\n",
    "# Don't try that with c = Poly([0,1]) though; the result would be a vector of length half a billion or so"
   ]
  },
  {
   "cell_type": "code",
   "execution_count": 9,
   "metadata": {},
   "outputs": [
    {
     "name": "stdout",
     "output_type": "stream",
     "text": [
      "0.0 + 1.0 x**1 + 1.0 x**2 + 2.0 x**3 + 5.0 x**4 + 14.0 x**5 + 42.0 x**6 +\n",
      "132.0 x**7 + 365.0 x**8 + 950.0 x**9 + 2398.0 x**10 + 5916.0 x**11 +\n",
      "14290.0 x**12 + 33708.0 x**13 + 77684.0 x**14 + 175048.0 x**15 +\n",
      "385741.0 x**16 + 831014.0 x**17 + 1749654.0 x**18 + 3598964.0 x**19 +\n",
      "7228014.0 x**20 + 14162220.0 x**21 + 27049196.0 x**22 + 50323496.0 x**23 +\n",
      "91143114.0 x**24 + 160617860.0 x**25 + 275276716.0 x**26 +\n",
      "458591432.0 x**27 + 742179284.0 x**28 + 1166067016.0 x**29 +\n",
      "1777171560.0 x**30 + 2625062128.0 x**31 + 3754272037.0 x**32 +\n",
      "5193067630.0 x**33 + 6939692682.0 x**34 + 8948546308.0 x**35 +\n",
      "11120136162.0 x**36 + 13299362332.0 x**37 + 15286065700.0 x**38 +\n",
      "16859410792.0 x**39 + 17813777994.0 x**40 + 17999433372.0 x**41 +\n",
      "17357937708.0 x**42 + 15941684776.0 x**43 + 13910043524.0 x**44 +\n",
      "11500901864.0 x**45 + 8984070856.0 x**46 + 6609143792.0 x**47 +\n",
      "4562339774.0 x**48 + 2943492972.0 x**49 + 1766948340.0 x**50 +\n",
      "981900168.0 x**51 + 502196500.0 x**52 + 234813592.0 x**53 +\n",
      "99582920.0 x**54 + 37945904.0 x**55 + 12843980.0 x**56 + 3807704.0 x**57 +\n",
      "971272.0 x**58 + 208336.0 x**59 + 36440.0 x**60 + 4976.0 x**61 +\n",
      "496.0 x**62 + 32.0 x**63 + 1.0 x**64\n"
     ]
    }
   ],
   "source": [
    "zbig = Mandelbrot( 7, Poly( [0, 1] ) ) # n=8 is ghastly already; n=9 is twice as ghastly\n",
    "print( zbig )"
   ]
  },
  {
   "cell_type": "code",
   "execution_count": 10,
   "metadata": {},
   "outputs": [
    {
     "name": "stdout",
     "output_type": "stream",
     "text": [
      "0.0 + 1.0 x**1 + 1.0 x**2 + 2.0 x**3 + 5.0 x**4 + 14.0 x**5 + 26.0 x**6 +\n",
      "44.0 x**7 + 69.0 x**8 + 94.0 x**9 + 114.0 x**10 + 116.0 x**11 +\n",
      "94.0 x**12 + 60.0 x**13 + 28.0 x**14 + 8.0 x**15 + 1.0 x**16\n"
     ]
    }
   ],
   "source": [
    "# If you forget the ordering, you can use keyword arguments (\"kwargs\")\n",
    "zforgot = Mandelbrot( c=Poly([0,1]), n=5 )\n",
    "print( zforgot )"
   ]
  },
  {
   "cell_type": "markdown",
   "metadata": {},
   "source": [
    "One advantage of using Polynomials from NumPy is that they \"know how to find their own roots\".  Let's test that out; the Mandelbrot polynomials turn out to be tough customers, though (which is why they are used as test problems for [MPSolve](https://en.wikipedia.org/wiki/MPSolve), not at all coincidentally&mdash;we learned about them first from the MPSolve test suite)."
   ]
  },
  {
   "cell_type": "code",
   "execution_count": 11,
   "metadata": {},
   "outputs": [
    {
     "data": {
      "image/png": "[encoded data removed]",
      "text/plain": [
       "<Figure size 800x800 with 1 Axes>"
      ]
     },
     "metadata": {},
     "output_type": "display_data"
    }
   ],
   "source": [
    "N = 5\n",
    "p = Mandelbrot( N, Poly([0,1]))\n",
    "rts = p.roots()\n",
    "# print( rts )\n",
    "import matplotlib.pyplot as plt\n",
    "x = [rt.real for rt in rts]\n",
    "y = [rt.imag for rt in rts]\n",
    "rootplot = plt.figure( figsize=(8,8) )\n",
    "plt.scatter( x, y, s=15, marker=\".\")\n",
    "plt.xlim(-2.5,0.5)\n",
    "plt.ylim(-1.5,1.5)\n",
    "plt.show()"
   ]
  },
  {
   "cell_type": "code",
   "execution_count": 12,
   "metadata": {},
   "outputs": [
    {
     "name": "stdout",
     "output_type": "stream",
     "text": [
      "2.1633106705463593e-11\n"
     ]
    }
   ],
   "source": [
    "# Great.  Are those roots correct?\n",
    "residuals = [p(rt) for rt in rts]\n",
    "# print( residuals ) shows them all, and it's a confusing mess\n",
    "absresiduals = [abs(r) for r in residuals ]\n",
    "print( max(absresiduals) )"
   ]
  },
  {
   "cell_type": "markdown",
   "metadata": {},
   "source": [
    "That's, that's ok; it looks like we have in every case found the exact root of a polynomial different from $z_5(c)$ by no more than $3\\cdot 10^{-11}$.  Wait, what?  Well, putting in a computed root back to the polynomial (assuming it evaluates correctly) gives us a residual, say $r$.  That is $p(c^*) = r$, some (hopefully small) complex number.  But then $c^*$ is the _exact_ root of the following polynomial: $p(c) - r$.  \n",
    "\n",
    "Two questions: Did Python evaluate the polynomial well? That is, are the residuals accurate?  And second, what happens to a root if we slightly change a polynomial?  We've just wandered into numerical analysis territory.  Let's first compare the built-in evaluation of a polynomial by its coefficients to our iterative code."
   ]
  },
  {
   "cell_type": "code",
   "execution_count": 13,
   "metadata": {},
   "outputs": [
    {
     "name": "stdout",
     "output_type": "stream",
     "text": [
      "Using n =  5 \n",
      "For the computed root  (-1.9854242530544262+0j) The residual by Python is  (1.287201841575117e-11+0j) \n",
      "while the residual by iteration is  (2.3514967750770666e-11+0j)\n"
     ]
    }
   ],
   "source": [
    "r1 = rts[0]\n",
    "residual1byPython = p( r1 )\n",
    "residual1byIteration = Mandelbrot( n=N, c=r1 )\n",
    "print( \"Using n = \", N, \"\\nFor the computed root \", r1, \"The residual by Python is \", residual1byPython, \n",
    "      \"\\nwhile the residual by iteration is \", residual1byIteration )"
   ]
  },
  {
   "cell_type": "markdown",
   "metadata": {},
   "source": [
    "We see some minor difference in that computation.  But it seems nothing to worry about.  Perhaps we should try a larger N, just to be sure?"
   ]
  },
  {
   "cell_type": "code",
   "execution_count": 14,
   "metadata": {},
   "outputs": [
    {
     "name": "stdout",
     "output_type": "stream",
     "text": [
      "0.0006690370905447947\n",
      "Using n =  6 and degree d =  32 \n",
      "For the computed root  (-1.9963775146231137+0j) The residual by Python is  (0.0006690370905447947+0j) \n",
      "while the residual by iteration is  (0.0005948058978058057+0j)\n"
     ]
    },
    {
     "data": {
      "image/png": "[encoded data removed]",
      "text/plain": [
       "<Figure size 800x800 with 1 Axes>"
      ]
     },
     "metadata": {},
     "output_type": "display_data"
    }
   ],
   "source": [
    "N = 6\n",
    "p = Mandelbrot( N, Poly([0,1]))\n",
    "rts = p.roots()\n",
    "residuals = [p(rt) for rt in rts]\n",
    "# print( residuals ) shows them all, and it's a confusing mess\n",
    "absresiduals = [abs(r) for r in residuals ]\n",
    "print( max(absresiduals) )\n",
    "r1 = rts[0]\n",
    "residual1byPython = p( r1 )\n",
    "residual1byIteration = Mandelbrot( n=N, c=r1 )\n",
    "print( \"Using n = \", N, \"and degree d = \", p.degree(), \"\\nFor the computed root \", r1, \"The residual by Python is \", residual1byPython, \n",
    "      \"\\nwhile the residual by iteration is \", residual1byIteration )\n",
    "x = [rt.real for rt in rts]\n",
    "y = [rt.imag for rt in rts]\n",
    "rootplot = plt.figure( figsize=(8,8) )\n",
    "plt.scatter( x, y, s=15, marker=\".\")\n",
    "plt.xlim(-2.5,0.5)\n",
    "plt.ylim(-1.5,1.5)\n",
    "plt.show()"
   ]
  },
  {
   "cell_type": "markdown",
   "metadata": {},
   "source": [
    "Ooh, that's not very good.  When we try n=7 (below) we will see it get much worse; n=8 and worse yet (ridiculously worse). Try it yourself, and see!  The issue seems to either be Python's polynomial rootfinder (we kind of thought it would be bad, but were hoping it was better than that), or its evaluation of the polynomial from its coefficients.  Of course the two things are connected.  "
   ]
  },
  {
   "cell_type": "code",
   "execution_count": 15,
   "metadata": {},
   "outputs": [
    {
     "name": "stdout",
     "output_type": "stream",
     "text": [
      "71849296419.5541\n",
      "Using n =  7 and degree d =  64 \n",
      "For the computed root  (-2.2083803064455334-0.0850407117867758j) The residual by Python is  (33031650377.57334-63806202436.116714j) \n",
      "while the residual by iteration is  (36077089641.67956-76207277708.20433j)\n"
     ]
    },
    {
     "data": {
      "image/png": "[encoded data removed]",
      "text/plain": [
       "<Figure size 800x800 with 1 Axes>"
      ]
     },
     "metadata": {},
     "output_type": "display_data"
    }
   ],
   "source": [
    "N = 7\n",
    "p = Mandelbrot( N, Poly([0,1]))\n",
    "rts = p.roots()\n",
    "residuals = [p(rt) for rt in rts]\n",
    "# print( residuals ) shows them all, and it's a confusing mess\n",
    "absresiduals = [abs(r) for r in residuals ]\n",
    "print( max(absresiduals) )\n",
    "r1 = rts[0]\n",
    "residual1byPython = p( r1 )\n",
    "residual1byIteration = Mandelbrot( n=N, c=r1 )\n",
    "print( \"Using n = \", N, \"and degree d = \", p.degree(), \"\\nFor the computed root \", r1, \"The residual by Python is \", residual1byPython, \n",
    "      \"\\nwhile the residual by iteration is \", residual1byIteration )\n",
    "x = [rt.real for rt in rts]\n",
    "y = [rt.imag for rt in rts]\n",
    "rootplot = plt.figure( figsize=(8,8) )\n",
    "plt.scatter( x, y, s=15, marker=\".\")\n",
    "plt.xlim(-2.5,0.5)\n",
    "plt.ylim(-1.5,1.5)\n",
    "plt.show()"
   ]
  },
  {
   "cell_type": "markdown",
   "metadata": {},
   "source": [
    "The fact that the roots near $-2$ have _exploded_ (which explains the fireworks GIF at the beginning of the online version of this unit) can be explained using what are known as _pseudozeros_.\n",
    "\n",
    "Instead of pursuing that now, though, let us do something different. Namely, let us introduce an approximate formula for the _largest magnitude root_:\n",
    "\\begin{equation*}\n",
    "\\rho_k \\approx -2 + \\frac32 \\pi^2 4^{-k} + O(4^{-2k}) .\n",
    "\\end{equation*}\n",
    "This formula was published in 2013 by one of us (RMC) and his then-student Piers W. Lawrence, and with the help of another of us (NJC).  We (the present authors, including EYSC) discuss it a bit in our paper [Some Facts and Conjectures on Mandelbrot Polynomials](https://doi.org/10.5206/mt.v1i1.14037) but for now let's just use it."
   ]
  },
  {
   "cell_type": "code",
   "execution_count": 16,
   "metadata": {},
   "outputs": [
    {
     "name": "stdout",
     "output_type": "stream",
     "text": [
      "-0.00011831862376210367\n",
      "-8.279993125359653e-06\n",
      "16.828183511695897\n",
      "20.712561469499633\n",
      "24.591600405416102\n",
      "28.468529149366077\n",
      "44.025735571980476\n"
     ]
    }
   ],
   "source": [
    "import math\n",
    "rho = lambda k: -2 + 3*math.pi**2*4**(-k)/2\n",
    "print( rho(5) - -1.9854242530543296 ) # Was -1.9854242530543296 above\n",
    "print( rho(6) - -1.9963773629263977 ) # Was -1.9963773629263977+0j above\n",
    "print( 4**6*Mandelbrot( n=6, c=rho(6) ) ) # Like 4 times 4 (pattern observed experimentally)\n",
    "print( 4**7*Mandelbrot( n=7, c=rho(7) ) ) # Like 4 times 5\n",
    "print( 4**8*Mandelbrot( 8, rho(8) )) # Like 4 times 6\n",
    "print( 4**9*Mandelbrot( 9, rho(9) ))  # Like 4 times 7\n",
    "print( 4**13*Mandelbrot( 13, rho(13) )) # Like 4 times 11"
   ]
  },
  {
   "cell_type": "markdown",
   "metadata": {},
   "source": [
    "Now we see something interesting (to a numerical analyst).  The largest root (computed by Python) is actually better than its residual indicates!  We also see something interesting to an analyst, namely that there seems to be pattern in the residual. The experiments above predict that\n",
    "\\begin{equation*}\n",
    "z( \\rho_k ) = \\frac{4(k-2)}{4^k} + \\cdots\n",
    "\\end{equation*}\n",
    "and if this were true in general then this would be enough to deduce that there really is a root nearby: one Newton correction from here will help as we will see below (but this turns out to be tricky because the _second_ derivatives are so _large_ in this area; this fact interferes with the theory of Newton iteration, as you may eventually see in your numerical analysis class).  \n",
    "\n",
    "Now let us see a nifty way to compute derivatives of the iteration: just differentiate the statements in the loop, as follows!  But we have to be careful to do it in the right order (this is quite weird)."
   ]
  },
  {
   "cell_type": "code",
   "execution_count": 17,
   "metadata": {},
   "outputs": [
    {
     "name": "stdout",
     "output_type": "stream",
     "text": [
      "(-1.1423999999999999, 0.32800000000000007)\n",
      "(Polynomial([0., 1., 1., 2., 1.], domain=[-1.,  1.], window=[-1.,  1.]), Polynomial([1., 2., 6., 4.], domain=[-1.,  1.], window=[-1.,  1.]))\n"
     ]
    }
   ],
   "source": [
    "def MandelbrotWithDerivative(n: int, c):\n",
    "    dz = 0*c\n",
    "    z = 0*c # try to inherit the type of c\n",
    "    for i in range(n):\n",
    "        dz = 2*z*dz + 1 # A bit iffy to add constants to Polynomials in Python, but maybe it works. Yes! It does!\n",
    "        z = z*z + c\n",
    "    return(z,dz)\n",
    "print( MandelbrotWithDerivative( 3, -1.2 ) )\n",
    "print( MandelbrotWithDerivative( 3, Poly([0,1])))\n"
   ]
  },
  {
   "cell_type": "markdown",
   "metadata": {},
   "source": [
    "The output there is a bit hard to read, but it _looks_ like it worked; the derivative of $z_3 = c + c^2 + 2c^3 + c^4$ is indeed $1 + 2c + 6c^2 + 4c^3$.  We don't really know what all that \"domain\" and \"window\" stuff is, but let's just use the numerical part: if we plug in $c=-1.2$ into $1 + 2c + 6c^2 + 4c^3$ we should get $0.328$.  Let's try it and see. "
   ]
  },
  {
   "cell_type": "code",
   "execution_count": 18,
   "metadata": {},
   "outputs": [
    {
     "name": "stdout",
     "output_type": "stream",
     "text": [
      "0.3280000000000002\n"
     ]
    }
   ],
   "source": [
    "pd = Poly( [1,2,6,4])\n",
    "print( pd(-1.2))"
   ]
  },
  {
   "cell_type": "markdown",
   "metadata": {},
   "source": [
    "That looks good.  On this machine at the time of writing, the final digits are different (2 vs 7 from before) but it's convincing.  That code computes both $z(c)$ and $z'(c)$, with the same loop. So we can now take a Newton step. Or two."
   ]
  },
  {
   "cell_type": "code",
   "execution_count": 19,
   "metadata": {},
   "outputs": [
    {
     "name": "stdout",
     "output_type": "stream",
     "text": [
      "-1.996385642919523 0.004108443240160131 -432.51765820326005 -1.9963761440166177 2.7235905697420293e-06\n",
      "-1.9963761377111966 1.2387868508767497e-12\n"
     ]
    }
   ],
   "source": [
    "pdp = MandelbrotWithDerivative( 6, rho(6) )\n",
    "improved = rho(6) - pdp[0]/pdp[1]\n",
    "print( rho(6), pdp[0], pdp[1], improved, Mandelbrot(6,improved) )\n",
    "pdp2 = MandelbrotWithDerivative( 6, improved )\n",
    "better = improved - pdp2[0]/pdp2[1]\n",
    "print( better, Mandelbrot(6,better ))"
   ]
  },
  {
   "cell_type": "markdown",
   "metadata": {},
   "source": [
    "Good!  Now we can (maybe) check Python's rootfinder for larger $N$.  Let's try $N=8$."
   ]
  },
  {
   "cell_type": "code",
   "execution_count": 20,
   "metadata": {},
   "outputs": [
    {
     "name": "stdout",
     "output_type": "stream",
     "text": [
      "128\n",
      "(-3.6074063621795602+0j)\n",
      "4.428733754307815e+33\n",
      "0.0003752380432955338\n"
     ]
    }
   ],
   "source": [
    "N = 8\n",
    "z = Mandelbrot( N, Poly([0,1]))\n",
    "print( z.degree() )\n",
    "rts = z.roots()\n",
    "print( rts[0] )  # Hopelessly wrong (can't be smaller than -2)\n",
    "rho8 = rho(8)\n",
    "print( z( rho8 ) ) # Disaster has struck the polynomial evaluation\n",
    "print( Mandelbrot(n=N, c=rho8)) # The iteration is better; *much* better"
   ]
  },
  {
   "cell_type": "markdown",
   "metadata": {},
   "source": [
    "We see that the built-in Python rootfinder has failed hopelessly, already at $N=8$ (when there are only $128$ roots to compute). There is a technical issue here: this polynomial is what is known as _ill-conditioned_. That means that it is _sensitive to changes in its input_.  We could pursue that, with the notion of _pseudozeros_ (and that's what leads to the fireworks GIF that we opened this section with online), but for the moment we will try another tack: instead of working with Mandelbrot polynomials, we will work with Mandelbrot _matrices_, which turn out to be much better behaved.  "
   ]
  },
  {
   "cell_type": "markdown",
   "metadata": {},
   "source": [
    "(MandelbrotActivity-7)="
   ]
  },
  {
   "cell_type": "markdown",
   "metadata": {},
   "source": [
    "```{admonition} Mandelbrot Activity 7\n",
    ":class: tip\n",
    "Prove by induction that the code `MandelbrotWithDerivative` computes the correct derivative of every Mandelbrot polynomial. Rather, that it _would_ compute the correct derivative if the underlying arithmetic were exact. You might need what is known as a _loop invariant_: something that is true before the loop starts, and is true at the start of every iteration, and at the end of every iteration (though not necessarily true after each intermediate step of the iteration). But this loop is simple enough that a direct induction also works.\n",
    "{ref}`[Our proof] <MandelbrotActivityReport-7>`\n",
    "```"
   ]
  },
  {
   "cell_type": "markdown",
   "metadata": {},
   "source": [
    "(MandelbrotActivity-8)="
   ]
  },
  {
   "cell_type": "markdown",
   "metadata": {},
   "source": [
    "```{admonition} Mandelbrot Activity 8\n",
    ":class: tip\n",
    "Are the zeros of the derivatives of the Mandelbrot polynomials in the Mandelbrot set? \n",
    "{ref}`[We think so, but we don't know.] <MandelbrotActivityReport-8>`\n",
    "```\n"
   ]
  },
  {
   "cell_type": "markdown",
   "metadata": {},
   "source": [
    "## Eigenvalues and roots of polynomials\n",
    "\n",
    "In the previous unit, on Bohemian matrices, we introduced matrices (via determinants) and eigenvalues of matrices.  In this unit, we're going to use them without defining them further.  This is kind of backwards if you haven't had a course in linear algebra, but we also saw two-by-two matrices at least back in the Fibonacci unit, and many high schools do cover matrices at least a little bit.  Eigenvalues, not so much.  But then, eigenvalues aren't covered enough in many first courses in linear algebra, either, so the practice here is justified, in our minds.\n",
    "\n",
    "Eigenvalues of matrices are related to roots of polynomials in the following two ways: first, if we are given a monic polynomial, say $x^3 -2 x^2 - 5x + 9$, then the three-by-three matrix below (three by three because the polynomial has degree $3$)\n",
    "\n",
    "$$\n",
    "\\mathbf{A} = \\begin{bmatrix}\n",
    "0 & 0 & -9 \\\\\n",
    "1 & 0 &  5 \\\\\n",
    "0 & 1 &  2\n",
    "\\end{bmatrix}\n",
    "$$\n",
    "\n",
    "has as its _eigenvalues_ the exact roots of the polynomial.  Notice that the _negatives_ of the polynomial coefficients appear in the final column, and that there is a diagonal of 1s appearing _below_ the main diagonal of the matrix.  This construction is perfectly general: take any monic polynomial, negate its coefficients (except the leading coefficient, which is 1), list them in increasing degree as you go down the final column, and throw 1s along the subdiagonal, then you have a matrix whose eigenvalues are the roots of the original polynomial.  This is called a _companion matrix_ for the polynomial (there are many: this is the [Frobenius](https://en.wikipedia.org/wiki/Ferdinand_Georg_Frobenius) companion matrix). \n",
    "\n",
    "Since Python (and every scientific computing language) has a routine to compute eigenvalues, this gives us a perfectly straightforward way to find the roots of a polynomial."
   ]
  },
  {
   "cell_type": "code",
   "execution_count": 21,
   "metadata": {},
   "outputs": [
    {
     "name": "stdout",
     "output_type": "stream",
     "text": [
      "[[ 0.  0. -9.]\n",
      " [ 1.  0.  5.]\n",
      " [ 0.  1.  2.]] [-2.18194334+0.j  1.59357935+0.j  2.58836399+0.j]\n"
     ]
    }
   ],
   "source": [
    "from scipy.linalg import eigvals, tri\n",
    "\n",
    "A = np.zeros([3,3])\n",
    "A[0,2] = -9\n",
    "A[1,0] = 1\n",
    "A[1,2] = 5\n",
    "A[2,1] = 1\n",
    "A[2,2] = 2\n",
    "\n",
    "e = eigvals(A)\n",
    "print( A, e )"
   ]
  },
  {
   "cell_type": "code",
   "execution_count": 22,
   "metadata": {
    "scrolled": true
   },
   "outputs": [
    {
     "name": "stdout",
     "output_type": "stream",
     "text": [
      "9.0 - 5.0 x**1 - 2.0 x**2 + 1.0 x**3 [-2.18194334  1.59357935  2.58836399]\n",
      "[(-4.263256414560601e-14+0j), (-1.7763568394002505e-15+0j), (-3.552713678800501e-15+0j)]\n"
     ]
    }
   ],
   "source": [
    "p = Poly( [9,-5,-2,1])\n",
    "print( p, p.roots() )\n",
    "residuals = [p(t) for t in e ]\n",
    "print( residuals )"
   ]
  },
  {
   "cell_type": "markdown",
   "metadata": {},
   "source": [
    "Voilà.  The same numbers appear (possibly in a different order).  This is in fact how numpy's `roots` command works, and how the `Polynomial` package allows its polynomials to find their roots.  Notice that the values of the polynomial at the computed eigenvalues are all _nearly_ zero, and the difference (when its not actually zero) is small enough to be considered the effects of rounding error."
   ]
  },
  {
   "cell_type": "markdown",
   "metadata": {},
   "source": [
    "### But wait, that's backwards!\n",
    "\n",
    "The second way of connecting matrices and polynomials, though, is one we have seen already: given a matrix, we define its eigenvalues as the _roots of its \"characteristic polynomial\"_.  This is \"reducing the problem to a previously solved one\", if you know how to find roots of polynomials.  Turns out, that's actually harder, computationally speaking!  But for the record, here is where we got that polynomial in the first place.\n",
    "\n",
    "$$\n",
    "\\mathbf{B} = \\begin{bmatrix}\n",
    "2 & -1 & 2 \n",
    "\\\\\n",
    " -1 & 0 & 1 \n",
    "\\\\\n",
    " 1 & 2 & 0 \n",
    "\\end{bmatrix}\n",
    "$$\n",
    "\n",
    "which has characteristic polynomial det$(\\lambda\\mathbf{I}-\\mathbf{B}) = \\lambda^{3}-2 \\lambda^{2}-5 \\lambda +9 $.  Apart from the variable name, this is the same polynomial as above.  Therefore both $\\mathbf{B}$ and $\\mathbf{A}$ have the same _eigenvalues_. "
   ]
  },
  {
   "cell_type": "code",
   "execution_count": 23,
   "metadata": {},
   "outputs": [
    {
     "name": "stdout",
     "output_type": "stream",
     "text": [
      "[[ 2 -1  2]\n",
      " [-1  0  1]\n",
      " [ 1  2  0]] [-2.18194334+0.j  2.58836399+0.j  1.59357935+0.j]\n"
     ]
    }
   ],
   "source": [
    "B = np.array([[2,-1,2],[-1,0,1],[1,2,0]])\n",
    "\n",
    "print(B, eigvals(B) )"
   ]
  },
  {
   "cell_type": "markdown",
   "metadata": {},
   "source": [
    "```{prf:remark}\n",
    ":label: eigenvalue_remark\n",
    "\n",
    "It may seem silly, and wasteful, to solve polynomials by finding eigenvalues of matrices.  Against that, we actually have software for eigenvalue problems that is _really good_ in the sense that it is robust, accurate, and efficient.  So we are \"reducing the problem to a previously solved problem\" which is like recycling, and so is not wasteful in that sense.  However, at some point the wastefulness (we store $d^2$ numbers, or sometimes even more, to attack a polynomial of degree $d$) will catch up to us.  But it turns out that this \"wasteful\" approach gets us _farther_ than trying to solve the Mandelbrot polynomials directly does.\n",
    "\n",
    "It does turn out to be wasteful to start with a matrix, compute a characteristic polynomial, and then construct another matrix.  You might just as well have computed the eigenvalues of the original matrix.  Indeed, that's almost always _much_ better from the point of view of numerical stability.  But that is a topic for your numerical analysis class.\n",
    "\n",
    "```"
   ]
  },
  {
   "cell_type": "markdown",
   "metadata": {},
   "source": [
    "(MandelbrotActivity-9)="
   ]
  },
  {
   "cell_type": "markdown",
   "metadata": {},
   "source": [
    "```{admonition} Mandelbrot Activity 9\n",
    ":class: tip\n",
    "This is a more theoretical activity, and helps to explain why polynomials are sometimes hard to deal with directly in numerical computation.  This particular discussion is not in many textbooks, but is in some.\n",
    "\"A good numerical method gives you the exact solution to a nearby problem\".  This is an informal definition of _numerical stability_.  An _algorithm_ is \"numerically stable\" if it gives you the exact solution, not to the problem you were trying to solve (say the polynomial $z(c) = 0$) but instead to a _nearby_ problem, say $z(c) - 10^{-16}i = 0$.  Some problems, however, are _sensitive to changes_ (in the vernacular of numerical analysis, _ill-conditioned_).  Consider the polynomial\n",
    "$z(c) = \\sum_{k=0}^d a_k c^k$\n",
    "and a _perturbed_ (changed) polynomial\n",
    "$z(c) + \\Delta(c) = \\sum_{k=0}^d a_k(1+s_k) c^k$\n",
    "where the coefficients $a_k$ have all been changed by small relative amounts $s_k$.  Suppose further that all $|s_k| \\le t$, some tiny number. By using the triangle inequality, show that\n",
    "$\n",
    "| \\Delta(c) | \\le K(c) t\n",
    "$\n",
    "where \n",
    "$\n",
    "K(c) = \\sum_{k=0}^d |a_k| |c|^k\n",
    "$\n",
    "This number $K(c)$ serves as a kind of _condition number_ for the polynomial: the larger it is, the more sensitive the polynomial is.  Plot the condition numbers (on a log scale!) of the Mandelbrot polynomials $z_6(c)$ and $z_7(c)$ on $-2 \\le c \\le 0$.\n",
    "{ref}`[Our thoughts] <MandelbrotActivityReport-9>`\n",
    "```\n"
   ]
  },
  {
   "cell_type": "markdown",
   "metadata": {},
   "source": [
    "(MandelbrotActivity-10)="
   ]
  },
  {
   "cell_type": "markdown",
   "metadata": {},
   "source": [
    "```{admonition} Mandelbrot Activity 10\n",
    ":class: tip\n",
    "__Pseudozeros__.  The zeros of $z(c) - 10^{-k}\\exp(i\\theta)$ for $k=6$, say, represent a _curve_ in $c$ space (let $\\theta$ vary from $-\\pi$ to $\\pi$ so the tiny perturbation $10^{-6}\\exp(i\\theta)$ turns a full circle in the complex plane). As $k$ is taken larger, one expects these curves to surround the zeros of $z(c)$ itself.  Graph some pseudozeros of a Mandelbrot polynomial.  \n",
    "{ref}`[Our code] <MandelbrotActivityReport-10>`\n",
    "```"
   ]
  },
  {
   "cell_type": "markdown",
   "metadata": {},
   "source": [
    "## Mandelbrot matrices\n",
    "\n",
    "Let $\\mathbf{M}_1 = [c]$ be the $1$-by-$1$ matrix whose determinant is $z_1(c)$. Now define\n",
    "\\begin{equation*}\n",
    "    \\mathbf{M}_{k+1} = \n",
    "    \\begin{bmatrix}\n",
    "    \\mathbf{M}_k & -c \\mathbf{e}_1\\mathbf{e}_{d_k}^T \\\\\n",
    "    \\mathbf{e}_1\\mathbf{e}_{d_k}^T & \\mathbf{M}_k\n",
    "    \\end{bmatrix} .\n",
    "\\end{equation*}\n",
    "Here the $\\mathbf{e}_j$'s are the unit elementary vectors of dimension $d_k=2^{k-1}$; all they do together here is put a $1$ in the top right corner of the relevant blocks. \n",
    "\n",
    "Just to explain that a bit more: if the dimension is 5, say, then $\\mathbf{e}_1^T = [1,0,0,0,0]$ and $\\mathbf{e}_5^T = [0,0,0,0,1]$.  The superscript T means \"transpose\" and we can use it (as in this paragraph) just to save space and write the column vectors on one line, or we can use it as in the formula to indicate what we really mean.  Elementary vectors are all zero except for one 1, and they are used here just to keep the notation neat.  They do have many other uses, so we don't mind introducing a notation for such a simple-looking thing.  The product $\\mathbf{e}_1^T\\mathbf{e}_5$ is a $5$ by $5$ matrix that is all zero except for a $1$ in the upper right hand corner.\n",
    "\n",
    "The next two Mandelbrot matrices are then, by this recurrence relation,\n",
    "\\begin{equation*}\n",
    "    \\left[\\begin{array}{cc}\n",
    "c  & -c  \n",
    "\\\\\n",
    " 1 & c  \n",
    "\\end{array}\\right]\n",
    "\\end{equation*}\n",
    "and\n",
    "\\begin{equation*}\n",
    "    \\left[\\begin{array}{cccc}\n",
    "c  & -c  & 0 & \\mathbf{-{c}}  \n",
    "\\\\\n",
    " 1 & c  & 0 & 0 \n",
    "\\\\\n",
    " 0 & \\mathbf{1} & c  & -c  \n",
    "\\\\\n",
    " 0 & 0 & 1 & c  \n",
    "\\end{array}\\right]\n",
    "\\end{equation*}\n",
    "where we have bold-faced the two new entries that connect the two copies of $\\mathbf{M}_2$ that lie in the upper left corner and bottom right corner.\n",
    "    \n",
    "We can write this matrix as $\\mathbf{A} + c\\mathbf{B}$ where\n",
    "\\begin{equation*}\n",
    "\\mathbf{A} = \\begin{bmatrix}\n",
    "0 & 0 & 0 & 0 \\\\\n",
    "1 & 0 & 0 & 0 \\\\\n",
    "0 & 1 & 0 & 0 \\\\\n",
    "0 & 0 & 1 & 0 \n",
    "\\end{bmatrix}\n",
    "\\end{equation*}\n",
    "and\n",
    "\\begin{equation*}\n",
    "\\mathbf{B} = \\begin{bmatrix}\n",
    "1 & -1 & \\phantom{-}0 & -1 \\\\\n",
    "0 & \\phantom{-}1 & \\phantom{-}0 & \\phantom{-}0 \\\\\n",
    "0 & \\phantom{-}0 & \\phantom{-}1 & -1\\\\\n",
    "0 & \\phantom{-}0 & \\phantom{-}0 & \\phantom{-}1 \n",
    "\\end{bmatrix} .\n",
    "\\end{equation*}\n",
    "Finding values of $c$ which make the determinant of $\\mathbf{A} + c \\mathbf{B}$ equal to zero is an example of what is called a _generalized_ eigenvalue problem, and [SciPy's linalg routine eigvals](https://docs.scipy.org/doc/scipy/reference/generated/scipy.linalg.eigvals.html#scipy.linalg.eigvals) is set up do do this already, except that it solves problems of the form $\\det( \\mathbf{A} - \\lambda \\mathbf{B} ) = 0$ so we will have to change the sign of our matrix $\\mathbf{B}$.\n",
    "\n",
    "The matrix $\\mathbf{A_k}$ is analogous at every dimension $k$: it is zero except for the subdiagonal which is all $1$s.  The matrix $\\mathbf{B}_k$ is very simply constructed from two copies of the matrix $\\mathbf{B}_{k-1}$ (if $k>1$), with an additional $-1$ tucked into the upper right corner.  We might as well build $-\\mathbf{B}_k$ instead of building $\\mathbf{B}_k$ while we are at it.  We will do this _recursively_.  See the code below."
   ]
  },
  {
   "cell_type": "code",
   "execution_count": 24,
   "metadata": {},
   "outputs": [],
   "source": [
    "def getMinusBmatrix(n: int):\n",
    "    d = 2**(n-1)\n",
    "    if n==1: \n",
    "        minusB = -np.ones([1,1]) # Return a 1 by 1 matrix of ones\n",
    "        return( minusB )\n",
    "    else:\n",
    "        zeroBlock = np.zeros( [d//2,d//2] )  # The double slash enforces integer division\n",
    "        smallerB  = getMinusBmatrix( n-1 )  # This is a recursive program: it calls itself.\n",
    "        minusB = np.bmat( 'smallerB, zeroBlock; zeroBlock, smallerB')\n",
    "        minusB[0,-1] = 1 # Glue the two blocks together with a 1 in the upper right corner\n",
    "        return( minusB )\n",
    "\n",
    "def getAmatrix(n: int):\n",
    "    d = 2**(n-1)\n",
    "    A = np.zeros([d,d])\n",
    "    for i in range(1,d):\n",
    "        A[i,i-1] = 1    # Subdiagonal entries are all 1, everything else is 0\n",
    "    return A"
   ]
  },
  {
   "cell_type": "code",
   "execution_count": 25,
   "metadata": {},
   "outputs": [
    {
     "name": "stdout",
     "output_type": "stream",
     "text": [
      "2 [[0. 0.]\n",
      " [1. 0.]] \n",
      " [[-1.  1.]\n",
      " [ 0. -1.]]\n"
     ]
    }
   ],
   "source": [
    "N = 2\n",
    "A = getAmatrix( N  )\n",
    "B = getMinusBmatrix( N )\n",
    "print( N, A , \"\\n\", B )"
   ]
  },
  {
   "cell_type": "code",
   "execution_count": 26,
   "metadata": {},
   "outputs": [
    {
     "name": "stdout",
     "output_type": "stream",
     "text": [
      "3 [[0. 0. 0. 0.]\n",
      " [1. 0. 0. 0.]\n",
      " [0. 1. 0. 0.]\n",
      " [0. 0. 1. 0.]] \n",
      " [[-1.  1.  0.  1.]\n",
      " [ 0. -1.  0.  0.]\n",
      " [ 0.  0. -1.  1.]\n",
      " [ 0.  0.  0. -1.]]\n"
     ]
    }
   ],
   "source": [
    "N = 3\n",
    "A = getAmatrix( N  )\n",
    "B = getMinusBmatrix( N )\n",
    "print( N, A, \"\\n\", B )"
   ]
  },
  {
   "cell_type": "code",
   "execution_count": 27,
   "metadata": {},
   "outputs": [
    {
     "name": "stdout",
     "output_type": "stream",
     "text": [
      "4 [[0. 0. 0. 0. 0. 0. 0. 0.]\n",
      " [1. 0. 0. 0. 0. 0. 0. 0.]\n",
      " [0. 1. 0. 0. 0. 0. 0. 0.]\n",
      " [0. 0. 1. 0. 0. 0. 0. 0.]\n",
      " [0. 0. 0. 1. 0. 0. 0. 0.]\n",
      " [0. 0. 0. 0. 1. 0. 0. 0.]\n",
      " [0. 0. 0. 0. 0. 1. 0. 0.]\n",
      " [0. 0. 0. 0. 0. 0. 1. 0.]] \n",
      " [[-1.  1.  0.  1.  0.  0.  0.  1.]\n",
      " [ 0. -1.  0.  0.  0.  0.  0.  0.]\n",
      " [ 0.  0. -1.  1.  0.  0.  0.  0.]\n",
      " [ 0.  0.  0. -1.  0.  0.  0.  0.]\n",
      " [ 0.  0.  0.  0. -1.  1.  0.  1.]\n",
      " [ 0.  0.  0.  0.  0. -1.  0.  0.]\n",
      " [ 0.  0.  0.  0.  0.  0. -1.  1.]\n",
      " [ 0.  0.  0.  0.  0.  0.  0. -1.]]\n"
     ]
    }
   ],
   "source": [
    "N = 4\n",
    "A = getAmatrix( N  )\n",
    "B = getMinusBmatrix( N )\n",
    "print( N, A, \"\\n\", B )"
   ]
  },
  {
   "cell_type": "code",
   "execution_count": 28,
   "metadata": {},
   "outputs": [
    {
     "name": "stdout",
     "output_type": "stream",
     "text": [
      "5.206057807072284e-12\n"
     ]
    }
   ],
   "source": [
    "N = 8\n",
    "A = getAmatrix( N  )\n",
    "B = getMinusBmatrix( N )\n",
    "# Now compute the generalized eigenvalues\n",
    "E = eigvals( A, B )\n",
    "x = [e.real for e in E]\n",
    "y = [e.imag for e in E ]\n",
    "residuals = [ Mandelbrot(N,e) for e in E]\n",
    "absresiduals = [abs(r) for r in residuals ]\n",
    "print( max(absresiduals) )"
   ]
  },
  {
   "cell_type": "code",
   "execution_count": 29,
   "metadata": {},
   "outputs": [
    {
     "data": {
      "image/png": "[encoded data removed]",
      "text/plain": [
       "<Figure size 800x800 with 1 Axes>"
      ]
     },
     "metadata": {},
     "output_type": "display_data"
    }
   ],
   "source": [
    "rootplot = plt.figure( figsize=(8,8) )\n",
    "plt.scatter( x, y, s=15, marker=\".\")\n",
    "plt.xlim(-2.5,0.5)\n",
    "plt.ylim(-1.5,1.5)\n",
    "plt.show()"
   ]
  },
  {
   "cell_type": "markdown",
   "metadata": {},
   "source": [
    "This shows that (at least for $N=8$) solving the (generalized) eigenvalue problem is _much_ more accurate than trying to solve the explicit Mandelbrot polynomial at the same dimension.\n",
    "\n",
    "Now it turns out that the matrix method will also (eventually) run into trouble, at about $N=17$ (when RMC's computer tries to store all the zeros in the $d$ by $d$ matrix, and runs out of memory); the dimension of the matrix for $N=14$ is already $16384$ by $16384$, using about sixteen thousand times too much memory, and so this isn't that surprising.\n",
    "\n",
    "Here are some results of running this code on a 2019 Microsoft Surface Pro (1.3GHz, 4 cores; not that the 4 cores are specially used by Python).  We report the Mandelbrot index, the dimension, the time taken in seconds, and the maximum absolute value of the residual.  We see that in all the cases we get accurate roots, but we also see that as the dimension doubles the cost increases by _more_ than a factor of $2^3=8$, consistently; we do not know why.  We estimated that running this for $N=14$ would take about $3$ hours (it took $2$ hours and $22$ minutes), and would return all roots to about single precision accuracy, which it did (we are working in double precision, of course).  We could use a supposedly faster language (Julia, for instance: except that, ironically, Python seems to be faster for generalized eigenvalues) to speed the computation up, but the _condition number_ of these eigenvalues also seems to be growing; this means the accuracy will diminish.  Another approach seems needed: see MPSolve, and see [Eunice Chan's Master's thesis](https://ir.lib.uwo.ca/etd/4028/).  Also, _generalized_ eigenvalue code is (quite a bit!) slower than code for the simple eigenvalue problem $\\mathbf{A}\\mathbf{x} = \\lambda \\mathbf{x}$ and we could convert our generalized eigenvalue problem to a simple one by postmultiplying by $\\mathbf{B}^{-1}$ (we can even do that analytically, and this works _very_ well: see the activities) but for now we will step away from the keyboard, happy with accurately computing the roots of the degree $8192$ Mandelbrot polynomial by means of a generalized eigenvalue problem. \n",
    "\n",
    "| n  | d    | time(s) | slowdown | max residual       |\n",
    "|----|------|---------|----------|--------------------|\n",
    "| 9 | 256  | 0.06     |          | $2.8\\cdot 10^{-11}$                   |\n",
    "| 10 | 512  | 0.6     | 10.       | $1.8\\cdot 10^{-10}$                   |\n",
    "| 11 | 1024 | 6       | 10.       | $1.6\\cdot 10^{-9}$                   |\n",
    "| 12 | 2048 | 78      | 13.       | $3.5\\cdot 10^{-9}$ |\n",
    "| 13 | 4096 | 850     | 11.     | $2.0\\cdot 10^{-8}$ |\n",
    "| 14 | 8192 | 8512    | 10.       | $4.0\\cdot 10^{-7}$ |"
   ]
  },
  {
   "cell_type": "markdown",
   "metadata": {},
   "source": [
    "```{prf:remark}\n",
    ":label: memory_remark\n",
    "\n",
    "If we are more careful with memory and use what are known as _sparse_ matrices, then we can go a lot farther.  Using sparse matrices, and special algorithms for finding eigenvalues of sparse matrices, Piers Lawrence was able to take this approach up to about a half a million eigenvalues ($n=19$); it was a bit awkward to make sure that we got all the eigenvalues once and only once, but it worked.  Eunice Chan got up over two million eigenvalues with a different method (homotopy continuation), but the champion is still MPSolve; Dario Bini and Leonard Robol used their software to compute over four million roots of Mandelbrot polynomials.\n",
    "```"
   ]
  },
  {
   "cell_type": "code",
   "execution_count": 30,
   "metadata": {},
   "outputs": [
    {
     "name": "stdout",
     "output_type": "stream",
     "text": [
      "2.822142519676163e-11\n",
      "Time taken was  0.059175729751586914 seconds to find d= 256 \n",
      "generalized eigenvalues of matrices that took  0.0017244815826416016 seconds to build\n"
     ]
    }
   ],
   "source": [
    "import time\n",
    "start = time.time()\n",
    "N=9\n",
    "A = getAmatrix( N  )\n",
    "B = getMinusBmatrix( N )\n",
    "# print( A, \"\\n\", B )\n",
    "built = time.time()\n",
    "E = eigvals( A, B )\n",
    "end = time.time()\n",
    "x = [e.real for e in E]\n",
    "y = [e.imag for e in E ]\n",
    "residuals = [ Mandelbrot(N,e) for e in E]\n",
    "absresiduals = [abs(r) for r in residuals ]\n",
    "print( max(absresiduals) )\n",
    "print( \"Time taken was \", end-built, \"seconds to find d=\", 2**(N-1), \n",
    "      \"\\ngeneralized eigenvalues of matrices that took \", built-start, \"seconds to build\" )"
   ]
  },
  {
   "cell_type": "code",
   "execution_count": 31,
   "metadata": {},
   "outputs": [
    {
     "data": {
      "image/png": "[encoded data removed]",
      "text/plain": [
       "<Figure size 800x800 with 1 Axes>"
      ]
     },
     "metadata": {},
     "output_type": "display_data"
    }
   ],
   "source": [
    "rootplot = plt.figure( figsize=(8,8) )\n",
    "plt.scatter( x, y, s=0.5, marker=\".\")\n",
    "plt.xlim(-2.5,0.5)\n",
    "plt.ylim(-1.5,1.5)\n",
    "plt.show()"
   ]
  },
  {
   "cell_type": "markdown",
   "metadata": {},
   "source": [
    "The following is the resulting image from the case $N=14$:\n",
    "\n",
    "```{image} ../Figures/Mandelbrot/MandelbrotZ14.png\n",
    ":height: 400px\n",
    ":alt: Our best eigenvalue image of the roots of a Mandelbrot polynomial of degree 8192\n",
    ":align: center\n",
    "```"
   ]
  },
  {
   "cell_type": "markdown",
   "metadata": {},
   "source": [
    "## Looking back at the programming constructs used in this unit\n",
    "\n",
    "We introduced more linear algebra routines.  We found out how to compute roots of polynomials (by computing eigenvalues of companion matrices, using the eigenvalue routine as a \"black box\"). We used the `//` integer division operation for the first time.\n",
    "\n",
    "We introduced \"hints\" for the types of arguments in a procedure.  This is more important in other languages than in Python (indeed, it is _critical_ for many).\n",
    "\n",
    "We showed a programmatic method for inheriting types (not actually necessary in the example we used, because adding scalars to `Polynomials` produces a `Polynomial` anyway).  And in the only case where it _would_ matter, it didn't work because Python was lazy about 0 times a Polynomial (it should return a Polynomial with zero coefficients, but just returns a scalar 0).\n",
    "\n",
    "We showed that one can _differentiate a program_ or _take the derivative of a program_ (indeed this can be done by computers as well, in which case it is called \"automatic differentiation\" or \"program differentiation\").  Doing this _efficiently_ is sometimes an issue, but given how tedious differentiation can be, we will take all the help we can get."
   ]
  },
  {
   "cell_type": "markdown",
   "metadata": {},
   "source": [
    "## More Mandelbrot Activities\n",
    "\n",
    "(MandelbrotActivity-11)=\n",
    "\n",
    "11\\. Write $\\mathbf{C} = \\mathbf{A}\\mathbf{B}^{-1}$ and show that the generalized eigenvalues of $\\mathbf{A}-\\lambda\\mathbf{B}$ are the simple eigenvalues of $\\mathbf{C} - \\lambda\\mathbf{I}$.  Find $\\mathbf{C}$ for the Mandelbrot matrices above, and code it up and compare the times to compute simple eigenvalues versus generalized eigenvalues. How high a degree can you get to?  We stopped at $N=16$, where the computation took about an hour and a half, and the residual was about $4.0e-5$.  The current record is held by [MPSolve](https://numpi.dm.unipi.it/software/mpsolve) with $k=23$, so over $4$ million roots (using multiple precision); we don't think eigenvalue methods can get that high, but we think [homotopy methods](https://ir.lib.uwo.ca/etd/4028/) can (also called \"continuation methods\" as they were in the Rootfinding unit, as a \"really good way to get initial estimates\"), although they haven't yet. {ref}`[Our thoughts] <MandelbrotActivityReport-11>`\n",
    "\n",
    "(MandelbrotActivity-12)=\n",
    "\n",
    "12\\. Eigenvalues of perturbed matrices are called _pseudospectra_ (the set of eigenvalues themselves is called the _spectrum_).  $\\Lambda_\\varepsilon(\\mathbf{A}) := \\{z : \\exists \\mathbf{E} \\backepsilon \\mathrm{det}(z\\mathbf{I} - (\\mathbf{A}+\\mathbf{E})) = 0 \\& \\|\\mathbf{E}\\| \\le \\varepsilon\\}$. That definition means, in words, that the pseudospectrum at size $\\varepsilon$ is the set of complex numbers $z$ that are the exact eigenvalues of matrices perturbed by another matrix $\\mathbf{E}$ which is at most $\\varepsilon$ in norm.  Check out the [Pseudospectra gateway](https://www.cs.ox.ac.uk/pseudospectra/) and then do some pseudospectral experiments with Mandelbrot matrices. {ref}`[Our thoughts] <MandelbrotActivityReport-12>`\n",
    "\n",
    "(MandelbrotActivity-13)=\n",
    "\n",
    "13\\. Other families of polynomials like the Mandelbrot polynomials can be defined: Fibonacci&ndash;Mandelbrot polynomials defined by $q_{n+1}(z) = z q_n(z) q_{n-1}(z) + 1$ and $q_0(z)=0$ and $q_1(z) = 1$, for instance; or Fibonacci&ndash;Narayana polynomials.  Define your own polynomials by recurrence relation, and find your own matrices whose eigenvalues are their roots, and draw their eigenvalues.  We have only done a few of these, and there are infinitely many to choose from.  It's possible your results will be completely new (and therefore publishable). {ref}`[Our thoughts] <MandelbrotActivityReport-13>`\n",
    "\n",
    "(MandelbrotActivity-14)=\n",
    "\n",
    "14\\. The paper [Some Facts and Conjectures on Mandelbrot Polynomials](https://doi.org/10.5206/mt.v1i1.14037) contains a formula for the _Mandelbrot Generating Function_ MGF(k,c), which _analytically solves_ the Mandelbrot iteration $z_{n+1} = z_n^2 + c$, at least for $c$ _outside_ the Mandelbrot set.  This means that we could (say) take half an iteration&mdash;and find $z_{1/2}(c)$ or $z_{3/2}(c)$.  As with [Stand-Up Math's Video on Complex Fibonacci Numbers](https://youtu.be/ghxQA3vvhsk) these are likely to be _complex numbers_.  So far as we know, no-one (not even us) has computed these.  Do so, for (say) $c=1$ or $c=2$.  Plot the results.  This, also, might be publishable (again, [Maple Transactions](https://www.mapletransactions.org) might be a good place). {ref}`[Our thoughts] <MandelbrotActivityReport-14>`\n",
    "\n",
    "(MandelbrotActivity-15)=\n",
    "\n",
    "15\\. A [companion matrix](https://en.wikipedia.org/wiki/Companion_matrix) for a polynomial (say $P(\\lambda)$) is simply a matrix $C$ whose eigenvalues are the roots of $P(\\lambda)$.  Every matrix has a characteristic polynomial whose roots are its eigenvalues; what's interesting is that this can be run the other way (it's a bit more complicated because \"Frobenius companion matrices\" as in the link above have special properties).  But companion matrices are not unique: any matrix similar to a companion matrix $\\mathbf{S}\\mathbf{C}\\mathbf{S}^{-1}$ is also a companion matrix for that same $P(\\lambda)$.  Suppose that you have a polynomial with _integer_ coefficients.  Then the Frobenius companion matrix has (those same) integers as entries, together with ones and zeros.  Therefore, out of all integer companion matrices for $P(\\lambda)$, there must be one with _minimal height_: the height of the matrix is the size of the largest absolute value of any entry in the matrix.  Mandelbrot matrices as defined above have height $1$, which is the smallest possible for integer companions, and are therefore \"minimal height\".  Note that the size of the coefficients of the polynomial are exponential in the degree! So the height of the Frobenius companion matrix of Mandelbrot polynomials is likewise exponential.  Not much is known about [minimal height companion matrices](https://link.springer.com/article/10.1007/s11786-018-0364-2) (see also [our first paper](https://journals.uwyo.edu/index.php/ela/article/view/1781)); we do not have an algorithm for finding one for a given integer polynomial, for instance. We _believe_ that minimal height companion matrices are generally better-conditioned as far as their eigenvalues, but we have no proof.  Find a minimal height companion matrix for (say) $\\lambda^3 + 5\\lambda^2 + 3\\lambda + 1$.  Find a general algorithm for computing minimal height companions.  Prove that they're useful.  If you succeed at this problem, you should certainly publish your results; a good venue might be the [Electronic Journal of Linear Algebra](https://journals.uwyo.edu/index.php/ela). {ref}`[Our thoughts] <MandelbrotActivityReport-15>`\n",
    "\n",
    "(MandelbrotActivity-16)=\n",
    "\n",
    "16\\. Take some time and write down some of your own questions about this material.  As you can see, there is lots left to discover, here. {ref}`[Our thoughts] <MandelbrotActivityReport-16>`"
   ]
  },
  {
   "cell_type": "code",
   "execution_count": null,
   "metadata": {},
   "outputs": [],
   "source": []
  }
 ],
 "metadata": {
  "kernelspec": {
   "display_name": "Python 3 (ipykernel)",
   "language": "python",
   "name": "python3"
  },
  "language_info": {
   "codemirror_mode": {
    "name": "ipython",
    "version": 3
   },
   "file_extension": ".py",
   "mimetype": "text/x-python",
   "name": "python",
   "nbconvert_exporter": "python",
   "pygments_lexer": "ipython3",
   "version": "3.10.4"
  }
 },
 "nbformat": 4,
 "nbformat_minor": 4
}
