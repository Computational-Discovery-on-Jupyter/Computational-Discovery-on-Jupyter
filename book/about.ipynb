{
 "cells": [
  {
   "cell_type": "markdown",
   "id": "c3b7e179",
   "metadata": {},
   "source": [
    "# About the authors"
   ]
  },
  {
   "cell_type": "markdown",
   "id": "6bf2f491",
   "metadata": {},
   "source": [
    "## Neil J. Calkin\n",
    "`````{list-table}\n",
    ":header-rows: 0\n",
    ":widths: 35 15\n",
    "\n",
    "* - Neil J. Calkin studied mathematics as an undergraduate at Trinity College, Cambridge, and received his Ph.D. in Combinatorics and Optimization from the University of Waterloo. In 1994, he co-founded the Electronic Journal of Combinatorics with Herbert S. Wilf.  He is currently a Professor at Clemson University in the School of Mathematical and Statistical Sciences.\n",
    "  - ```{figure} Figures/about/NeilCalkin-BioPic.png\n",
    "    ---\n",
    "    name: NeilCalkin-BioPic\n",
    "    ---\n",
    "    \n",
    "    ```\n",
    "`````"
   ]
  },
  {
   "cell_type": "markdown",
   "id": "f4519ab2",
   "metadata": {},
   "source": [
    "## Eunice Y.S. Chan\n",
    "````{list-table}\n",
    ":header-rows: 0\n",
    ":widths: 35 15\n",
    "\n",
    "* - <p>Eunice Y.S. Chan did her B.Sc., M.Sc., and Ph.D. in Applied Mathematics at Western University. She was a postdoctoral fellow at the Centre for Medical Evidence, Decision Integrity and Clinical Impact (MEDICI Centre), Department of Anesthesia and Perioperative Medicine, Schulich School of Medicine and Dentistry at Western University in London, Ontario. She is now Assistant Professor in the School of Medicine, The Chinese University of Hong Kong, Shenzhen, China.</p>\n",
    "  - ```{figure} Figures/about/photo_EC.jpg\n",
    "    ---\n",
    "    name: EuniceChan-BioPic\n",
    "    ---\n",
    "    ```\n",
    "````"
   ]
  },
  {
   "cell_type": "markdown",
   "id": "fb088afa",
   "metadata": {},
   "source": [
    "## Robert M. Corless\n",
    "````{list-table}\n",
    ":header-rows: 0\n",
    ":widths: 35 15\n",
    "\n",
    "* - <p>Robert M. Corless did his B.Sc. in Mathematics and Computer Science at the University of British Columbia, his M.Math at Waterloo, and his PhD at UBC. He is Emeritus Distinguished University Professor at Western University, a member of the Rotman Institute of Philosophy, the Scientific Director of <a href=\"https://www.orcca.on.ca/\" target=\"_blank\">The Ontario Research Center for Computer Algebra</a> and an Adjunct Professor at the Cheriton School of Computer Science, the University of Waterloo.  He is the Editor-in-Chief of Maple Transactions.</p>\n",
    "  - ```{figure} Figures/about/RobPoster.jpg\n",
    "    ---\n",
    "    name: RobPoster\n",
    "    ---\n",
    "    Rob and the poster for the Lambert W function at www.orcca.on.ca/LambertW\n",
    "    ```\n",
    "````"
   ]
  }
 ],
 "metadata": {
  "celltoolbar": "Edit Metadata",
  "kernelspec": {
   "display_name": "Python 3 (ipykernel)",
   "language": "python",
   "name": "python3"
  },
  "language_info": {
   "codemirror_mode": {
    "name": "ipython",
    "version": 3
   },
   "file_extension": ".py",
   "mimetype": "text/x-python",
   "name": "python",
   "nbconvert_exporter": "python",
   "pygments_lexer": "ipython3",
   "version": "3.10.4"
  }
 },
 "nbformat": 4,
 "nbformat_minor": 5
}
