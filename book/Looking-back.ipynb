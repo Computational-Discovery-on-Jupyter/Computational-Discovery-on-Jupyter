{
 "cells": [
  {
   "cell_type": "markdown",
   "id": "bc93ebf2",
   "metadata": {},
   "source": [
    "# Zanshin\n",
    "\n",
    "```{epigraph}\n",
    "The moment when an act is completed and the mind must prepare itself for profound understanding\n",
    "\n",
    "-- From a description of the garden [\"Zanshintei\" by Shunmyo Masuno (2000)](https://books.google.ca/books?id=FhjRAgAAQBAJ&pg=PT129&lpg=PT129&dq=%22Zanshintei%22+by+Shunmyo+Masuno&source=bl&ots=2hy3HFTukj&sig=ACfU3U0UTN5uwsqrLSn5WZCN2kRp1wE1Xw&hl=en&sa=X&ved=2ahUKEwimtLzN7o7jAhVLG80KHSG6BnEQ6AEwBnoECAwQAQ#v=onepage&q=%22Zanshintei%22%20by%20Shunmyo%20Masuno&f=false) at Sankeien Kakushokaku Reception Hall, Yokohama, Kanagawa Prefecture, Japan\n",
    "```"
   ]
  },
  {
   "cell_type": "markdown",
   "id": "790afec4",
   "metadata": {},
   "source": [
    "This book (OER) is _not_ actually completed.  You can add a unit, if you like.  We will likely add some more of our own in future.  But this is a good moment for Zanshin, anyway.  This word also means something like \"follow-through\" and contains an element of maintaining a connection with what you have accomplished.\n",
    "\n",
    "You should look back over the code you have written while engaged with this work of ours.  Was the code well enough documented that you can read it still, some time after you wrote it?  Does it make sense?  If not, then that's a lesson for you about writing intelligible and reusable code.  \n",
    "\n",
    "You can also go back and skim the earlier units.  In Aikido, \"basic movements\" are the foundation of all the techniques, and just because something looks simple doesn't mean it's easy or unimportant.  The \"elementary\" pieces of mathematics and of programming are \"elementary\" not in the sense of \"easy\" but rather in the sense of \"elementary particles\", ie the bits that make up everything. (Thanks to James Davenport at the University of Bath for that simile).\n",
    "\n",
    "You might also look again at some of the harder or open questions that arose.  We are especially puzzled over the connection between continued fractions and Bohemian matrices that we found (invented? manifested?).  Your work might be especially valuable there.\n",
    "\n",
    "We hope that you are more interested in mathematics now than when you started, and are ready for your next mathematical steps. We hope that you have started to ask questions of your own more naturally.  We look forward to hearing about them!\n",
    "\n",
    "The process of \"Computational Discovery\" or \"Experimental Mathematics\" is very old, and was practiced by the masters; in addition to the other examples sprinkled throughout our work, [there is a nice letter of Newton to Leibniz discussing his (Newton's) use of it](https://www.quantamagazine.org/how-isaac-newton-discovered-the-binomial-power-series-20220831/), for example.  Computational discovery went out of fashion in pure mathematics, but might be coming back.  Consider [The Polymath Project](https://polymathprojects.org/) for example.  Of course for applied mathematics, computation plays an absolutely essential role; see for instance [the work of the IPCC](https://www.ipcc.ch/).  For much modern science and engineering, computational simulation provides the _only_ possible method of gaining insight in some situations (where physical experiments are too costly or are otherwise impossible).\n",
    "\n",
    "```{epigraph}\n",
    "It might be possible, however, to treat a few particular\n",
    "cases in detail with the aid of a digital computer. This method has the advantage\n",
    "that it is not so necessary to make simplifying assumptions as it is when doing a more\n",
    "theoretical type of analysis. It might even be possible to take the mechanical aspects of the\n",
    "problem into account as well as the chemical, when applying this type of method. The\n",
    "essential disadvantage of the method is that one only gets results for particular cases. But\n",
    "this disadvantage is probably of comparatively little importance. Even with the ring\n",
    "problem, considered in this paper, for which a reasonably complete mathematical analysis\n",
    "was possible, the computational treatment of a particular case was most illuminating.\n",
    "\n",
    "-- Alan M. Turing, [The Chemical Basis of Morphogenesis](https://royalsocietypublishing.org/doi/10.1098/rstb.1952.0012), 1952 p. 72\n",
    "```\n",
    "\n",
    "As for programming, we hope that you are now better prepared for an _actual_ programming course.  There is a lot more to learn there than we have presented.  [Read this paper (again if you have read it already)](https://journals.plos.org/plosbiology/article?id=10.1371/journal.pbio.1001745) .\n",
    "\n",
    "\n",
    "We hope also that you had fun.  We certainly did!\n"
   ]
  }
 ],
 "metadata": {
  "kernelspec": {
   "display_name": "Python 3 (ipykernel)",
   "language": "python",
   "name": "python3"
  },
  "language_info": {
   "codemirror_mode": {
    "name": "ipython",
    "version": 3
   },
   "file_extension": ".py",
   "mimetype": "text/x-python",
   "name": "python",
   "nbconvert_exporter": "python",
   "pygments_lexer": "ipython3",
   "version": "3.10.4"
  }
 },
 "nbformat": 4,
 "nbformat_minor": 5
}
