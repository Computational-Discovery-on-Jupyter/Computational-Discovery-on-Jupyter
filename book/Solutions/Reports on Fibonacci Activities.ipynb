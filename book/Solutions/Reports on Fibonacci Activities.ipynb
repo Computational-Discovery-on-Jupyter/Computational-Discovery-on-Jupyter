{
 "cells": [
  {
   "cell_type": "markdown",
   "id": "1d6cf70d",
   "metadata": {},
   "source": [
    "# Reports on Fibonacci Activities"
   ]
  },
  {
   "cell_type": "markdown",
   "id": "3f69f43f",
   "metadata": {},
   "source": [
    "(FibonacciActivityReport-1)=\n",
    "## Fibonacci Activity 1\n",
    "The activity was to create the cells, input the numbers and the + sign into them, make sure it's a \"Code\" cell, then hold down the CTRL (Command) key and hit ENTER to have the addition executed."
   ]
  },
  {
   "cell_type": "code",
   "execution_count": 2,
   "id": "152b2c96",
   "metadata": {},
   "outputs": [
    {
     "data": {
      "text/plain": [
       "1"
      ]
     },
     "execution_count": 2,
     "metadata": {},
     "output_type": "execute_result"
    }
   ],
   "source": [
    "1"
   ]
  },
  {
   "cell_type": "code",
   "execution_count": 3,
   "id": "cb7ffe9d",
   "metadata": {},
   "outputs": [
    {
     "data": {
      "text/plain": [
       "1"
      ]
     },
     "execution_count": 3,
     "metadata": {},
     "output_type": "execute_result"
    }
   ],
   "source": [
    "0+1"
   ]
  },
  {
   "cell_type": "code",
   "execution_count": 4,
   "id": "413997ea",
   "metadata": {},
   "outputs": [
    {
     "data": {
      "text/plain": [
       "2"
      ]
     },
     "execution_count": 4,
     "metadata": {},
     "output_type": "execute_result"
    }
   ],
   "source": [
    "1+1"
   ]
  },
  {
   "cell_type": "code",
   "execution_count": 5,
   "id": "65860764",
   "metadata": {},
   "outputs": [
    {
     "data": {
      "text/plain": [
       "3"
      ]
     },
     "execution_count": 5,
     "metadata": {},
     "output_type": "execute_result"
    }
   ],
   "source": [
    "1+2"
   ]
  },
  {
   "cell_type": "code",
   "execution_count": 6,
   "id": "149fcd90",
   "metadata": {},
   "outputs": [
    {
     "data": {
      "text/plain": [
       "5"
      ]
     },
     "execution_count": 6,
     "metadata": {},
     "output_type": "execute_result"
    }
   ],
   "source": [
    "2+3"
   ]
  },
  {
   "cell_type": "code",
   "execution_count": 7,
   "id": "eafedafc",
   "metadata": {},
   "outputs": [
    {
     "data": {
      "text/plain": [
       "8"
      ]
     },
     "execution_count": 7,
     "metadata": {},
     "output_type": "execute_result"
    }
   ],
   "source": [
    "3+5"
   ]
  },
  {
   "cell_type": "code",
   "execution_count": 8,
   "id": "3099c98f",
   "metadata": {},
   "outputs": [
    {
     "data": {
      "text/plain": [
       "13"
      ]
     },
     "execution_count": 8,
     "metadata": {},
     "output_type": "execute_result"
    }
   ],
   "source": [
    "5+8"
   ]
  },
  {
   "cell_type": "code",
   "execution_count": 9,
   "id": "297c5c3f",
   "metadata": {},
   "outputs": [
    {
     "data": {
      "text/plain": [
       "21"
      ]
     },
     "execution_count": 9,
     "metadata": {},
     "output_type": "execute_result"
    }
   ],
   "source": [
    "8+13"
   ]
  },
  {
   "cell_type": "code",
   "execution_count": 10,
   "id": "e3a61e26",
   "metadata": {},
   "outputs": [
    {
     "data": {
      "text/plain": [
       "34"
      ]
     },
     "execution_count": 10,
     "metadata": {},
     "output_type": "execute_result"
    }
   ],
   "source": [
    "13+21  # One more than was asked for"
   ]
  },
  {
   "cell_type": "markdown",
   "id": "e889abeb",
   "metadata": {},
   "source": [
    "One question we want to always ask about what a computer does, is \"Are those results correct?\" The answer here is _yes_, obviously, because we actually know these numbers from prior work and we can see that they are right.  Of course we expect computers to get arithmetic right!  [But see the results in Activity 10](FibonacciActivityReport-10).  One good place to check sequence answers in general is at the Online Encyclopedia of Integer Sequences (OEIS), and of course the OEIS knows the Fibonacci numbers: [sequence A000045](https://oeis.org/A000045).  There are also good historical notes given there."
   ]
  },
  {
   "cell_type": "markdown",
   "id": "2a99fb1f",
   "metadata": {},
   "source": [
    "{ref}`[Go back to Activity] <FibonacciActivity-1>`"
   ]
  },
  {
   "cell_type": "markdown",
   "id": "43979012",
   "metadata": {},
   "source": [
    "(FibonacciActivityReport-2)=\n",
    "## Fibonacci Activity 2\n",
    "\n",
    "_Write a \"for\" loop in Python to compute the Lucas numbers up to_ $L_{30}$.  _Compare your answers with the numbers given at the OEIS entry linked above (A000032)_."
   ]
  },
  {
   "cell_type": "code",
   "execution_count": 11,
   "id": "1f53a8b4",
   "metadata": {},
   "outputs": [
    {
     "name": "stdout",
     "output_type": "stream",
     "text": [
      "[2, 1, 3, 4, 7, 11, 18, 29, 47, 76, 123, 199, 322, 521, 843, 1364, 2207, 3571, 5778, 9349, 15127, 24476, 39603, 64079, 103682, 167761, 271443, 439204, 710647, 1149851, 1860498]\n"
     ]
    }
   ],
   "source": [
    "Lucas_List = [2,1]\n",
    "for i in range(2,31):\n",
    "    nxt = Lucas_List[i-1]+Lucas_List[i-2]\n",
    "    Lucas_List.append(nxt)\n",
    "print(Lucas_List)"
   ]
  },
  {
   "cell_type": "markdown",
   "id": "bec0cea6",
   "metadata": {},
   "source": [
    "From the [Online Encyclopedia of Integer Sequences, sequence A000032](https://oeis.org/A000032), we have that the Lucas sequence starts off with 2, 1, 3, 4, 7, 11, 18, 29, 47, 76, 123, 199, 322, 521, 843, 1364, 2207, 3571, 5778, 9349, 15127, 24476, 39603, 64079, 103682, 167761, 271443, 439204, 710647, 1149851, 1860498, 3010349, 4870847, 7881196, 12752043, 20633239, 33385282, 54018521, 87403803 .  The output of the program above agrees, as far as it goes."
   ]
  },
  {
   "cell_type": "markdown",
   "id": "58cc4b7b",
   "metadata": {},
   "source": [
    "{ref}`[Go back to Activity] <FibonacciActivity-2>`"
   ]
  },
  {
   "cell_type": "markdown",
   "id": "5eb8fefe",
   "metadata": {},
   "source": [
    "(FibonacciActivityReport-3)=\n",
    "## Fibonacci Activity 3\n",
    "\n",
    "_Use a \"while\" loop to compute the Lucas numbers_ up to $L_{30}$ using Python."
   ]
  },
  {
   "cell_type": "code",
   "execution_count": 12,
   "id": "d308c832",
   "metadata": {},
   "outputs": [
    {
     "name": "stdout",
     "output_type": "stream",
     "text": [
      "[2, 1, 3, 4, 7, 11, 18, 29, 47, 76, 123, 199, 322, 521, 843, 1364, 2207, 3571, 5778, 9349, 15127, 24476, 39603, 64079, 103682, 167761, 271443, 439204, 710647, 1149851, 1860498]\n"
     ]
    }
   ],
   "source": [
    "Lucas_List = [2,1]\n",
    "i = 2\n",
    "while i<31:\n",
    "    nxt = Lucas_List[i-1]+Lucas_List[i-2]\n",
    "    Lucas_List.append(nxt)\n",
    "    i += 1\n",
    "print(Lucas_List)"
   ]
  },
  {
   "cell_type": "markdown",
   "id": "a3cdd26f",
   "metadata": {},
   "source": [
    "The output is exactly the same as before."
   ]
  },
  {
   "cell_type": "markdown",
   "id": "97f58776",
   "metadata": {},
   "source": [
    "{ref}`[Go back to Activity] <FibonacciActivity-3>`"
   ]
  },
  {
   "cell_type": "markdown",
   "id": "6ccadd83",
   "metadata": {},
   "source": [
    "(FibonacciActivityReport-4)=\n",
    "## Fibonacci Activity 4\n",
    "\n",
    "_The so-called_ [Narayana cow's sequence](https://oeis.org/A000930) _has the recurrence relation $a_n = a_{n-1} + a_{n-3}$, with the initial conditions $a_0 = a_1 = a_2 = 1$.  Write a Python loop to compute up to_ $a_{30}$.  _Compare your answers with the numbers given at the OEIS entry linked above (A000930)_."
   ]
  },
  {
   "cell_type": "code",
   "execution_count": 13,
   "id": "5c47bbc7",
   "metadata": {},
   "outputs": [
    {
     "name": "stdout",
     "output_type": "stream",
     "text": [
      "[1, 1, 1, 2, 3, 4, 6, 9, 13, 19, 28, 41, 60, 88, 129, 189, 277, 406, 595, 872, 1278, 1873, 2745, 4023, 5896, 8641, 12664, 18560, 27201, 39865, 58425]\n"
     ]
    }
   ],
   "source": [
    "Narayana_cows = [1,1,1]\n",
    "for i in range(3,31):\n",
    "    nxt = Narayana_cows[i-1] + Narayana_cows[i-3]\n",
    "    Narayana_cows.append(nxt)\n",
    "print(Narayana_cows)"
   ]
  },
  {
   "cell_type": "markdown",
   "id": "08f0e49e",
   "metadata": {},
   "source": [
    "Comparing with the initial numbers at [the OEIS entry for A000930](https://oeis.org/A000930), namely, 1, 1, 1, 2, 3, 4, 6, 9, 13, 19, 28, 41, 60, 88, 129, 189, 277, 406, 595, 872, 1278, 1873, 2745, 4023, 5896, 8641, 12664, 18560, 27201, 39865, 58425, 85626, 125491, 183916, 269542, 395033, 578949, 848491, 1243524, 1822473, 2670964, 3914488, 5736961, 8407925, we see that the numbers are the same, as far as they go."
   ]
  },
  {
   "cell_type": "markdown",
   "id": "57b3e27d",
   "metadata": {},
   "source": [
    "{ref}`[Go back to Activity] <FibonacciActivity-4>`"
   ]
  },
  {
   "cell_type": "markdown",
   "id": "26c9ae07",
   "metadata": {},
   "source": [
    "(FibonacciActivityReport-5)=\n",
    "## Fibonacci Activity 5\n",
    "_Write Python code to_ [draw the traditional Fibonacci Spiral](https://en.wikipedia.org/wiki/Golden_spiral)."
   ]
  },
  {
   "cell_type": "markdown",
   "id": "00e8a336",
   "metadata": {},
   "source": [
    "A google search turns up the [following Turtle Geometry in Python Fibonacci Spiral](https://youtu.be/AH6fygto3Mk) by DavisMT, which is a bit more advanced than we had in mind; but it suffices.  There are lots of others to choose from.  Discussion of which is best could be a nice classroom activity."
   ]
  },
  {
   "cell_type": "markdown",
   "id": "38ac04d2",
   "metadata": {},
   "source": [
    "{ref}`[Go back to Activity] <FibonacciActivity-5>`"
   ]
  },
  {
   "cell_type": "markdown",
   "id": "9f2a8f19",
   "metadata": {},
   "source": [
    "(FibonacciActivityReport-6)=\n",
    "(FibonacciActivityReport-7)=\n",
    "## Fibonacci Activities 6 and 7\n",
    "We invented something that we think is new!  The activity for you was, _Write a Python program to draw these triangles and draw a spiral line through the resulting Fibonacci numbers (starting at 2)_."
   ]
  },
  {
   "cell_type": "markdown",
   "id": "6938c7bd",
   "metadata": {},
   "source": [
    "For the new spiral, we need a bit of pen-and-paper work first to work out the angles, and a consistent numbering scheme.  If we make one vertex of each triangle be the origin, it makes a nice picture with the triangles successively touching each other.  In this case it will work out better if we draw the picture first, then explain the code that drew the picture."
   ]
  },
  {
   "cell_type": "code",
   "execution_count": 14,
   "id": "e11a0b63",
   "metadata": {},
   "outputs": [
    {
     "name": "stdout",
     "output_type": "stream",
     "text": [
      "[0.0, 0.7227342478134157, 0.5856855434571508, 0.6435011087932843, 0.6223684885550206, 0.630568739599553]\n",
      "0.6283185307179586\n"
     ]
    },
    {
     "data": {
      "image/png": "[encoded data removed]",
      "text/plain": [
       "<Figure size 432x288 with 1 Axes>"
      ]
     },
     "metadata": {
      "needs_background": "light"
     },
     "output_type": "display_data"
    }
   ],
   "source": [
    "# Isosceles Fibonacci Triangle Spiral\n",
    "Final_Triangle = 7  # We will draw triangles from the flat one on, and stop at a \"Final Triangle\"\n",
    "# We will need one more Fibonacci number than triangles (because we throw the first one away )\n",
    "Fibonacci = [0,1]\n",
    "for i in range(2,Final_Triangle+2):\n",
    "    nxt = Fibonacci[i-1]+Fibonacci[i-2]\n",
    "    Fibonacci.append(nxt)\n",
    "angle_cosines = [Fibonacci[i]/(2*Fibonacci[i-1]) for i in range(3,Final_Triangle+2)]\n",
    "\n",
    "# When writing this code, print statements like the following \n",
    "# were very useful for debugging.  We have left them in, but commented them out\n",
    "# so Python does not execute them (but you can see them)\n",
    "# print( angle_cosines )\n",
    "\n",
    "import numpy as np\n",
    "\n",
    "# These are the small angles in the isosceles triangles\n",
    "angles = [np.arccos(t) for t in angle_cosines ]\n",
    "\n",
    "print(angles)  # Actually there is something interesting about these angles\n",
    "print(np.pi/5)\n",
    "\n",
    "# We need the cumulative sums of those angles for our spiral\n",
    "theta = np.cumsum(angles)\n",
    "\n",
    "#print(theta)\n",
    "r = [Fibonacci[i] for i in range(3,Final_Triangle+2)]\n",
    "#print(r, r[-1])\n",
    "\n",
    "import matplotlib.pyplot as plt\n",
    "\n",
    "fig, ax = plt.subplots(subplot_kw={'projection': 'polar'}) # same as before\n",
    "# Plot the spiral (ie the outermost points of each triangle)\n",
    "ax.plot(theta, r) # same as before\n",
    "\n",
    "# Now plot the long sides of each triangle\n",
    "for i in range(len(r)):\n",
    "    ax.plot([0,theta[i]], [0, r[i]])\n",
    "\n",
    "ax.set_rmax(r[-1]) # \n",
    "ax.set_rticks(r)  # Show Fibonacci radii for our plot\n",
    "#ax.set_rlabel_position(-22.5)  # don't need this command\n",
    "ax.grid(True) # same as before\n",
    "\n",
    "ax.set_title(\"New Fibonacci Spiral\", va='bottom') # change the title\n",
    "plt.show()"
   ]
  },
  {
   "cell_type": "markdown",
   "id": "0ee4e092",
   "metadata": {},
   "source": [
    "There's lots to talk about in that code.  The \"cumsum\" function has an odd name (the same name as the corresponding function in Matlab) but it just replaces a list [x, y, z, w] with another list [x, x+y, x+y+z, x+y+z+w].  So, simple but useful.  We needed it because the _direction_ the final triangle is pointing has as its angle the sum of its internal angle plus all the angles of the previous triangles: the cumulative sum, in other words.  The final entry in a list can be referred to by asking for the \"-1\" entry, viz: r[-1] gives us the largest radius.  The counting was hard, because there is no (0,0,1) triangle, and the (1,1,2) triangle is flat and has internal angles 0 or 180 degrees (0 or $\\pi$ radians, and of course the trig functions in Python use radians).  Python chose the colours of the lines, because we didn't specify them; the labels are a bit squashed up because we didn't try very hard to make this spiral pretty.  We _expect_ that you can already do better than this program.\n",
    "\n",
    "We did not try to draw a smooth curve through the points, but a polar curve with radius $\\phi^t/\\sqrt{5}$ and angle linear in $t$ can be made to match these points pretty closely.  That's also not a bad activity.\n",
    "\n",
    "The interesting fact alluded to above, when we printed the angles, was that they very quickly settle down to $\\pi/5$.  This is because $F_n/(2F_{n-1})$ very quickly settles down to $\\phi/2$, and, which is a surprising fact, the angle whose cosine is $\\phi/2$ is $\\pi/5$.  There is a square root of 5 in $\\phi$, and a $5$ in the radian measure of its arccosine; is this a coincidence?  You might want to try to _prove_ to yourself that these facts are true; if you manage it, you might simultaneously find a reason (or alternatively decide that it is, in fact, just a coincidence).  But that sort of thing is much more like traditional math, and so we reluctantly do not pursue it here."
   ]
  },
  {
   "cell_type": "markdown",
   "id": "2bc1a772",
   "metadata": {},
   "source": [
    "{ref}`[Go back to Activity] <FibonacciActivity-6>`"
   ]
  },
  {
   "cell_type": "markdown",
   "id": "74ee0e11",
   "metadata": {},
   "source": [
    "(FibonacciActivityReport-8)=\n",
    "(FibonacciActivityReport-9)=\n",
    "## Fibonacci Activities 8 and 9\n",
    "\n",
    "Now we look at the activities with the length (in bits) of Fibonacci numbers. The first question is \"Compute the $n$th Fibonacci number for $n=100$, $1000$, and $10000$.  How many digits does each have?\n",
    "Can you predict the number of digits in $F_n$ as a function of $n$?  How many bits in the binary expansions? \" \n",
    "\n",
    "First we check that Binet's formula does a reasonable job:"
   ]
  },
  {
   "cell_type": "code",
   "execution_count": 15,
   "id": "9f8c62b8",
   "metadata": {},
   "outputs": [
    {
     "name": "stdout",
     "output_type": "stream",
     "text": [
      "1.0 1.0 2.0 3.0 5.0 8.0 13.0\n",
      "55.0 3.542248481792631e+20 4.3466557686938915e+208\n"
     ]
    }
   ],
   "source": [
    "phi = (1+np.sqrt(5))/2\n",
    "def Binet(n):\n",
    "    return(np.round( phi**n / np.sqrt(5)))\n",
    "\n",
    "print(Binet(1), Binet(2), Binet(3), Binet(4), Binet(5), Binet(6), Binet(7))\n",
    "print(Binet(10), Binet(100), Binet(1000))"
   ]
  },
  {
   "cell_type": "code",
   "execution_count": 16,
   "id": "7be9793d",
   "metadata": {},
   "outputs": [
    {
     "name": "stdout",
     "output_type": "stream",
     "text": [
      "55 354224848179261915075 43466557686937456435688527675040625802564660517371780402481729089536555417949051890403879840079255169295922593080322634775209689623239873322471161642996440906533187938298969649928516003704476137795166849228875 43466557686937456435688527675040625802564660517371780402481729089536555417949051890403879840079255169295922593080322634775209689623239873322471161642996440906533187938298969649928516003704476137795166849228875\n"
     ]
    }
   ],
   "source": [
    "def fibo(n):\n",
    "    prev = 0\n",
    "    curr = 1\n",
    "    for i in range(2,n+1):\n",
    "        fib = curr + prev\n",
    "        prev = curr\n",
    "        curr = fib\n",
    "    return(fib)\n",
    "\n",
    "print(fibo(10), fibo(100), fibo(1000), fibo(1000))"
   ]
  },
  {
   "cell_type": "markdown",
   "id": "84348d3a",
   "metadata": {},
   "source": [
    "Those numbers agree (up to floating-point error) and so we accept the formula $F_n \\approx \\phi^n/\\sqrt{5}$.  Since we are told that the length (in bits) of $F_n$ has something to do with $\\log_2 F_n$, we think for a moment and realize that it actually takes $\\lceil \\log_2 F_n \\rceil$ bits, where the _ceiling_ of a real number $x$, namely $\\lceil x \\rceil$, is defined as the integer you get when you round _up_ (alternatively, it is the smallest integer greater than or equal to $x$).  Now we try to simplify\n",
    "\n",
    "$$\n",
    "\\log_2 F_n \\approx \\log_2 \\left( \\frac{\\phi^n}{\\sqrt5} \\right) = n\\log_2 \\phi - \\log_2\\sqrt{5} \\approx n \\ln \\phi/\\ln 2. \n",
    "$$\n",
    "\n",
    "(We ignored the $-\\log_2\\sqrt{5}$ in that last line because that is only about 1 bit, and if $n$ is at all large, that $1$ won't matter.)\n",
    "By simple computation, we have $\\ln \\phi/\\ln 2 \\approx 0.4812/0.6931 \\approx 0.6942 $.  This predicts that the number of bits needed to represent $F_n$ should be _linearly_ related to $n$, at least approximately.   Let's try first for $F_{10} = 55$.  In binary, this is $110111$, which needs six bits.  The prediction, on the other hand, is $0.6942\\cdot 10 = 6.942$, either $6$ or $7$ bits.  This is adequate agreement, but not convincing.  Now let's try $F_{100} = 354224848179261915075$ which took 69 bits; the prediction is $69.42$ bits, which is better agreement.  Converting $F_{1000}$ to binary gives $1000011101100011001011000001111011010101110010110000100101011100110010101110110001000101101111001011000011001110111010101100001110100000111101000011000110100110011011101011010001101001110010011110100111001101101010011111100100001011001010100100111011011010010111101011010010001001001101010101010011100110000011011100110000011000101111000110001111111101100010101110011001110000101000000001101000000100110001101000111111101010110000110000010010111000110101000100000010100000111100000111010110000010110000000010010011000010110111111010001000000000111100001100010010101101001100100011100110110101010010100001101000000001011111110001110000101101011001010011011100011101011100110000000110000001001011$ which has $694$ bits.  We hope that this is convincing, now."
   ]
  },
  {
   "cell_type": "code",
   "execution_count": 17,
   "id": "51e6ce6f",
   "metadata": {},
   "outputs": [
    {
     "name": "stdout",
     "output_type": "stream",
     "text": [
      "1.160964047443681\n"
     ]
    }
   ],
   "source": [
    "print(np.log(5)/(2*np.log(2))) # log base 2 of the square root of 5"
   ]
  },
  {
   "cell_type": "code",
   "execution_count": 18,
   "id": "7d919ef4",
   "metadata": {},
   "outputs": [
    {
     "data": {
      "text/plain": [
       "'0b1000011101100011001011000001111011010101110010110000100101011100110010101110110001000101101111001011000011001110111010101100001110100000111101000011000110100110011011101011010001101001110010011110100111001101101010011111100100001011001010100100111011011010010111101011010010001001001101010101010011100110000011011100110000011000101111000110001111111101100010101110011001110000101000000001101000000100110001101000111111101010110000110000010010111000110101000100000010100000111100000111010110000010110000000010010011000010110111111010001000000000111100001100010010101101001100100011100110110101010010100001101000000001011111110001110000101101011001010011011100011101011100110000000110000001001011'"
      ]
     },
     "execution_count": 18,
     "metadata": {},
     "output_type": "execute_result"
    }
   ],
   "source": [
    "bin(fibo(1000))"
   ]
  },
  {
   "cell_type": "code",
   "execution_count": 19,
   "id": "1289af96",
   "metadata": {},
   "outputs": [
    {
     "data": {
      "text/plain": [
       "696"
      ]
     },
     "execution_count": 19,
     "metadata": {},
     "output_type": "execute_result"
    }
   ],
   "source": [
    "len(bin(fibo(1000)))"
   ]
  },
  {
   "cell_type": "markdown",
   "id": "d06726d8",
   "metadata": {},
   "source": [
    "That length is 696 and not 694 because of the extra two characters '0b' at the start."
   ]
  },
  {
   "cell_type": "code",
   "execution_count": 20,
   "id": "95602abe",
   "metadata": {},
   "outputs": [
    {
     "name": "stdout",
     "output_type": "stream",
     "text": [
      "0 b 0 0b0 0\n"
     ]
    }
   ],
   "source": [
    "a = bin(0)\n",
    "print(a[0],a[1], a[2], a, \n",
    "      a[-1])"
   ]
  },
  {
   "cell_type": "markdown",
   "id": "2dc69f36",
   "metadata": {},
   "source": [
    "{ref}`[Go back to Activity] <FibonacciActivity-8>`"
   ]
  },
  {
   "cell_type": "markdown",
   "id": "5d4f7948",
   "metadata": {},
   "source": [
    "(FibonacciActivityReport-10)=\n",
    "## Fibonacci Activity 10\n",
    "_Figure out how to implement iterated squaring to compute $A^{51}$ by a sequence of Python statements_.  Then code a function which will take $n$ and $A$ as inputs, compute $A^n$ by iterated squaring (also called _binary powering_ and the general strategy is sometimes called \"divide and conquer\") and return it.  \n",
    "You should only need to use two matrices for storage if you are careful.  There are several ways to do this.  For one method, a hint is to find the low order bits of $n$ first."
   ]
  },
  {
   "cell_type": "code",
   "execution_count": 21,
   "id": "5bc34392",
   "metadata": {},
   "outputs": [],
   "source": [
    "def bipow(A, n):\n",
    "    ndim = A.shape[0]\n",
    "    ni = n\n",
    "    answer = np.identity(ndim, dtype=int)\n",
    "    multiplier = A\n",
    "    # At this point, with ni = n, we have A**n = answer*multiplier**ni\n",
    "    while ni > 0:\n",
    "        # print(binaryn[-i])\n",
    "        if ni % 2 == 0:\n",
    "            # Even bit, so ni <- ni/2\n",
    "            ni = ni/2 # Integer division\n",
    "            multiplier = np.matmul(multiplier,multiplier)\n",
    "            # Still true that answer*multiplier**ni = A**n\n",
    "        else:\n",
    "            # Odd bit, so ni <- ni - 1\n",
    "            ni = ni - 1\n",
    "            answer = np.matmul(answer,multiplier)\n",
    "            # Still true that answer*multiplier**ni = A**n\n",
    "    return(answer) # At this point, ni=0 so answer = A**n\n",
    "    "
   ]
  },
  {
   "cell_type": "markdown",
   "id": "2d29649a",
   "metadata": {},
   "source": [
    "Let us prove, by induction on $n$, that the code above is correct, _on the assumption that the inputs are a matrix A and a nonnegative integer $n$_.  \n",
    "\n",
    "1. At the first marked point, the variables \"answer\" and \"multiplier\" and \"ni\" are such that `A**n = answer*multiplier**ni`.\n",
    "2. The while loop terminates with ni=0. To prove this, note that every time through the loop ni is replaced by a smaller integer, either ni/2 or ni-1.  Therefore the loop executes a finite number of times.  It only terminates if ni=0.\n",
    "3. After each branch of the if statement, it remains true that `A**n = answer*multiplier**ni`. This is a \"loop invariant\". This is because in the \"even\" branch, the multiplier is squared so `A**n = answer*(multiplier**2)**(ni/2)`, and in the \"odd\" branch the answer variable is altered so `A**n = (answer*multiplier)*(multiplier**(ni-1))`.\n",
    "4. When the loop ends, ni=0, so \"answer\" contains `A**n`."
   ]
  },
  {
   "cell_type": "code",
   "execution_count": 22,
   "id": "6bae3491",
   "metadata": {},
   "outputs": [
    {
     "name": "stdout",
     "output_type": "stream",
     "text": [
      "[[ 1  1]\n",
      " [-1  1]] [[-2  2]\n",
      " [-2 -2]] [[-2  2]\n",
      " [-2 -2]]\n"
     ]
    }
   ],
   "source": [
    "A = np.array([[1,1],[-1,1]])\n",
    "B = np.matmul(np.matmul(A,A), A)\n",
    "print(A, B, bipow(A,3))"
   ]
  },
  {
   "cell_type": "markdown",
   "id": "f1ffa394",
   "metadata": {},
   "source": [
    "The statements below are a kind of \"minimal test\" of the code above.  The difference between $A^n$ computed by one method versus `bipow(A,n)` should be zero, and for our examples, it is.  _Even though_ the code contains a proof of correctness using \"loop invariants\" and induction, one wants to test the code.  By using a random matrix and a bunch of powers, both odd and even, one gains some confidence.\n",
    "\n",
    "That code did not run correctly the first time, either!  Even though RMC has been programming for decades, and has written this particular program before in other languages, there were glitches, now fixed.  To find and fix the glitches, he inserted various print statements to look at intermediate results.  Eventually he gave up on using the binary expansion of n to decide whether to square or to multiply because it was too \"fiddly\" and changed to the more straightforward method above. This code is easier to read, if marginally less efficient.  We tell you this just to let you know that writing code involves dealing with bugs, and that this is _always_ an issue."
   ]
  },
  {
   "cell_type": "code",
   "execution_count": 23,
   "id": "a56a5b68",
   "metadata": {},
   "outputs": [
    {
     "name": "stdout",
     "output_type": "stream",
     "text": [
      "[[0 0 0 0 0 0 0 0 0 0]\n",
      " [0 0 0 0 0 0 0 0 0 0]\n",
      " [0 0 0 0 0 0 0 0 0 0]\n",
      " [0 0 0 0 0 0 0 0 0 0]\n",
      " [0 0 0 0 0 0 0 0 0 0]\n",
      " [0 0 0 0 0 0 0 0 0 0]\n",
      " [0 0 0 0 0 0 0 0 0 0]\n",
      " [0 0 0 0 0 0 0 0 0 0]\n",
      " [0 0 0 0 0 0 0 0 0 0]\n",
      " [0 0 0 0 0 0 0 0 0 0]] [[0 0 0 0 0 0 0 0 0 0]\n",
      " [0 0 0 0 0 0 0 0 0 0]\n",
      " [0 0 0 0 0 0 0 0 0 0]\n",
      " [0 0 0 0 0 0 0 0 0 0]\n",
      " [0 0 0 0 0 0 0 0 0 0]\n",
      " [0 0 0 0 0 0 0 0 0 0]\n",
      " [0 0 0 0 0 0 0 0 0 0]\n",
      " [0 0 0 0 0 0 0 0 0 0]\n",
      " [0 0 0 0 0 0 0 0 0 0]\n",
      " [0 0 0 0 0 0 0 0 0 0]] [[0 0 0 0 0 0 0 0 0 0]\n",
      " [0 0 0 0 0 0 0 0 0 0]\n",
      " [0 0 0 0 0 0 0 0 0 0]\n",
      " [0 0 0 0 0 0 0 0 0 0]\n",
      " [0 0 0 0 0 0 0 0 0 0]\n",
      " [0 0 0 0 0 0 0 0 0 0]\n",
      " [0 0 0 0 0 0 0 0 0 0]\n",
      " [0 0 0 0 0 0 0 0 0 0]\n",
      " [0 0 0 0 0 0 0 0 0 0]\n",
      " [0 0 0 0 0 0 0 0 0 0]] [[0 0 0 0 0 0 0 0 0 0]\n",
      " [0 0 0 0 0 0 0 0 0 0]\n",
      " [0 0 0 0 0 0 0 0 0 0]\n",
      " [0 0 0 0 0 0 0 0 0 0]\n",
      " [0 0 0 0 0 0 0 0 0 0]\n",
      " [0 0 0 0 0 0 0 0 0 0]\n",
      " [0 0 0 0 0 0 0 0 0 0]\n",
      " [0 0 0 0 0 0 0 0 0 0]\n",
      " [0 0 0 0 0 0 0 0 0 0]\n",
      " [0 0 0 0 0 0 0 0 0 0]]\n"
     ]
    }
   ],
   "source": [
    "A = np.random.randint(-99,99,(10,10))\n",
    "A2 = np.matmul(A,A)\n",
    "A4 = np.matmul(A2,A2)\n",
    "A3 = np.matmul(A2,A)\n",
    "A7 = np.matmul(A4,A3)\n",
    "print(bipow(A,2)-A2, bipow(A,3)- A3, bipow(A,4)- A4, bipow(A,7)- A7)"
   ]
  },
  {
   "cell_type": "markdown",
   "id": "b0bc44e9",
   "metadata": {},
   "source": [
    "Now let's use this to generate Fibonacci numbers.  At first, all goes well, but when we tried to find $F_{51}$ by this method, we got a shock. __On one of our systems, the following code produced the output quoted below the cell below:__"
   ]
  },
  {
   "cell_type": "code",
   "execution_count": 24,
   "id": "a6c34f88",
   "metadata": {},
   "outputs": [
    {
     "name": "stdout",
     "output_type": "stream",
     "text": [
      "[[5 3]\n",
      " [3 2]]\n",
      "[[8 5]\n",
      " [5 3]]\n",
      "[[1346269  832040]\n",
      " [ 832040  514229]]\n",
      "[[32951280099 20365011074]\n",
      " [20365011074 12586269025]]\n"
     ]
    }
   ],
   "source": [
    "A = np.array([[1,1],[1,0]])\n",
    "print(bipow(A,4))\n",
    "print(bipow(A,5))\n",
    "print(bipow(A,30))\n",
    "print(bipow(A, 51))"
   ]
  },
  {
   "cell_type": "markdown",
   "id": "3575c8cc",
   "metadata": {},
   "source": [
    "Quoting that answer for posterity (copied-and-pasted into a Markdown version, showing what happened when this code was run on RMC's machine):\n",
    "\n",
    "```python\n",
    "[[5 3]\n",
    " [3 2]]\n",
    "[[8 5]\n",
    " [5 3]]\n",
    "[[1346269  832040]\n",
    " [ 832040  514229]]\n",
    "[[-1408458269 -1109825406]\n",
    " [-1109825406  -298632863]]\n",
    "```"
   ]
  },
  {
   "cell_type": "markdown",
   "id": "84ac220e",
   "metadata": {},
   "source": [
    "Now we see a _truly staggering_ thing about computers and programs.  We _proved_ our program was correct.  We _tested_ our program.  And now we see that it can give wrong results!  There is _no way_ that raising the Fibonacci matrix to a positive power can produce a matrix with negative entries.\n",
    "\n",
    "__Maybe even worse, your system may not have given the same answer.  Maybe the answer on your system was correct!__\n",
    "\n",
    "What _on earth_ happened here?  The answer is in the internal data structure.  Let us look for the first time this happens."
   ]
  },
  {
   "cell_type": "code",
   "execution_count": 25,
   "id": "db3dc15d",
   "metadata": {},
   "outputs": [
    {
     "name": "stdout",
     "output_type": "stream",
     "text": [
      "[[165580141 102334155]\n",
      " [102334155  63245986]]\n"
     ]
    }
   ],
   "source": [
    "print(bipow(A,40))"
   ]
  },
  {
   "cell_type": "code",
   "execution_count": 26,
   "id": "888fc1f2",
   "metadata": {},
   "outputs": [
    {
     "name": "stdout",
     "output_type": "stream",
     "text": [
      "[[1836311903 1134903170]\n",
      " [1134903170  701408733]]\n"
     ]
    }
   ],
   "source": [
    "print(bipow(A,45))"
   ]
  },
  {
   "cell_type": "code",
   "execution_count": 27,
   "id": "d9ec6733",
   "metadata": {},
   "outputs": [
    {
     "name": "stdout",
     "output_type": "stream",
     "text": [
      "[[4807526976 2971215073]\n",
      " [2971215073 1836311903]]\n"
     ]
    }
   ],
   "source": [
    "print(bipow(A,47))"
   ]
  },
  {
   "cell_type": "markdown",
   "id": "5320ccd5",
   "metadata": {},
   "source": [
    "quoting that for posterity, because the output on your system may be different:\n",
    "```python\n",
    "[[  512559680 -1323752223]\n",
    " [-1323752223  1836311903]]\n",
    " ```"
   ]
  },
  {
   "cell_type": "code",
   "execution_count": 28,
   "id": "4e16dd72",
   "metadata": {},
   "outputs": [
    {
     "name": "stdout",
     "output_type": "stream",
     "text": [
      "[[2971215073 1836311903]\n",
      " [1836311903 1134903170]]\n"
     ]
    }
   ],
   "source": [
    "print(bipow(A,46))"
   ]
  },
  {
   "cell_type": "markdown",
   "id": "ed133828",
   "metadata": {},
   "source": [
    "again quoting that for posterity, because the output on your system may be different:\n",
    "```python\n",
    "[[-1323752223  1836311903]\n",
    " [ 1836311903  1134903170]]\n",
    "```"
   ]
  },
  {
   "cell_type": "code",
   "execution_count": 29,
   "id": "f86495f4",
   "metadata": {},
   "outputs": [
    {
     "data": {
      "text/plain": [
       "2971215073"
      ]
     },
     "execution_count": 29,
     "metadata": {},
     "output_type": "execute_result"
    }
   ],
   "source": [
    "1836311903+1134903170"
   ]
  },
  {
   "cell_type": "markdown",
   "id": "a6d5eb15",
   "metadata": {},
   "source": [
    "That's what that entry in the matrix should have been, not -1323752223.  How could this _happen_?"
   ]
  },
  {
   "cell_type": "code",
   "execution_count": 30,
   "id": "59323fb2",
   "metadata": {},
   "outputs": [
    {
     "data": {
      "text/plain": [
       "34"
      ]
     },
     "execution_count": 30,
     "metadata": {},
     "output_type": "execute_result"
    }
   ],
   "source": [
    "len(bin(2971215073))"
   ]
  },
  {
   "cell_type": "code",
   "execution_count": 31,
   "id": "465d337a",
   "metadata": {},
   "outputs": [
    {
     "data": {
      "text/plain": [
       "33"
      ]
     },
     "execution_count": 31,
     "metadata": {},
     "output_type": "execute_result"
    }
   ],
   "source": [
    "len(bin(1836311903))"
   ]
  },
  {
   "cell_type": "markdown",
   "id": "0c3f1e20",
   "metadata": {},
   "source": [
    "For Linux/Unix systems, our program fails at $n=92$."
   ]
  },
  {
   "cell_type": "code",
   "execution_count": 32,
   "id": "94a18469",
   "metadata": {},
   "outputs": [
    {
     "name": "stdout",
     "output_type": "stream",
     "text": [
      "[[-6246583658587674878  7540113804746346429]\n",
      " [ 7540113804746346429  4660046610375530309]]\n"
     ]
    }
   ],
   "source": [
    "print(bipow(A,92))"
   ]
  },
  {
   "cell_type": "markdown",
   "id": "781ec22d",
   "metadata": {},
   "source": [
    "It turns out that there is such a thing as a [thirty-two bit signed integer](https://numpy.org/doc/stable/reference/arrays.scalars.html#numpy.intc).  The _leading bit_ of that kind of integer is `0` if the number is positive, but if the leading bit is `1` then the number is taken to be _negative_.  Thus, on a computer, if the wrong datatype is used, it is possible to _add_ two positive integers and have the result be interpreted as being _negative_. "
   ]
  },
  {
   "cell_type": "markdown",
   "id": "8402f872",
   "metadata": {},
   "source": [
    "And there is the problem.  Remember that the length of a binary number includes the \"0b\" at the beginning, so the number that wound up being negative was 32 bits long; whereas the last Fibonacci number that was ok was 31 bits long.  Somehow the code decided that it was using [\"32 bit integers\"](https://www.quora.com/What-is-a-32-bit-signed-integer) instead of the normal Python arbitrary-length integers.  Our \"proof\" assumed the normal properties of integers&mdash;which are needed for the matrix multiplication to be correct&mdash;and this kind of assumption is so natural to us we didn't even notice we used it.\n",
    "\n",
    "Welcome to the world of computer programming.  Yes, we have to know about data types.\n",
    "\n",
    "In this particular case, it is even more problematic that the issue appears only on some machines (on Windows but not on Linux, for instance).  Welcome to the world of computing on shifting sand, where versions matter, where the particular computer matters, and complexity is an ever-growing issue.\n",
    "\n",
    "[Here is a discussion of the issue](https://lightrun.com/answers/numpy-numpy-inconsistent-handling-of-integer-overflow-between-windows-and-linux-)\n",
    "\n",
    "Moreover, it is possible that this behaviour could change in future.  Nonetheless, that this artifact existed at one time may give you pause in believing the output of computer systems uncritically."
   ]
  },
  {
   "cell_type": "markdown",
   "id": "40f1e553",
   "metadata": {},
   "source": [
    "We could fix this by writing our own matrix multiply that uses Python long integers (its default) instead of NumPy's 32 bit integers, and perhaps that's a useful activity.  We will leave that to linear algebra class though.  Instead we will look a bit more carefully at just what we need here; and we will do so in the main text, not here in the \"Report\" section.  Instead we just provide (with very little comment) a report for the \"divide and conquer\" suggested advanced activity.  This code is recursive (but not exponentially expensive), uses \"tuples\" (the pairs of numbers ($F_{n-1},F_n$) ) and recurrence relations derived from the matrix multiplication described in the main text.  It also does _not_ use NumPy and therefore winds up using the default Python long integers, so we get correct answers (provided we don't call it with zero, or negative integers, or nonsense)."
   ]
  },
  {
   "cell_type": "code",
   "execution_count": 33,
   "id": "b4dbaf30",
   "metadata": {},
   "outputs": [],
   "source": [
    "def FibonacciByHalving(n):\n",
    "    if n ==1 :\n",
    "        return((0,1))\n",
    "    else:\n",
    "        m, r = divmod(n, 2)  # The quotient + remainder (either 0 or 1)\n",
    "        fm1, fm = FibonacciByHalving( m ) # A problem of half the size\n",
    "        if r==0:\n",
    "            fn  = fm*(fm + 2*fm1)\n",
    "            fn1 = fm*fm + fm1*fm1\n",
    "        else:\n",
    "            fn  = (fm+fm1)**2 + fm**2\n",
    "            fn1 = fm*(fm + 2*fm1)\n",
    "        return((fn1,fn))"
   ]
  },
  {
   "cell_type": "code",
   "execution_count": 34,
   "id": "27000f42",
   "metadata": {},
   "outputs": [
    {
     "data": {
      "text/plain": [
       "(1836311903, 2971215073)"
      ]
     },
     "execution_count": 34,
     "metadata": {},
     "output_type": "execute_result"
    }
   ],
   "source": [
    "FibonacciByHalving(47)"
   ]
  },
  {
   "cell_type": "code",
   "execution_count": 35,
   "id": "06ba047a",
   "metadata": {},
   "outputs": [
    {
     "name": "stdout",
     "output_type": "stream",
     "text": [
      "0.13527989387512207\n"
     ]
    }
   ],
   "source": [
    "import time\n",
    "st = time.time()\n",
    "FibonacciByHalving(1000000) # Took 10 seconds on this machine when using \"fibo\"\n",
    "time_taken = time.time() - st\n",
    "print(time_taken)"
   ]
  },
  {
   "cell_type": "markdown",
   "id": "3a43d475",
   "metadata": {},
   "source": [
    "So that code was more than a hundred times faster than the original \"fibo\" code.  Not bad.  What about for ten million?  Twenty million?  Remember, $F_n$ has about 0.694n bits in it&mdash;so $F_{10^7}$ will have more than six million bits; the _answer_ is so large that dealing with it must take time.  "
   ]
  },
  {
   "cell_type": "code",
   "execution_count": 36,
   "id": "d7052de9",
   "metadata": {},
   "outputs": [
    {
     "name": "stdout",
     "output_type": "stream",
     "text": [
      "3.8393659591674805\n"
     ]
    }
   ],
   "source": [
    "st = time.time()\n",
    "FibonacciByHalving(10**7) # \n",
    "time_taken = time.time() - st\n",
    "print(time_taken)"
   ]
  },
  {
   "cell_type": "code",
   "execution_count": 37,
   "id": "3a3cb9fd",
   "metadata": {},
   "outputs": [
    {
     "name": "stdout",
     "output_type": "stream",
     "text": [
      "13.949755191802979\n"
     ]
    }
   ],
   "source": [
    "st = time.time()\n",
    "FibonacciByHalving(2*10**7) \n",
    "time_taken = time.time() - st\n",
    "print(time_taken)"
   ]
  },
  {
   "cell_type": "markdown",
   "id": "a322f28c",
   "metadata": {},
   "source": [
    "It looks like _doubling_ the size of the input led to the computation taking roughly _four_ times the time. (Somewhat annoyingly, the times reported are quite variable: on this run it was 3 seconds vs 13 seconds, but _sometimes_ it's 3 seconds vs 8 seconds, which looks better; to get accurate timings, one has to do many runs.  We don't do this here, because this is only rough work.)  The factor of 4 (when we see it) seems like quadratic growth, which we were hoping to avoid: the cost seems proportional to $n^2$.  But this happens because multiplication is more expensive than addition; even though we are doing fewer operations, we are doing more expensive multiplication; and we have to multiply six million bit integers together, and that takes time.  \n",
    "\n",
    "We can fix this by using _faster methods to multiply integers_ but that's Python's problem.  They should implement the fast multiplication methods.  That's not our job."
   ]
  },
  {
   "cell_type": "markdown",
   "id": "2db19ad8",
   "metadata": {},
   "source": [
    "{ref}`[Go back to Activity] <FibonacciActivity-10>`"
   ]
  },
  {
   "cell_type": "markdown",
   "id": "964f8e24",
   "metadata": {},
   "source": [
    "(FibonacciActivityReport-11)=\n",
    "## Fibonacci Activity 11\n",
    "_Which is a better method, using matrices or using Binet's formula_, to compute Fibonacci numbers up to (say) $F_{200}$? Does using the iterated squaring help with Binet's formula as well?  How many decimal digits do you have to compute $\\phi$ to in order to ensure that $F_n$ is accurate?  You don't have to _prove_ your formula for number of decimal digits, by the way; experiments are enough for this question.  You will have to figure out how to do variable precision arithmetic in some way (perhaps by searching out a Python package to do it). "
   ]
  },
  {
   "cell_type": "markdown",
   "id": "e1b243a6",
   "metadata": {},
   "source": [
    "We have demonstrated that `FibonacciByHalving`, which is related to the matrix method, is better than either (it doesn't waste space, for instance).  While Binet's formula is useful for a lot of things, the variable precision needed for large $n$ (if one wants the exact answer) mean that it's usually simpler to compute with (long) integers.\n",
    "\n",
    "As for the _precision_ question, in this case you get out what you put in.  The length of the Fibonacci number that you get out has so many bits of precision, and you can't get that from an inaccurate value of $\\phi$.  The question of _how much precision do you need_ is a bit tricky, though.  By theoretical means (see the \"Best Approximation\" section at the end of the unit) we can deduce that $F_{n+1}/F_n - \\phi$ is about the same size as $1/F_n^2$.  This turns the problem on its head: if we could use low-accuracy versions of $\\phi$ to get a good $F_n$, then we could turn around and improve the accuracy of $\\phi$.  This seems like \"something for nothing\".  More prosaically, using 5 digits of $\\phi$ gets you the first five or so digits of $F_n$, no more; this means that it's good up to about $n = 16$.  When $n=17$, $F_n = 1597$ and $F_n^2$ is bigger than a million, so $1/F_n^2$ is smaller than $10^{-6}$ and so computing an approximation to $F_{17}$ from the five-digit $\\phi$ doesn't work."
   ]
  },
  {
   "cell_type": "markdown",
   "id": "ae84fd87",
   "metadata": {},
   "source": [
    "{ref}`[Go back to Activity] <FibonacciActivity-11>`"
   ]
  },
  {
   "cell_type": "markdown",
   "id": "ad7918af",
   "metadata": {},
   "source": [
    "(FibonacciActivityReport-12)=\n",
    "## Fibonacci Activity 12\n",
    "\n",
    "_Compute the last twenty digits of_ $F_n$ where $n = 7^{k}$ for $k=1$, $k=12$, $k=123$, $k=1234$, and so on, all the way up to $k=123456789$, or as far as you can go in this progression using \"reasonable computer time\".  Record the computing times.  At Clemson the student numbers are eight digits long, and these can be used in place of $123456789$ in the progression above, for variety.\n",
    "\n",
    "\n"
   ]
  },
  {
   "cell_type": "code",
   "execution_count": 38,
   "id": "780036ab",
   "metadata": {},
   "outputs": [],
   "source": [
    "def FibonacciByHalvingModM(n,M):\n",
    "    if n ==1 :\n",
    "        return((0,1))\n",
    "    else:\n",
    "        m, r = divmod(n, 2)  # The quotient + remainder (either 0 or 1)\n",
    "        fm1, fm = FibonacciByHalvingModM( m, M ) # A problem of half the size\n",
    "        if r==0:\n",
    "            fn  = (fm*(fm + 2*fm1)) % M  # Extra parens seem to be necessary\n",
    "            fn1 = (fm*fm + fm1*fm1) % M\n",
    "        else:\n",
    "            fn  = ((fm+fm1)**2 + fm**2) % M\n",
    "            fn1 = (fm*(fm + 2*fm1)    ) % M\n",
    "        return((fn1,fn))"
   ]
  },
  {
   "cell_type": "code",
   "execution_count": 39,
   "id": "0e043c88",
   "metadata": {},
   "outputs": [
    {
     "data": {
      "text/plain": [
       "(26, 75)"
      ]
     },
     "execution_count": 39,
     "metadata": {},
     "output_type": "execute_result"
    }
   ],
   "source": [
    "FibonacciByHalvingModM(10**6, 100)"
   ]
  },
  {
   "cell_type": "code",
   "execution_count": 40,
   "id": "f87cbb58",
   "metadata": {},
   "outputs": [
    {
     "name": "stdout",
     "output_type": "stream",
     "text": [
      "0.013669967651367188\n"
     ]
    }
   ],
   "source": [
    "st = time.time()\n",
    "FibonacciByHalvingModM(7**123,10**100) \n",
    "time_taken = time.time() - st\n",
    "print(time_taken)"
   ]
  },
  {
   "cell_type": "code",
   "execution_count": 41,
   "id": "1e98e33d",
   "metadata": {},
   "outputs": [],
   "source": [
    "#st = time.time()\n",
    "#FibonacciByHalvingModM(7**1234,10**100) \n",
    "#time_taken = time.time() - st\n",
    "#print(time_taken)"
   ]
  },
  {
   "cell_type": "markdown",
   "id": "e69dda1f",
   "metadata": {},
   "source": [
    "Here's the error message that occurs when that last cell is uncommented (remove the # from the start of each line)\n",
    "\n",
    "---------------------------------------------------------------------------\n",
    "````\n",
    "RecursionError                            Traceback (most recent call last)\n",
    "Input In [38], in <module>\n",
    "      1 st = time.time()\n",
    "----> 2 FibonacciByHalvingModM(7**1234,10**100) \n",
    "      3 time_taken = time.time() - st\n",
    "      4 print( time_taken )\n",
    "\n",
    "Input In [35], in FibonacciByHalvingModM(n, M)\n",
    "      4 else:\n",
    "      5     m, r = divmod( n, 2 )  # The quotient + remainder (either 0 or 1)\n",
    "----> 6     fm1, fm = FibonacciByHalvingModM( m, M ) # A problem of half the size\n",
    "      7     if r==0:\n",
    "      8         fn  = (fm*(fm + 2*fm1)) % M  # Extra parens seem to be necessary\n",
    "\n",
    "Input In [35], in FibonacciByHalvingModM(n, M)\n",
    "      4 else:\n",
    "      5     m, r = divmod( n, 2 )  # The quotient + remainder (either 0 or 1)\n",
    "----> 6     fm1, fm = FibonacciByHalvingModM( m, M ) # A problem of half the size\n",
    "      7     if r==0:\n",
    "      8         fn  = (fm*(fm + 2*fm1)) % M  # Extra parens seem to be necessary\n",
    "\n",
    "    [... skipping similar frames: FibonacciByHalvingModM at line 6 (2969 times)]\n",
    "\n",
    "Input In [35], in FibonacciByHalvingModM(n, M)\n",
    "      4 else:\n",
    "      5     m, r = divmod( n, 2 )  # The quotient + remainder (either 0 or 1)\n",
    "----> 6     fm1, fm = FibonacciByHalvingModM( m, M ) # A problem of half the size\n",
    "      7     if r==0:\n",
    "      8         fn  = (fm*(fm + 2*fm1)) % M  # Extra parens seem to be necessary\n",
    "\n",
    "Input In [35], in FibonacciByHalvingModM(n, M)\n",
    "      1 def FibonacciByHalvingModM(n,M):\n",
    "----> 2     if n ==1 :\n",
    "      3         return( (0,1) )\n",
    "      4     else:\n",
    "\n",
    "RecursionError: maximum recursion depth exceeded in comparison\n",
    "````"
   ]
  },
  {
   "cell_type": "markdown",
   "id": "9ef72063",
   "metadata": {},
   "source": [
    "So, that recursive code cannot do the $7^{12345678}$ version, or even $7^{1234}$, because recursions are only allowed to nest so deep: the \"stack\" overflows.  It's not clear Python could even handle such a big input anyway, without testing.  (But, it seems to work, as seen below).  But to find the final 100 digits of the Fibonacci number for this $n$, we're going to have to work a bit harder to make it possible for the computer to get it."
   ]
  },
  {
   "cell_type": "code",
   "execution_count": 42,
   "id": "8e3a3d3b",
   "metadata": {},
   "outputs": [
    {
     "name": "stdout",
     "output_type": "stream",
     "text": [
      "12.246654033660889\n"
     ]
    }
   ],
   "source": [
    "st = time.time()\n",
    "big = 7**12345678; # Has about 10 million digits when expanded.  Not sure Python gets it right.\n",
    "time_taken = time.time() - st\n",
    "print(time_taken)"
   ]
  },
  {
   "cell_type": "code",
   "execution_count": 43,
   "id": "a56928c5",
   "metadata": {},
   "outputs": [],
   "source": [
    "# Manually translated from the Maple routine combinat[fibonacci]\n",
    "def FibonacciByDoubling(n):\n",
    "    if n==0:\n",
    "        return(0)\n",
    "    elif n<0:\n",
    "        return( (-1)**(1-n)*FibonacciByDoubling(-n) )\n",
    "    else:\n",
    "        p = n\n",
    "        b = []\n",
    "        while p != 0:\n",
    "            m, r = divmod( p, 2 )\n",
    "            p    = m\n",
    "            b.append(r)\n",
    "        f0 = 0\n",
    "        f1 = 1\n",
    "        for i in range(len(b)-2,-1,-1):\n",
    "            if b[i]==0:\n",
    "                s = f0\n",
    "                if i>0:\n",
    "                    f0 = f1**2 + f0**2\n",
    "                f1 = f1*(f1+2*s)\n",
    "            else:\n",
    "                s = f1\n",
    "                f1 = f1**2 + (f0+f1)**2\n",
    "                if i>0:\n",
    "                    f0 = s*(s+2*f0)\n",
    "        return(f1)"
   ]
  },
  {
   "cell_type": "code",
   "execution_count": 44,
   "id": "68d079f8",
   "metadata": {},
   "outputs": [
    {
     "data": {
      "text/plain": [
       "(6765, (4181, 6765))"
      ]
     },
     "execution_count": 44,
     "metadata": {},
     "output_type": "execute_result"
    }
   ],
   "source": [
    "FibonacciByDoubling(20), FibonacciByHalving(20)  # The answer should be the same, both ways, and it is."
   ]
  },
  {
   "cell_type": "code",
   "execution_count": 45,
   "id": "fcacffc3",
   "metadata": {},
   "outputs": [],
   "source": [
    "# Modular arithmetic folded in\n",
    "def FibonacciByDoublingModM(n, M):\n",
    "    if n==0:\n",
    "        return(0)\n",
    "    elif n<0:\n",
    "        return( (-1)**(1-n)*FibonacciByDoublingModM(-n,M) )\n",
    "    else:\n",
    "        p = n\n",
    "        b = []\n",
    "        while p != 0:\n",
    "            m, r = divmod( p, 2 )\n",
    "            p    = m\n",
    "            b.append(r)\n",
    "        f0 = 0\n",
    "        f1 = 1\n",
    "        for i in range(len(b)-2,-1,-1):\n",
    "            if b[i]==0:\n",
    "                s = f0\n",
    "                if i>0:\n",
    "                    f0 = (f1**2 + f0**2) % M\n",
    "                f1 = (f1*(f1+2*s)) % M\n",
    "            else:\n",
    "                s = f1\n",
    "                f1 = (f1**2 + (f0+f1)**2) % M\n",
    "                if i>0:\n",
    "                    f0 = (s*(s+2*f0)) % M\n",
    "        return(f1)"
   ]
  },
  {
   "cell_type": "code",
   "execution_count": 46,
   "id": "c616f520",
   "metadata": {},
   "outputs": [
    {
     "name": "stdout",
     "output_type": "stream",
     "text": [
      "24.319815158843994 3303961837047442579487010911533190161514152117063487274236115429253289173645117777960901109522457601\n"
     ]
    }
   ],
   "source": [
    "st = time.time()\n",
    "Final100 = FibonacciByDoublingModM(7**123456,10**100) \n",
    "time_taken = time.time() - st\n",
    "print(time_taken, Final100)"
   ]
  },
  {
   "cell_type": "markdown",
   "id": "bfc69559",
   "metadata": {},
   "source": [
    "Now we seem to be \"cooking with gas\"!  But the exponent we want is a _hundred_ times larger, so we would have to do (it seems) vastly more work, impractically so.  So, again, we need a _better method_, not just better programming skills."
   ]
  },
  {
   "cell_type": "markdown",
   "id": "a907466b",
   "metadata": {},
   "source": [
    "{ref}`[Go back to Activity] <FibonacciActivity-12>`"
   ]
  },
  {
   "cell_type": "markdown",
   "id": "ee516885",
   "metadata": {},
   "source": [
    "(FibonacciActivityReport-13)=\n",
    "## Fibonacci Activity 13\n",
    "_Compute the last hundred digits of $F_n$ where $n = 7^{12345678}$ for yourself, and confirm our answer (or prove us wrong)_. "
   ]
  },
  {
   "cell_type": "markdown",
   "id": "fd7db678",
   "metadata": {},
   "source": [
    "We will need modular arithmetic for _very_ high powers, and it looks like Python's built-in code has some limitations.  The following answer is, apparently, wrong.  It is certainly not what we expected! Raising seven to a power gets an odd number, surely! In response, we wrote our own code. (But it turns out Python is \"right\", it's just doing something we didn't expect&mdash;more after our own code)."
   ]
  },
  {
   "cell_type": "code",
   "execution_count": 47,
   "id": "d8023ed2",
   "metadata": {},
   "outputs": [
    {
     "name": "stdout",
     "output_type": "stream",
     "text": [
      "4000000000000000000000000000000000000000000000000000000000000000000000000000000000000000000000000000\n"
     ]
    }
   ],
   "source": [
    "PythonFailure = 7**12345678 % 15*10**99\n",
    "print(PythonFailure)"
   ]
  },
  {
   "cell_type": "markdown",
   "id": "e70daa7b",
   "metadata": {},
   "source": [
    "That can't be right.  It's certainly not the answer Maple gets.  Well, let's write our own modular powering, using the same trick as is used in `bipow` above."
   ]
  },
  {
   "cell_type": "code",
   "execution_count": 48,
   "id": "8bc9a044",
   "metadata": {},
   "outputs": [],
   "source": [
    "def BinaryIntegerPowerModM( a, b, M):\n",
    "    n = b\n",
    "    answer = 1\n",
    "    multiplier = a % M\n",
    "    while n > 0:\n",
    "        if n % 2 == 0:\n",
    "            n = n/2\n",
    "            multiplier = multiplier * multiplier % M\n",
    "        else:\n",
    "            n = n - 1\n",
    "            answer = answer * multiplier % M\n",
    "    return(answer)"
   ]
  },
  {
   "cell_type": "code",
   "execution_count": 49,
   "id": "f5f04dcf",
   "metadata": {
    "scrolled": true
   },
   "outputs": [
    {
     "name": "stdout",
     "output_type": "stream",
     "text": [
      "10074958745783517956561868690867278026860583978054601497639995184130970247153466763696198800985914449 0.00011587142944335938\n"
     ]
    }
   ],
   "source": [
    "st = time.time()\n",
    "good = BinaryIntegerPowerModM(7, 12345678, 15*10**99)\n",
    "time_taken = time.time() - st\n",
    "print(good, time_taken)"
   ]
  },
  {
   "cell_type": "markdown",
   "id": "55b5a369",
   "metadata": {},
   "source": [
    "That's the same answer Maple got.  It took us a while to understand Python's different answer with direct use of %.  We thought at first, possibly some kind of overflow of the long integer? It seemed that it computed the large number first and only then tried to do the modular computation.  But, no.  The problem was we need brackets. But, we learned (by checking the time taken) that Python indeed builds that ten-million-digit number first, and then uses modular arithmetic.  Our code was quite a bit faster. (A factor of 1700 faster on one run, which makes us happy; the timings in this run may differ).\n",
    "\n",
    "Now try nine digits."
   ]
  },
  {
   "cell_type": "code",
   "execution_count": 50,
   "id": "8501da48",
   "metadata": {},
   "outputs": [
    {
     "name": "stdout",
     "output_type": "stream",
     "text": [
      "9970146625619845782834561006870277384130667336988626592393064577383315981126385562996947892776429607 0.00013303756713867188\n"
     ]
    }
   ],
   "source": [
    "st = time.time()\n",
    "good = BinaryIntegerPowerModM( 7, 123456789, 15*10**99 )\n",
    "time_taken = time.time() - st\n",
    "print(good, time_taken)"
   ]
  },
  {
   "cell_type": "code",
   "execution_count": 51,
   "id": "e06ac313",
   "metadata": {},
   "outputs": [
    {
     "name": "stdout",
     "output_type": "stream",
     "text": [
      "10074958745783517956561868690867278026860583978054601497639995184130970247153466763696198800985914449 12.114707231521606\n"
     ]
    }
   ],
   "source": [
    "st = time.time()\n",
    "PythonSucceeds = 7**12345678 % (15*10**99)\n",
    "time_taken = time.time() - st\n",
    "print(PythonSucceeds, time_taken)"
   ]
  },
  {
   "cell_type": "code",
   "execution_count": 52,
   "id": "7ab5cfc4",
   "metadata": {},
   "outputs": [
    {
     "name": "stdout",
     "output_type": "stream",
     "text": [
      "307317414528301264423288910092883733560870958520339896436368099936463847448493468403352592709652449 0.0014278888702392578\n"
     ]
    }
   ],
   "source": [
    "st = time.time()\n",
    "ans = FibonacciByDoublingModM(10074958745783517956561868690867278026860583978054601497639995184130970247153466763696198800985914449,10**100) \n",
    "time_taken = time.time() - st\n",
    "print(ans, time_taken)"
   ]
  },
  {
   "cell_type": "code",
   "execution_count": 53,
   "id": "7d811eac",
   "metadata": {},
   "outputs": [
    {
     "name": "stdout",
     "output_type": "stream",
     "text": [
      "2709652449 0.0006222724914550781\n"
     ]
    }
   ],
   "source": [
    "st = time.time()\n",
    "ans = FibonacciByDoublingModM(10074958745783517956561868690867278026860583978054601497639995184130970247153466763696198800985914449,10**10) \n",
    "time_taken = time.time() - st\n",
    "print(ans, time_taken)"
   ]
  },
  {
   "cell_type": "markdown",
   "id": "c3c4d8c5",
   "metadata": {},
   "source": [
    "{ref}`[Go back to Activity] <FibonacciActivity-13>`"
   ]
  },
  {
   "cell_type": "markdown",
   "id": "df5ddd3f",
   "metadata": {},
   "source": [
    "(FibonacciActivityReport-14)=\n",
    "## Fibonacci Activity 14\n",
    "_Write down some questions (don't worry about answers) about Fibonacci numbers or the Binet formula_.\n",
    "\n",
    "We really do want you to write your own questions.  It's likely that some of the questions you ask will not be productive (that's true of the questions we write down, that's how we know) but _because_ you think about these things differently than we do your chance of coming up with a productive new question is not at all bad.\n",
    "\n",
    "Here's our free-association try at answering this.  What happens if we replace the two initial conditions $F_0 = 0$ and $F_1=1$ with _boundary_ conditions, say $F_0=0$ and $F_{20} = 100$?  What happens if you _reverse the digits_ of the Fibonacci numbers?  (0, 1, 1, 2, 3, 5, 8, 31, 12, 55, 98, $\\ldots$).  (We have no idea if that's productive or not, but we bet \"not\").  What happens if you reverse the _bits_ in the binary expansion?  Is there any linear relation among the results?  (Ok maybe it's interesting).  What happens if instead of always adding $F_{n} + F_{n-1}$ one randomly chose between adding and subtracting? (This is quite likely a very interesting question).  Is there a second order difference equation whose solutions grow more slowly than the Fibonacci numbers?  How many papers have been written about Fibonacci numbers?  How many books?  Is there someone in the world who might be considered \"the world's greatest Fibonacci expert?\" (Ok, now we're getting silly.)  What is the \"most beautiful\" Fibonacci image or sculpture?  Is there Fibonacci-based music?  (Apparently there is Sanskrit poetry that is related, so why not music?)  What is the most practical use of the Fibonacci numbers? (Yes, there are some.)  There are apparently some financial \"uses\" of Fibonacci numbers in trading: are those just another scam? Remember, _caveat emptor_.\n",
    "\n",
    "_Afterwards, choose out one of your questions and (if you want) answer it_\n",
    "\n",
    "We'll take the \"boundary value\" question, because it's connected with a number of other mathematical subjects.  We _could_ set this up as a linear system of equations, write down the matrix, and solve it that way.  This connects the problem with linear algebra.  But let's take a step back, and use a (significantly!) older method, known as _Ahmes' method_ which we know from the [Rhind papyrus](https://en.wikipedia.org/wiki/Rhind_Mathematical_Papyrus).  This also, in this context, connects with one method for solving boundary value problems for ordinary differential equations that you might meet in a later numerical methods class, but that's just a bonus.  Ahmes method is to _guess_ what one unknown is, then solve the problem that way, then linearly adjust the guess so that your answer works out correctly.  We will use it in a slightly more systematic way.\n",
    "\n",
    "The key here for us is that whatever method we choose for solving the problem, eventually it will specify some value for $F_1$.  Call that $\\alpha$.  So we now have $F_0 = 0$ and $F_1 = \\alpha$.  Running the Fibonacci recurrence relation, we get $F_2 = \\alpha$, $F_3 = 2\\alpha$.  At this point we realize that we need the letter $F$ for the original Fibonacci numbers, so we go back and rename everything in the new problem: We want $B_0 = 0$, $B_{20} = 100$, and $B_{n+1} = B_n + B_{n-1}$ (B for Boundary).  So we have $B_1 = \\alpha$, $B_2 = \\alpha$, $B_3 = 2\\alpha$, $B_4 = 3\\alpha$, $B_5 = 5\\alpha$, and it seems like we will have $B_n = F_n \\alpha$.  We can prove this by induction.  So, if we are to have $B_{20} = 100$, we must have $\\alpha = 100/F_{20} = 100/6765$.  The following code shows that this actually works."
   ]
  },
  {
   "cell_type": "code",
   "execution_count": 54,
   "id": "fb467b7c",
   "metadata": {},
   "outputs": [
    {
     "data": {
      "image/png": "[encoded data removed]",
      "text/plain": [
       "<Figure size 432x288 with 1 Axes>"
      ]
     },
     "metadata": {
      "needs_background": "light"
     },
     "output_type": "display_data"
    }
   ],
   "source": [
    "n  = [k for k in range(21)] # Range of independent n\n",
    "B = [0, 100/6765.0] # Initial conditions that we deduced\n",
    "for k in range(2,21):\n",
    "    nxt = B[k-1]+B[k-2]\n",
    "    B.append(nxt)\n",
    "fig, ax = plt.subplots() \n",
    "ax.scatter(n,B)\n",
    "ax.grid(True) \n",
    "\n",
    "ax.set_title(\"Solution of the Boundary-value problem\", va='bottom') \n",
    "plt.show()"
   ]
  },
  {
   "cell_type": "markdown",
   "id": "4d3cb40a",
   "metadata": {},
   "source": [
    "{ref}`[Go back to Activity] <FibonacciActivity-14>`"
   ]
  },
  {
   "cell_type": "markdown",
   "id": "6edd6b42",
   "metadata": {},
   "source": [
    "(FibonacciGraduateActivityReport-1)=\n",
    "## Fibonacci Graduate Activities\n",
    "\n",
    "1\\. Show that $F(t+1)/F(t) - \\phi$ is exactly zero whenever $t$ is half-way between integers, and is maximum not when $t$ is an integer but a fixed amount (with a somewhat strange exact expression, namely $-\\arctan((2/\\pi)\\ln\\phi)/\\pi$) less than an integer."
   ]
  },
  {
   "cell_type": "markdown",
   "id": "24afcad7",
   "metadata": {},
   "source": [
    "This activity is plain algebra and calculus to start.  We did this with a computer algebra system; manipulation by hand is a bit tedious, and at this level there is no advantage to hand computation.  To see that it's true without calculus, a plot works.  But this is not a proof, although pretty convincing.  One advantage of a plot over a \"proof\" is that you can see that there are _extra features_ for negative $t$, namely singularities when $F(t) = 0$.  Indeed this helps to motivate the next activity."
   ]
  },
  {
   "cell_type": "code",
   "execution_count": 55,
   "id": "1b8f5be9",
   "metadata": {},
   "outputs": [
    {
     "data": {
      "image/png": "[encoded data removed]",
      "text/plain": [
       "<Figure size 432x288 with 1 Axes>"
      ]
     },
     "metadata": {
      "needs_background": "light"
     },
     "output_type": "display_data"
    }
   ],
   "source": [
    "def F(t):\n",
    "    phi = (1+np.sqrt(5.0))/2\n",
    "    return((phi**t - np.cos(np.pi*t)*phi**(-t))/np.sqrt(5.0))\n",
    "\n",
    "t = np.arange(-5,5,0.01)  # Make a fine grid of t values \n",
    "phi = (1+np.sqrt(5.0))/2\n",
    "y = [F(tau+1)/F(tau)-phi for tau in t]   \n",
    "fig, ax = plt.subplots() # Cartesian is default, anyway\n",
    "ax.plot(t, y) \n",
    "ax.grid(True) # show intersections\n",
    "plt.ylim(-2,2)\n",
    "ax.set_title(\"Growth Factor for F(t) compared to $\\phi$\", va='bottom') \n",
    "plt.show()"
   ]
  },
  {
   "cell_type": "markdown",
   "id": "32ea0162",
   "metadata": {},
   "source": [
    "2\\. Show that $F(t)$ has an infinite number of real zeros, and these rapidly approach negative half integers as $t$ goes to $-\\infty$."
   ]
  },
  {
   "cell_type": "markdown",
   "id": "1916f440",
   "metadata": {},
   "source": [
    "Since the negative Fibonacci numbers $F_{-k} = (-1)^{k-1}F_k$ alternate in sign, by the intermediate value theorem there must be a zero between $F(-1)=1$ and $F(-2)=-1$, another between $F(-2)=-1$ and $F(-3)=2$, and so on.  That establishes the first part.  To do the second, use Binet's formula and notice that $\\phi^t$ gets very small for large negative $t$.  This forces the zeros to be very nearly the same as the zeros of $\\cos\\pi t$, which occur at half-integers.  You can use Newton's method to get the asymptotic formula\n",
    "\n",
    "$$\n",
    "t_{-k-1}^* = -k - \\frac{1}{2} + \\frac{(-1)^k}{\\pi}\\phi^{-2k-1} + \\cdots\n",
    "$$\n",
    "\n",
    "This formula already gives for $k=1$ the answer $-1.575$, where the true zero is approximately $-1.570$.  The agreement only gets better for larger $k$.  By $k=5$ the formula gives more than five decimals accurately; by $k=14$ it gives full double precision accuracy.  Since $\\phi = 1.618\\ldots$ is bigger than $1$, in the limit as $k \\to \\infty$ the zeros approach half-integers."
   ]
  },
  {
   "cell_type": "markdown",
   "id": "ea3f6d0d",
   "metadata": {},
   "source": [
    "3\\. Rearrange the Fibonacci recurrence relation to \n",
    "\n",
    "$$\n",
    "\\frac{F(t+1)-F(t-1)}{2} = \\frac{1}{2} F(t)\n",
    "$$\n",
    "\n",
    "and by making an analogy to finite differences argue that the golden ratio $\\phi$ \"ought to\" be close to $\\exp(1/2)$.  Show that this is in fact true, to within about $2$ percent."
   ]
  },
  {
   "cell_type": "markdown",
   "id": "dcc933b5",
   "metadata": {},
   "source": [
    "The central difference on the left is a (very crude) approximation to $F'(t)$, the derivative at $t$.  Solving the differential equation $F'(t) = F(t)/2$ gives $F(t) = C\\exp(t/2)$, which grows by a factor $\\exp(1/2)$ when $t$ is incremented by $1$.  But Fibonacci numbers grow by a factor $\\phi$ when $n$ is incremented by $1$.  So $\\exp(1/2) = 1.648\\ldots$ ought to be close to $\\phi = 1.618\\ldots$.  And, it is!  We found this fact very surprising, and there may be something deeper going on."
   ]
  },
  {
   "cell_type": "markdown",
   "id": "c0cecbf0",
   "metadata": {},
   "source": [
    "4\\. Draw a [phase portrait](https://medium.com/@balidani/phase-portrait-animations-of-complex-functions-f0a44c2477c1) showing the _complex_ zeros of $F(t)$.  Give an approximate formula (asymptotically correct as $\\Re(t)$ goes to plus infinity) for the locations of these zeros."
   ]
  },
  {
   "cell_type": "markdown",
   "id": "c4eb5ada",
   "metadata": {},
   "source": [
    "This activity is connected with a (quite new) development in the presentation of complex functions, namely the use of phase portraits, as done at the link above.  This was first used (to our knowledge, anyway) by [Elias Wegert in his book Visual Complex Functions](https://link.springer.com/book/10.1007/978-3-0348-0180-5) but has since been used to very great effect.  It turns out that one can, after all, make a _useful_ two-dimensional plot of a complex function, by plotting the _argument_ of $F(z)$ in colour according to a _colour wheel_ given by the simple plot of the function $F(z) = z$.  If your software plots the real axis for that simple function as (say) light blue, then the line of light blue in your plot of the more complicated $F(z)$ tells you what $F$ does to the real axis.  Similarly for the sectors.  One key point is that _zero_ (for the simple function $F(z)=z$) has _all colours touching it_ and moreover if you circle around zero clockwise you get a particular sequence of colours (say, blue, green, yellow, red) by the time you get back to where you started.  If you see a point in the phase portrait of your complicated function $F(z)$ which has all colours, in that order clockwise, then you have located a place where $F(z)=0$.  You can see the zeros of a complex function on the graph!  \n",
    "\n",
    "You can also see poles, because the colours will be the same but go clockwise instead.  Branch cuts and other things are also visible.  \n",
    "\n",
    "It takes a _bit_ of getting used to, but surprisingly little.  And, besides, the pictures are very pretty.\n"
   ]
  },
  {
   "cell_type": "markdown",
   "id": "95020adc",
   "metadata": {},
   "source": [
    "To find approximate locations of the zeros, set $F(t) = 0$.  This gives the equation\n",
    "\n",
    "$$\n",
    "\\phi^{2t} = \\cos\\pi t = \\frac{1}{2}\\left( e^{i\\pi t} + e^{-i\\pi t} \\right)\n",
    "$$\n",
    "\n",
    "using the complex expression for cosine.  We now put $t = \\sigma + i\\tau$ and explore what happens when both $\\sigma$ and $\\tau$ are large and positive (a similar thing can be done in the lower half plane).  By comparing the _magnitudes_ of the left and right hand side, and neglecting the term in the cosine that is small (being multiplied by $\\exp(-\\pi\\tau)$) we get the following approximation:\n",
    "\n",
    "$$\n",
    "2\\ln\\phi \\sigma + \\ln 2 = \\pi \\tau .\n",
    "$$\n",
    "\n",
    "If we plot this line we see a pretty good match with the line of zeros.\n",
    "\n",
    "By comparing the _arguments_ we get a similar-looking equation:\n",
    "\n",
    "$$\n",
    "e^{2i\\ln\\phi \\tau + 2\\pi i K} = e^{-i\\pi \\sigma}\n",
    "$$\n",
    "\n",
    "where now $K$ can be _any_ integer.  Setting these exponents to be equal, we get a second (linear) equation relating $\\sigma$ and $\\tau$.  These two equations can be solved to get the following approximate locations for the zeros.\n",
    "\n",
    "\\begin{align}\n",
    "\\sigma &= -\\frac{2 \\ln \\! \\left(2\\right) \\ln \\! \\left(\\phi \\right)}{4 \\ln \\! \\left(\\phi \\right)^{2}+\\pi^{2}} -\\frac{2 \\pi^{2} K}{4 \\ln \\! \\left(\\phi \\right)^{2}+\\pi^{2}} \\\\\n",
    "\\tau &= \\frac{\\pi  \\ln \\! \\left(2\\right)}{4 \\ln \\! \\left(\\phi \\right)^{2}+\\pi^{2}} -\\frac{4 \\pi  \\ln \\! \\left(\\phi \\right) K}{4 \\ln \\! \\left(\\phi \\right)^{2}+\\pi^{2}}\n",
    "\\end{align}\n",
    "\n",
    "We show four choices of $K$ (it turns out we need negative integers $K$) in the following figure.  The agreement is pretty good even for the smallest magnitude zero, and it only gets better as we compare larger zeros.\n",
    "\n",
    "Since the zeros come in conjugate pairs, if $(\\sigma,\\tau)$ is a zero then so is $(\\sigma,-\\tau)$."
   ]
  },
  {
   "cell_type": "markdown",
   "id": "378bbf75",
   "metadata": {},
   "source": [
    "```{figure} ../Figures/Fibonacci/FibonacciZeros.png\n",
    "---\n",
    "height: 600px\n",
    "name: Fibonacci Zeros\n",
    "---\n",
    "This phase portrait shows the zeros of the continuous Fibonacci function.  The black dots on the top right are from the approximate formula.\n",
    "```"
   ]
  },
  {
   "cell_type": "markdown",
   "id": "5f318e65",
   "metadata": {},
   "source": [
    "5\\.  The angles satisfy $\\cos \\theta_n = F_n/(2F_{n-1})$, and these rapidly tend to $\\pi/5$ with cosine $\\phi/2$.  So the cumulative sum to, say, $N$ terms is going to approach\n",
    "\n",
    "$$\n",
    "\\psi_N = \\sum_{n=3}^N \\theta_n = (N-3)\\frac{\\pi}{5} + \\cdots\n",
    "$$\n",
    "\n",
    "and the detailed behaviour of the $\\cdots$ is going to be of interest.  We find (this is an unverified solution, unpublished elsewhere) that\n",
    "\n",
    "$$\n",
    "\\psi_t = (t-3)\\frac{\\pi}{5} + c_0 + c_2\\cos(\\pi t) \\phi^{-2t} + O( \\phi^{-4t} )\n",
    "$$\n",
    "\n",
    "and we have numerically found that $c_0 \\approx -0.565677757047407$ and $c_2 \\approx 1.37638192047117$.  We'd actually like to know more about this."
   ]
  },
  {
   "cell_type": "markdown",
   "id": "db2c2268",
   "metadata": {},
   "source": [
    "{ref}`[Go back to Activity] <FibonacciGraduateActivity-1>`"
   ]
  },
  {
   "cell_type": "markdown",
   "id": "f63c3cd8",
   "metadata": {},
   "source": [
    "(FibonacciActivityReport-15)=\n",
    "## Fibonacci Activity 15: Truncated Power Series\n",
    "_We want you to program the algebraic operations for Truncated Power Series (TPS for short)_."
   ]
  },
  {
   "cell_type": "markdown",
   "id": "d2392d47",
   "metadata": {},
   "source": [
    "We describe a very basic implementation of Truncated Power Series in Python.  We are not going to use anything fancy (such as operator overloading, or object-oriented programming) although using those would really make the package easier to use and understand.  The purpose of this is not _use_ per se, but rather _practice in programming_.  And we are just beginning, here.  So we take it slow.\n",
    "\n",
    "The first thing is to decide what data structure to use.  We choose a simple list as our basic data structure: a Truncated Power Series will be represented by a list of its coefficients.  To keep things simple, we make _all_ our lists have the same length, which we will call `Order` (like the Maple variable for its `series` command)."
   ]
  },
  {
   "cell_type": "code",
   "execution_count": 56,
   "id": "5f2e0d88",
   "metadata": {},
   "outputs": [],
   "source": [
    "Order = 8"
   ]
  },
  {
   "cell_type": "code",
   "execution_count": 57,
   "id": "22f7f886",
   "metadata": {},
   "outputs": [
    {
     "name": "stdout",
     "output_type": "stream",
     "text": [
      "[0, 1, 0, 0, 0, 0, 0, 0]\n"
     ]
    }
   ],
   "source": [
    "# This series is 0 + 1*x + 0*x^2 + ... + 0*x^{Order-1} + O(x^Order)\n",
    "x = [0, 1]\n",
    "for i in range(2,Order):\n",
    "    x.append(0)\n",
    "print(x)"
   ]
  },
  {
   "cell_type": "code",
   "execution_count": 58,
   "id": "46d313c0",
   "metadata": {},
   "outputs": [
    {
     "name": "stdout",
     "output_type": "stream",
     "text": [
      "[1, 1, 1, 1, 1, 1, 1, 1]\n"
     ]
    }
   ],
   "source": [
    "geom = [1 for i in range(Order)]\n",
    "print(geom)"
   ]
  },
  {
   "cell_type": "code",
   "execution_count": 59,
   "id": "e5fad97e",
   "metadata": {},
   "outputs": [],
   "source": [
    "def addTPS(a, b):\n",
    "    c = []\n",
    "    for i in range(Order):\n",
    "        c.append(a[i] + b[i])\n",
    "    return(c)"
   ]
  },
  {
   "cell_type": "code",
   "execution_count": 60,
   "id": "fb141c3a",
   "metadata": {},
   "outputs": [],
   "source": [
    "def scalarMultiplyTPS(alpha, a):\n",
    "    c = []\n",
    "    for i in range(Order):\n",
    "        c.append(alpha*a[i])\n",
    "    return(c)"
   ]
  },
  {
   "cell_type": "code",
   "execution_count": 61,
   "id": "976d88d6",
   "metadata": {},
   "outputs": [
    {
     "name": "stdout",
     "output_type": "stream",
     "text": [
      "[13, 13, 13, 13, 13, 13, 13, 13]\n",
      "[1, 2, 1, 1, 1, 1, 1, 1]\n"
     ]
    }
   ],
   "source": [
    "print(scalarMultiplyTPS(13, geom))\n",
    "print(addTPS(x, geom))"
   ]
  },
  {
   "cell_type": "code",
   "execution_count": 62,
   "id": "bb495550",
   "metadata": {},
   "outputs": [],
   "source": [
    "def multiplyTPS(a, b):\n",
    "    c = []\n",
    "    for i in range(Order):\n",
    "        tmp = 0\n",
    "        for j in range(i+1):  # Why is it i+1 here and not \"i\" ? (Rhetorical question)\n",
    "            tmp += a[j]*b[i-j]\n",
    "        c.append(tmp)\n",
    "    return(c)"
   ]
  },
  {
   "cell_type": "code",
   "execution_count": 63,
   "id": "be0d88b4",
   "metadata": {},
   "outputs": [
    {
     "name": "stdout",
     "output_type": "stream",
     "text": [
      "[2, 2, 2, 2, 2, 2, 2, 2]\n"
     ]
    }
   ],
   "source": [
    "print(addTPS(geom, geom))"
   ]
  },
  {
   "cell_type": "code",
   "execution_count": 64,
   "id": "8bef7e7e",
   "metadata": {},
   "outputs": [
    {
     "name": "stdout",
     "output_type": "stream",
     "text": [
      "[1, -1, 0, 0, 0, 0, 0, 0]\n",
      "[1, 0, 0, 0, 0, 0, 0, 0]\n"
     ]
    }
   ],
   "source": [
    "oneminusx = [1,-1]\n",
    "for i in range(2,Order):\n",
    "    oneminusx.append(0)\n",
    "print(oneminusx)\n",
    "print(multiplyTPS(oneminusx, geom))"
   ]
  },
  {
   "cell_type": "markdown",
   "id": "b4fa8942",
   "metadata": {},
   "source": [
    "This represents the \"well-known\" geometric series fact that \n",
    "\n",
    "$$\n",
    "\\frac{1}{1-x} = 1 + x + x^2 + x^3 + \\cdots + x^{n-1} + O(x^n) .\n",
    "$$\n"
   ]
  },
  {
   "cell_type": "code",
   "execution_count": 65,
   "id": "9aba41e2",
   "metadata": {},
   "outputs": [
    {
     "name": "stdout",
     "output_type": "stream",
     "text": [
      "[1, 2, 3, 4, 5, 6, 7, 8]\n"
     ]
    }
   ],
   "source": [
    "print(multiplyTPS(geom, geom))"
   ]
  },
  {
   "cell_type": "markdown",
   "id": "74a7cac7",
   "metadata": {},
   "source": [
    "We can understand this if we know that the derivative of $1/(1-x)$ is $1/(1-x)^2$ and the derivative of the geometric series is $0 + 1 + 2x + 3x^2 + 4x^3 + \\cdots$.  If we don't know any calculus, we can multiply the TPS out by hand to see that it's true."
   ]
  },
  {
   "cell_type": "code",
   "execution_count": 66,
   "id": "aa68fdad",
   "metadata": {},
   "outputs": [],
   "source": [
    "def divideTPS(a, b):\n",
    "    d = [a[0]/b[0]] # Will divide by zero if b[0]=0\n",
    "    for i in range(1,Order):\n",
    "        tmp = 0\n",
    "        for j in range(1,i+1):\n",
    "            tmp += b[j]*d[i-j]\n",
    "        d.append((a[i]-tmp)/b[0])\n",
    "    return(d)"
   ]
  },
  {
   "cell_type": "code",
   "execution_count": 67,
   "id": "30a85e2a",
   "metadata": {},
   "outputs": [
    {
     "name": "stdout",
     "output_type": "stream",
     "text": [
      "[1.0, 1.0, 1.0, 1.0, 1.0, 1.0, 1.0, 1.0]\n"
     ]
    }
   ],
   "source": [
    "one = [1]\n",
    "for i in range(1,Order):\n",
    "    one.append(0)\n",
    "newgeom = divideTPS(one, oneminusx)\n",
    "print(newgeom)"
   ]
  },
  {
   "cell_type": "markdown",
   "id": "629f82cc",
   "metadata": {},
   "source": [
    "The use of `/` in the procedure `divideTPS` meant that the results were automatically _floating point numbers_.  "
   ]
  },
  {
   "cell_type": "code",
   "execution_count": 68,
   "id": "ef1e3889",
   "metadata": {},
   "outputs": [
    {
     "name": "stdout",
     "output_type": "stream",
     "text": [
      "[1.0, 0.0, 0.0, 0.0, 0.0, 0.0, 0.0, 0.0]\n"
     ]
    }
   ],
   "source": [
    "print(divideTPS(newgeom, geom))"
   ]
  },
  {
   "cell_type": "code",
   "execution_count": 69,
   "id": "e42b745a",
   "metadata": {},
   "outputs": [
    {
     "name": "stdout",
     "output_type": "stream",
     "text": [
      "[1, -1, -1, 0, 0, 0, 0, 0]\n",
      "[0.0, 1.0, 1.0, 2.0, 3.0, 5.0, 8.0, 13.0]\n"
     ]
    }
   ],
   "source": [
    "phipoly = [1, -1, -1 ]\n",
    "for i in range(3,Order):\n",
    "    phipoly.append(0)\n",
    "print(phipoly)\n",
    "FibonacciGenerator = divideTPS(x, phipoly)\n",
    "print(FibonacciGenerator)"
   ]
  },
  {
   "cell_type": "code",
   "execution_count": 70,
   "id": "f208b0f4",
   "metadata": {},
   "outputs": [],
   "source": [
    "def raisePowerTPS(a, alpha):\n",
    "    # We implement the JCP Miller recurrence relation to compute a**alpha\n",
    "    a0 = a[0]\n",
    "    if a0==0:\n",
    "        raise ValueError( \"Leading coefficient shouldn't be zero\")\n",
    "    y = scalarMultiplyTPS(1/a0, a) # Has leading coefficient 1\n",
    "    c = [1]\n",
    "    for i in range(1,Order):\n",
    "        tmp = 0\n",
    "        for j in range(i):\n",
    "            tmp += (alpha*(i-j)-j)*c[j]*y[i-j]\n",
    "        c.append( tmp/i )\n",
    "    return(scalarMultiplyTPS(a0**alpha, c))"
   ]
  },
  {
   "cell_type": "code",
   "execution_count": 71,
   "id": "8e642216",
   "metadata": {},
   "outputs": [
    {
     "name": "stdout",
     "output_type": "stream",
     "text": [
      "[1, 2.0, 3.0, 4.0, 5.0, 6.0, 7.0, 8.0]\n"
     ]
    }
   ],
   "source": [
    "square = raisePowerTPS(geom, 2)\n",
    "print(square)"
   ]
  },
  {
   "cell_type": "code",
   "execution_count": 72,
   "id": "90f9efb9",
   "metadata": {},
   "outputs": [
    {
     "name": "stdout",
     "output_type": "stream",
     "text": [
      "[1.0, 1.0, 1.0, 1.0, 1.0, 1.0, 1.0, 1.0]\n"
     ]
    }
   ],
   "source": [
    "half = raisePowerTPS(square, 0.5)\n",
    "print(half)"
   ]
  },
  {
   "cell_type": "code",
   "execution_count": 73,
   "id": "73e9aafe",
   "metadata": {},
   "outputs": [],
   "source": [
    "# bad = raisePowerTPS(x, 2)  # Test of error message (leading coeff of \"x\" is zero)"
   ]
  },
  {
   "cell_type": "markdown",
   "id": "c015c87d",
   "metadata": {},
   "source": [
    "\n",
    "Here's the error message that occurs when that last cell is uncommented (remove the # from the start of the line)\n",
    "\n",
    "---------------------------------------------------------------------------\n",
    "\n",
    "\n",
    "````\n",
    "ValueError                                Traceback (most recent call last)\n",
    "Input In [66], in <module>\n",
    "----> 1 bad = raisepowerTPS( x, 2 )\n",
    "\n",
    "Input In [63], in raisepowerTPS(a, alpha)\n",
    "      3 a0 = a[0]\n",
    "      4 if a0==0:\n",
    "----> 5     raise ValueError( \"Leading coefficient shouldn't be zero\")\n",
    "      6 y = scalarMultiplyTPS( 1/a0, a ) # Has leading coefficient 1\n",
    "      7 c = [1]\n",
    "\n",
    "ValueError: Leading coefficient shouldn't be zero\n",
    "````"
   ]
  },
  {
   "cell_type": "markdown",
   "id": "3f01e8f0",
   "metadata": {},
   "source": [
    "{ref}`[Go back to Activity] <FibonacciActivity-15>`"
   ]
  }
 ],
 "metadata": {
  "kernelspec": {
   "display_name": "Python 3 (ipykernel)",
   "language": "python",
   "name": "python3"
  },
  "language_info": {
   "codemirror_mode": {
    "name": "ipython",
    "version": 3
   },
   "file_extension": ".py",
   "mimetype": "text/x-python",
   "name": "python",
   "nbconvert_exporter": "python",
   "pygments_lexer": "ipython3",
   "version": "3.10.4"
  }
 },
 "nbformat": 4,
 "nbformat_minor": 5
}
