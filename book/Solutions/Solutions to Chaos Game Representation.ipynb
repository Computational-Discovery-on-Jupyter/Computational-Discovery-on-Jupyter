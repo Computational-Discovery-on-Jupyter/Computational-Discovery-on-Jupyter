{
 "cells": [
  {
   "cell_type": "markdown",
   "id": "6a7a2283",
   "metadata": {},
   "source": [
    "# Solutions to Chaos Game Representation"
   ]
  },
  {
   "cell_type": "markdown",
   "id": "af07a992",
   "metadata": {},
   "source": [
    "__Activity 1:__ Playing with the coefficients of the transformation functions will create mutate fern varieties. One example of a mutant has the following IFS\n",
    "\n",
    "| **w** | **a** | **b** | **c**  | **d** | **e**  | **f** | **p** |\n",
    "|-------|-------|-------|--------|-------|--------|-------|-------|\n",
    "| 1     | 0.00  | 0.00  | 0.00   | 0.25  | 0.00   | -0.4  | 0.02  |\n",
    "| 2     | 0.95  | 0.005 | -0.005 | 0.93  | -0.002 | 0.5   | 0.84  |\n",
    "| 3     | 0.035 | -0.2  | 0.16   | 0.04  | -0.09  | 0.02  | 0.07  |\n",
    "| 4     | -0.04 | 0.2   | 0.16   | 0.04  | 0.083  | 0.12  | 0.07  |\n",
    "\n",
    "a) Modify the given Barnsley fern code to create the mutant given by the IFS above. What are the differences between the original Barnsley fern and the mutant?\n",
    "\n",
    "b) Create your own Barnsley fern mutate by changing the coefficients."
   ]
  },
  {
   "cell_type": "markdown",
   "id": "94c454fa",
   "metadata": {},
   "source": [
    "__Activity 2:__ [Paul Bourke's website](http://paulbourke.net/fractals/ifs/) provides several images produced by IFS. Replicate some of these examples using Python."
   ]
  },
  {
   "cell_type": "markdown",
   "id": "3ee7ef21",
   "metadata": {},
   "source": [
    "__Activity__: Using the provided code (or if you're brave, write your own), create a generalized CGR of a 6, 9, and 12-sided polygon."
   ]
  },
  {
   "cell_type": "markdown",
   "id": "31a8a14d",
   "metadata": {},
   "source": [
    "__Activity__: Produce your own CGR of DNA sequences of your chosing. Pick sequences that are from difference species, such as plants, fungi, protists, etc. It is recommended that the length of the sequence does not exceed 50000 bp. Compare the CGRs of the difference species visually? Are there any species in which their CGRs are similar to one another? How about species in which their CGRs are most different from each other?"
   ]
  },
  {
   "cell_type": "markdown",
   "id": "d155ce16",
   "metadata": {},
   "source": [
    "__Activity:__ Create a molecular distance map of the mitochondrion DNA of molluscs. The Fasta files are provided to you and can be found in the `Supplementary Material` folder."
   ]
  },
  {
   "cell_type": "markdown",
   "id": "4d0f6f2f",
   "metadata": {},
   "source": [
    "__Activity:__ Create a molecular distance map of the cytochrome b (mitochondrion) protein in all land plants. Fasta files are located in the `Supplementary Material` folder."
   ]
  },
  {
   "cell_type": "markdown",
   "id": "a0811b43",
   "metadata": {},
   "source": [
    "__Activity:__ Create a square CGR for the digits of $pi$ by reading 2 digits at a time (as explained above). Assign the two-digit numbers a corner by the following two methods:\n",
    "a) taking the modulo (base 4) and assigning the corners 0, 1, 2, 3\n",
    "b) assigning the corners to cover the values 0-24, 25-49, 50-74, and 75-99, respectively.\n",
    "Do the CGRs look different from one another? What conclusions can you draw from the two CGRs?"
   ]
  },
  {
   "cell_type": "markdown",
   "id": "878b2df2",
   "metadata": {},
   "source": [
    "__Activity:__ Repeat the above exercise with the digits of $e = 2.71828...$"
   ]
  },
  {
   "cell_type": "markdown",
   "id": "b4c7aeb0",
   "metadata": {},
   "source": [
    "__Activity:__ Create another CGR using the partial quotients of a continued fraction of any irrational number of your choosing."
   ]
  }
 ],
 "metadata": {
  "kernelspec": {
   "display_name": "Python 3 (ipykernel)",
   "language": "python",
   "name": "python3"
  },
  "language_info": {
   "codemirror_mode": {
    "name": "ipython",
    "version": 3
   },
   "file_extension": ".py",
   "mimetype": "text/x-python",
   "name": "python",
   "nbconvert_exporter": "python",
   "pygments_lexer": "ipython3",
   "version": "3.8.5"
  }
 },
 "nbformat": 4,
 "nbformat_minor": 5
}
