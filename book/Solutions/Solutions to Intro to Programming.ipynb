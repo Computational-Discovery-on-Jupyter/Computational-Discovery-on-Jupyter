{
 "cells": [
  {
   "cell_type": "markdown",
   "id": "1d6cf70d",
   "metadata": {},
   "source": [
    "# Solutions to Introduction to Programming"
   ]
  },
  {
   "cell_type": "markdown",
   "id": "3f69f43f",
   "metadata": {},
   "source": [
    "Solutions to the first exercise (hand computation, basically): the exercise is to create the cells, input the numbers and the + sign into them, make sure it's a \"Code\" cell, then hold down the CTRL (Command) key and hit ENTER to have the addition executed."
   ]
  },
  {
   "cell_type": "code",
   "execution_count": 1,
   "id": "152b2c96",
   "metadata": {},
   "outputs": [
    {
     "data": {
      "text/plain": [
       "1"
      ]
     },
     "execution_count": 1,
     "metadata": {},
     "output_type": "execute_result"
    }
   ],
   "source": [
    "1"
   ]
  },
  {
   "cell_type": "code",
   "execution_count": 2,
   "id": "cb7ffe9d",
   "metadata": {},
   "outputs": [
    {
     "data": {
      "text/plain": [
       "1"
      ]
     },
     "execution_count": 2,
     "metadata": {},
     "output_type": "execute_result"
    }
   ],
   "source": [
    "0+1"
   ]
  },
  {
   "cell_type": "code",
   "execution_count": 3,
   "id": "413997ea",
   "metadata": {},
   "outputs": [
    {
     "data": {
      "text/plain": [
       "2"
      ]
     },
     "execution_count": 3,
     "metadata": {},
     "output_type": "execute_result"
    }
   ],
   "source": [
    "1+1"
   ]
  },
  {
   "cell_type": "code",
   "execution_count": 4,
   "id": "65860764",
   "metadata": {},
   "outputs": [
    {
     "data": {
      "text/plain": [
       "3"
      ]
     },
     "execution_count": 4,
     "metadata": {},
     "output_type": "execute_result"
    }
   ],
   "source": [
    "1+2"
   ]
  },
  {
   "cell_type": "code",
   "execution_count": 5,
   "id": "149fcd90",
   "metadata": {},
   "outputs": [
    {
     "data": {
      "text/plain": [
       "5"
      ]
     },
     "execution_count": 5,
     "metadata": {},
     "output_type": "execute_result"
    }
   ],
   "source": [
    "2+3"
   ]
  },
  {
   "cell_type": "code",
   "execution_count": 6,
   "id": "eafedafc",
   "metadata": {},
   "outputs": [
    {
     "data": {
      "text/plain": [
       "8"
      ]
     },
     "execution_count": 6,
     "metadata": {},
     "output_type": "execute_result"
    }
   ],
   "source": [
    "3+5"
   ]
  },
  {
   "cell_type": "code",
   "execution_count": 7,
   "id": "3099c98f",
   "metadata": {},
   "outputs": [
    {
     "data": {
      "text/plain": [
       "13"
      ]
     },
     "execution_count": 7,
     "metadata": {},
     "output_type": "execute_result"
    }
   ],
   "source": [
    "5+8"
   ]
  },
  {
   "cell_type": "code",
   "execution_count": 8,
   "id": "297c5c3f",
   "metadata": {},
   "outputs": [
    {
     "data": {
      "text/plain": [
       "21"
      ]
     },
     "execution_count": 8,
     "metadata": {},
     "output_type": "execute_result"
    }
   ],
   "source": [
    "8+13"
   ]
  },
  {
   "cell_type": "code",
   "execution_count": 9,
   "id": "e3a61e26",
   "metadata": {},
   "outputs": [
    {
     "data": {
      "text/plain": [
       "34"
      ]
     },
     "execution_count": 9,
     "metadata": {},
     "output_type": "execute_result"
    }
   ],
   "source": [
    "13+21  # One more than was asked for"
   ]
  },
  {
   "cell_type": "code",
   "execution_count": 10,
   "id": "1f53a8b4",
   "metadata": {},
   "outputs": [
    {
     "name": "stdout",
     "output_type": "stream",
     "text": [
      "[2, 1, 3, 4, 7, 11, 18, 29, 47, 76, 123, 199, 322, 521, 843, 1364, 2207, 3571, 5778, 9349, 15127, 24476, 39603, 64079, 103682, 167761, 271443, 439204, 710647, 1149851, 1860498]\n"
     ]
    }
   ],
   "source": [
    "Lucas_List = [2,1]\n",
    "for i in range(2,31):\n",
    "    nxt = Lucas_List[i-1]+Lucas_List[i-2]\n",
    "    Lucas_List.append(nxt)\n",
    "print( Lucas_List )"
   ]
  },
  {
   "cell_type": "markdown",
   "id": "bec0cea6",
   "metadata": {},
   "source": [
    "From the [Online Encyclopedia of Integer Sequences, sequence A000032](https://oeis.org/A000032), we have that the Lucas sequence starts off with 2, 1, 3, 4, 7, 11, 18, 29, 47, 76, 123, 199, 322, 521, 843, 1364, 2207, 3571, 5778, 9349, 15127, 24476, 39603, 64079, 103682, 167761, 271443, 439204, 710647, 1149851, 1860498, 3010349, 4870847, 7881196, 12752043, 20633239, 33385282, 54018521, 87403803 .  The output of the program above agrees, as far as it goes."
   ]
  },
  {
   "cell_type": "code",
   "execution_count": 11,
   "id": "d308c832",
   "metadata": {},
   "outputs": [
    {
     "name": "stdout",
     "output_type": "stream",
     "text": [
      "[2, 1, 3, 4, 7, 11, 18, 29, 47, 76, 123, 199, 322, 521, 843, 1364, 2207, 3571, 5778, 9349, 15127, 24476, 39603, 64079, 103682, 167761, 271443, 439204, 710647, 1149851, 1860498]\n"
     ]
    }
   ],
   "source": [
    "Lucas_List = [2,1]\n",
    "i = 2\n",
    "while i<31:\n",
    "    nxt = Lucas_List[i-1]+Lucas_List[i-2]\n",
    "    Lucas_List.append(nxt)\n",
    "    i += 1\n",
    "print( Lucas_List )"
   ]
  },
  {
   "cell_type": "markdown",
   "id": "a3cdd26f",
   "metadata": {},
   "source": [
    "The output is exactly the same as before."
   ]
  },
  {
   "cell_type": "code",
   "execution_count": 12,
   "id": "5c47bbc7",
   "metadata": {},
   "outputs": [
    {
     "name": "stdout",
     "output_type": "stream",
     "text": [
      "[1, 1, 1, 2, 3, 4, 6, 9, 13, 19, 28, 41, 60, 88, 129, 189, 277, 406, 595, 872, 1278, 1873, 2745, 4023, 5896, 8641, 12664, 18560, 27201, 39865, 58425]\n"
     ]
    }
   ],
   "source": [
    "Narayana_cows = [1,1,1]\n",
    "for i in range(3,31):\n",
    "    nxt = Narayana_cows[i-1] + Narayana_cows[i-3]\n",
    "    Narayana_cows.append(nxt)\n",
    "print( Narayana_cows )"
   ]
  },
  {
   "cell_type": "markdown",
   "id": "08f0e49e",
   "metadata": {},
   "source": [
    "Comparing with the initial numbers at [the OEIS entry for A000930](https://oeis.org/A000930), namely, 1, 1, 1, 2, 3, 4, 6, 9, 13, 19, 28, 41, 60, 88, 129, 189, 277, 406, 595, 872, 1278, 1873, 2745, 4023, 5896, 8641, 12664, 18560, 27201, 39865, 58425, 85626, 125491, 183916, 269542, 395033, 578949, 848491, 1243524, 1822473, 2670964, 3914488, 5736961, 8407925, we see that the numbers are the same, as far as they go."
   ]
  },
  {
   "cell_type": "markdown",
   "id": "00e8a336",
   "metadata": {},
   "source": [
    "A google search turns up the [following Turtle Geometry in Python Fibonacci Spiral](https://youtu.be/AH6fygto3Mk) by DavisMT, which is a bit more advanced than we had in mind; but it works."
   ]
  },
  {
   "cell_type": "markdown",
   "id": "6938c7bd",
   "metadata": {},
   "source": [
    "For the new spiral, we need a bit of pen-and-paper work first to work out the angles, and a consistent numbering scheme.  If we make one vertex of each triangle be the origin, it makes a nice picture with the triangles successively touching each other.  In this case it will work out better if we draw the picture first, then explain the code that drew the picture."
   ]
  },
  {
   "cell_type": "code",
   "execution_count": 13,
   "id": "e11a0b63",
   "metadata": {},
   "outputs": [
    {
     "name": "stdout",
     "output_type": "stream",
     "text": [
      "[0.0, 0.7227342478134157, 0.5856855434571508, 0.6435011087932843, 0.6223684885550206, 0.630568739599553]\n",
      "0.6283185307179586\n"
     ]
    },
    {
     "data": {
      "image/png": "[encoded data removed]",
      "text/plain": [
       "<Figure size 432x288 with 1 Axes>"
      ]
     },
     "metadata": {
      "needs_background": "light"
     },
     "output_type": "display_data"
    }
   ],
   "source": [
    "# Isosceles Fibonacci Triangle Spiral\n",
    "Final_Triangle = 7  # We will draw triangles from the flat one on, and stop at a \"Final Triangle\"\n",
    "# We will need one more Fibonacci number than triangles (because we throw the first one away )\n",
    "Fibonacci = [0,1]\n",
    "for i in range(2,Final_Triangle+2):\n",
    "    nxt = Fibonacci[i-1]+Fibonacci[i-2]\n",
    "    Fibonacci.append(nxt)\n",
    "angle_cosines = [ Fibonacci[i]/(2*Fibonacci[i-1]) for i in range(3,Final_Triangle+2)]\n",
    "\n",
    "# When writing this solution, print statements like the following \n",
    "# were very useful for debugging.  We have left them in, but commented them out\n",
    "# so Python does not execute them (but you can see them)\n",
    "# print( angle_cosines )\n",
    "\n",
    "import numpy as np\n",
    "\n",
    "# These are the small angles in the isosceles triangles\n",
    "angles = [np.arccos(t) for t in angle_cosines ]\n",
    "\n",
    "print( angles )  # Actually there is something interesting about these angles\n",
    "print( np.pi/5 )\n",
    "\n",
    "# We need the cumulative sums of those angles for our spiral\n",
    "theta = np.cumsum( angles )\n",
    "\n",
    "#print( theta )\n",
    "r = [ Fibonacci[i] for i in range(3,Final_Triangle+2)]\n",
    "#print( r, r[-1] )\n",
    "\n",
    "import matplotlib.pyplot as plt\n",
    "\n",
    "fig, ax = plt.subplots(subplot_kw={'projection': 'polar'}) # same as before\n",
    "# Plot the spiral (ie the outermost points of each triangle)\n",
    "ax.plot(theta, r) # same as before\n",
    "\n",
    "# Now plot the long sides of each triangle\n",
    "for i in range(len(r)):\n",
    "    ax.plot([0,theta[i]], [0, r[i]])\n",
    "\n",
    "ax.set_rmax(r[-1]) # \n",
    "ax.set_rticks(r)  # Show Fibonacci radii for our plot\n",
    "#ax.set_rlabel_position(-22.5)  # don't need this command\n",
    "ax.grid(True) # same as before\n",
    "\n",
    "ax.set_title(\"New Fibonacci Spiral\", va='bottom') # change the title\n",
    "plt.show()"
   ]
  },
  {
   "cell_type": "markdown",
   "id": "0ee4e092",
   "metadata": {},
   "source": [
    "There's lots to talk about in that code.  The \"cumsum\" function has an odd name (the same name as the corresponding function in Matlab) but it just replaces a list [x, y, z, w] with another list [x, x+y, x+y+z, x+y+z+w].  So, simple but useful.  We needed it because the _direction_ the final triangle is pointing has as its angle the sum of its internal angle plus all the angles of the previous triangles: the cumulative sum, in other words.  The final entry in a list can be referred to by asking for the \"-1\" entry, viz: r[-1] gives us the largest radius.  The counting was hard, because there is no (0,0,1) triangle, and the (1,1,2) triangle is flat and has internal angles 0 or 180 degrees (0 or $\\pi$ radians, and of course the trig functions in Python use radians).  Python chose the colours of the lines, because we didn't specify them; the labels are a bit squashed up because we didn't try very hard to make this spiral pretty.  We _expect_ that you can already do better than this program.\n",
    "\n",
    "We did not try to draw a smooth curve through the points, but a polar curve with radius $\\phi^t/\\sqrt{5}$ and angle linear in $t$ can be made to match these points pretty closely.  That's also not a bad exercise.\n",
    "\n",
    "The interesting fact alluded to above, when we printed the angles, was that they very quickly settle down to $\\pi/5$.  This is because $F_n/(2F_{n-1})$ very quickly settles down to $\\phi/2$, and, which is a surprising fact, the angle whose cosine is $\\phi/2$ is $\\pi/5$.  There is a square root of 5 in $\\phi$, and a $5$ in the radian measure of its arccosine; is this a coincidence?  You might want to try to _prove_ to yourself that these facts are true; if you manage it, you might simultaneously find a reason (or alternatively decide that it is, in fact, just a coincidence).  But that sort of thing is much more like traditional math, and so we reluctantly do not pursue it here."
   ]
  },
  {
   "cell_type": "markdown",
   "id": "2cbc8f0e",
   "metadata": {},
   "source": [
    "Now we look at the exercises about the length (in bits) of Fibonacci numbers.  First we check that Binet's formula does a reasonable job:"
   ]
  },
  {
   "cell_type": "code",
   "execution_count": 14,
   "id": "9ce05a46",
   "metadata": {},
   "outputs": [
    {
     "name": "stdout",
     "output_type": "stream",
     "text": [
      "55.0 3.542248481792631e+20 4.3466557686938915e+208\n"
     ]
    }
   ],
   "source": [
    "phi = (1+np.sqrt(5))/2\n",
    "def Binet(n):\n",
    "    return( np.round( phi**n / np.sqrt(5)) )\n",
    "\n",
    "print( Binet(10), Binet(100), Binet(1000) )"
   ]
  },
  {
   "cell_type": "code",
   "execution_count": 15,
   "id": "88116bdb",
   "metadata": {},
   "outputs": [
    {
     "name": "stdout",
     "output_type": "stream",
     "text": [
      "55 354224848179261915075 43466557686937456435688527675040625802564660517371780402481729089536555417949051890403879840079255169295922593080322634775209689623239873322471161642996440906533187938298969649928516003704476137795166849228875\n"
     ]
    }
   ],
   "source": [
    "def fibo(n):\n",
    "    prev = 0\n",
    "    curr = 1\n",
    "    for i in range(2,n+1):\n",
    "        fib = curr + prev\n",
    "        prev = curr\n",
    "        curr = fib\n",
    "    return( fib )\n",
    "\n",
    "print( fibo(10), fibo(100), fibo(1000))"
   ]
  },
  {
   "cell_type": "markdown",
   "id": "3d73293b",
   "metadata": {},
   "source": [
    "Those numbers agree (up to floating-point error) and so we accept the formula $F_n \\approx \\phi^n/\\sqrt{5}$.  Since we are told that the length (in bits) of $F_n$ has something to do with $\\log_2 F_n$, we think for a bit and realize that it actually takes $\\lceil \\log_2 F_n \\rceil$ bits, where the _ceiling_ of a real number $x$, namely $\\lceil x \\rceil$, is defined as the integer you get when you round _up_ (alternatively, it is the smallest integer greater than or equal to $x$).  Now we try to simplify\n",
    "$$\n",
    "\\log_2 F_n \\approx \\log_2 \\left( \\frac{\\phi^n}{\\sqrt5} \\right) = n\\log_2 \\phi - \\log_2\\sqrt{5} \\approx n \\ln \\phi/\\ln 2. \n",
    "$$\n",
    "By simple computation, we have $\\ln \\phi/\\ln 2 \\approx 0.4812/0.6931 \\approx 0.6942 $.  This predicts that the number of bits needed to represent $F_n$ should be _linearly_ related to $n$, at least approximately.   Let's try first for $F_{10} = 55$.  In binary, this is $110111$, which needs six bits.  The prediction, on the other hand, is $0.6942\\cdot 10 = 6.942$, either $6$ or $7$ bits.  This is adequate agreement, but not convincing.  Now let's try $F_{100} = 354224848179261915075$ which took 69 bits; the prediction is $69.42$ bits, which is better agreement.  Converting $F_{1000}$ to binary gives $1000011101100011001011000001111011010101110010110000100101011100110010101110110001000101101111001011000011001110111010101100001110100000111101000011000110100110011011101011010001101001110010011110100111001101101010011111100100001011001010100100111011011010010111101011010010001001001101010101010011100110000011011100110000011000101111000110001111111101100010101110011001110000101000000001101000000100110001101000111111101010110000110000010010111000110101000100000010100000111100000111010110000010110000000010010011000010110111111010001000000000111100001100010010101101001100100011100110110101010010100001101000000001011111110001110000101101011001010011011100011101011100110000000110000001001011$ which has $694$ bits.  We hope that this is convincing, now."
   ]
  },
  {
   "cell_type": "code",
   "execution_count": 16,
   "id": "97cebd8d",
   "metadata": {},
   "outputs": [
    {
     "data": {
      "text/plain": [
       "'0b1000011101100011001011000001111011010101110010110000100101011100110010101110110001000101101111001011000011001110111010101100001110100000111101000011000110100110011011101011010001101001110010011110100111001101101010011111100100001011001010100100111011011010010111101011010010001001001101010101010011100110000011011100110000011000101111000110001111111101100010101110011001110000101000000001101000000100110001101000111111101010110000110000010010111000110101000100000010100000111100000111010110000010110000000010010011000010110111111010001000000000111100001100010010101101001100100011100110110101010010100001101000000001011111110001110000101101011001010011011100011101011100110000000110000001001011'"
      ]
     },
     "execution_count": 16,
     "metadata": {},
     "output_type": "execute_result"
    }
   ],
   "source": [
    "bin( fibo(1000) )"
   ]
  },
  {
   "cell_type": "code",
   "execution_count": 17,
   "id": "3dd3f2bf",
   "metadata": {},
   "outputs": [
    {
     "data": {
      "text/plain": [
       "696"
      ]
     },
     "execution_count": 17,
     "metadata": {},
     "output_type": "execute_result"
    }
   ],
   "source": [
    "len( bin( fibo(1000) ) )"
   ]
  },
  {
   "cell_type": "markdown",
   "id": "89ed6835",
   "metadata": {},
   "source": [
    "That length is 696 and not 694 because of the extra two characters '0b' at the start."
   ]
  },
  {
   "cell_type": "code",
   "execution_count": 18,
   "id": "c3ac94dd",
   "metadata": {},
   "outputs": [
    {
     "name": "stdout",
     "output_type": "stream",
     "text": [
      "0 b 0 0b0 0\n"
     ]
    }
   ],
   "source": [
    "a = bin(0)\n",
    "print( a[0],a[1], a[2], a, \n",
    "      a[-1])"
   ]
  },
  {
   "cell_type": "code",
   "execution_count": 19,
   "id": "1ab48d1a",
   "metadata": {},
   "outputs": [],
   "source": [
    "def bipow(A, n):\n",
    "    ndim = A.shape[0]\n",
    "    ni = n\n",
    "    answer = np.identity( ndim, dtype=int )\n",
    "    multiplier = A\n",
    "    # At this point, with ni = n, we have A**n = answer*multiplier**ni\n",
    "    while ni > 0:\n",
    "        # print( binaryn[-i] )\n",
    "        if ni % 2 == 0:\n",
    "            # Even bit, so ni <- ni/2\n",
    "            ni = ni/2 # Integer division\n",
    "            multiplier = np.matmul(multiplier,multiplier)\n",
    "            # Still true that answer*multiplier**ni = A**n\n",
    "        else:\n",
    "            # Odd bit, so ni <- ni - 1\n",
    "            ni = ni - 1\n",
    "            answer = np.matmul(answer,multiplier)\n",
    "            # Still true that answer*multiplier**ni = A**n\n",
    "    return(answer) # At this point, ni=0 so answer = A**n\n",
    "    "
   ]
  },
  {
   "cell_type": "markdown",
   "id": "1bdf3794",
   "metadata": {},
   "source": [
    "Let us prove, by induction on $n$, that the code above is correct, _on the assumption that the inputs are a matrix A and a nonnegative integer $n$_.  \n",
    "\n",
    "1. At the first marked point, the variables \"answer\" and \"multiplier\" and \"ni\" are such that `A**n = answer*multiplier**ni`.\n",
    "2. The while loop terminates with ni=0. To prove this, note that every time through the loop ni is replaced by a smaller integer, either ni/2 or ni-1.  Therefore the loop executes a finite number of times.  It only terminates if ni=0.\n",
    "3. After each branch of the if statement, it remains true that `A**n = answer*multiplier**ni`. This is a \"loop invariant\". This is because in the \"even\" branch, the multiplier is squared so `A**n = answer*(multiplier**2)**(ni/2)`, and in the \"odd\" branch the answer variable is altered so `A**n = (answer*multiplier)*(multiplier**(ni-1))`.\n",
    "4. When the loop ends, ni=0, so \"answer\" contains `A**n`."
   ]
  },
  {
   "cell_type": "code",
   "execution_count": 20,
   "id": "773d6da2",
   "metadata": {},
   "outputs": [
    {
     "name": "stdout",
     "output_type": "stream",
     "text": [
      "[[ 1  1]\n",
      " [-1  1]] [[-2  2]\n",
      " [-2 -2]] [[-2  2]\n",
      " [-2 -2]]\n"
     ]
    }
   ],
   "source": [
    "A = np.array([[1,1],[-1,1]])\n",
    "B = np.matmul( np.matmul(A,A), A )\n",
    "print( A, B, bipow(A,3) )"
   ]
  },
  {
   "cell_type": "markdown",
   "id": "584b2e56",
   "metadata": {},
   "source": [
    "The statements below are a kind of \"minimal test\" of the code above.  The difference between $A^n$ computed by one method versus `binpow(A,n)` should be zero, and for our examples, it is.  _Even though_ the code contains a proof of correctness using \"loop invariants\" and induction, one wants to test the code.  By using a random matrix and a bunch of powers, both odd and even, one gains some confidence.\n",
    "\n",
    "That code did not run correctly the first time, either!  Even though RMC has been programming for decades, and has written this particular program before in other languages, there were glitches, now fixed.  To find and fix the glitches, he inserted various print statements to look at intermediate results.  Eventually he gave up on using the binary expansion of n to decide whether to square or to multiply because it was too \"fiddly\" and changed to the more straightforward method above. This code is easier to read, if marginally less efficient.  We tell you this just to let you know that writing code involves dealing with bugs, and that this is _always_ an issue."
   ]
  },
  {
   "cell_type": "code",
   "execution_count": 21,
   "id": "30b416f4",
   "metadata": {},
   "outputs": [
    {
     "name": "stdout",
     "output_type": "stream",
     "text": [
      "[[0 0 0 0 0 0 0 0 0 0]\n",
      " [0 0 0 0 0 0 0 0 0 0]\n",
      " [0 0 0 0 0 0 0 0 0 0]\n",
      " [0 0 0 0 0 0 0 0 0 0]\n",
      " [0 0 0 0 0 0 0 0 0 0]\n",
      " [0 0 0 0 0 0 0 0 0 0]\n",
      " [0 0 0 0 0 0 0 0 0 0]\n",
      " [0 0 0 0 0 0 0 0 0 0]\n",
      " [0 0 0 0 0 0 0 0 0 0]\n",
      " [0 0 0 0 0 0 0 0 0 0]] [[0 0 0 0 0 0 0 0 0 0]\n",
      " [0 0 0 0 0 0 0 0 0 0]\n",
      " [0 0 0 0 0 0 0 0 0 0]\n",
      " [0 0 0 0 0 0 0 0 0 0]\n",
      " [0 0 0 0 0 0 0 0 0 0]\n",
      " [0 0 0 0 0 0 0 0 0 0]\n",
      " [0 0 0 0 0 0 0 0 0 0]\n",
      " [0 0 0 0 0 0 0 0 0 0]\n",
      " [0 0 0 0 0 0 0 0 0 0]\n",
      " [0 0 0 0 0 0 0 0 0 0]] [[0 0 0 0 0 0 0 0 0 0]\n",
      " [0 0 0 0 0 0 0 0 0 0]\n",
      " [0 0 0 0 0 0 0 0 0 0]\n",
      " [0 0 0 0 0 0 0 0 0 0]\n",
      " [0 0 0 0 0 0 0 0 0 0]\n",
      " [0 0 0 0 0 0 0 0 0 0]\n",
      " [0 0 0 0 0 0 0 0 0 0]\n",
      " [0 0 0 0 0 0 0 0 0 0]\n",
      " [0 0 0 0 0 0 0 0 0 0]\n",
      " [0 0 0 0 0 0 0 0 0 0]] [[0 0 0 0 0 0 0 0 0 0]\n",
      " [0 0 0 0 0 0 0 0 0 0]\n",
      " [0 0 0 0 0 0 0 0 0 0]\n",
      " [0 0 0 0 0 0 0 0 0 0]\n",
      " [0 0 0 0 0 0 0 0 0 0]\n",
      " [0 0 0 0 0 0 0 0 0 0]\n",
      " [0 0 0 0 0 0 0 0 0 0]\n",
      " [0 0 0 0 0 0 0 0 0 0]\n",
      " [0 0 0 0 0 0 0 0 0 0]\n",
      " [0 0 0 0 0 0 0 0 0 0]]\n"
     ]
    }
   ],
   "source": [
    "A = np.random.randint(-99,99,(10,10))\n",
    "A2 = np.matmul(A,A)\n",
    "A4 = np.matmul(A2,A2)\n",
    "A3 = np.matmul(A2,A)\n",
    "A7 = np.matmul(A4,A3)\n",
    "print( bipow(A,2)-A2, bipow(A,3)- A3, bipow(A,4)- A4, bipow(A,7)- A7 )"
   ]
  },
  {
   "cell_type": "markdown",
   "id": "6f458e87",
   "metadata": {},
   "source": [
    "Now let's use this to generate Fibonacci numbers.  At first, all goes well, but when we try to find $F_{51}$ by this method, we get a shock."
   ]
  },
  {
   "cell_type": "code",
   "execution_count": 22,
   "id": "a9eeb20d",
   "metadata": {},
   "outputs": [
    {
     "name": "stdout",
     "output_type": "stream",
     "text": [
      "[[5 3]\n",
      " [3 2]]\n",
      "[[8 5]\n",
      " [5 3]]\n",
      "[[1346269  832040]\n",
      " [ 832040  514229]]\n",
      "[[-1408458269 -1109825406]\n",
      " [-1109825406  -298632863]]\n"
     ]
    }
   ],
   "source": [
    "A = np.array([[1,1],[1,0]])\n",
    "print( bipow(A,4) )\n",
    "print( bipow(A,5) )\n",
    "print( bipow(A,30) )\n",
    "print( bipow(A, 51) )"
   ]
  },
  {
   "cell_type": "markdown",
   "id": "4b9834b5",
   "metadata": {},
   "source": [
    "Now we see a _truly staggering_ thing about computers and programs.  We _proved_ our program was correct.  We _tested_ our program.  And now we see that it can give wrong results!  There is _no way_ that raising the Fibonacci matrix to a positive power can produce a matrix with negative entries.\n",
    "\n",
    "What _on earth_ happened here?  The answer is in the internal data structure.  Let us look for the first time this happens."
   ]
  },
  {
   "cell_type": "code",
   "execution_count": 23,
   "id": "f0317519",
   "metadata": {},
   "outputs": [
    {
     "name": "stdout",
     "output_type": "stream",
     "text": [
      "[[165580141 102334155]\n",
      " [102334155  63245986]]\n"
     ]
    }
   ],
   "source": [
    "print( bipow(A,40) )"
   ]
  },
  {
   "cell_type": "code",
   "execution_count": 24,
   "id": "232da8c8",
   "metadata": {},
   "outputs": [
    {
     "name": "stdout",
     "output_type": "stream",
     "text": [
      "[[1836311903 1134903170]\n",
      " [1134903170  701408733]]\n"
     ]
    }
   ],
   "source": [
    "print( bipow(A,45) )"
   ]
  },
  {
   "cell_type": "code",
   "execution_count": 25,
   "id": "c604e12e",
   "metadata": {},
   "outputs": [
    {
     "name": "stdout",
     "output_type": "stream",
     "text": [
      "[[  512559680 -1323752223]\n",
      " [-1323752223  1836311903]]\n"
     ]
    }
   ],
   "source": [
    "print( bipow(A,47) )"
   ]
  },
  {
   "cell_type": "code",
   "execution_count": 26,
   "id": "d3908673",
   "metadata": {},
   "outputs": [
    {
     "name": "stdout",
     "output_type": "stream",
     "text": [
      "[[-1323752223  1836311903]\n",
      " [ 1836311903  1134903170]]\n"
     ]
    }
   ],
   "source": [
    "print( bipow(A,46) )"
   ]
  },
  {
   "cell_type": "code",
   "execution_count": 27,
   "id": "beb1812a",
   "metadata": {},
   "outputs": [
    {
     "data": {
      "text/plain": [
       "2971215073"
      ]
     },
     "execution_count": 27,
     "metadata": {},
     "output_type": "execute_result"
    }
   ],
   "source": [
    "1836311903+1134903170"
   ]
  },
  {
   "cell_type": "markdown",
   "id": "e85e8263",
   "metadata": {},
   "source": [
    "That's what that entry in the matrix should have been, not -1323752223.  How could this _happen_?"
   ]
  },
  {
   "cell_type": "code",
   "execution_count": 28,
   "id": "32d3f6ff",
   "metadata": {},
   "outputs": [
    {
     "data": {
      "text/plain": [
       "34"
      ]
     },
     "execution_count": 28,
     "metadata": {},
     "output_type": "execute_result"
    }
   ],
   "source": [
    "len( bin( 2971215073 ) )"
   ]
  },
  {
   "cell_type": "code",
   "execution_count": 29,
   "id": "0b65df73",
   "metadata": {},
   "outputs": [
    {
     "data": {
      "text/plain": [
       "33"
      ]
     },
     "execution_count": 29,
     "metadata": {},
     "output_type": "execute_result"
    }
   ],
   "source": [
    "len( bin( 1836311903 ) )"
   ]
  },
  {
   "cell_type": "markdown",
   "id": "4ba923bd",
   "metadata": {},
   "source": [
    "And there is the problem.  Remember that the length of a binary number includes the \"0b\" at the beginning, so the number that wound up being negative was 32 bits long; whereas the last Fibonacci number that was ok was 31 bits long.  Somehow the code decided that it was using [\"32 bit integers\"](https://www.quora.com/What-is-a-32-bit-signed-integer) instead of the normal Python arbitrary-length integers.  Our \"proof\" assumed the normal properties of integers&mdash;which are needed for the matrix multiplication to be correct&mdash;and this kind of assumption is so natural to us we didn't even notice we used it.\n",
    "\n",
    "Welcome to the world of computer programming.  Yes, we have to know about data types."
   ]
  },
  {
   "cell_type": "markdown",
   "id": "4b5af587",
   "metadata": {},
   "source": [
    "We could fix this by writing our own matrix multiply that uses Python long integers (its default) instead of NumPy's 32 bit integers, and perhaps that's a useful exercise.  We will leave that to linear algebra class though.  Instead we will look a bit more carefully at just what we need here; and we will do so in the main text, not here in the \"Solutions\" section.  Instead we just provide (with very little comment) the solution to the \"divide and conquer\" suggested advanced exercise.  This code is recursive (but not exponentially expensive), uses \"tuples\" (the pairs of numbers ($F_{n-1},F_n$) ) and recurrence relations derived from the matrix multiplication described in the main text.  It also does _not_ use NumPy and therefore winds up using the default Python long integers, so we get correct answers (provided we don't call it with zero, or negative integers, or nonsense)."
   ]
  },
  {
   "cell_type": "code",
   "execution_count": 30,
   "id": "adc85b88",
   "metadata": {},
   "outputs": [],
   "source": [
    "def FibonacciByHalving(n):\n",
    "    if n ==1 :\n",
    "        return( (0,1) )\n",
    "    else:\n",
    "        m, r = divmod( n, 2 )  # The quotient + remainder (either 0 or 1)\n",
    "        fm1, fm = FibonacciByHalving( m ) # A problem of half the size\n",
    "        if r==0:\n",
    "            fn  = fm*(fm + 2*fm1)\n",
    "            fn1 = fm*fm + fm1*fm1\n",
    "        else:\n",
    "            fn  = (fm+fm1)**2 + fm**2\n",
    "            fn1 = fm*(fm + 2*fm1)\n",
    "        return( (fn1,fn) )"
   ]
  },
  {
   "cell_type": "code",
   "execution_count": 31,
   "id": "60802ad3",
   "metadata": {},
   "outputs": [
    {
     "data": {
      "text/plain": [
       "(1836311903, 2971215073)"
      ]
     },
     "execution_count": 31,
     "metadata": {},
     "output_type": "execute_result"
    }
   ],
   "source": [
    "FibonacciByHalving(47)"
   ]
  },
  {
   "cell_type": "code",
   "execution_count": 32,
   "id": "06321399",
   "metadata": {},
   "outputs": [
    {
     "name": "stdout",
     "output_type": "stream",
     "text": [
      "0.07606291770935059\n"
     ]
    }
   ],
   "source": [
    "import time\n",
    "st = time.time()\n",
    "FibonacciByHalving(1000000) # Took 10 seconds on this machine when using \"fibo\"\n",
    "time_taken = time.time() - st\n",
    "print( time_taken )"
   ]
  },
  {
   "cell_type": "markdown",
   "id": "2b682821",
   "metadata": {},
   "source": [
    "So that code was more than a hundred times faster than the original \"fibo\" code.  Not bad.  What about for ten million?  Twenty million?  Remember, $F_n$ has about 0.694n bits in it---so $F_{10^7}$ will have more than six million bits; the _answer_ is so large that dealing with it must take time.  "
   ]
  },
  {
   "cell_type": "code",
   "execution_count": 33,
   "id": "ddc524f4",
   "metadata": {},
   "outputs": [
    {
     "name": "stdout",
     "output_type": "stream",
     "text": [
      "2.727487802505493\n"
     ]
    }
   ],
   "source": [
    "st = time.time()\n",
    "FibonacciByHalving(10**7) # \n",
    "time_taken = time.time() - st\n",
    "print( time_taken )"
   ]
  },
  {
   "cell_type": "code",
   "execution_count": 34,
   "id": "daa59984",
   "metadata": {},
   "outputs": [
    {
     "name": "stdout",
     "output_type": "stream",
     "text": [
      "12.634233713150024\n"
     ]
    }
   ],
   "source": [
    "st = time.time()\n",
    "FibonacciByHalving(2*10**7) \n",
    "time_taken = time.time() - st\n",
    "print( time_taken )"
   ]
  },
  {
   "cell_type": "markdown",
   "id": "5f192d31",
   "metadata": {},
   "source": [
    "It looks like _doubling_ the size of the input led to the computation taking roughly _four_ times the time.  This is quadratic growth, which we were hoping to avoid: the cost seems proportional to $n^2$.  But this happens because multiplication is more expensive than addition; even though we are doing fewer operations, we are doing more expensive multiplication; and we have to multiply six million bit integers together, and that takes time.  \n",
    "\n",
    "We can fix this by using _faster methods to multiply integers_ but that's Python's problem.  They should implement the fast multiplication methods.  That's not our job."
   ]
  },
  {
   "cell_type": "code",
   "execution_count": 35,
   "id": "f7c5479a",
   "metadata": {},
   "outputs": [],
   "source": [
    "def FibonacciByHalvingModM(n,M):\n",
    "    if n ==1 :\n",
    "        return( (0,1) )\n",
    "    else:\n",
    "        m, r = divmod( n, 2 )  # The quotient + remainder (either 0 or 1)\n",
    "        fm1, fm = FibonacciByHalvingModM( m, M ) # A problem of half the size\n",
    "        if r==0:\n",
    "            fn  = (fm*(fm + 2*fm1)) % M  # Extra parens seem to be necessary\n",
    "            fn1 = (fm*fm + fm1*fm1) % M\n",
    "        else:\n",
    "            fn  = ((fm+fm1)**2 + fm**2) % M\n",
    "            fn1 = (fm*(fm + 2*fm1)    ) % M\n",
    "        return( (fn1,fn) )"
   ]
  },
  {
   "cell_type": "code",
   "execution_count": 36,
   "id": "334117af",
   "metadata": {},
   "outputs": [
    {
     "data": {
      "text/plain": [
       "(26, 75)"
      ]
     },
     "execution_count": 36,
     "metadata": {},
     "output_type": "execute_result"
    }
   ],
   "source": [
    "FibonacciByHalvingModM( 10**6, 100 )"
   ]
  },
  {
   "cell_type": "code",
   "execution_count": 37,
   "id": "5ecd92c5",
   "metadata": {},
   "outputs": [
    {
     "name": "stdout",
     "output_type": "stream",
     "text": [
      "0.002003908157348633\n"
     ]
    }
   ],
   "source": [
    "st = time.time()\n",
    "FibonacciByHalvingModM(7**123,10**100) \n",
    "time_taken = time.time() - st\n",
    "print( time_taken )"
   ]
  },
  {
   "cell_type": "code",
   "execution_count": 38,
   "id": "60ec42f5",
   "metadata": {},
   "outputs": [],
   "source": [
    "#st = time.time()\n",
    "#FibonacciByHalvingModM(7**1234,10**100) \n",
    "#time_taken = time.time() - st\n",
    "#print( time_taken )"
   ]
  },
  {
   "cell_type": "markdown",
   "id": "e7b2db0a",
   "metadata": {},
   "source": [
    "Here's the error message that occurs when that last cell is uncommented (remove the # from the start of each line)\n",
    "\n",
    "---------------------------------------------------------------------------\n",
    "RecursionError                            Traceback (most recent call last)\n",
    "Input In [38], in <module>\n",
    "      1 st = time.time()\n",
    "----> 2 FibonacciByHalvingModM(7**1234,10**100) \n",
    "      3 time_taken = time.time() - st\n",
    "      4 print( time_taken )\n",
    "\n",
    "Input In [35], in FibonacciByHalvingModM(n, M)\n",
    "      4 else:\n",
    "      5     m, r = divmod( n, 2 )  # The quotient + remainder (either 0 or 1)\n",
    "----> 6     fm1, fm = FibonacciByHalvingModM( m, M ) # A problem of half the size\n",
    "      7     if r==0:\n",
    "      8         fn  = (fm*(fm + 2*fm1)) % M  # Extra parens seem to be necessary\n",
    "\n",
    "Input In [35], in FibonacciByHalvingModM(n, M)\n",
    "      4 else:\n",
    "      5     m, r = divmod( n, 2 )  # The quotient + remainder (either 0 or 1)\n",
    "----> 6     fm1, fm = FibonacciByHalvingModM( m, M ) # A problem of half the size\n",
    "      7     if r==0:\n",
    "      8         fn  = (fm*(fm + 2*fm1)) % M  # Extra parens seem to be necessary\n",
    "\n",
    "    [... skipping similar frames: FibonacciByHalvingModM at line 6 (2969 times)]\n",
    "\n",
    "Input In [35], in FibonacciByHalvingModM(n, M)\n",
    "      4 else:\n",
    "      5     m, r = divmod( n, 2 )  # The quotient + remainder (either 0 or 1)\n",
    "----> 6     fm1, fm = FibonacciByHalvingModM( m, M ) # A problem of half the size\n",
    "      7     if r==0:\n",
    "      8         fn  = (fm*(fm + 2*fm1)) % M  # Extra parens seem to be necessary\n",
    "\n",
    "Input In [35], in FibonacciByHalvingModM(n, M)\n",
    "      1 def FibonacciByHalvingModM(n,M):\n",
    "----> 2     if n ==1 :\n",
    "      3         return( (0,1) )\n",
    "      4     else:\n",
    "\n",
    "RecursionError: maximum recursion depth exceeded in comparison\n"
   ]
  },
  {
   "cell_type": "markdown",
   "id": "5834be2c",
   "metadata": {},
   "source": [
    "However, that recursive code cannot do the $7^{12345678}$ version, or even $7^{1234}$, because recursions are only allowed to nest so deep: the \"stack\" overflows.  It's not clear Python can handle such a big input anyway, without testing.  But, it seems to work, as seen below.  But to find the final 100 digits of the Fibonacci number for this $n$, we're going to have to work a bit harder to make it possible for the computer to get it."
   ]
  },
  {
   "cell_type": "code",
   "execution_count": 39,
   "id": "30209f37",
   "metadata": {},
   "outputs": [],
   "source": [
    "big = 7**12345678;"
   ]
  },
  {
   "cell_type": "code",
   "execution_count": 40,
   "id": "3e28bf7b",
   "metadata": {},
   "outputs": [],
   "source": [
    "# Manually translated from the Maple routine combinat[fibonacci]\n",
    "def FibonacciByDoubling(n):\n",
    "    if n==0:\n",
    "        return(0)\n",
    "    elif n<0:\n",
    "        return( (-1)**(1-n)*FibonacciByDoubling(-n) )\n",
    "    else:\n",
    "        p = n\n",
    "        b = []\n",
    "        while p != 0:\n",
    "            m, r = divmod( p, 2 )\n",
    "            p    = m\n",
    "            b.append(r)\n",
    "        f0 = 0\n",
    "        f1 = 1\n",
    "        for i in range(len(b)-2,-1,-1):\n",
    "            if b[i]==0:\n",
    "                s = f0\n",
    "                if i>0:\n",
    "                    f0 = f1**2 + f0**2\n",
    "                f1 = f1*(f1+2*s)\n",
    "            else:\n",
    "                s = f1\n",
    "                f1 = f1**2 + (f0+f1)**2\n",
    "                if i>0:\n",
    "                    f0 = s*(s+2*f0)\n",
    "        return( f1 )"
   ]
  },
  {
   "cell_type": "code",
   "execution_count": 41,
   "id": "3864db79",
   "metadata": {},
   "outputs": [
    {
     "data": {
      "text/plain": [
       "(6765, (4181, 6765))"
      ]
     },
     "execution_count": 41,
     "metadata": {},
     "output_type": "execute_result"
    }
   ],
   "source": [
    "FibonacciByDoubling(20), FibonacciByHalving(20)"
   ]
  },
  {
   "cell_type": "code",
   "execution_count": 42,
   "id": "59e76d10",
   "metadata": {},
   "outputs": [],
   "source": [
    "# Modular arithmetic folded in\n",
    "def FibonacciByDoublingModM(n, M):\n",
    "    if n==0:\n",
    "        return(0)\n",
    "    elif n<0:\n",
    "        return( (-1)**(1-n)*FibonacciByDoublingModM(-n,M) )\n",
    "    else:\n",
    "        p = n\n",
    "        b = []\n",
    "        while p != 0:\n",
    "            m, r = divmod( p, 2 )\n",
    "            p    = m\n",
    "            b.append(r)\n",
    "        f0 = 0\n",
    "        f1 = 1\n",
    "        for i in range(len(b)-2,-1,-1):\n",
    "            if b[i]==0:\n",
    "                s = f0\n",
    "                if i>0:\n",
    "                    f0 = (f1**2 + f0**2) % M\n",
    "                f1 = (f1*(f1+2*s)) % M\n",
    "            else:\n",
    "                s = f1\n",
    "                f1 = (f1**2 + (f0+f1)**2) % M\n",
    "                if i>0:\n",
    "                    f0 = (s*(s+2*f0)) % M\n",
    "        return( f1 )"
   ]
  },
  {
   "cell_type": "code",
   "execution_count": 43,
   "id": "c58bdc19",
   "metadata": {},
   "outputs": [
    {
     "name": "stdout",
     "output_type": "stream",
     "text": [
      "22.68879795074463\n"
     ]
    }
   ],
   "source": [
    "st = time.time()\n",
    "FibonacciByDoublingModM(7**123456,10**100) \n",
    "time_taken = time.time() - st\n",
    "print( time_taken )"
   ]
  },
  {
   "cell_type": "markdown",
   "id": "8c1f7b07",
   "metadata": {},
   "source": [
    "Now we seem to be \"cooking with gas\"!  But the exponent we want is a _hundred_ times larger, so we would have to do (it seems) vastly more work, impractically so.  So, again, we need a _better method_, not just better programming skills."
   ]
  },
  {
   "cell_type": "markdown",
   "id": "cd6cd170",
   "metadata": {},
   "source": [
    "We will need modular arithmetic for _very_ high powers, and it looks like Python's built-in code has some limitations.  The following answer is, apparently, wrong.  We'll have to write our own code, presently."
   ]
  },
  {
   "cell_type": "code",
   "execution_count": 44,
   "id": "ed19488a",
   "metadata": {},
   "outputs": [
    {
     "name": "stdout",
     "output_type": "stream",
     "text": [
      "4000000000000000000000000000000000000000000000000000000000000000000000000000000000000000000000000000\n"
     ]
    }
   ],
   "source": [
    "PythonFailure = 7**12345678 % 15*10**99\n",
    "print( PythonFailure )"
   ]
  },
  {
   "cell_type": "markdown",
   "id": "29fabf4c",
   "metadata": {},
   "source": [
    "That can't be right.  It's certainly not the answer Maple gets.  Well, let's write our own modular powering, using the same trick as is used in `bipow` above."
   ]
  },
  {
   "cell_type": "code",
   "execution_count": 45,
   "id": "a9f4fbfd",
   "metadata": {},
   "outputs": [],
   "source": [
    "def BinaryIntegerPowerModM( a, b, M):\n",
    "    n = b\n",
    "    answer = 1\n",
    "    multiplier = a % M\n",
    "    while n > 0:\n",
    "        if n % 2 == 0:\n",
    "            n = n/2\n",
    "            multiplier = multiplier * multiplier % M\n",
    "        else:\n",
    "            n = n - 1\n",
    "            answer = answer * multiplier % M\n",
    "    return( answer )"
   ]
  },
  {
   "cell_type": "code",
   "execution_count": 46,
   "id": "a58cb6a4",
   "metadata": {},
   "outputs": [
    {
     "data": {
      "text/plain": [
       "10074958745783517956561868690867278026860583978054601497639995184130970247153466763696198800985914449"
      ]
     },
     "execution_count": 46,
     "metadata": {},
     "output_type": "execute_result"
    }
   ],
   "source": [
    "BinaryIntegerPowerModM( 7, 12345678, 15*10**99 )"
   ]
  },
  {
   "cell_type": "markdown",
   "id": "df4588c3",
   "metadata": {},
   "source": [
    "That's the same answer Maple got.  We have not yet understood Python's failure with direct use of %.  Possibly some kind of overflow of the long integer? It may have computed the large number first and only then tried to do the modular computation."
   ]
  },
  {
   "cell_type": "code",
   "execution_count": 47,
   "id": "a8932559",
   "metadata": {},
   "outputs": [
    {
     "name": "stdout",
     "output_type": "stream",
     "text": [
      "307317414528301264423288910092883733560870958520339896436368099936463847448493468403352592709652449 0.0009937286376953125\n"
     ]
    }
   ],
   "source": [
    "st = time.time()\n",
    "ans = FibonacciByDoublingModM(10074958745783517956561868690867278026860583978054601497639995184130970247153466763696198800985914449,10**100) \n",
    "time_taken = time.time() - st\n",
    "print( ans, time_taken )"
   ]
  },
  {
   "cell_type": "code",
   "execution_count": 48,
   "id": "6028a180",
   "metadata": {},
   "outputs": [
    {
     "name": "stdout",
     "output_type": "stream",
     "text": [
      "2709652449 0.0009987354278564453\n"
     ]
    }
   ],
   "source": [
    "st = time.time()\n",
    "ans = FibonacciByDoublingModM(10074958745783517956561868690867278026860583978054601497639995184130970247153466763696198800985914449,10**10) \n",
    "time_taken = time.time() - st\n",
    "print( ans, time_taken )"
   ]
  },
  {
   "cell_type": "markdown",
   "id": "1e1b3e2b",
   "metadata": {},
   "source": [
    "### Truncated Power Series in Python\n",
    "\n",
    "In this section of \"Solutions\" we describe a very basic implementation of Truncated Power Series in Python.  We are not going to use anything fancy (such as operator overloading, or object-oriented programming) although using those would really make the package easier to use and understand.  The purpose of this is not _use_ per se, but rather _practice in programming_.  And we are just beginning, here.  So we take it slow.\n",
    "\n",
    "The first thing is to decide what data structure to use.  We choose a simple list as our basic data structure: a Truncated Power Series will be represented by a list of its coefficients.  To keep things simple, we make _all_ our lists have the same length, which we will call `Order` (like the Maple variable for its `series` command)."
   ]
  },
  {
   "cell_type": "code",
   "execution_count": 49,
   "id": "31af5000",
   "metadata": {},
   "outputs": [],
   "source": [
    "Order = 8"
   ]
  },
  {
   "cell_type": "code",
   "execution_count": 50,
   "id": "81635ae0",
   "metadata": {},
   "outputs": [
    {
     "name": "stdout",
     "output_type": "stream",
     "text": [
      "[0, 1, 0, 0, 0, 0, 0, 0]\n"
     ]
    }
   ],
   "source": [
    "# This series is 0 + 1*x + 0*x^2 + ... + 0*x^{Order-1} + O(x^Order)\n",
    "x = [ 0, 1 ]\n",
    "for i in range(2,Order):\n",
    "    x.append( 0 )\n",
    "print( x )"
   ]
  },
  {
   "cell_type": "code",
   "execution_count": 51,
   "id": "dce7999a",
   "metadata": {},
   "outputs": [
    {
     "name": "stdout",
     "output_type": "stream",
     "text": [
      "[1, 1, 1, 1, 1, 1, 1, 1]\n"
     ]
    }
   ],
   "source": [
    "geom = [1 for i in range(Order)]\n",
    "print( geom )"
   ]
  },
  {
   "cell_type": "code",
   "execution_count": 52,
   "id": "a3203767",
   "metadata": {},
   "outputs": [],
   "source": [
    "def addTPS( a, b ):\n",
    "    c = []\n",
    "    for i in range(Order):\n",
    "        c.append( a[i] + b[i] )\n",
    "    return( c )"
   ]
  },
  {
   "cell_type": "code",
   "execution_count": 53,
   "id": "d06f1eb5",
   "metadata": {},
   "outputs": [],
   "source": [
    "def scalarMultiplyTPS( alpha, a ):\n",
    "    c = []\n",
    "    for i in range(Order):\n",
    "        c.append( alpha*a[i] )\n",
    "    return( c )"
   ]
  },
  {
   "cell_type": "code",
   "execution_count": 54,
   "id": "b8636306",
   "metadata": {},
   "outputs": [
    {
     "name": "stdout",
     "output_type": "stream",
     "text": [
      "[13, 13, 13, 13, 13, 13, 13, 13]\n",
      "[1, 2, 1, 1, 1, 1, 1, 1]\n"
     ]
    }
   ],
   "source": [
    "print( scalarMultiplyTPS( 13, geom ) )\n",
    "print( addTPS( x, geom ) )"
   ]
  },
  {
   "cell_type": "code",
   "execution_count": 55,
   "id": "49f0f3b8",
   "metadata": {},
   "outputs": [],
   "source": [
    "def multiplyTPS( a, b ):\n",
    "    c = []\n",
    "    for i in range(Order):\n",
    "        tmp = 0\n",
    "        for j in range(i+1):  # Why is it i+1 here and not \"i\" ? (Rhetorical question)\n",
    "            tmp += a[j]*b[i-j]\n",
    "        c.append( tmp )\n",
    "    return( c )"
   ]
  },
  {
   "cell_type": "code",
   "execution_count": 56,
   "id": "e9d0792f",
   "metadata": {},
   "outputs": [
    {
     "name": "stdout",
     "output_type": "stream",
     "text": [
      "[2, 2, 2, 2, 2, 2, 2, 2]\n"
     ]
    }
   ],
   "source": [
    "print( addTPS( geom, geom ) )"
   ]
  },
  {
   "cell_type": "code",
   "execution_count": 57,
   "id": "57b84e84",
   "metadata": {},
   "outputs": [
    {
     "name": "stdout",
     "output_type": "stream",
     "text": [
      "[1, -1, 0, 0, 0, 0, 0, 0]\n",
      "[1, 0, 0, 0, 0, 0, 0, 0]\n"
     ]
    }
   ],
   "source": [
    "oneminusx = [1,-1]\n",
    "for i in range(2,Order):\n",
    "    oneminusx.append( 0 )\n",
    "print( oneminusx )\n",
    "print( multiplyTPS( oneminusx, geom) )"
   ]
  },
  {
   "cell_type": "markdown",
   "id": "a205de34",
   "metadata": {},
   "source": [
    "This represents the \"well-known\" geometric series fact that \n",
    "$$\n",
    "\\frac{1}{1-x} = 1 + x + x^2 + x^3 + \\cdots + x^{n-1} + O(x^n) .\n",
    "$$"
   ]
  },
  {
   "cell_type": "code",
   "execution_count": 58,
   "id": "9a4b868c",
   "metadata": {},
   "outputs": [
    {
     "name": "stdout",
     "output_type": "stream",
     "text": [
      "[1, 2, 3, 4, 5, 6, 7, 8]\n"
     ]
    }
   ],
   "source": [
    "print( multiplyTPS( geom, geom ) )"
   ]
  },
  {
   "cell_type": "markdown",
   "id": "1b462400",
   "metadata": {},
   "source": [
    "We can understand this if we know that the derivative of $1/(1-x)$ is $1/(1-x)^2$ and the derivative of the geometric series is $0 + 1 + 2x + 3x^2 + 4x^3 + \\cdots$.  If we don't know any calculus, we can multiply the TPS out by hand to see that it's true."
   ]
  },
  {
   "cell_type": "code",
   "execution_count": 59,
   "id": "e5ca8f3d",
   "metadata": {},
   "outputs": [],
   "source": [
    "def divideTPS( a, b ):\n",
    "    d = [a[0]/b[0]] # Will divide by zero if b[0]=0\n",
    "    for i in range(1,Order):\n",
    "        tmp = 0\n",
    "        for j in range(1,i+1):\n",
    "            tmp += b[j]*d[i-j]\n",
    "        d.append( (a[i]-tmp)/b[0] )\n",
    "    return( d )"
   ]
  },
  {
   "cell_type": "code",
   "execution_count": 60,
   "id": "8b8aa16a",
   "metadata": {},
   "outputs": [
    {
     "name": "stdout",
     "output_type": "stream",
     "text": [
      "[1.0, 1.0, 1.0, 1.0, 1.0, 1.0, 1.0, 1.0]\n"
     ]
    }
   ],
   "source": [
    "one = [1]\n",
    "for i in range(1,Order):\n",
    "    one.append(0)\n",
    "newgeom = divideTPS( one, oneminusx )\n",
    "print( newgeom )"
   ]
  },
  {
   "cell_type": "markdown",
   "id": "b1e70572",
   "metadata": {},
   "source": [
    "The use of `/` in the procedure `divideTPS` meant that the results were automatically _floating point numbers_.  "
   ]
  },
  {
   "cell_type": "code",
   "execution_count": 61,
   "id": "2067a1f5",
   "metadata": {},
   "outputs": [
    {
     "name": "stdout",
     "output_type": "stream",
     "text": [
      "[1.0, 0.0, 0.0, 0.0, 0.0, 0.0, 0.0, 0.0]\n"
     ]
    }
   ],
   "source": [
    "print( divideTPS( newgeom, geom ) )"
   ]
  },
  {
   "cell_type": "code",
   "execution_count": 62,
   "id": "770ff188",
   "metadata": {},
   "outputs": [
    {
     "name": "stdout",
     "output_type": "stream",
     "text": [
      "[1, -1, -1, 0, 0, 0, 0, 0]\n",
      "[0.0, 1.0, 1.0, 2.0, 3.0, 5.0, 8.0, 13.0]\n"
     ]
    }
   ],
   "source": [
    "phipoly = [1, -1, -1 ]\n",
    "for i in range(3,Order):\n",
    "    phipoly.append( 0 )\n",
    "print( phipoly )\n",
    "FibonacciGenerator = divideTPS( x, phipoly )\n",
    "print( FibonacciGenerator )"
   ]
  }
 ],
 "metadata": {
  "kernelspec": {
   "display_name": "Python 3 (ipykernel)",
   "language": "python",
   "name": "python3"
  },
  "language_info": {
   "codemirror_mode": {
    "name": "ipython",
    "version": 3
   },
   "file_extension": ".py",
   "mimetype": "text/x-python",
   "name": "python",
   "nbconvert_exporter": "python",
   "pygments_lexer": "ipython3",
   "version": "3.10.2"
  }
 },
 "nbformat": 4,
 "nbformat_minor": 5
}
