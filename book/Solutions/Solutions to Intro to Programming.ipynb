{
 "cells": [
  {
   "cell_type": "markdown",
   "id": "1d6cf70d",
   "metadata": {},
   "source": [
    "# Solutions to Introduction to Programming"
   ]
  },
  {
   "cell_type": "markdown",
   "id": "3f69f43f",
   "metadata": {},
   "source": [
    "Solutions to the first exercise (hand computation, basically): the exercise is to create the cells, input the numbers and the + sign into them, make sure it's a \"Code\" cell, then hold down the CTRL (Command) key and hit ENTER to have the addition executed."
   ]
  },
  {
   "cell_type": "code",
   "execution_count": 1,
   "id": "152b2c96",
   "metadata": {},
   "outputs": [
    {
     "data": {
      "text/plain": [
       "1"
      ]
     },
     "execution_count": 1,
     "metadata": {},
     "output_type": "execute_result"
    }
   ],
   "source": [
    "1"
   ]
  },
  {
   "cell_type": "code",
   "execution_count": 2,
   "id": "cb7ffe9d",
   "metadata": {},
   "outputs": [
    {
     "data": {
      "text/plain": [
       "1"
      ]
     },
     "execution_count": 2,
     "metadata": {},
     "output_type": "execute_result"
    }
   ],
   "source": [
    "0+1"
   ]
  },
  {
   "cell_type": "code",
   "execution_count": 3,
   "id": "413997ea",
   "metadata": {},
   "outputs": [
    {
     "data": {
      "text/plain": [
       "2"
      ]
     },
     "execution_count": 3,
     "metadata": {},
     "output_type": "execute_result"
    }
   ],
   "source": [
    "1+1"
   ]
  },
  {
   "cell_type": "code",
   "execution_count": 4,
   "id": "65860764",
   "metadata": {},
   "outputs": [
    {
     "data": {
      "text/plain": [
       "3"
      ]
     },
     "execution_count": 4,
     "metadata": {},
     "output_type": "execute_result"
    }
   ],
   "source": [
    "1+2"
   ]
  },
  {
   "cell_type": "code",
   "execution_count": 5,
   "id": "149fcd90",
   "metadata": {},
   "outputs": [
    {
     "data": {
      "text/plain": [
       "5"
      ]
     },
     "execution_count": 5,
     "metadata": {},
     "output_type": "execute_result"
    }
   ],
   "source": [
    "2+3"
   ]
  },
  {
   "cell_type": "code",
   "execution_count": 6,
   "id": "eafedafc",
   "metadata": {},
   "outputs": [
    {
     "data": {
      "text/plain": [
       "8"
      ]
     },
     "execution_count": 6,
     "metadata": {},
     "output_type": "execute_result"
    }
   ],
   "source": [
    "3+5"
   ]
  },
  {
   "cell_type": "code",
   "execution_count": 7,
   "id": "3099c98f",
   "metadata": {},
   "outputs": [
    {
     "data": {
      "text/plain": [
       "13"
      ]
     },
     "execution_count": 7,
     "metadata": {},
     "output_type": "execute_result"
    }
   ],
   "source": [
    "5+8"
   ]
  },
  {
   "cell_type": "code",
   "execution_count": 8,
   "id": "297c5c3f",
   "metadata": {},
   "outputs": [
    {
     "data": {
      "text/plain": [
       "21"
      ]
     },
     "execution_count": 8,
     "metadata": {},
     "output_type": "execute_result"
    }
   ],
   "source": [
    "8+13"
   ]
  },
  {
   "cell_type": "code",
   "execution_count": 9,
   "id": "e3a61e26",
   "metadata": {},
   "outputs": [
    {
     "data": {
      "text/plain": [
       "34"
      ]
     },
     "execution_count": 9,
     "metadata": {},
     "output_type": "execute_result"
    }
   ],
   "source": [
    "13+21  # One more than was asked for"
   ]
  },
  {
   "cell_type": "code",
   "execution_count": 10,
   "id": "1f53a8b4",
   "metadata": {},
   "outputs": [
    {
     "name": "stdout",
     "output_type": "stream",
     "text": [
      "[2, 1, 3, 4, 7, 11, 18, 29, 47, 76, 123, 199, 322, 521, 843, 1364, 2207, 3571, 5778, 9349, 15127, 24476, 39603, 64079, 103682, 167761, 271443, 439204, 710647, 1149851, 1860498]\n"
     ]
    }
   ],
   "source": [
    "Lucas_List = [2,1]\n",
    "for i in range(2,31):\n",
    "    nxt = Lucas_List[i-1]+Lucas_List[i-2]\n",
    "    Lucas_List.append(nxt)\n",
    "print( Lucas_List )"
   ]
  },
  {
   "cell_type": "markdown",
   "id": "bec0cea6",
   "metadata": {},
   "source": [
    "From the [Online Encyclopedia of Integer Sequences, sequence A000032](https://oeis.org/A000032), we have that the Lucas sequence starts off with 2, 1, 3, 4, 7, 11, 18, 29, 47, 76, 123, 199, 322, 521, 843, 1364, 2207, 3571, 5778, 9349, 15127, 24476, 39603, 64079, 103682, 167761, 271443, 439204, 710647, 1149851, 1860498, 3010349, 4870847, 7881196, 12752043, 20633239, 33385282, 54018521, 87403803 .  The output of the program above agrees, as far as it goes."
   ]
  },
  {
   "cell_type": "code",
   "execution_count": 11,
   "id": "d308c832",
   "metadata": {},
   "outputs": [
    {
     "name": "stdout",
     "output_type": "stream",
     "text": [
      "[2, 1, 3, 4, 7, 11, 18, 29, 47, 76, 123, 199, 322, 521, 843, 1364, 2207, 3571, 5778, 9349, 15127, 24476, 39603, 64079, 103682, 167761, 271443, 439204, 710647, 1149851, 1860498]\n"
     ]
    }
   ],
   "source": [
    "Lucas_List = [2,1]\n",
    "i = 2\n",
    "while i<31:\n",
    "    nxt = Lucas_List[i-1]+Lucas_List[i-2]\n",
    "    Lucas_List.append(nxt)\n",
    "    i += 1\n",
    "print( Lucas_List )"
   ]
  },
  {
   "cell_type": "markdown",
   "id": "a3cdd26f",
   "metadata": {},
   "source": [
    "The output is exactly the same as before."
   ]
  },
  {
   "cell_type": "code",
   "execution_count": 12,
   "id": "5c47bbc7",
   "metadata": {},
   "outputs": [
    {
     "name": "stdout",
     "output_type": "stream",
     "text": [
      "[1, 1, 1, 2, 3, 4, 6, 9, 13, 19, 28, 41, 60, 88, 129, 189, 277, 406, 595, 872, 1278, 1873, 2745, 4023, 5896, 8641, 12664, 18560, 27201, 39865, 58425]\n"
     ]
    }
   ],
   "source": [
    "Narayana_cows = [1,1,1]\n",
    "for i in range(3,31):\n",
    "    nxt = Narayana_cows[i-1] + Narayana_cows[i-3]\n",
    "    Narayana_cows.append(nxt)\n",
    "print( Narayana_cows )"
   ]
  },
  {
   "cell_type": "markdown",
   "id": "08f0e49e",
   "metadata": {},
   "source": [
    "Comparing with the initial numbers at [the OEIS entry for A000930](https://oeis.org/A000930), namely, 1, 1, 1, 2, 3, 4, 6, 9, 13, 19, 28, 41, 60, 88, 129, 189, 277, 406, 595, 872, 1278, 1873, 2745, 4023, 5896, 8641, 12664, 18560, 27201, 39865, 58425, 85626, 125491, 183916, 269542, 395033, 578949, 848491, 1243524, 1822473, 2670964, 3914488, 5736961, 8407925, we see that the numbers are the same, as far as they go."
   ]
  },
  {
   "cell_type": "markdown",
   "id": "00e8a336",
   "metadata": {},
   "source": [
    "A google search turns up the [following Turtle Geometry in Python Fibonacci Spiral](https://youtu.be/AH6fygto3Mk) by DavisMT, which is a bit more advanced than we had in mind; but it works."
   ]
  },
  {
   "cell_type": "markdown",
   "id": "6938c7bd",
   "metadata": {},
   "source": [
    "For the new spiral, we need a bit of pen-and-paper work first to work out the angles, and a consistent numbering scheme.  If we make one vertex of each triangle be the origin, it makes a nice picture with the triangles successively touching each other.  In this case it will work out better if we draw the picture first, then explain the code that drew the picture."
   ]
  },
  {
   "cell_type": "code",
   "execution_count": 13,
   "id": "e11a0b63",
   "metadata": {},
   "outputs": [
    {
     "name": "stdout",
     "output_type": "stream",
     "text": [
      "[0.0, 0.7227342478134157, 0.5856855434571508, 0.6435011087932843, 0.6223684885550206, 0.630568739599553]\n",
      "0.6283185307179586\n"
     ]
    },
    {
     "data": {
      "image/png": "[encoded data removed]",
      "text/plain": [
       "<Figure size 432x288 with 1 Axes>"
      ]
     },
     "metadata": {
      "needs_background": "light"
     },
     "output_type": "display_data"
    }
   ],
   "source": [
    "# Isosceles Fibonacci Triangle Spiral\n",
    "Final_Triangle = 7  # We will draw triangles from the flat one on, and stop at a \"Final Triangle\"\n",
    "# We will need one more Fibonacci number than triangles (because we throw the first one away )\n",
    "Fibonacci = [0,1]\n",
    "for i in range(2,Final_Triangle+2):\n",
    "    nxt = Fibonacci[i-1]+Fibonacci[i-2]\n",
    "    Fibonacci.append(nxt)\n",
    "angle_cosines = [ Fibonacci[i]/(2*Fibonacci[i-1]) for i in range(3,Final_Triangle+2)]\n",
    "\n",
    "# When writing this solution, print statements like the following \n",
    "# were very useful for debugging.  We have left them in, but commented them out\n",
    "# so Python does not execute them (but you can see them)\n",
    "# print( angle_cosines )\n",
    "\n",
    "import numpy as np\n",
    "\n",
    "# These are the small angles in the isosceles triangles\n",
    "angles = [np.arccos(t) for t in angle_cosines ]\n",
    "\n",
    "print( angles )  # Actually there is something interesting about these angles\n",
    "print( np.pi/5 )\n",
    "\n",
    "# We need the cumulative sums of those angles for our spiral\n",
    "theta = np.cumsum( angles )\n",
    "\n",
    "#print( theta )\n",
    "r = [ Fibonacci[i] for i in range(3,Final_Triangle+2)]\n",
    "#print( r, r[-1] )\n",
    "\n",
    "import matplotlib.pyplot as plt\n",
    "\n",
    "fig, ax = plt.subplots(subplot_kw={'projection': 'polar'}) # same as before\n",
    "# Plot the spiral (ie the outermost points of each triangle)\n",
    "ax.plot(theta, r) # same as before\n",
    "\n",
    "# Now plot the long sides of each triangle\n",
    "for i in range(len(r)):\n",
    "    ax.plot([0,theta[i]], [0, r[i]])\n",
    "\n",
    "ax.set_rmax(r[-1]) # \n",
    "ax.set_rticks(r)  # Show Fibonacci radii for our plot\n",
    "#ax.set_rlabel_position(-22.5)  # don't need this command\n",
    "ax.grid(True) # same as before\n",
    "\n",
    "ax.set_title(\"New Fibonacci Spiral\", va='bottom') # change the title\n",
    "plt.show()"
   ]
  },
  {
   "cell_type": "markdown",
   "id": "0ee4e092",
   "metadata": {},
   "source": [
    "There's lots to talk about in that code.  The \"cumsum\" function has an odd name (the same name as the corresponding function in Matlab) but it just replaces a list [x, y, z, w] with another list [x, x+y, x+y+z, x+y+z+w].  So, simple but useful.  We needed it because the _direction_ the final triangle is pointing has as its angle the sum of its internal angle plus all the angles of the previous triangles: the cumulative sum, in other words.  The final entry in a list can be referred to by asking for the \"-1\" entry, viz: r[-1] gives us the largest radius.  The counting was hard, because there is no (0,0,1) triangle, and the (1,1,2) triangle is flat and has internal angles 0 or 180 degrees (0 or $\\pi$ radians, and of course the trig functions in Python use radians).  Python chose the colours of the lines, because we didn't specify them; the labels are a bit squashed up because we didn't try very hard to make this spiral pretty.  We _expect_ that you can already do better than this program.\n",
    "\n",
    "We did not try to draw a smooth curve through the points, but a polar curve with radius $\\phi^t/\\sqrt{5}$ and angle linear in $t$ can be made to match these points pretty closely.  That's also not a bad exercise.\n",
    "\n",
    "The interesting fact alluded to above, when we printed the angles, was that they very quickly settle down to $\\pi/5$.  This is because $F_n/(2F_{n-1})$ very quickly settles down to $\\phi/2$, and, which is a surprising fact, the angle whose cosine is $\\phi/2$ is $\\pi/5$.  There is a square root of 5 in $\\phi$, and a $5$ in the radian measure of its arccosine; is this a coincidence?  You might want to try to _prove_ to yourself that these facts are true; if you manage it, you might simultaneously find a reason (or alternatively decide that it is, in fact, just a coincidence).  But that sort of thing is much more like traditional math, and so we reluctantly do not pursue it here."
   ]
  }
 ],
 "metadata": {
  "kernelspec": {
   "display_name": "Python 3 (ipykernel)",
   "language": "python",
   "name": "python3"
  },
  "language_info": {
   "codemirror_mode": {
    "name": "ipython",
    "version": 3
   },
   "file_extension": ".py",
   "mimetype": "text/x-python",
   "name": "python",
   "nbconvert_exporter": "python",
   "pygments_lexer": "ipython3",
   "version": "3.10.2"
  }
 },
 "nbformat": 4,
 "nbformat_minor": 5
}
