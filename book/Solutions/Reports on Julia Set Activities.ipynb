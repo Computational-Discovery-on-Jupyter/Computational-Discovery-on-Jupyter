{
 "cells": [
  {
   "cell_type": "markdown",
   "metadata": {},
   "source": [
    "# Reports on Julia Set Activities"
   ]
  },
  {
   "cell_type": "markdown",
   "metadata": {},
   "source": [
    "(JuliaSetActivityReport-1)=\n",
    "## Julia Set Activity 1\n",
    "Write a Python program to draw the Sierpinski gasket (perhaps by using binomial coefficients mod 2)."
   ]
  },
  {
   "cell_type": "markdown",
   "metadata": {},
   "source": [
    "This turns out to be a very popular question, and there are several web tutorials and examples on the subject.  For instance, here is a [YouTube video](https://youtu.be/G2A_Yg-JXxY) and [here is another](https://youtu.be/ssK2Z9Opokc) (maybe more detailed) with a program that uses the Turtle package.  Some links show _recursive_ programs.\n",
    "\n",
    "Sierpinski triangles are also part of [this free book](https://runestone.academy/ns/books/published/pythonds/index.html) by Miller and Radum.  Again we don't know those people; these links are the result of a Google search.  We just wanted to show you that there was a lot of stuff online about this.  \n",
    "\n",
    "The [Wikipedia page](https://en.wikipedia.org/wiki/Sierpi%C5%84ski_triangle) is particularly good and has many references. It even connects to the Chaos Game, which we cover in our final unit.  Compared to the animations of that page, and of some of the external links, our little code below is pretty basic.  We used some ideas from [Robin Truax's video](https://youtu.be/5nuYD2M2AX8) and we chose not to do a _full_ Sierpinski triangle but rather a random sampling of it.  For basic code, we think that the result is pretty cool."
   ]
  },
  {
   "cell_type": "code",
   "execution_count": null,
   "metadata": {},
   "outputs": [],
   "source": [
    "import numpy as np\n",
    "import matplotlib.pyplot as plt\n",
    "\n",
    "rng = np.random.default_rng(2022)\n",
    "\n",
    "fig = plt.figure(figsize=(10, 10))\n",
    "ax = fig.add_axes([0,0,1,1])\n",
    "\n",
    "\n",
    "level = 7  \n",
    "scales = np.zeros(level)\n",
    "for i in range(level):\n",
    "    scales[i] = 2**(-i-1)\n",
    "numberpossible = 3**(level)\n",
    "print( \"Using {} levels\".format(level))\n",
    "Nsample = 1729 # Ramanujan's number, why not\n",
    "print( \"We will sample {} out of {} possible top vertices.\".format(Nsample,numberpossible))\n",
    "waterfall = np.transpose( np.array( [ [0,0], [1,0], [0,1]], dtype=float) )\n",
    "v0 = np.array( [-0.5, -np.sqrt(3)/2] )  # These directions give equilateral triangles\n",
    "v1 = np.array( [ 0.5, -np.sqrt(3)/2] )\n",
    "p0 = np.array( [0,np.sqrt(3)/2] )\n",
    "\n",
    "\n",
    "for k in range(Nsample):\n",
    "        # Choose a random number base 3 with \"level\" trinary digits\n",
    "        pick = rng.integers(low=0, high=3, size=level) # exclusive top range.  Sigh.\n",
    "        # Matrix whose columns are the allowed waterfall coordinate choices\n",
    "        A = np.transpose( np.array([waterfall[:,pick[i]] for i in range(level)], dtype=float) )\n",
    "        xy = A.dot(scales) # Waterfall coordinates in binary\n",
    "        vertx = p0 + xy[0]*v0 + xy[1]*v1\n",
    "        lft = vertx + v0*2**(-level-1)\n",
    "        rgt = vertx + v1*2**(-level-1)\n",
    "        # Draw a triangle below the vertex\n",
    "        plt.plot( [vertx[0],lft[0]], [vertx[1],lft[1]], 'k')\n",
    "        plt.plot( [vertx[0],rgt[0]], [vertx[1],rgt[1]], 'k')\n",
    "        plt.plot( [lft[0],rgt[0]], [lft[1],rgt[1]], 'k')\n",
    "\n",
    "ax.set_xlim( [-0.5,0.5 ] )\n",
    "ax.set_ylim( [0, np.sqrt(3)/2] )\n",
    "plt.gca().set_aspect('equal')\n",
    "\n",
    "plt.show()"
   ]
  },
  {
   "cell_type": "markdown",
   "metadata": {},
   "source": [
    "{ref}`[Go back to Activity] <JuliaSetActivity-1>`"
   ]
  },
  {
   "cell_type": "markdown",
   "metadata": {},
   "source": [
    "(JuliaSetActivityReport-2)=\n",
    "## Julia Set Activity 2\n",
    "Explore pictures of the binomial coefficients mod 4 (and then consult Andrew Granville's paper previously referenced).  Here we didn't have anything to add to that paper."
   ]
  },
  {
   "cell_type": "code",
   "execution_count": null,
   "metadata": {},
   "outputs": [],
   "source": [
    "import math as mth\n",
    "\n",
    "ans  = mth.comb(15,8) # How to compute 15 choose 8 \n",
    "ans4 = ans % 4        # How to get its remainder mod 4\n",
    "print( ans, ans4 )"
   ]
  },
  {
   "cell_type": "markdown",
   "metadata": {},
   "source": [
    "{ref}`[Go back to Activity] <JuliaSetActivity-2>`"
   ]
  },
  {
   "cell_type": "markdown",
   "metadata": {},
   "source": [
    "(JuliaSetActivityReport-3)=\n",
    "## Julia Set Activity 3\n",
    "Investigate pictures (mod 2 or otherwise) of other combinatorial families of numbers, such as [Stirling Numbers](https://en.wikipedia.org/wiki/Stirling_number) (both kinds).  Try also \"Eulerian numbers of the first kind\" mod 3."
   ]
  },
  {
   "cell_type": "markdown",
   "metadata": {},
   "source": [
    "Talk about an open-ended activity.  There is an _infinite_ amount of information about Stirling numbers and other numbers; for instance the [Digital Library of Mathematical Functions Chapter 26](https://dlmf.nist.gov/26) lists a remarkable number of facts and links many references.  As one fractal fact, computing the Stirling cycle numbers mod 2 gives a Sierpinski gasket, but tilted to one side.  As just one thing, we chose to implement Stirling cycle numbers in Python in a way similar to the way Fibonacci numbers were naively implemented.  For a reference, we used [this handy paper](https://ieeexplore.ieee.org/iel7/7425657/7425822/07426062.pdf) but we really recommend that you look at Concrete Mathematics, by Graham, Knuth, and Patashnik.  The recurrence relation we implemented is\n",
    "\n",
    "$$\n",
    "\\begin{bmatrix} \n",
    "n+1 \\\\\n",
    "k\n",
    "\\end{bmatrix} \n",
    "= \n",
    "n \\begin{bmatrix}\n",
    "n \\\\\n",
    "k\n",
    "\\end{bmatrix}\n",
    "+ \n",
    "\\begin{bmatrix}\n",
    "n \\\\\n",
    "k-1\n",
    "\\end{bmatrix}\n",
    "$$\n",
    "\n",
    "with initial conditions $[n,0] = 1$ if $n=0$ and $0$ otherwise, and $[n,n] = 1$.  This recurrence relation gives a triangular array.  These numbers are the _Stirling cycle numbers_ which count the number of permutations of $n$ objects having $k$ cycles."
   ]
  },
  {
   "cell_type": "code",
   "execution_count": null,
   "metadata": {},
   "outputs": [],
   "source": [
    "nmax = 8\n",
    "StirlingCycles = [[1],[0,1]]\n",
    "for n in range(2,nmax):\n",
    "    prevrow = StirlingCycles[n-1]\n",
    "    nextrow = [0]\n",
    "    for k in range(1,n):\n",
    "        tmp = (n-1)*prevrow[k] + prevrow[k-1]\n",
    "        nextrow.append(tmp)\n",
    "    nextrow.append(1)\n",
    "    StirlingCycles.append(nextrow)\n",
    "for n in range(nmax):\n",
    "    print( StirlingCycles[n] )"
   ]
  },
  {
   "cell_type": "code",
   "execution_count": null,
   "metadata": {},
   "outputs": [],
   "source": [
    "# Now do the same mod 2\n",
    "nmax = 21\n",
    "StirlingCycles = [[1],[0,1]]\n",
    "for n in range(2,nmax):\n",
    "    prevrow = StirlingCycles[n-1]\n",
    "    nextrow = [0]\n",
    "    for k in range(1,n):\n",
    "        tmp = ( (n-1)*prevrow[k] + prevrow[k-1] ) % 2  # The only change to the process\n",
    "        nextrow.append(tmp)\n",
    "    nextrow.append(1)\n",
    "    StirlingCycles.append(nextrow)\n",
    "for n in range(nmax):\n",
    "    print( StirlingCycles[n] )"
   ]
  },
  {
   "cell_type": "markdown",
   "metadata": {},
   "source": [
    "We've really just scratched the surface, here.  Note that brackets are needed for modular computations: `( blah ) % 2` is needed, or if the modulus is complicated, `( blah ) % ( bug-ugly-modulus )`."
   ]
  },
  {
   "cell_type": "markdown",
   "metadata": {},
   "source": [
    "{ref}`[Go back to Activity] <JuliaSetActivity-3>`"
   ]
  },
  {
   "cell_type": "markdown",
   "metadata": {},
   "source": [
    "(JuliaSetActivityReport-4)=\n",
    "## Julia Set Activity 4\n",
    "\n",
    "Write a Python program to animate Newton's method for real functions and real initial estimates in general (the animated GIF at the top of this vignette was produced by a Maple program, Student:-Calculus1:-NewtonsMethod, which is quite a useful model).  This exercise asks you to \"roll your own\" animation.  At least, write Python code to draw the basic lines in the figure above.\n",
    "\n",
    "Animation turns out to be complicated, when you think about the three things \"Python\", \"Jupyter notebook\", and \"Jupyter Book\".  [Here is a link to the documentation,](https://matplotlib.org/stable/gallery/animation/simple_anim.html) [ and a blog post ](http://louistiao.me/posts/notebooks/embedding-matplotlib-animations-in-jupyter-notebooks/) and [some more information](https://jupyterbook.org/en/stable/interactive/interactive.html). \n",
    "\n",
    "The documentation example alone has several new aspects to it. To help you get started, we do some preliminary programming.  We consider (as with the figure) the function $y = x^2 + 1$, and we write down explicitly the $3$-periodic orbit that we want to animate.  If we start at $x_0 = \\cot \\pi/7 \\approx 2.07652139657233$, then it turns out that $x_1 = \\cot 2\\pi/7$ and $x_2 = \\cot 4\\pi/7$ and $x_3 = \\cot 8\\pi/7 = \\cot \\pi/7 = x_0$ and we have a periodic orbit.  So we want to draw  a vertical dashed line from $(x_0,0)$ to $(x_0,x_0^2+1)$.  Then draw a line from $(x_0, x_0^2+1)$ to $(x_1,0)$; then a vertical dashed line from $(x_1,0)$ to $(x_1, x_1^2+1)$; then a line from $(x_1,x_1^2+1)$ to $(x_2, 0)$; then a vertical dashed line to $(x_2,x_2^2+1)$; then a line from there to $(x_0,0)$, and then repeat.  We can begin by simply drawing all those lines. Now, we need to figure out how to get \"animate\" to draw these lines in sequence.\n",
    "\n",
    "It looks like we need to instal ffmpeg to make it work in practice, but that (we think) takes us too far afield for such a simple animation.  We will stop here (sorry if you feel cheated&mdash;but if you can get it to work without too much further effort, drop us a line)."
   ]
  },
  {
   "cell_type": "code",
   "execution_count": 1,
   "metadata": {},
   "outputs": [
    {
     "data": {
      "image/png": "[encoded data removed]",
      "text/plain": [
       "<Figure size 432x288 with 1 Axes>"
      ]
     },
     "metadata": {
      "needs_background": "light"
     },
     "output_type": "display_data"
    }
   ],
   "source": [
    "import numpy as np\n",
    "import matplotlib.pyplot as plt\n",
    "\n",
    "fig,ax = plt.subplots()\n",
    "\n",
    "f = lambda x: x*x + 1\n",
    "\n",
    "# x0 = np.cot(np.pi/7)  # Pathetically, there is no cotangent in NumPy\n",
    "\n",
    "cot = lambda x: 1.0/np.tan(x)\n",
    "\n",
    "x0 = cot(np.pi/7)\n",
    "y0 = f(x0)\n",
    "x1 = cot(2*np.pi/7)\n",
    "y1 = f(x1)\n",
    "x2 = cot(4*np.pi/7)\n",
    "y2 = f(x2)\n",
    "\n",
    "x = np.arange(x2-0.5,x0+0.5,0.01)\n",
    "y = f(x)\n",
    "basecurve = ax.plot( x, y, color='red' )\n",
    "dash1 = ax.plot( [x0,x0], [0,y0], linestyle='dashed', color='blue' )\n",
    "line1 = ax.plot( [x0,x1], [y0,0], color='black'  )\n",
    "dash2 = ax.plot( [x1,x1], [0,y1], linestyle='dashed', color='blue' )\n",
    "line2 = ax.plot( [x1,x2], [y1,0], color='black' )\n",
    "dash2 = ax.plot( [x2,x2], [0,y2], linestyle='dashed', color='blue' )\n",
    "line3 = ax.plot( [x2,x0], [y2,0], color='black' )\n",
    "plt.show()\n"
   ]
  },
  {
   "cell_type": "code",
   "execution_count": null,
   "metadata": {
    "tags": [
     "remove-cell"
    ]
   },
   "outputs": [],
   "source": [
    "# # Sadly, the following code does not work, issuing the error message\n",
    "# # RuntimeError: Requested MovieWriter (ffmpeg) not available\n",
    "\n",
    "# # We think we could fix it by installing ffmpeg, but we have not done so.\n",
    "\n",
    "# rc('animation', html='html5')\n",
    "# fig,ax = plt.subplots()\n",
    "\n",
    "# f = lambda x: x*x + 1\n",
    "\n",
    "# # x0 = np.cot(np.pi/7)  # Pathetically, there is no cotangent in NumPy\n",
    "\n",
    "# cot = lambda x: 1.0/np.tan(x)\n",
    "\n",
    "# x0 = cot(np.pi/7)\n",
    "# y0 = f(x0)\n",
    "# x1 = cot(2*np.pi/7)\n",
    "# y1 = f(x1)\n",
    "# x2 = cot(4*np.pi/7)\n",
    "# y2 = f(x2)\n",
    "\n",
    "# xdata = [[x0,x0],[x0,x1],[x1,x1],[x1,x2],[x2,x2],[x2,x0]]\n",
    "# ydata = [[0,y0], [y0,0], [0,y1], [y1,0], [0,y2], [y2, 0]]\n",
    "\n",
    "# ax.set_xlim((x2-0.5, x0+0.5))\n",
    "# ax.set_ylim((0, y0+1))\n",
    "\n",
    "# x = np.arange(x2-0.5,x0+0.5,0.01)\n",
    "# y = f(x)\n",
    "# line, = ax.plot( x, y, color='red' )\n",
    "\n",
    "# # c   = ['black','blue']\n",
    "# # sty = ['solid','dashed']\n",
    "\n",
    "# # initialization function: plot the background of each frame\n",
    "# def init():\n",
    "#     line.set_data(x,y,color='red')\n",
    "#     return (line,)\n",
    "\n",
    "# # color=c[i % 2], linestyle=sty[i % 2]\n",
    "\n",
    "# def animate(i):\n",
    "#     line.set_data( xdata[i%6], ydata[i%6])  # update the data.\n",
    "#     return (line,)\n",
    "\n",
    "# anim = animation.FuncAnimation(fig, animate, init_func=init,\n",
    "#                                frames=100, interval=20, blit=False )"
   ]
  },
  {
   "cell_type": "code",
   "execution_count": 2,
   "metadata": {},
   "outputs": [],
   "source": [
    "%matplotlib inline"
   ]
  },
  {
   "cell_type": "code",
   "execution_count": 3,
   "metadata": {},
   "outputs": [],
   "source": [
    "import numpy as np\n",
    "import matplotlib.pyplot as plt\n",
    "\n",
    "from matplotlib import animation, rc\n",
    "from IPython.display import HTML, Image"
   ]
  },
  {
   "cell_type": "code",
   "execution_count": 4,
   "metadata": {
    "tags": [
     "remove-output"
    ]
   },
   "outputs": [
    {
     "data": {
      "image/png": "[encoded data removed]",
      "text/plain": [
       "<Figure size 432x288 with 1 Axes>"
      ]
     },
     "metadata": {
      "needs_background": "light"
     },
     "output_type": "display_data"
    }
   ],
   "source": [
    "rc('animation', html='html5')\n",
    "fig,ax = plt.subplots()"
   ]
  },
  {
   "cell_type": "code",
   "execution_count": 5,
   "metadata": {},
   "outputs": [],
   "source": [
    "f = lambda x: x*x + 1\n",
    "\n",
    "cot = lambda x: 1.0/np.tan(x)\n",
    "\n",
    "x0 = cot(np.pi/7)\n",
    "y0 = f(x0)\n",
    "x1 = cot(2*np.pi/7)\n",
    "y1 = f(x1)\n",
    "x2 = cot(4*np.pi/7)\n",
    "y2 = f(x2)\n",
    "\n",
    "xdata = [[x0,x0],[x0,x1],[x1,x1],[x1,x2],[x2,x2],[x2,x0]]\n",
    "ydata = [[0,y0], [y0,0], [0,y1], [y1,0], [0,y2], [y2, 0]]"
   ]
  },
  {
   "cell_type": "code",
   "execution_count": 6,
   "metadata": {
    "tags": [
     "remove-output"
    ]
   },
   "outputs": [
    {
     "data": {
      "text/plain": [
       "(0.0, 6.311941110422728)"
      ]
     },
     "execution_count": 6,
     "metadata": {},
     "output_type": "execute_result"
    },
    {
     "data": {
      "image/png": "[encoded data removed]",
      "text/plain": [
       "<Figure size 432x288 with 1 Axes>"
      ]
     },
     "metadata": {
      "needs_background": "light"
     },
     "output_type": "display_data"
    }
   ],
   "source": [
    "fig, ax = plt.subplots()\n",
    "ax.set_xlim((x2-0.5, x0+0.5))\n",
    "ax.set_ylim((0, y0+1))"
   ]
  },
  {
   "cell_type": "code",
   "execution_count": 7,
   "metadata": {
    "tags": [
     "remove-output"
    ]
   },
   "outputs": [],
   "source": [
    "x = np.arange(x2-0.5,x0+0.5,0.01)\n",
    "y = f(x)\n",
    "ax.plot(x, y, 'r')\n",
    "\n",
    "line, = ax.plot([], [], lw=2)"
   ]
  },
  {
   "cell_type": "code",
   "execution_count": 8,
   "metadata": {},
   "outputs": [],
   "source": [
    "def init():\n",
    "    line.set_data([],[])\n",
    "    return (line,)\n",
    "\n",
    "def animate(i):\n",
    "    line.set_data( xdata[i%6], ydata[i%6])  # update the data.\n",
    "    return (line,)"
   ]
  },
  {
   "cell_type": "code",
   "execution_count": 9,
   "metadata": {},
   "outputs": [],
   "source": [
    "anim = animation.FuncAnimation(fig, animate, init_func=init,\n",
    "                               frames=100, interval=50, blit=False)"
   ]
  },
  {
   "cell_type": "code",
   "execution_count": 10,
   "metadata": {},
   "outputs": [],
   "source": [
    "anim.save('../Supplementary Material/Fractals and Julia Sets/animation.gif', writer='imagemagick', fps=1)"
   ]
  },
  {
   "cell_type": "markdown",
   "metadata": {},
   "source": [
    "```{figure} ../Supplementary\\ Material/Fractals\\ and\\ Julia\\ Sets/animation.gif\n",
    "---\n",
    "height: 250px\n",
    "name: newtonsmethodexercise\n",
    "---\n",
    "```"
   ]
  },
  {
   "cell_type": "markdown",
   "metadata": {},
   "source": [
    "{ref}`[Go back to Activity] <JuliaSetActivity-4>`"
   ]
  },
  {
   "cell_type": "markdown",
   "metadata": {},
   "source": [
    "(JuliaSetActivityReport-5)=\n",
    "\n",
    "## Julia Set Activity 5\n",
    "\n",
    "Take a few moments and write out (maybe using pen and ink, in a nice notebook) a bunch of questions about this material.  As always, don't worry about _answers_ just now.  The goal is _questions_, and more questions."
   ]
  },
  {
   "cell_type": "markdown",
   "metadata": {},
   "source": [
    "What is the _dimension_ of the boundary of the Newton fractal for $z^3-1$? How do you compute a dimension of a boundary, anyway? Which colouring scheme gives the most pleasing results? (We think the scheme in the notebook is pretty ugly; we hope you can do better).  Which fractal is hardest to compute?  Which is the simplest? Which is the most interesting to look at? What is the history of the fractal idea? Are there fractal _sounds_?  Fractals seem to be good models for trees, rivers, clouds, blood vessel networks, algae mats, lichen, ice crystals growing in water as it freezes, frost on the windowpane, lots of things; do they really tell us anything interesting about those real-life things?  There is lots of fractal art (again, see the [Bridges Math Art site](https://www.bridgesmathart.org/). How is it made?  What makes it _artistic_?  Is it art, if it's computer-generated?  (Some of the [Deep Dream art](https://en.wikipedia.org/wiki/DeepDream) makes us shudder)  What are the open mathematical questions about fractals?"
   ]
  },
  {
   "cell_type": "markdown",
   "metadata": {},
   "source": [
    "{ref}`[Go back to Activity] <JuliaSetActivity-5>`"
   ]
  },
  {
   "cell_type": "markdown",
   "metadata": {},
   "source": [
    "(JuliaSetActivityReport-6)=\n",
    "## Julia Set Activity 6\n",
    "\n",
    "Write your own code for computing Newton fractals, perhaps based on the code above (but at least improve the colour scheme)."
   ]
  },
  {
   "cell_type": "code",
   "execution_count": null,
   "metadata": {},
   "outputs": [],
   "source": [
    "import numpy as np\n",
    "import sympy\n",
    "import cmath\n",
    "from sympy.abc import x\n",
    "from sympy.utilities.lambdify import lambdify, implemented_function\n",
    "import colorsys\n",
    "import matplotlib\n",
    "import matplotlib.pyplot as plt\n",
    "from PIL import Image\n",
    "\n",
    "np.seterr(all='ignore')\n",
    "\n",
    "def gen_colours(n):\n",
    "    degree = 0\n",
    "    start = 60\n",
    "    space = 120\n",
    "    flag = 0\n",
    "    colours = []\n",
    "    for i in range(n):\n",
    "        if degree >= 360:\n",
    "            if flag == 0:\n",
    "                flag = 1\n",
    "                degree = start\n",
    "                start /= 2\n",
    "            else:\n",
    "                degree = start\n",
    "                start /= 2\n",
    "                space /= 2\n",
    "\n",
    "        colours.append(degree/360.0)\n",
    "        degree += space\n",
    "    return colours\n",
    "\n",
    "def gen_shade(colours, n_shade):\n",
    "    col_len = len(colours)\n",
    "    shade = np.linspace(170, 0, n_shade)\n",
    "    list_shade = []\n",
    "    for c in colours:\n",
    "        temp = []\n",
    "        for s in shade:\n",
    "            if s <= 90.0:\n",
    "                t = colorsys.hsv_to_rgb(c, 0.1+s/100.0, 1.0)\n",
    "                temp.append(tuple(int(round(255*x)) for x in t))\n",
    "            else:\n",
    "                t = colorsys.hsv_to_rgb(c, 1.0, 1.0-(s - 90.0)/100.0)\n",
    "                temp.append(tuple(int(round(255*x)) for x in t))\n",
    "        list_shade.append(temp)\n",
    "    return list_shade\n",
    "\n",
    "def colours(n, n_shade):\n",
    "    col = gen_colours(n)\n",
    "    return gen_shade(col, n_shade)\n",
    "\n",
    "def newton(func, dfunc, z, tol, max_iter):\n",
    "    count = 0\n",
    "    while (abs(func(z)) > tol) and (abs(func(z)/dfunc(z))/abs(z)) and (count < max_iter):\n",
    "        if abs(func(z)) > 1e16:\n",
    "            return (None, max_iter)\n",
    "        z = z - func(z)/dfunc(z)\n",
    "        count += 1\n",
    "    if (count == max_iter):\n",
    "        return (None, max_iter)\n",
    "    else:\n",
    "        return(z, count)\n",
    "\n",
    "def fractal(func, dfunc, bl, ur, size, tol, max_i, converge_tol):\n",
    "    roots = []\n",
    "    max_iter = 0\n",
    "    A = np.zeros((size[1], size[0], 3))\n",
    "    for i in range(size[1]):\n",
    "        y = i*(ur[1] - bl[1])/(size[1] - 1) + bl[1]\n",
    "        for j in range(size[0]):\n",
    "            x = j*(ur[0] - bl[0])/(size[0] - 1) + bl[0]\n",
    "            (root, count) = newton(func, dfunc, complex(x, y), tol, max_i)\n",
    "            if count > max_iter:\n",
    "                max_iter = count\n",
    "            if root:\n",
    "                alreadyFound = False\n",
    "                for test_root in roots:\n",
    "                    if abs(test_root - root) < converge_tol:\n",
    "                        root = test_root\n",
    "                        alreadyFound = True\n",
    "                        break\n",
    "                if not alreadyFound:\n",
    "                    roots.append(root)\n",
    "            if root:\n",
    "                A[i][j][0] = root.real\n",
    "                A[i][j][1] = root.imag\n",
    "                A[i][j][2] = count\n",
    "    return (A, roots, max_iter)\n",
    "\n",
    "def f_embed(M, **kwargs):\n",
    "    filename = kwargs.get('filename', None)\n",
    "    A = M[0]\n",
    "    (size_y, size_x, temp) = A.shape\n",
    "    roots = M[1] \n",
    "    n_shade = M[2]\n",
    "    C = colours(len(roots), n_shade)\n",
    "    img = Image.new(\"RGB\", (size_x, size_y), (255, 255, 255))\n",
    "    for y in range(size_y):\n",
    "        for x in range(size_x):\n",
    "            if A[y][x][0]:\n",
    "                i = int(A[y][x][2])\n",
    "                if i > n_shade - 1:\n",
    "                    i = n_shade - 1     \n",
    "                img.putpixel((x, size_y - y - 1), C[roots.index(complex(A[y][x][0], A[y][x][1]))][i])\n",
    "    display(img)\n",
    "    if filename != None:\n",
    "        img.save(filename + \".png\", \"PNG\")\n",
    "\n",
    "def Newt_Fractal(func, bl, ur, size, **kwargs):\n",
    "    i = kwargs.get('iterationlimit', 25)\n",
    "    filename = kwargs.get('filename', None)\n",
    "    tolerance = kwargs.get('tolerance', 1e-6)\n",
    "    converge_tol = kwargs.get('converge_tolerance', 1e-3)\n",
    "    dfunc = kwargs.get('derivative', None)\n",
    "    if dfunc == None:\n",
    "        dfunc = lambdify(x, sympy.diff(func(x), x), np)\n",
    "    else:\n",
    "        dfunc = lambdify(x, dfunc(x), np)\n",
    "    func = lambdify(x, func(x), np)\n",
    "    if type(size) == int:\n",
    "        size = (size, size)\n",
    "    M = fractal(func, dfunc, bl, ur, size, tolerance, i, converge_tol)\n",
    "    print('This program found ' + str(len(M[1])) + ' roots.')\n",
    "    roots = kwargs.get('printroots', False);\n",
    "    if (roots == True):\n",
    "        print('The roots are')\n",
    "        print(M[1])\n",
    "    if filename == None:\n",
    "        f_embed(M)\n",
    "    else:\n",
    "        f_embed(M, filename = filename)"
   ]
  },
  {
   "cell_type": "markdown",
   "metadata": {},
   "source": [
    "{ref}`[Go back to Activity] <JuliaSetActivity-6>`"
   ]
  },
  {
   "cell_type": "markdown",
   "metadata": {},
   "source": [
    "(JuliaSetActivityReport-7)=\n",
    "## Julia Set Activity 7\n",
    "\n",
    "Compute Newton fractals for several functions of your own choosing. Test your code on the function $f(z) = z^{8}+4 z^{7}+6 z^{6}+6 z^{5}+5 z^{4}+2 z^{3}+z^{2}+z$ used above."
   ]
  },
  {
   "cell_type": "code",
   "execution_count": null,
   "metadata": {},
   "outputs": [],
   "source": [
    "f = lambda z: z**8+3*z**7+5*z**6+5*z**5+4*z**4+2*z**3+z*z+z\n",
    "Newt_Fractal(f, (-1.8, -1.4), (1.0, 1.4), 500)"
   ]
  },
  {
   "cell_type": "markdown",
   "metadata": {},
   "source": [
    "{ref}`[Go back to Activity] <JuliaSetActivity-7>`"
   ]
  },
  {
   "cell_type": "markdown",
   "metadata": {},
   "source": [
    "(JuliaSetActivityReport-8)=\n",
    "## Julia Set Activity 8\n",
    "\n",
    "Compute Halley fractals for the same functions."
   ]
  },
  {
   "cell_type": "markdown",
   "metadata": {},
   "source": [
    "```python\n",
    "df = lambda z: 8*z**7+21*z**6+30*z**5+25*z**4+16*z**36*z**2+2*z+1\n",
    "halley = lambda z: f(z)/sympy.sqrt(df(z))\n",
    "Newt_Fractal(halley, (-1.8, -1.4), (1.0, 1.4), 500)\n",
    "```"
   ]
  },
  {
   "cell_type": "markdown",
   "metadata": {},
   "source": [
    "{ref}`[Go back to Activity] <JuliaSetActivity-8>`"
   ]
  },
  {
   "cell_type": "markdown",
   "metadata": {},
   "source": [
    "(JuliaSetActivityReport-9)=\n",
    "## Julia Set Activity 9\n",
    "\n",
    "Compute secant fractals for the same functions, using the $x_1 = x_0 - f(x_0)/f'(x_0)$ rule to generate the needed second \n",
    "initial estimate.  Try a different rule for generating $x_1$ and see if it affects your fractals."
   ]
  },
  {
   "cell_type": "code",
   "execution_count": null,
   "metadata": {},
   "outputs": [],
   "source": [
    "# A very short hacky program to draw the edges of a secant fractal\n",
    "# RMC 2022.2.6\n",
    "import numpy as np\n",
    "from matplotlib import pyplot as plt\n",
    "# We will take an N by N grid of initial estimates\n",
    "N = 200  # 800 by 800 is a lot and it takes a few seconds to draw \n",
    "x = np.linspace(-2,2,N)\n",
    "y = np.linspace(-2,2,N)\n",
    "F = np.zeros((N,N))\n",
    "# Here is the function and its derivative whose zeros we are looking for\n",
    "f = lambda x: x ** 3 - 2;\n",
    "df = lambda x: 3*x**2 ;\n",
    "# SirIsaac performs one Newton iteration\n",
    "SirIsaac = lambda x, fx: x - fx/df(x);\n",
    "secantIter = lambda x,y,fx,fy: x - fx*(x-y)/(fx-fy)\n",
    "for k in range(N):\n",
    "    for i in range(N):\n",
    "        # We range over all initial estimates in the grid\n",
    "        z0 = x[i]+1j*y[k];\n",
    "        f0 = f(z0)\n",
    "        z1 = SirIsaac( z0, f0 )\n",
    "        f1 = f(z1)\n",
    "        # Hard-wire in 20 iterations (maybe not enough)\n",
    "        for m in range(20):\n",
    "            z = secantIter( z1, z0, f1, f0 )\n",
    "            z0 = z1\n",
    "            f0 = f1\n",
    "            z1 = z\n",
    "            if z1==z0:\n",
    "                break\n",
    "            f1 = f(z1)\n",
    "        # After twenty iterations we hope the iteration has settled down, except on\n",
    "        # the boundary between basins of attraction.\n",
    "        # The phase (angle) is a likely candidate for a unique identifier for the root\n",
    "        F[i,k] = np.angle( z )\n",
    "# A magic incantation\n",
    "X,Y = np.meshgrid( x, y )\n",
    "# I admit to being quite puzzled as to why if we say X,Y in the call\n",
    "# this contour plot has the real axis vertical, pointing up \n",
    "# and the imaginary axis horizontal (not sure which way it's pointing)\n",
    "# so I have just empirically input Y,X to get the graph looking right.\n",
    "plt.figure(figsize=(10,10))\n",
    "plt.contourf( Y,X, F, levels=[-3,-2,0,2,3], colors=['brown','red','black','yellow','black','blue','black'] )\n",
    "plt.gca().set_aspect('equal', adjustable='box')"
   ]
  },
  {
   "cell_type": "markdown",
   "metadata": {},
   "source": [
    "{ref}`[Go back to Activity] <JuliaSetActivity-9>`"
   ]
  },
  {
   "cell_type": "markdown",
   "metadata": {},
   "source": [
    "(JuliaSetActivityReport-10)=\n",
    "## Julia Set Activity 10\n",
    "\n",
    "Try a few different values of \"c\" in the Mandelbrot example above, and generate your own \"Julia sets\"."
   ]
  },
  {
   "cell_type": "code",
   "execution_count": null,
   "metadata": {},
   "outputs": [],
   "source": [
    "import numpy as np\n",
    "from numpy.polynomial import Polynomial as Poly\n",
    "N = 10001\n",
    "History = np.zeros(N,dtype=complex)\n",
    "# History[0] is deliberately 0.0 for this example\n",
    "#print( History[0 ])\n",
    "here = 0\n",
    "there = 1\n",
    "c = [-0.73, 0, 1 ] # Try c=0.8 (Solution to Problem 1)\n",
    "d = len(c)-1\n",
    "while there <= N-d:\n",
    "    cc = c.copy()\n",
    "    cc[0] = c[0] - History[here]\n",
    "    p = Poly( cc );\n",
    "    rts = p.roots();\n",
    "    #print(here, rts)\n",
    "    for j in range(d):\n",
    "        #print( j, rts[j], there )\n",
    "        History[there] = rts[j];\n",
    "        there += 1;\n",
    "    here += 1;\n",
    "    \n",
    "import matplotlib.pyplot as plt\n",
    "x = [e.real for e in History]\n",
    "y = [e.imag for e in History]\n",
    "plt.scatter( x, y, s=0.5, marker=\".\" )\n",
    "plt.show()"
   ]
  },
  {
   "cell_type": "code",
   "execution_count": null,
   "metadata": {},
   "outputs": [],
   "source": [
    "N = 10001\n",
    "History = np.zeros(N,dtype=complex)\n",
    "# History[0] is deliberately 0.0 for this example\n",
    "#print( History[0 ])\n",
    "here = 0\n",
    "there = 1\n",
    "c = [-0.2-0.8j, 0, 1 ] # Try c=0.2+0.8j (Solution to Problem 1)\n",
    "d = len(c)-1\n",
    "while there <= N-d:\n",
    "    cc = c.copy()\n",
    "    cc[0] = c[0] - History[here]\n",
    "    p = Poly( cc );\n",
    "    rts = p.roots();\n",
    "    #print(here, rts)\n",
    "    for j in range(d):\n",
    "        #print( j, rts[j], there )\n",
    "        History[there] = rts[j];\n",
    "        there += 1;\n",
    "    here += 1;\n",
    "    \n",
    "import matplotlib.pyplot as plt\n",
    "x = [e.real for e in History]\n",
    "y = [e.imag for e in History]\n",
    "plt.scatter( x, y, s=0.5, marker=\".\" )\n",
    "plt.show()"
   ]
  },
  {
   "cell_type": "markdown",
   "metadata": {},
   "source": [
    "{ref}`[Go back to Activity] <JuliaSetActivity-10>`"
   ]
  },
  {
   "cell_type": "markdown",
   "metadata": {},
   "source": [
    "(JuliaSetActivityReport-11)=\n",
    "## Julia Set Activity 11\n",
    "\n",
    "These are not really Julia sets; they include too much of the history!  Alter the program so that it plots only (say) the last half of the points computed; increase the number of points by a lot, as well.  Compare your figure to (say) the Maple Julia set for c=1.2.  "
   ]
  },
  {
   "cell_type": "code",
   "execution_count": null,
   "metadata": {},
   "outputs": [],
   "source": [
    "N = 64001\n",
    "History = np.zeros(N,dtype=complex)\n",
    "# History[0] is deliberately 0.0 for this example\n",
    "#print( History[0 ])\n",
    "here = 0\n",
    "there = 1\n",
    "c = [-0.2-0.8j, 0, 1 ] # Try c=0.2+0.8j (Same as olution to Problem 1)\n",
    "d = len(c)-1\n",
    "while there <= N-d:\n",
    "    cc = c.copy()\n",
    "    cc[0] = c[0] - History[here]\n",
    "    p = Poly( cc );\n",
    "    rts = p.roots();\n",
    "    #print(here, rts)\n",
    "    for j in range(d):\n",
    "        #print( j, rts[j], there )\n",
    "        History[there] = rts[j];\n",
    "        there += 1;\n",
    "    here += 1;\n",
    "    \n",
    "import matplotlib.pyplot as plt\n",
    "import math\n",
    "x = [History[j].real for j in range(math.floor(63*N/64), N)] # Not just the last half, the last sixty-fourth\n",
    "y = [History[j].imag for j in range(math.floor(63*N/64), N)]\n",
    "plt.scatter( x, y, s=0.5, marker=\".\" )\n",
    "plt.show()"
   ]
  },
  {
   "cell_type": "markdown",
   "metadata": {},
   "source": [
    "{ref}`[Go back to Activity] <JuliaSetActivity-11>`"
   ]
  },
  {
   "cell_type": "markdown",
   "metadata": {},
   "source": [
    "(JuliaSetActivityReport-12)=\n",
    "## Julia Set Activity 12\n",
    "\n",
    "Change the function F to be a different polynomial; find places where both F and F' are zero (if any).  If necessary, change your polynomial so that there is such a \"critical point\".  Start your iteration there, and go backwards---plot your \"Julia set\"."
   ]
  },
  {
   "cell_type": "code",
   "execution_count": null,
   "metadata": {},
   "outputs": [],
   "source": [
    "N = 3**10+1\n",
    "History = np.zeros(N,dtype=complex)\n",
    "# History[0] is deliberately 0.0 for this example\n",
    "#print( History[0 ])\n",
    "here = 0\n",
    "there = 1\n",
    "# Newton's method on f(z) = z^3-1 gives z_{n+1} = (2z_n^3 + 1)/(3z_n^2)\n",
    "p = [1, 0, 0, 2 ] \n",
    "q = [0, 0, 3 ]\n",
    "d = max( len(p), len(q) ) - 1\n",
    "while there <= N-d:\n",
    "    cc = Poly( p ) - History[here]*Poly( q ) # Python has polynomial arithmetic so this is simple\n",
    "    rts = cc.roots();\n",
    "    #print(here, rts)\n",
    "    for j in range(d):\n",
    "        #print( j, rts[j], there )\n",
    "        History[there] = rts[j];\n",
    "        there += 1;\n",
    "    here += 1;\n",
    "    \n",
    "import matplotlib.pyplot as plt\n",
    "x = [e.real for e in History]\n",
    "y = [e.imag for e in History]\n",
    "fractal = plt.figure(figsize=(8,8))\n",
    "fractalax = plt.scatter( x, y, s=0.1, marker=\".\" );\n",
    "plt.xlim(-2,2);\n",
    "plt.ylim(-2,2);\n"
   ]
  },
  {
   "cell_type": "code",
   "execution_count": null,
   "metadata": {},
   "outputs": [],
   "source": [
    "N = 3**10+1\n",
    "History = np.zeros(N,dtype=complex)\n",
    "# History[0] is deliberately 0.0 for this example\n",
    "#print( History[0 ])\n",
    "here = 0\n",
    "there = 1\n",
    "# Halley's method on f(z) = z^3-1 gives z_{n+1} = z_n(z_n**3+2)/(2z_n^3+1)\n",
    "p = [0, 2, 0, 0, 1 ] \n",
    "q = [1, 0, 0, 2 ]\n",
    "d = max( len(p), len(q) ) - 1\n",
    "while there <= N-d:\n",
    "    cc = Poly( p ) - History[here]*Poly( q ) # Python has polynomial arithmetic so this is simple\n",
    "    rts = cc.roots();\n",
    "    #print(here, rts)\n",
    "    for j in range(d):\n",
    "        #print( j, rts[j], there )\n",
    "        History[there] = rts[j];\n",
    "        there += 1;\n",
    "    here += 1;\n",
    "    \n",
    "import matplotlib.pyplot as plt\n",
    "x = [e.real for e in History]\n",
    "y = [e.imag for e in History]\n",
    "fractal = plt.figure(figsize=(8,8))\n",
    "fractalax = plt.scatter( x, y, s=0.01, marker=\".\" );\n",
    "plt.xlim(-2,2);\n",
    "plt.ylim(-2,2);"
   ]
  },
  {
   "cell_type": "markdown",
   "metadata": {},
   "source": [
    "{ref}`[Go back to Activity] <JuliaSetActivity-12>`"
   ]
  },
  {
   "cell_type": "markdown",
   "metadata": {},
   "source": [
    "(JuliaSetActivityReport-13)=\n",
    "## Julia Set Activity 13\n",
    "\n",
    "Extend the program so that it works for _rational_ functions F, say $F(z) = p(z)/q(z)$.  This means solving the polynomial equation $p(z_n) - z_{n+1}q(z_n)=0$ for $z_n$. Try it out on the rational functions you get from Newton iteration on polynomial (or rational!) functions; or on Halley iteration on polynomial functions.  Try any of the that arise from the methods that you can find listed in [Revisiting Gilbert Strang's \"A Chaotic Search for _i_\"](https://doi.org/10.1145/3363520.3363521). "
   ]
  },
  {
   "cell_type": "code",
   "execution_count": null,
   "metadata": {},
   "outputs": [],
   "source": [
    "N = 90001\n",
    "History = np.zeros(N,dtype=complex)\n",
    "# History[0] is deliberately 0.0 for this example\n",
    "#print( History[0 ])\n",
    "here = 0\n",
    "there = 1\n",
    "# Halley's method on a Mandelbrot polynomial gives\n",
    "p = [0,0,0,-1,-9,-9,32,198,525,927,1236,1278,1014,570,192,28] \n",
    "q = [1,3,9,26,69,186,474,948,1497,1874,1842,1404,766,252,36]\n",
    "d = max( len(p), len(q) ) - 1\n",
    "while there <= N-d:\n",
    "    cc = Poly( p ) - History[here]*Poly( q ) # Python has polynomial arithmetic so this is simple\n",
    "    rts = cc.roots();\n",
    "    #print(here, rts)\n",
    "    for j in range(d):\n",
    "        #print( j, rts[j], there )\n",
    "        History[there] = rts[j];\n",
    "        there += 1;\n",
    "    here += 1;\n",
    "    \n",
    "import matplotlib.pyplot as plt\n",
    "x = [e.real for e in History]\n",
    "y = [e.imag for e in History]\n",
    "fractal = plt.figure(figsize=(8,8))\n",
    "fractalax = plt.scatter( x, y, s=0.05, marker=\".\" );\n",
    "plt.xlim(-2,2);\n",
    "plt.ylim(-2,2);"
   ]
  },
  {
   "cell_type": "code",
   "execution_count": null,
   "metadata": {},
   "outputs": [],
   "source": [
    "N = 15001\n",
    "History = np.zeros(N,dtype=complex)\n",
    "# History[0] is deliberately 0.0 for this example\n",
    "#print( History[0 ])\n",
    "here = 0\n",
    "there = 1\n",
    "# Halley's method on the Wilkinson N=8 polynomial gives\n",
    "p = [2209213440,-7144139520,8138672640,-1235703640,-6860019600,9045979866,-6258158928,2854960371,-921502440,216337751,-37195200,4642407,-409752,24255,-864,14] \n",
    "q = [3622946688,-15347414304,29274362808,-33337014480,25349245110,-13634595702,5357600661,-1564677432,341763501,-55631772,6651225,-567000,32613,-1134,18]\n",
    "d = max( len(p), len(q) ) - 1\n",
    "while there <= N-d:\n",
    "    cc = Poly( p ) - History[here]*Poly( q ) # Python has polynomial arithmetic so this is simple\n",
    "    rts = cc.roots();\n",
    "    #print(here, rts)\n",
    "    for j in range(d):\n",
    "        #print( j, rts[j], there )\n",
    "        History[there] = rts[j];\n",
    "        there += 1;\n",
    "    here += 1;\n",
    "    \n",
    "import matplotlib.pyplot as plt\n",
    "x = [e.real for e in History]\n",
    "y = [e.imag for e in History]\n",
    "fractal = plt.figure(figsize=(8,8))\n",
    "fractalax = plt.scatter( x, y, s=0.5, marker=\".\" );\n",
    "plt.xlim(0,9);\n",
    "plt.ylim(-1.75,1.75);"
   ]
  },
  {
   "cell_type": "code",
   "execution_count": null,
   "metadata": {},
   "outputs": [],
   "source": [
    "N = 180001\n",
    "History = np.zeros(N,dtype=complex)\n",
    "# History[0] is deliberately 0.0 for this example\n",
    "#print( History[0 ])\n",
    "here = 0\n",
    "there = 1\n",
    "# Halley's method on the Schroeder iteration for x**2 + 1 gives\n",
    "p = [-1, 0, -6, 0, 3]\n",
    "q = [0, 0, 0, 8]\n",
    "d = max( len(p), len(q) ) - 1\n",
    "while there <= N-d:\n",
    "    cc = Poly( p ) - History[here]*Poly( q ) # Python has polynomial arithmetic so this is simple\n",
    "    rts = cc.roots();\n",
    "    #print(here, rts)\n",
    "    for j in range(d):\n",
    "        #print( j, rts[j], there )\n",
    "        History[there] = rts[j];\n",
    "        there += 1;\n",
    "    here += 1;\n",
    "    \n",
    "import matplotlib.pyplot as plt\n",
    "x = [History[j].real for j in range(math.floor(44*N/45), N)] # Not just the last half, the last forty-fifth\n",
    "y = [History[j].imag for j in range(math.floor(44*N/45), N)]\n",
    "fractal = plt.figure(figsize=(8,8))\n",
    "fractalax = plt.scatter( x, y, s=0.5, marker=\".\" );\n",
    "plt.xlim(-2,2);\n",
    "plt.ylim(-1.,1.);"
   ]
  },
  {
   "cell_type": "markdown",
   "metadata": {},
   "source": [
    "{ref}`[Go back to Activity] <JuliaSetActivity-13>`"
   ]
  },
  {
   "cell_type": "markdown",
   "metadata": {},
   "source": [
    "(JuliaSetActivityReport-14)=\n",
    "## Julia Set Activity 14\n",
    "\n",
    "\n",
    "Read the [Wikipedia entry on Julia sets](https://en.wikipedia.org/wiki/Julia_set); it ought to be a little more intelligible now (but you will see that there are still lots of complications left to explain). One of the main items of interest is the theorem that states that the Fatou sets all have a _common boundary_.  This means that if the number of components is $3$ or more, then the Julia set (which is that boundary!) _must be a fractal_.\n",
    "\n",
    "\n",
    "We still find that amazing."
   ]
  },
  {
   "cell_type": "markdown",
   "metadata": {},
   "source": [
    "{ref}`[Go back to Activity] <JuliaSetActivity-14>`"
   ]
  }
 ],
 "metadata": {
  "celltoolbar": "Edit Metadata",
  "kernelspec": {
   "display_name": "Python 3 (ipykernel)",
   "language": "python",
   "name": "python3"
  },
  "language_info": {
   "codemirror_mode": {
    "name": "ipython",
    "version": 3
   },
   "file_extension": ".py",
   "mimetype": "text/x-python",
   "name": "python",
   "nbconvert_exporter": "python",
   "pygments_lexer": "ipython3",
   "version": "3.10.4"
  }
 },
 "nbformat": 4,
 "nbformat_minor": 4
}
