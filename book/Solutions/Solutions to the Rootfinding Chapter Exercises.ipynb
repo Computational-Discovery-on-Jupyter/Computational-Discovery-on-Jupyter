{
 "cells": [
  {
   "cell_type": "markdown",
   "id": "a66b18c2",
   "metadata": {},
   "source": [
    "# Solutions to the Rootfinding Chapter Exercises\n",
    "1: Write down as many questions as you can, about this section."
   ]
  },
  {
   "cell_type": "markdown",
   "id": "19e0fc4e",
   "metadata": {},
   "source": [
    "What is the oldest method for finding roots of equations?  What is the best way to solve polynomials? Can you solve them analytically? _Is_ there a best way to solve them? How do you solve multivariate polynomials (more than one equation in more than one unknown)? Can you _count_ the number of solutions independently so that you know when you have found them all?  What's the difference between an equation and an identity? Can there be infinitely many solutions to a single equation? (Sure: $\\sin(x)=0$ has solutions $k\\pi$ for any integer $k$) Can an equation have no solutions? (Sure: $\\exp(z) = 0$ has no finite solutions). Can an equation have _accumulation points_ of solutions? (An accumulation point is a place where things pile up infinitely; an example is the set $1/k$ for integers $k$, which has an accumulation point at $0$). Can we solve every polynomial equation in terms of continued fractions? Are there polynomial matrix equations, and can they be solved by Newton's method? What happens with _multiple_ roots, such as $z^2-2z+1=0$? If there are two solutions to an equation, which one is the right one? Can you find a formula for the _integer_ solutions of an equation?  "
   ]
  },
  {
   "cell_type": "markdown",
   "id": "c74b21e4",
   "metadata": {},
   "source": [
    "2: Sometimes Newton iteration is \"too expensive\"; a cheaper alternative is the so-called _secant iteration_, which goes as follows: $z_{n+1} = z_n - f(z_n)(z_{n}-z_{n-1})/(f(z_n) - f(z_{n-1}))$. You need not one, but _two_ initial approximations for this.  Put $f(z) = z^2-2$ and start with the two initial approximations $z_0  = 1$, $z_1 = 3/2$.  Carry out several steps of this (in exact arithmetic is better).  Convert each rational $z_n$ to continued fraction form.  Discuss what you find."
   ]
  },
  {
   "cell_type": "code",
   "execution_count": 1,
   "id": "fd82c5f8",
   "metadata": {},
   "outputs": [
    {
     "name": "stdout",
     "output_type": "stream",
     "text": [
      "[1.         1.5        1.4        1.4137931  1.41421569 1.41421356\n",
      " 1.41421356 1.41421356 1.41421356 1.41421356] [-1.00000000e+00  2.50000000e-01 -4.00000000e-02 -1.18906064e-03\n",
      "  6.00730488e-06 -8.93145558e-10 -8.88178420e-16 -4.44089210e-16\n",
      "  4.44089210e-16 -4.44089210e-16]\n"
     ]
    }
   ],
   "source": [
    "import numpy as np\n",
    "niter = 10\n",
    "z = np.zeros(niter)\n",
    "y = np.zeros(niter)\n",
    "\n",
    "f = lambda t: t**2 - 2.0\n",
    "\n",
    "z[0] = 1.0\n",
    "y[0] = f(z[0])\n",
    "\n",
    "z[1] = 1.5\n",
    "y[1] = f(z[1])\n",
    "for k in range(2,niter):\n",
    "    z[k] = z[k-1] - y[k-1]*(z[k-1]-z[k-2])/(y[k-1]-y[k-2])\n",
    "    y[k] = f( z[k] )\n",
    "    \n",
    "print( z, y )"
   ]
  },
  {
   "cell_type": "markdown",
   "id": "f2e9bee5",
   "metadata": {},
   "source": [
    "If you do this problem using exact arithmetic, and convert the rational answers to continued fraction form, you get $[1]$, $[1;2]$, $[1;2,2]$, $[1;2,2,2,2]$, and so on, similar to Newton's method.  But there are $1$, $2$, $3$, $5$, $8$, $13$, $21$, and so on partial quotients---these are Fibonacci numbers!  Newton's method converges _quadratically_ in that the number of correct entries in the continued fraction doubles every time (or nearly; it's off by one, maybe).  The secant method converges at the rate of $\\phi = (1+\\sqrt{5})/2 \\approx 1.618$ because the ratio of successive Fibonacci numbers approaches $\\phi$ (quite quickly, really).  "
   ]
  },
  {
   "cell_type": "markdown",
   "id": "2ecb29e6",
   "metadata": {},
   "source": [
    "3: Try Newton and secant iteration on some functions of your own choosing.  You should see that Newton iteration usually takes fewer iterations to converge, but since it needs a derivative evaluation while the secant method does not, each iteration is \"cheaper\" in terms of computational cost(if $f(z)$ is at all expensive to evaluate, $f'(z)$ usually is too; there are exceptions, of course).  The consensus seems to be that the secant method is a bit more practical; but in some sense it is just a variation on Newton's method."
   ]
  },
  {
   "cell_type": "markdown",
   "id": "43469c43",
   "metadata": {},
   "source": [
    "This question doesn't need an _answer_ per se, because there are lots of examples all over the place, but perhaps your solutions need someone to look at them.  Things that can happen: first, and most usual, your code works and the roots get approximated well quite quickly, and the residuals behave something like $r_n = f(z_n) \\approx C r_{n-1}^2$ where $C$ is some constant.  This is usually visible.  If your residuals do _not_ get small quickly, then you might have a bug in your code, or you might have a multiple root.  Sometimes you can divide by zero (if $f'(z)=0$ anywhere near), and sometimes the iteration can go off to infinity or minus infinity (if $f(z) = \\exp(z)$ then it could well go to $-\\infty$)."
   ]
  },
  {
   "cell_type": "markdown",
   "id": "9a15a8ab",
   "metadata": {},
   "source": [
    "4: Both the Newton iteration and the secant iteration applied to $f(z) = z^2-a^2$ can be _solved analytically_ by the transformation $z = a\\coth \\theta$.  [Hyperbolic functions](https://en.wikipedia.org/wiki/Hyperbolic_functions)  The iteration $z_{n+1} = (z_n + a^2/z_n)/2$ becomes (you can check this) $\\coth \\theta_{n+1} = \\cosh 2\\theta_n/\\sinh 2\\theta_n = \\coth 2\\theta_n$, and so we may take $\\theta_{n+1} = 2\\theta_n$.  This can be solved to get $\\theta_n = 2^n\\theta_0$ and so we have an analytical formula for each $z_n = a \\coth( 2^n \\theta_0 )$.  Try this on $a^2=2$; you should find that $\\theta_0 = \\mathrm{invcoth}(1/\\sqrt{2})$.  By \"invcoth\" we mean the functional inverse of coth, i.e.: $\\coth\\theta_0 = 1/\\sqrt{2}$. It may surprise you that that number is complex.  Nevertheless, you will find that all subsequent iterates are real, and $\\coth 2^n\\theta_0$ goes to $1$ very quickly.\n",
    "\n",
    "NB This was inadvertently difficult.  Neither numpy nor scipy has an invcoth (or arccoth) function. The Digital Library of Mathematical Functions says (equation 4.37.6) that arccoth(z) = arctanh(1/z).  Indeed we had to go to Maple to find out that invcoth$(1/\\sqrt{2}) = \\ln(1+\\sqrt{2}) - i\\pi/2$."
   ]
  },
  {
   "cell_type": "code",
   "execution_count": 2,
   "id": "b4101dbf",
   "metadata": {},
   "outputs": [
    {
     "name": "stdout",
     "output_type": "stream",
     "text": [
      "1.4142135623730951 1 (0.8813735870195429-1.5707963267948966j) (1.0000000000000002+4.329780281177466e-17j)\n",
      "1.5 (1.5000000000000002-2.164890140588737e-17j)\n",
      "1.4166666666666665 (1.4166666666666667-1.2027167447714604e-18j)\n",
      "1.4142156862745097 (1.4142156862745097-2.0808248176151256e-21j)\n",
      "1.4142135623746899 (1.41421356237469-3.124994721214149e-27j)\n",
      "1.414213562373095 (1.414213562373095+0j)\n"
     ]
    }
   ],
   "source": [
    "niter = 5\n",
    "r2 = np.sqrt(2)\n",
    "x = 1;\n",
    "#theta0 = np.arctanh(r2)  # Apparently this is real only?\n",
    "theta0 = np.log(1+r2) - (np.pi/2)*1j\n",
    "coth = lambda z: np.cosh(z)/np.sinh(z)  # Amazing that even this has to be defined\n",
    "z = r2*coth(theta0)\n",
    "print( r2, x, theta0, z )\n",
    "for k in range(niter):\n",
    "    x = (x + 2/x)/2\n",
    "    z = r2*coth(2**(k+1)*theta0)\n",
    "    print( x, z )"
   ]
  },
  {
   "cell_type": "markdown",
   "id": "eaadf706",
   "metadata": {},
   "source": [
    "We see numerically that the formula matches the iteration, up to rounding error. "
   ]
  },
  {
   "cell_type": "markdown",
   "id": "26ea9cc6",
   "metadata": {},
   "source": [
    "5: Try the above with $a^2=-1$.  NB the initial guess $z_0 = 1$ fails! Try $z_0 = e = \\exp(1) = 2.71828...$ instead. For this, the $\\theta_0 = 1j\\arctan(e^{-1})$. Then you might enjoy reading Gil Strang's lovely article [A Chaotic Search for $i$](https://www.jstor.org/stable/2686733). "
   ]
  },
  {
   "cell_type": "code",
   "execution_count": 3,
   "id": "d22518da",
   "metadata": {},
   "outputs": [
    {
     "name": "stdout",
     "output_type": "stream",
     "text": [
      "1j 2.718281828459045 0.352513421777619j (2.7182818284590446+0j)\n",
      "1.1752011936438014 (1.1752011936438014+0j)\n",
      "0.1621415327022399 (0.1621415327022399+0j)\n",
      "-3.0026548631469705 (-3.0026548631469714+0j)\n",
      "-1.334808126895235 (-1.3348081268952354+0j)\n",
      "-0.29281839085136163 (-0.2928183908513621+0j)\n"
     ]
    }
   ],
   "source": [
    "niter = 5\n",
    "x = np.exp(1);\n",
    "#theta0 = np.arctanh(r2)  # Apparently this is real only?\n",
    "theta0 = 1j*np.arctan(np.exp(-1)) # strange initial guess\n",
    "coth = lambda z: np.cosh(z)/np.sinh(z)  # Amazing that even this has to be defined\n",
    "z = 1j*coth(theta0)\n",
    "print( 1j, x, theta0, z )\n",
    "for k in range(niter):\n",
    "    x = (x - 1/x)/2\n",
    "    z = 1j*coth(2**(k+1)*theta0)\n",
    "    print( x, z )"
   ]
  },
  {
   "cell_type": "markdown",
   "id": "175ebb0c",
   "metadata": {},
   "source": [
    "Again we see that the formula matches the iteration up to roundoff error, although it's working with complex numbers.  If we went for a few more iterations, though, we would see the rounding errors take over---this is a case where the iteration _depends sensitively on initial conditions_.  This is a hallmark of [chaos](https://en.wikipedia.org/wiki/Chaos_theory). "
   ]
  },
  {
   "cell_type": "markdown",
   "id": "b276f6d9",
   "metadata": {},
   "source": [
    "6: Try to solve the _secant_ iteration for $z^2-a^2$ analytically.  You should eventually find a connection to Fibonacci numbers. "
   ]
  },
  {
   "cell_type": "markdown",
   "id": "88735617",
   "metadata": {},
   "source": [
    "This is a fun exercise in trig identities.  The solution can be found in the paper cited in problem 8 below."
   ]
  },
  {
   "cell_type": "markdown",
   "id": "eb9d8118",
   "metadata": {},
   "source": [
    "7: People keep inventing new rootfinding iterations.  Usually they are reinventions of methods that others have invented before, such as so-called _Schroeder_ iteration and _Householder_ iteration.  One step along the way is the method known as _Halley iteration_, which looks like this: \n",
    "\\begin{equation*}\n",
    "z_{n+1} = z_n - \\frac{f(z_n)}{f'(z_n) - \\frac{f(z_n)f''(z_n)}{2f'(z_n)}} \n",
    "\\end{equation*}\n",
    "which, as you can see, also involves the _second_ derivative of $f$.  When it works, it works quickly, typically converging in fewer iterations than Newton (although, typically, each step is more expensive computationally).  Try the method out on some examples.  It may help you to reuse your code (or Maple's code) if you are told that Newton iteration on $F(z) = f(z)/\\sqrt{f'(z)}$ turns out to be identical to Halley iteration on $f(z)$."
   ]
  },
  {
   "cell_type": "markdown",
   "id": "5585d2cb",
   "metadata": {},
   "source": [
    "We've done a lot of these.  In the next unit, you will see fractal images from both Newton's method and from Halley's method. Here is Eunice with the resulting pictures from twenty functions, solved using Newton's method and using Halley's method.\n",
    "\n",
    "```{image} ../Figures/Rootfinding/FortyFractals.jpg\n",
    ":height: 300px\n",
    ":alt: Eunice and the Forty Fractals.\n",
    ":align: center\n",
    "```"
   ]
  },
  {
   "cell_type": "markdown",
   "id": "fb279b72",
   "metadata": {},
   "source": [
    "8: Try to solve Halley's iteration for $x^2-a$ analytically.  Then you might enjoy reading [Revisiting Gilbert Strang's \"A Chaotic Search for i\"](https://doi.org/10.1145/3363520.3363521) by Ao Li and Rob Corless; Ao was a (graduate) student in the first iteration of this course at Western, and she solved&mdash;in class!&mdash;what was then an _open_ problem (this problem!)."
   ]
  },
  {
   "cell_type": "markdown",
   "id": "753f1e47",
   "metadata": {},
   "source": [
    "The complete solution is in the paper linked above."
   ]
  }
 ],
 "metadata": {
  "kernelspec": {
   "display_name": "Python 3",
   "language": "python",
   "name": "python3"
  },
  "language_info": {
   "codemirror_mode": {
    "name": "ipython",
    "version": 3
   },
   "file_extension": ".py",
   "mimetype": "text/x-python",
   "name": "python",
   "nbconvert_exporter": "python",
   "pygments_lexer": "ipython3",
   "version": "3.8.5"
  }
 },
 "nbformat": 4,
 "nbformat_minor": 5
}
