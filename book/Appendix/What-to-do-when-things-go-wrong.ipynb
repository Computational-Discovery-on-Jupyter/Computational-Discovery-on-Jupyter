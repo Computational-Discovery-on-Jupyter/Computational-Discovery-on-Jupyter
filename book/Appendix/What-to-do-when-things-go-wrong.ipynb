{
 "cells": [
  {
   "cell_type": "markdown",
   "id": "f3171758",
   "metadata": {},
   "source": [
    "# What do to when things go wrong\n",
    "\n",
    "## Some general advice"
   ]
  },
  {
   "cell_type": "markdown",
   "id": "983e93c2",
   "metadata": {},
   "source": [
    "First, we bring to mind the words on the cover of [The Hitchhiker's Guide to the Galaxy](https://en.wikipedia.org/wiki/The_Hitchhiker%27s_Guide_to_the_Galaxy): \"Don't panic\".  \n",
    "\n",
    "That's not always a useful thing to say to someone who actually _is_ panicking, of course, but we hope that you are not really panicking, and what you need to hear is that you are already doing the right thing.\n",
    "\n",
    "We (the authors) are all mathematical programmers, some with a _lot_ of experience in different computer languages, and \"to a first approximation\" we _always_ get the code wrong on the first attempt.  We _always_ have to find \"bugs\" and fix them.  In fact, we do not know of any programmers at all who can count on writing bug-free code on the first try.  Not even Donald Knuth, regarded by some as being one of the best programmers on the planet.\n",
    "\n",
    "So, the first thing to do when you have finished (heh, \"finished\") writing your code is to _assume that it is not working_.  Then you try it.  When it doesn't work (probably with a syntax error), you are not surprised (or disappointed).  You will, of course, be annoyed.\n",
    "\n",
    "Next, you swat the bugs you see in your code (the most frustrating ones of all are, of course, _not where you are looking_) and try it again.  A few iterations of this and you will finally (heh, \"finally\") arrive at code that _might_ be working.  At least it runs without throwing an error message at you.\n",
    "\n",
    "You will need to _test_ the code, and test it quite thoroughly.  This is true even if you have _proved mathematically_ that your code is correct.  [Look at Fibonacci Activity Report 10 for a clear example of this](FibonacciActivityReport-10).\n"
   ]
  },
  {
   "cell_type": "markdown",
   "id": "5c2f3132",
   "metadata": {},
   "source": [
    "Then, when your code runs without throwing errors at you, and passes your tests, you can begin to use it.  You might still have bugs (of course) but every successful run will increase your confidence."
   ]
  },
  {
   "cell_type": "markdown",
   "id": "eb328707",
   "metadata": {},
   "source": [
    "```{epigraph}\n",
    "\"Writing [code] is nature's way of showing us how sloppy our thinking is.\"\n",
    "\n",
    "-- attributed to [Leslie Lamport](https://en.wikipedia.org/wiki/Leslie_Lamport)\n",
    "```"
   ]
  },
  {
   "cell_type": "markdown",
   "id": "df63945a",
   "metadata": {},
   "source": [
    "There's some truth in that quotation from Leslie Lamport, but there's some victim-blaming in there, too.  Programming is hard, but it's even harder to design programming languages that are truly \"intuitive\".  (We don't know of any, in fact.)  The truth is that the designer(s) of the language in question, be it Python or Maple or whatever, came to their decisions based on a way of thinking about things that you (probably) won't share, at least at first.  To take a simple example, non-programmers think of the \"=\" sign, [invented by Robert Recorde in 1557](https://mathshistory.st-andrews.ac.uk/Biographies/Recorde/#:~:text=Recorde%20was%20a%20Welsh%20doctor,Whetstone%20of%20Witte%20(1557).) \"bicause noe 2 thynges can be moare equalle\", as defining equality or identity.  But in Python it means _assignment_: replace the contents of the thing on the left by the thing indicated on the right.  It's an _action_, not a statement."
   ]
  },
  {
   "cell_type": "markdown",
   "id": "04cd2999",
   "metadata": {},
   "source": [
    "While we are on the topic, if you _want_ to check equality, you have to use `==`.  If you try to use `=` you will get an error message, like so:"
   ]
  },
  {
   "cell_type": "code",
   "execution_count": 1,
   "id": "000d19a1",
   "metadata": {},
   "outputs": [
    {
     "ename": "SyntaxError",
     "evalue": "invalid syntax. Maybe you meant '==' or ':=' instead of '='? (3603625683.py, line 2)",
     "output_type": "error",
     "traceback": [
      "\u001b[1;36m  Input \u001b[1;32mIn [1]\u001b[1;36m\u001b[0m\n\u001b[1;33m    if x=3 :\u001b[0m\n\u001b[1;37m       ^\u001b[0m\n\u001b[1;31mSyntaxError\u001b[0m\u001b[1;31m:\u001b[0m invalid syntax. Maybe you meant '==' or ':=' instead of '='?\n"
     ]
    }
   ],
   "source": [
    "x = 3\n",
    "if x=3 :\n",
    "    print(\"x is three\")\n",
    "else:\n",
    "    print(\"x is not three\")"
   ]
  },
  {
   "cell_type": "markdown",
   "id": "9e5d5bad",
   "metadata": {},
   "source": [
    "That was an expected error message, but it not only mentions `==` but also the \"walrus operator\" `:=`.  [More about the walrus operator](https://medium.com/mlearning-ai/when-and-why-to-use-over-in-python-b91168875453)."
   ]
  },
  {
   "cell_type": "markdown",
   "id": "1f48128d",
   "metadata": {},
   "source": [
    "You will have to get used to _guessing how the designers thought_ and that means looking at a lot of code and reading a lot of error messages.  Following and modifying good examples is a good way to learn good habits of thought.  Sometimes, though, you will look at some code construct and think \"Whoever thought _that_ was a good idea??\"  People can and do think differently about programming.  This is why we have so many different languages, from C to Haskell, from assembly language to Rust. RMC's favourite was [FORTH](https://www.forth.com/forth/), a language invented for control of telescopes. Niche, but elegant. And Leo Brodie's two books on it freely available at that link can really teach you something about writing good code in any language.\n",
    "\n",
    "One of the things that distinguishes Python is that _indentation has semantic meaning_.  This is quite unlike most other languages.  In Maple, for instance (which on a deep structure level is actually quite similar to Python) one ends loops with an appropriate `end` statement (and similarly for `if` statements and for procedures).  But for _readability_ people use indentation to indicate to the human reader&mdash;usually your own future self&mdash;what is going on.  For Python they just decided to make it mandatory.  Another is \"indexing from zero\" by default.  One gets used to it.\n",
    "\n",
    "The science of Human-Computer Interaction includes the study of programming language design, by the way.  It's very hard."
   ]
  },
  {
   "cell_type": "markdown",
   "id": "9c3f8f7d",
   "metadata": {},
   "source": [
    "## After you have had some practice programming, here's a good read\n",
    "\n",
    "[Best Practices for Scientific Computing](https://journals.plos.org/plosbiology/article?id=10.1371/journal.pbio.1001745)\n",
    "\n",
    "One of the pieces of advice that we like the best is \"Write programs for people, not computers\".  This is their first bullet point in their [Box 1 summary](https://journals.plos.org/plosbiology/article?id=10.1371/journal.pbio.1001745#pbio-1001745-box001) and it deserves that place.\n",
    "\n",
    "Another piece of advice from that paper (point 6 in their Box 1) is to write your program in the highest-level programming language available for the purpose.  We haven't spoken much here about \"high-level\" versus \"low-level\" languages, but Python (and Maple) are very high-level languages.  Each statement has a lot of power, and before its execution on a physical machine it gets translated into the ultra low-level language that the computer actually understands.  The advantages are that it is easier to match how a human thinks about the problem to code that actually works.  The disadvantages include that (typically) computing time is not optimized; a low-level code to do the same thing typically runs much faster, sometimes orders of magnitude faster.  But the key piece of advice (also in point 6) is to get it working first, and optimize later.\n",
    "\n",
    "\n",
    "Writing low-level code directly is possible, and some humans are actually quite good at it, but doing so typically takes a much longer time than a human writing high-level code and subsequently optimizing it (or just optimizing the bits that actually need optimizing).  So while the computing time (ie the time the program takes to run on the final run) might be lower the first way, the overall time taken from the start of the project to the final report can be quite a bit shorter by using a high level language.\n",
    "\n",
    "And the result is more reproducible, because high-level programming is typically much more intelligible to other humans (including your future self).\n"
   ]
  },
  {
   "cell_type": "markdown",
   "id": "b3427066",
   "metadata": {},
   "source": [
    "## Some specific advice\n",
    "\n",
    "The simplest thing to do with a syntax error is to __google the error message__.  Yes, we do this too.  It helps if you _read_ the error message as well, but unfortunately error messages can frequently be, well, unhelpful.  Usually they are too terse, which (after you've seen it for the tenth time) becomes a good thing.  A google search (or whatever your engine of choice for searching is) can frequently bring you to a discussion of what the error message actually means."
   ]
  },
  {
   "cell_type": "markdown",
   "id": "271d083f",
   "metadata": {},
   "source": [
    "The next simple bit of advice is _really_ hard for people to take.  It's based on the observation that if you ask a class of introductory programming students to rate their own abilities, about 80% of them will rate themselves as being \"above average\".  This is not true.  But it leads people to believe that they can do \"simple\" things really quickly, when in fact they can't.  It took RMC until half-way through his PhD to write a bug-free program on his first try (it was a short program that used finite differences to solve a PDE, and he did it while a friend was watching, which made it all the sweeter).  And this was after two degrees in Computer Science and Mathematics with literally thousands of programs under his belt.\n",
    "\n",
    "So, what's the advice?  __Slow down, and plan it out__.  Diagram your code in a helpful way, __before you touch the keyboard__.  Write it out on paper, even. \n",
    "\n",
    "(cue the \"Ain't nobody got time for that\" meme, we suppose.  Sad trombone to follow.)"
   ]
  },
  {
   "cell_type": "markdown",
   "id": "1e3cbfac",
   "metadata": {},
   "source": [
    "Another simple bit of advice (much more likely to be followed) is to __develop the habit of starting with small bits__.  Write a small bit of code that successfully does _something_."
   ]
  },
  {
   "cell_type": "markdown",
   "id": "b9357318",
   "metadata": {},
   "source": [
    "```{epigraph}\n",
    "\"I didn't know how to start, so I did _something_.\"\n",
    "\n",
    "-- One of NJC's students, at the beginning of a programming assignment; NJC approves of this remark\n",
    "```"
   ]
  },
  {
   "cell_type": "markdown",
   "id": "7b76a662",
   "metadata": {},
   "source": [
    "An important consideration: __Use a consistent, legible style__.  Python enforces indentation, but use it consistently in other languages as well.  Use whitespace well and evenly: `Chew( a, b )` is much more legible than the asymmetric `Chew(a,b )` and likewise line your statements up neatly if you can.  Some bugs will just leap out off the page at you when you arrange things neatly."
   ]
  },
  {
   "cell_type": "markdown",
   "id": "60a22d40",
   "metadata": {},
   "source": [
    "One more: __document your code__.  The best documentation is accurate and intelligible names for your constructs (variables, programs, data containers).  Then use comments.  Your future self (who is the one most likely to be reading this code six months from now scratching their head wondering what it was supposed to do) will thank you."
   ]
  },
  {
   "cell_type": "markdown",
   "id": "ae26193c",
   "metadata": {},
   "source": [
    "Next most helpful: __insert extra print statements when debugging (and delete them afterwards)__.  Print out intermediate results in your code.  Or simple messages when certain parts of the code are reached, such as `print('Starting the for loop in the next statement')` or `print('Reached the end of the for loop')` or the like.  It helps to be verbose there, but if you are in a hurry you can use numbers, $1$, $2$, and so on.  __Delete the print statements afterwards__.  Some programmers use swearwords, but it's easy to leave those in, accidentally, when you are finished debugging.  So, while possibly cathartic, you might not want to do so.  Some people use prayers instead, though there is no documented evidence that this helps."
   ]
  },
  {
   "cell_type": "markdown",
   "id": "5058ddd2",
   "metadata": {},
   "source": [
    "More professionally, you can __use step-by-step debuggers__, like [pdb](https://realpython.com/python-debugging-pdb/).  [It works in Jupyter notebooks](https://davidhamann.de/2017/04/22/debugging-jupyter-notebooks/).  If you are writing a lot of code, or are building a big project, these can really help.  You can use `Assert` statements.  You can use code profilers, which let you know how much computing is done in each piece of code.  \n",
    "\n",
    "But print statements are very simple, and are a big help.  Everyone uses them (practically speaking).  \n",
    "\n",
    "\n",
    "Now here is a _stupid_ technique, which works _amazingly_ well:"
   ]
  },
  {
   "cell_type": "markdown",
   "id": "bcc53475",
   "metadata": {},
   "source": [
    "### Rubber Duck Debugging\n",
    "\n",
    "__Explain your program line by line to a Rubber Duck__.\n",
    "\n",
    "[We are not joking](https://en.wikipedia.org/wiki/Rubber_duck_debugging)\n",
    "\n",
    "It works.  It is _ridiculous_ that it works, but it does.  Yes, we use this.\n",
    "\n",
    "If you don't have a rubber duck, use a _picture_ of a rubber duck. Or an _imaginary_ rubber duck.\n",
    "\n",
    "We're sure that it would work if you used any inanimate object&mdash;but then it wouldn't be real rubber duck debugging.\n",
    "\n",
    "Now, a more serious-looking tip:"
   ]
  },
  {
   "cell_type": "markdown",
   "id": "da2800df",
   "metadata": {},
   "source": [
    "### Even for modestly sized projects, use version control\n",
    "\n",
    "This book uses [git](https://git-scm.com/).  The book is definitely big enough to need version control of some kind.  "
   ]
  },
  {
   "cell_type": "markdown",
   "id": "f38cf1fd",
   "metadata": {},
   "source": [
    "### Common locations for errors\n",
    "\n",
    "1. At the _interfaces_: say the procedure is expecting an integer and it's given a string as input instead.  Or, the user of a routine could be expecting a single real number answer and instead the routine delivers a complex number.  Or a \"list\" of things.\n",
    "2. The objects have the _wrong datatype_ .  This can be obnoxious.  Python allows you to be sloppy with datatypes, which is good for getting started, but bad for large projects.\n",
    "3. In the _documentation_: The documentation could _say_ the code was taking the square root of something, and maybe the first version really did; but it since got rewritten and now it takes the cube root instead, maybe, and _the documentation never got updated_.  There is an awful lot of outdated documentation for Python on the web, by the way.  __Things change__.\n",
    "4. A simple typo: you typed `x1` instead of `xl` for your variable name just once in the routine.  Some programs will catch the use of uninitialized variables, but sometimes it won't happen.  And by the way, try very hard not to use variables named with an `l` instead of a `1`.  The symbols are, in some fonts, only a single pixel different on your screen.\n",
    "5. A bad range on a loop, or a failure to increment a loop index in a while loop.  Counting is hard.  (That sounds unsympathetic, but really, it's inhuman and inhumane to expect people to make no errors when counting.)\n",
    "6. Failure to catch the base case of a recursion.  Suppose we had only specified $F_1=1$ and forgotten $F_0 = 0$ in the Fibonacci code.  Then the recursive version would ask for $F_0$ which would ask for $F_{-1}+F_{-2}$ and each of these would ask for more negative indices, and maybe make an infinite loop.  Actually the code would run out of stack space.\n",
    "7. Passing the correct arguments into a procedure but in the wrong order.  Maybe the code expects its input to be n (an integer) and x (a real number) in that order and you forget and write `Fun(x,n)`.  The code may still run, depending.  But you might get a nonsense answer.  This is why there is a `kwarg` way of calling, by the way (\"Keyword Argument\").  (\"Argument\" in this context is another word for \"input\").  You could call `Fun(x=3,n=5)` or `Fun(n=5,x=3)` and get the same answer.\n",
    "8. An incorrect index into an array or tuple.  You might have asked for `a[3]` but _meant_ to ask for `a[2]`.  This often produces syntax errors, and so is relatively easy to notice, though sometimes very annoying to fix.\n",
    "9. Using the wrong version of your code.  You have been happily editing one version, but running another.  (This is harder to do in Jupyter, since everything is right in front of you, usually).\n",
    "10. A transcription error.  You might be solving $F_n = F_{n-1} + F_{n-2}$ but you really wanted to solve $F_n = F_{n-2} + F_{n-3}$.  Your code might be perfect for the first one.  This kind of error can be particularly difficult to notice.\n",
    "11. A difference in expectation: you might use a routine that someone else wrote, and they expected that the user (this time that's you) would be calling their routine with (say) small integers, which could fit in the 32 bit integer data type without overflowing.  Whereas you, on the other hand, expect their routine to work with long integers.  This is what happened in Fibonacci Activity 10.  Good documentation can help people to avoid these kinds of errors, but then it's necessary both for the programmer to _write_ it and the user to _read_ it.  You can see the problem.  The acronym RTFM, for Read The [Fine] Manual, is frequently seen; but sometimes it doesn't help."
   ]
  },
  {
   "cell_type": "markdown",
   "id": "acd16573",
   "metadata": {},
   "source": [
    "## The worst possible kind of errors\n",
    "\n",
    "Syntax errors are annoying, because you haven't even started yet.  But actually the interpreter or compiler is trying to help you.  It's much worse when you type legal Python code that does something, but it's not what you intended (like the typo of 8 for `*` in the power `x*82` when `x**2` was intended, in the Schroeder iteration example).  Then you would just get wrong answers.\n",
    "\n",
    "The very worst kind of error is a _wrong_ but _plausible_ answer.  One used to say \"Garbage In, Garbage Out\" but unfortunately too many people simply believe computer output.  This gets called \"Garbage In, Gospel Out\" by people whose cultural background includes the phrase \"gospel truth\".\n",
    "\n",
    "RMC puts it this way: \"Probably the single most common error is _believing what you see_\".  We encourage skepticism about the results of computer programs."
   ]
  }
 ],
 "metadata": {
  "kernelspec": {
   "display_name": "Python 3 (ipykernel)",
   "language": "python",
   "name": "python3"
  },
  "language_info": {
   "codemirror_mode": {
    "name": "ipython",
    "version": 3
   },
   "file_extension": ".py",
   "mimetype": "text/x-python",
   "name": "python",
   "nbconvert_exporter": "python",
   "pygments_lexer": "ipython3",
   "version": "3.10.4"
  }
 },
 "nbformat": 4,
 "nbformat_minor": 5
}
