{
 "cells": [
  {
   "cell_type": "code",
   "execution_count": 1,
   "id": "5d363af1",
   "metadata": {},
   "outputs": [
    {
     "name": "stdout",
     "output_type": "stream",
     "text": [
      "--- 2.144252300262451 seconds ---\n",
      "{-sqrt(-2/(3*(1/16 + sqrt(849)/144)**(1/3)) + 2*(1/16 + sqrt(849)/144)**(1/3))/2 + sqrt(Abs(-2*(1/16 + sqrt(849)/144)**(1/3) + 2/(3*(1/16 + sqrt(849)/144)**(1/3)) + 2/sqrt(-2/(3*(1/16 + sqrt(849)/144)**(1/3)) + 2*(1/16 + sqrt(849)/144)**(1/3))))/2, sqrt(-2/(3*(1/16 + sqrt(849)/144)**(1/3)) + 2*(1/16 + sqrt(849)/144)**(1/3))/2 - I*sqrt(Abs(-2/sqrt(-2/(3*(1/16 + sqrt(849)/144)**(1/3)) + 2*(1/16 + sqrt(849)/144)**(1/3)) - 2*(1/16 + sqrt(849)/144)**(1/3) + 2/(3*(1/16 + sqrt(849)/144)**(1/3))))/2, sqrt(-2/(3*(1/16 + sqrt(849)/144)**(1/3)) + 2*(1/16 + sqrt(849)/144)**(1/3))/2 + I*sqrt(Abs(-2/sqrt(-2/(3*(1/16 + sqrt(849)/144)**(1/3)) + 2*(1/16 + sqrt(849)/144)**(1/3)) - 2*(1/16 + sqrt(849)/144)**(1/3) + 2/(3*(1/16 + sqrt(849)/144)**(1/3))))/2, -sqrt(Abs(-2*(1/16 + sqrt(849)/144)**(1/3) + 2/(3*(1/16 + sqrt(849)/144)**(1/3)) + 2/sqrt(-2/(3*(1/16 + sqrt(849)/144)**(1/3)) + 2*(1/16 + sqrt(849)/144)**(1/3))))/2 - sqrt(-2/(3*(1/16 + sqrt(849)/144)**(1/3)) + 2*(1/16 + sqrt(849)/144)**(1/3))/2}\n"
     ]
    }
   ],
   "source": [
    "import time\n",
    "from sympy import *\n",
    "x = symbols('x')\n",
    "\n",
    "start_time = time.time()\n",
    "s = solveset(Eq(x**4+x-1, 0), x) # Interrupted after about two hours: the code did not succeed\n",
    "print(\"--- %s seconds ---\" % (time.time() - start_time))\n",
    "print( s )"
   ]
  }
 ],
 "metadata": {
  "kernelspec": {
   "display_name": "Python 3 (ipykernel)",
   "language": "python",
   "name": "python3"
  },
  "language_info": {
   "codemirror_mode": {
    "name": "ipython",
    "version": 3
   },
   "file_extension": ".py",
   "mimetype": "text/x-python",
   "name": "python",
   "nbconvert_exporter": "python",
   "pygments_lexer": "ipython3",
   "version": "3.10.2"
  }
 },
 "nbformat": 4,
 "nbformat_minor": 5
}
