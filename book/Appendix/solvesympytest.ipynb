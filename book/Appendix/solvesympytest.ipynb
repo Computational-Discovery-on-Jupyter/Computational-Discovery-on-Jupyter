{
 "cells": [
  {
   "cell_type": "code",
   "execution_count": 3,
   "id": "5d363af1",
   "metadata": {},
   "outputs": [
    {
     "name": "stdout",
     "output_type": "stream",
     "text": [
      "--- 0.680713415145874 seconds ---\n",
      "{-1/(3*(1/2 + sqrt(93)/18)**(1/3)) + (1/2 + sqrt(93)/18)**(1/3), -(1/2 + sqrt(93)/18)**(1/3)/2 + 1/(6*(1/2 + sqrt(93)/18)**(1/3)) + I*(sqrt(3)/(6*(1/2 + sqrt(93)/18)**(1/3)) + sqrt(3)*(1/2 + sqrt(93)/18)**(1/3)/2), -(1/2 + sqrt(93)/18)**(1/3)/2 + 1/(6*(1/2 + sqrt(93)/18)**(1/3)) + I*(-sqrt(3)*(1/2 + sqrt(93)/18)**(1/3)/2 - sqrt(3)/(6*(1/2 + sqrt(93)/18)**(1/3)))}\n"
     ]
    }
   ],
   "source": [
    "import time\n",
    "from sympy import *\n",
    "x = symbols('x')\n",
    "\n",
    "start_time = time.time()\n",
    "s = solveset(Eq(x**4+x-1, 0), x) # Interrupted after about two hours: the code did not succeed\n",
    "print(\"--- %s seconds ---\" % (time.time() - start_time))\n",
    "print( s )"
   ]
  }
 ],
 "metadata": {
  "kernelspec": {
   "display_name": "Python 3 (ipykernel)",
   "language": "python",
   "name": "python3"
  },
  "language_info": {
   "codemirror_mode": {
    "name": "ipython",
    "version": 3
   },
   "file_extension": ".py",
   "mimetype": "text/x-python",
   "name": "python",
   "nbconvert_exporter": "python",
   "pygments_lexer": "ipython3",
   "version": "3.10.2"
  }
 },
 "nbformat": 4,
 "nbformat_minor": 5
}
