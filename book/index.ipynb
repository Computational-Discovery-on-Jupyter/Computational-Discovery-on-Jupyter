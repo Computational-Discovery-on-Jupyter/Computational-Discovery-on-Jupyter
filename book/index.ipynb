{
 "cells": [
  {
   "cell_type": "markdown",
   "metadata": {},
   "source": [
    "# Welcome to Computational Discovery on Jupyter"
   ]
  },
  {
   "cell_type": "markdown",
   "metadata": {},
   "source": [
    "## Overture\n",
    "\n",
    "In this section there are no definitions, no theorems, no computations.  Well, not in this overture: just a picture, the <b>an infinite number of infinity symbols</b> below, and a little discussion of why we wrote this Open Educational Resource or book, and what you might get out of it.\n",
    "\n",
    "<!-- <img src=\"Figures/Introduction/SchroederIterationStrang.png\" alt=\"Infinitely many infinity symbols\" width=800 height=200> -->\n",
    "\n",
    "<!-- ![schroederiteration](Figures/Introduction/SchroederIterationStrang.png) -->"
   ]
  },
  {
   "cell_type": "markdown",
   "metadata": {},
   "source": [
    "```{figure} Figures/Introduction/SchroederIterationStrang.png\n",
    "---\n",
    "height: 400px\n",
    "name: schroederIteration\n",
    "---\n",
    "Infinitely many infinity symbols\n",
    "```"
   ]
  },
  {
   "cell_type": "markdown",
   "metadata": {},
   "source": [
    "### What's in it for you?\n",
    "We'll be using Python to explore some interesting mathematics, mathematics not in the standard curriculum.  So it's an opportunity to learn a popular programming language. Why use mathematics, instead of some other science, like biology or physics or chemistry? Why not some engineering, or economics, or psychology, or music?\n",
    "\n",
    "The truth of the matter is that math is the simplest out of all of those.  You probably know that already.  This is the fastest way to learn Python.  You'll wind up learning some other things too, but let's start with that.\n",
    "\n",
    "### What's in it for us?\n",
    "\n",
    "Many of our students, when surveyed, say that they want to be taught \"more programming\" and for it to be taught earlier.  This is an attempt to do so.  Also, we feel that by offering some _interesting_ mathematics straight away, which we can do owing to the powerful tools that we're going to use, we might reach a larger audience for mathematics, and to keep people interested for longer.  Math is useful for a lot of things, although we're not going to focus on that part of it.  Instead we're going straight for the heart of mathematics.\n",
    "\n",
    "### What's in it?\n",
    "\n",
    "We'll use videos, images, programs, programming activities, pencil-and-paper activities, and this Jupyter Book and the associated Jupyter Notebooks to present material for your inspection and interaction.  We will encourage people to contribute their own notebooks to extend this material.  Indeed some of the material that you will see was created/discovered/invented/published first by our students.\n",
    "\n",
    "<A HREF=\"https://www.youtube.com/watch?v=z18wdCGTQYA\"> An Introductory Video </A>\n",
    "\n",
    "<!-- [Introducing Python with Continued Fractions](Continued_Fractions.ipynb)\n",
    "\n",
    "[Newton's method, Fractals, and Julia sets](Fractals_and_Julia_Sets.ipynb) -->"
   ]
  }
 ],
 "metadata": {
  "kernelspec": {
   "display_name": "Python 3 (ipykernel)",
   "language": "python",
   "name": "python3"
  },
  "language_info": {
   "codemirror_mode": {
    "name": "ipython",
    "version": 3
   },
   "file_extension": ".py",
   "mimetype": "text/x-python",
   "name": "python",
   "nbconvert_exporter": "python",
   "pygments_lexer": "ipython3",
   "version": "3.10.4"
  }
 },
 "nbformat": 4,
 "nbformat_minor": 2
}
