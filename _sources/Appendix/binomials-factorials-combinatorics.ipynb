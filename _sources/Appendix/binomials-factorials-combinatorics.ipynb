{
 "cells": [
  {
   "cell_type": "markdown",
   "metadata": {},
   "source": [
    "# Binomials, Factorials, and other Combinatorial Things"
   ]
  },
  {
   "cell_type": "markdown",
   "metadata": {},
   "source": [
    "In this appendix we will play with permutations in Python, take care with combinations, and give you facts about factorials.  We'll try not to step on material from existing courses, and instead play with facts that are fun but not covered elsewhere. Mostly we will stick to native Python and its arbitrary precision _integer_ arithmetic."
   ]
  },
  {
   "cell_type": "code",
   "execution_count": 1,
   "metadata": {},
   "outputs": [
    {
     "name": "stdout",
     "output_type": "stream",
     "text": [
      "5 ! =  120\n"
     ]
    }
   ],
   "source": [
    "n = 5\n",
    "fact = 1\n",
    "for j in range(1,n+1):\n",
    "    fact = j*fact\n",
    "print(n,'! = ', fact)"
   ]
  },
  {
   "cell_type": "markdown",
   "metadata": {},
   "source": [
    "Factorials are encountered in combinatorial (counting) problems.  If you have five different shaped blocks, how many different towers can you make with them, assuming that each can be stacked on top of any other?  Well, you have five choices for the bottom block; once you have chosen the bottom block you have four to choose for the next level; then three to choose for the next; then two for the next; then the last block left you put on top, you have no choices left.  This gives 5 times 4 times 3 times 2 times 1 different possible towers; this is 5! or 120, as computed above.\n",
    "\n",
    "Yawn.\n",
    "\n",
    "Well, factorials are so useful that we should spend a _little_ time with them before going on to more fun things.  One neat/annoying feature is how fast they grow."
   ]
  },
  {
   "cell_type": "code",
   "execution_count": 2,
   "metadata": {},
   "outputs": [
    {
     "name": "stdout",
     "output_type": "stream",
     "text": [
      "0 ! =  1\n",
      "1 ! =  1\n",
      "2 ! =  2\n",
      "3 ! =  6\n",
      "4 ! =  24\n",
      "5 ! =  120\n",
      "6 ! =  720\n",
      "7 ! =  5040\n",
      "8 ! =  40320\n",
      "9 ! =  362880\n",
      "10 ! =  3628800\n",
      "11 ! =  39916800\n",
      "12 ! =  479001600\n",
      "13 ! =  6227020800\n",
      "14 ! =  87178291200\n"
     ]
    }
   ],
   "source": [
    "for n in range(15):\n",
    "    fact = 1\n",
    "    for j in range(1,n+1):\n",
    "        fact = j*fact\n",
    "    print(n, '! = ', fact)"
   ]
  },
  {
   "cell_type": "markdown",
   "metadata": {},
   "source": [
    "The programmers among you might be screaming at us for the inefficiency in that double loop up above.  We can get the same table with just a single loop, and the cost will be significantly less.  This is worth exploring, as a fundamental lesson of programming: if you can avoid nesting loops, do so!  First let's time that one."
   ]
  },
  {
   "cell_type": "code",
   "execution_count": 3,
   "metadata": {},
   "outputs": [
    {
     "name": "stdout",
     "output_type": "stream",
     "text": [
      "0 ! =  1\n",
      "1 ! =  1\n",
      "2 ! =  2\n",
      "3 ! =  6\n",
      "4 ! =  24\n",
      "5 ! =  120\n",
      "6 ! =  720\n",
      "7 ! =  5040\n",
      "8 ! =  40320\n",
      "9 ! =  362880\n",
      "10 ! =  3628800\n",
      "11 ! =  39916800\n",
      "12 ! =  479001600\n",
      "13 ! =  6227020800\n",
      "14 ! =  87178291200\n",
      "total time taken  0.0019941329956054688 seconds\n"
     ]
    }
   ],
   "source": [
    "import time\n",
    "\n",
    "strt = time.time()\n",
    "for n in range(15):\n",
    "    fact = 1\n",
    "    for j in range(1,n+1):\n",
    "        fact = j*fact\n",
    "    print(n, '! = ', fact)\n",
    "\n",
    "fin = time.time() - strt\n",
    "\n",
    "print('total time taken ', fin, 'seconds')"
   ]
  },
  {
   "cell_type": "markdown",
   "metadata": {},
   "source": [
    "Eh, not so much time at all, really.  But let's probe a _bit_ harder, and try to look at how the needed time _grows_ with n.\n",
    "\n",
    "Note added after editing: we had nmax=1500 in the loop below, but this was a disaster; not for Jupyter notebooks, which happily put the 2.8 million characters of the result in a neat box, but for Jupyter Book when we tried to convert to PDF.  This tried to make a couple of thousand pages of nothing but numbers.  Um, no.  Let's not do that. \n",
    "\n",
    "It is a bit ironic because we have frequently told students not to print huge tables of numbers.  Oops, shuffle feet."
   ]
  },
  {
   "cell_type": "code",
   "execution_count": 4,
   "metadata": {},
   "outputs": [],
   "source": [
    "from matplotlib import pyplot as plt"
   ]
  },
  {
   "cell_type": "code",
   "execution_count": 5,
   "metadata": {},
   "outputs": [
    {
     "name": "stdout",
     "output_type": "stream",
     "text": [
      "0 ! =  1\n",
      "1 ! =  1\n",
      "2 ! =  2\n",
      "3 ! =  6\n",
      "4 ! =  24\n",
      "5 ! =  120\n",
      "6 ! =  720\n",
      "7 ! =  5040\n",
      "8 ! =  40320\n",
      "9 ! =  362880\n",
      "10 ! =  3628800\n",
      "11 ! =  39916800\n",
      "12 ! =  479001600\n",
      "13 ! =  6227020800\n",
      "14 ! =  87178291200\n"
     ]
    },
    {
     "data": {
      "image/png": "[encoded data removed]",
      "text/plain": [
       "<Figure size 432x288 with 1 Axes>"
      ]
     },
     "metadata": {
      "needs_background": "light"
     },
     "output_type": "display_data"
    }
   ],
   "source": [
    "import numpy as np\n",
    "nmax = 15  # Really, don't try 1500 here if you want to make a PDF.\n",
    "individual_times = np.zeros(nmax+1)\n",
    "for n in range(nmax):\n",
    "    strt = time.time()\n",
    "    fact = 1\n",
    "    for j in range(1,n+1):\n",
    "        fact = j*fact\n",
    "    print(n, '! = ', fact)\n",
    "    individual_times[n] = time.time()-strt\n",
    "\n",
    "plt.scatter([range(nmax+1)], individual_times)\n",
    "plt.show()"
   ]
  },
  {
   "cell_type": "markdown",
   "metadata": {},
   "source": [
    "Well, that didn't turn out the way we expected, at all, at all.  The graph of times doesn't show much growth at all; indeed the time taken seems to be largest for some n less than the max.  Blink, blink.  The issue is likely to do with memory management; but we don't really know.  The other thing is that you can just barely discern a _trend_ in the thick line at the bottom; it looks like it's taking more time for larger n, _usually_.  But never very much time.  This problem is just too easy for modern computers (it's running on a Tablet PC, in fact: a vintage 2017 Microsoft Surface Pro).  But something different happens if we change that 1500 above to be a 2000: Python stops, refusing to send so much data to the screen, and prints the message below.  \n",
    "\n",
    "IOPub data rate exceeded.\n",
    "The notebook server will temporarily stop sending output\n",
    "to the client in order to avoid crashing it.\n",
    "To change this limit, set the config variable\n",
    "`--NotebookApp.iopub_data_rate_limit`.\n",
    "\n",
    "Current values:\n",
    "NotebookApp.iopub_data_rate_limit=1000000.0 (bytes/sec)\n",
    "NotebookApp.rate_limit_window=3.0 (secs)\n",
    "\n",
    "\n",
    "Well, ok then.  1500! is already ludicrously large.  2000! could probably be printed in _plaid_. "
   ]
  },
  {
   "cell_type": "code",
   "execution_count": 6,
   "metadata": {},
   "outputs": [
    {
     "name": "stdout",
     "output_type": "stream",
     "text": [
      "1 ! =  1\n",
      "2 ! =  2\n",
      "3 ! =  6\n",
      "4 ! =  24\n",
      "5 ! =  120\n",
      "6 ! =  720\n",
      "7 ! =  5040\n",
      "8 ! =  40320\n",
      "9 ! =  362880\n",
      "10 ! =  3628800\n",
      "11 ! =  39916800\n",
      "12 ! =  479001600\n",
      "13 ! =  6227020800\n",
      "14 ! =  87178291200\n",
      "Total time taken is  0.0019958019256591797  seconds \n"
     ]
    }
   ],
   "source": [
    "nmax = 15  # No, do not do 1500.\n",
    "strt = time.time()\n",
    "fact = 1\n",
    "for j in range(1,nmax):\n",
    "    fact = j*fact\n",
    "    print( j, '! = ', fact)\n",
    "total_time = time.time()-strt\n",
    "print('Total time taken is ', total_time, ' seconds ')\n"
   ]
  },
  {
   "cell_type": "markdown",
   "metadata": {},
   "source": [
    "Crazy big numbers.  And Python is pretty fast with them.  Fine.  This raises a question: how big _are_ those numbers, and can we predict their behaviour?  Yes, after a fashion, and pretty accurately.  Most reference books will tell you that there is something called _Stirling's Formula_ that makes factorials more intelligible:\n",
    "\n",
    "$$\n",
    "n! \\simeq \\sqrt{2\\pi n} n^n e^{-n}\n",
    "$$\n",
    "\n",
    "Well, ok.  Where does that come from?  How do we know it's true?  What does the squiggly equals sign mean?  Well, it means \"is approximately equal to \" which is clear enough in intent.  How approximate, though?"
   ]
  },
  {
   "cell_type": "code",
   "execution_count": 7,
   "metadata": {},
   "outputs": [
    {
     "name": "stdout",
     "output_type": "stream",
     "text": [
      "100 ! =  93326215443944152681699238856266700490715968264381621468592963895217599993229915608941463976156518286253697920827223758251185210916864000000000000000000000000 which is approximately  9.332621544394415e+157\n",
      "Stirling's approximation gives  9.324847625269344e+157\n"
     ]
    }
   ],
   "source": [
    "n = 100\n",
    "fact = 1\n",
    "for j in range(1, n+1):\n",
    "    fact = j*fact\n",
    "\n",
    "print(n, '! = ', fact, 'which is approximately ', 1.0*fact)\n",
    "\n",
    "stirl = np.sqrt(2*np.pi* n) * n**n * np.exp(-n)\n",
    "print('Stirling\\'s approximation gives ', stirl)"
   ]
  },
  {
   "cell_type": "markdown",
   "metadata": {},
   "source": [
    "It's fun to know a fact about Stirling's formula that most people don't know:  That formula above is actually due to DeMoivre, and it is _less_ accurate than Stirling's original formula (which Stirling found first, before DeMoivre found the other)! Here is Stirling's original, more accurate, formula:\n",
    "\n",
    "$$\n",
    "n! \\simeq \\sqrt{2\\pi} \\left(n+\\frac12\\right)^{(n+1/2)}e^{-(n+1/2)}\n",
    "$$\n"
   ]
  },
  {
   "cell_type": "code",
   "execution_count": 8,
   "metadata": {},
   "outputs": [
    {
     "name": "stdout",
     "output_type": "stream",
     "text": [
      "Stirling's Original approximation gives  9.336491570312413e+157\n"
     ]
    }
   ],
   "source": [
    "original_Stirling = np.sqrt(2*np.pi)*(n+0.5)**(n+0.5)*np.exp(-n-0.5)\n",
    "print('Stirling\\'s Original approximation gives ', original_Stirling)"
   ]
  },
  {
   "cell_type": "markdown",
   "metadata": {},
   "source": [
    "The true value is between those two estimates: DeMoivre's formula (which is called Stirling's formula) gives a slight lower bound on $n!$, while Stirling's original formula (which, no lie, is beginning to be called De Moivre's formula!) gives a slight upper bound, which is about twice as accurate.  We can take a weighted average of the two and get an even better estimate:"
   ]
  },
  {
   "cell_type": "code",
   "execution_count": 9,
   "metadata": {},
   "outputs": [
    {
     "name": "stdout",
     "output_type": "stream",
     "text": [
      "A better estimate is  9.332610255298058e+157\n"
     ]
    }
   ],
   "source": [
    "better = (stirl + 2*original_Stirling)/3\n",
    "print('A better estimate is ', better)"
   ]
  },
  {
   "cell_type": "markdown",
   "metadata": {},
   "source": [
    "For n=100, we see that it gets $9.33261025..$ whereas the true value is $9.332621544..$ (both times $10^{157}$), so (mentally estimating, think think think) a relative error of roughly $10^{-6}$ whereas each of DeMoivre's and Stirling's formula is accurate only to about $10^{-3}$, in a relative sense."
   ]
  },
  {
   "cell_type": "code",
   "execution_count": 10,
   "metadata": {},
   "outputs": [
    {
     "name": "stdout",
     "output_type": "stream",
     "text": [
      "Stirling relative error =  -0.0008329834321569032\n",
      "Original Stirling relative error =  0.0004146772586447313\n",
      "Error in the weighted average =  -1.2096382890597644e-06\n"
     ]
    }
   ],
   "source": [
    "reference_value = 1.0*fact\n",
    "stirl_rel_error = (stirl - reference_value)/reference_value\n",
    "orig_rel_error = (original_Stirling - reference_value)/reference_value\n",
    "better_error = (better - reference_value)/reference_value\n",
    "print('Stirling relative error = ', stirl_rel_error)\n",
    "print('Original Stirling relative error = ', orig_rel_error)\n",
    "print('Error in the weighted average = ', better_error)"
   ]
  },
  {
   "cell_type": "markdown",
   "metadata": {},
   "source": [
    "Now let's look at binomial coefficients \" n choose k \".  It turns out that there are several implementations in Python already."
   ]
  },
  {
   "cell_type": "code",
   "execution_count": 11,
   "metadata": {},
   "outputs": [
    {
     "name": "stdout",
     "output_type": "stream",
     "text": [
      "5040\n",
      "1\n",
      "1 1\n",
      "1 2 1\n",
      "1 3 3 1\n",
      "90548514656103281165404177077484163874504589675413336841320\n"
     ]
    }
   ],
   "source": [
    "import math as mth\n",
    "# factorial is \"factorial\"\n",
    "# binomial coefficient is \"comb\" (short for \"combinations\" we suppose)\n",
    "print(mth.factorial(7))\n",
    "print(mth.comb(0,0))\n",
    "print(mth.comb(1,0), mth.comb(1,1))\n",
    "print(mth.comb(2,0), mth.comb(2,1), mth.comb(2,2))\n",
    "print(mth.comb(3,0), mth.comb(3,1), mth.comb(3,2), mth.comb(3,3))\n",
    "big = mth.comb(200, 100)\n",
    "print(big)"
   ]
  },
  {
   "cell_type": "markdown",
   "metadata": {},
   "source": [
    "## Exercises\n",
    "1. If we average Stirling's original formula (weight 2/3) with the formula popularly known as Stirling's formula (weight 1/3) we saw that we got more accurate answers.  Find weights of the form $2/3 + u_1/z + u_2/z^2$ and $1/3 + v_1/z + v_/z^2$ (that should add up to 1) which are even more accurate, for larger z. Is the formula simpler if you use powers of $(z+1/2)$ instead?\n",
    "2. How quickly does math.comb(2n,n) grow as n grows? (Answer: like $2^{2n}/\\sqrt{\\pi n}$; demonstrate that graphically or experimentally)\n",
    "3. Is there a Python implementation of \"permutations\" $P^n_k = n!/k!$ ?\n",
    "4. The venerable book [Problems and Theorems in Analysis](https://link.springer.com/book/10.1007/978-3-642-61983-0) by Pólya and Szegő opens with the following problem: \"In how many different ways can you change one dollar?  That is, in how many different ways can you pay 100 cents using five different kinds of coins, cents, nickels, dimes, quarters, and half-dollars (worth 1, 5, 10, 25, and 50 cents respectively)?\n",
    "5. Updating that problem for Canada today: In how many different ways can you change a one hundred dollar bill?  That is, in how many different ways can you pay 100 dollars using four different kinds of bills (50, 20, 10, and 5) and two types of coin (the 1 dollar coin called a \"Loonie\" because it has a loon on it, and the 2 dollar coin called a \"Toonie\" because, well, why not).\n",
    "6. Another Pólya and Szegő problem: \"There are $p$ persons sharing $n$ dollars.  In how many ways can they distribute the money?\" "
   ]
  }
 ],
 "metadata": {
  "kernelspec": {
   "display_name": "Python 3 (ipykernel)",
   "language": "python",
   "name": "python3"
  },
  "language_info": {
   "codemirror_mode": {
    "name": "ipython",
    "version": 3
   },
   "file_extension": ".py",
   "mimetype": "text/x-python",
   "name": "python",
   "nbconvert_exporter": "python",
   "pygments_lexer": "ipython3",
   "version": "3.10.4"
  }
 },
 "nbformat": 4,
 "nbformat_minor": 2
}
