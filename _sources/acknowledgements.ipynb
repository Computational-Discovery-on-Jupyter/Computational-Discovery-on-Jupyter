{
 "cells": [
  {
   "cell_type": "markdown",
   "id": "1b46a884",
   "metadata": {},
   "source": [
    "# Acknowledgements\n",
    "\n",
    "This work was supported in part by a [2018 Fellowship in Teaching Innovation Award](https://teaching.uwo.ca/research/grants/fti-award.html#) from Western University, for which we were very grateful.  The work was also supported in part by an Ontario Graduate Scholarship for EYSC, the grant PID2020-113192GB-I00 (Mathematical Visualization: Foundations, Algorithms and Applications) from the Spanish MICINN, and by NSERC Grant RGPIN-2020-06438.  We also thank the [Rotman Institute of Philosophy](https://www.rotman.uwo.ca/) for ongoing support and interaction with very clever and thoughtful people.\n",
    "\n",
    "\n",
    "Several staff members at Maplesoft were extremely helpful with the design of the Maple code used in portions of this work, and we thank Erik Postma, Jürgen Gerhard, and Paulina Chin in particular.  Support from Maplesoft for the journal [Maple Transactions](https://mapletransactions.org), which is strongly related to the aims of this project, is also gratefully acknowledged. We also thank [Judy-anne Osborn](https://research.monash.edu/en/persons/judy-anne-osborn) and [Veselin Jungic](http://www.sfu.ca/~vjungic/) and [Ilias Kotsireas](https://web.wlu.ca/science/physcomp/ikotsireas/) and [Annie Cuyt](https://www.uantwerpen.be/en/staff/annie-cuyt/) for their support and sage advice.\n",
    "\n",
    "Dhavide Aruliah told us about Jupyter back when it was gaining traction; Toby Driscoll told us about Jupyter Book in his blog post [Putting a Math- and Code-heavy book online](https://tobydriscoll.net/blog/putting-a-math-code-heavy-textbook-online/); these were crucial interventions!\n",
    "\n",
    "Past graduate students and postdoctoral fellows who contributed to this work include Piers W. Lawrence and Steven E. Thornton, especially.  A great many other people contributed to the fun as well.  In particular, we would like to thank Professor Lila Kari of the University of Waterloo for introducing us to the chaos game representation. We also thank all the students  for their input, enthusiasm, and ideas on this topic. \n",
    "\n",
    "We owe quite a bit of our thinking about computational discovery (even the name, actually) to the late Jonathan M. Borwein, and to his brother, the late Peter B. Borwein.  That we have lost them both is a severe blow to the experimental mathematics community.  Still, while they were here, they taught us many things, and for that we are grateful.\n",
    "\n",
    "\n",
    "Finally, RMC thanks Jaimie Sheppard Shihan, 7th dan Yoshinkan Aikido, and all the instructors at [Aiki Budo Centre](http://aikido.on.ca/new/) in London Ontario for showing him how teaching should be done, with tolerance and grace.  It remains surprising how well the Yoshinkan methods (break it down to its simplest bits, and make the student repeat again and again, but always with something new to keep it interesting) work for mathematics teaching.  The basic word for \"posture\", _kamae_, has a sense of _action_ and _always moving forward_; and those work very well for any kind of intellectual activity, including mathematics and programming. Osu!\n",
    "\n",
    "\n"
   ]
  }
 ],
 "metadata": {
  "kernelspec": {
   "display_name": "Python 3 (ipykernel)",
   "language": "python",
   "name": "python3"
  },
  "language_info": {
   "codemirror_mode": {
    "name": "ipython",
    "version": 3
   },
   "file_extension": ".py",
   "mimetype": "text/x-python",
   "name": "python",
   "nbconvert_exporter": "python",
   "pygments_lexer": "ipython3",
   "version": "3.10.4"
  }
 },
 "nbformat": 4,
 "nbformat_minor": 5
}
